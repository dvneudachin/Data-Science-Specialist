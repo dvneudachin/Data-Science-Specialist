{
 "cells": [
  {
   "cell_type": "markdown",
   "metadata": {},
   "source": [
    "# Выбор локации для скважины"
   ]
  },
  {
   "cell_type": "markdown",
   "metadata": {},
   "source": [
    "Допустим, вы работаете в добывающей компании «ГлавРосГосНефть». Нужно решить, где бурить новую скважину.\n",
    "\n",
    "Вам предоставлены пробы нефти в трёх регионах: в каждом 10 000 месторождений, где измерили качество нефти и объём её запасов. Постройте модель машинного обучения, которая поможет определить регион, где добыча принесёт наибольшую прибыль. Проанализируйте возможную прибыль и риски техникой *Bootstrap.*\n",
    "\n",
    "Шаги для выбора локации:\n",
    "\n",
    "- В избранном регионе ищут месторождения, для каждого определяют значения признаков;\n",
    "- Строят модель и оценивают объём запасов;\n",
    "- Выбирают месторождения с самым высокими оценками значений. Количество месторождений зависит от бюджета компании и стоимости разработки одной скважины;\n",
    "- Прибыль равна суммарной прибыли отобранных месторождений."
   ]
  },
  {
   "cell_type": "markdown",
   "metadata": {},
   "source": [
    "## Загрузка и подготовка данных"
   ]
  },
  {
   "cell_type": "markdown",
   "metadata": {},
   "source": [
    "Сделаем импорт библиотек и необходимых функций:"
   ]
  },
  {
   "cell_type": "code",
   "execution_count": 1,
   "metadata": {},
   "outputs": [],
   "source": [
    "import pandas as pd\n",
    "import numpy as np\n",
    "import matplotlib.pyplot as plt \n",
    "import matplotlib.ticker\n",
    "import random"
   ]
  },
  {
   "cell_type": "code",
   "execution_count": 2,
   "metadata": {},
   "outputs": [],
   "source": [
    "from sklearn.model_selection import train_test_split\n",
    "from sklearn.linear_model import LinearRegression\n",
    "from sklearn.preprocessing import StandardScaler\n",
    "from sklearn.utils import shuffle\n",
    "from sklearn import tree\n",
    "from sklearn.model_selection import PredefinedSplit\n",
    "from sklearn.metrics import mean_squared_error\n",
    "import warnings"
   ]
  },
  {
   "cell_type": "markdown",
   "metadata": {},
   "source": [
    "Импортируем данные:"
   ]
  },
  {
   "cell_type": "code",
   "execution_count": 3,
   "metadata": {},
   "outputs": [],
   "source": [
    "geo_0 = pd.read_csv('/datasets/geo_data_0.csv')\n",
    "geo_1 = pd.read_csv('/datasets/geo_data_1.csv')\n",
    "geo_2 = pd.read_csv('/datasets/geo_data_2.csv')"
   ]
  },
  {
   "cell_type": "markdown",
   "metadata": {},
   "source": [
    "Cоздадим функцию для вывода общей информации о датафрейме и количества дубликатов:"
   ]
  },
  {
   "cell_type": "code",
   "execution_count": 4,
   "metadata": {},
   "outputs": [],
   "source": [
    "def data_info(df):\n",
    "    print ('Количество полных дубликатов в датасете:', sum(df.duplicated()))\n",
    "    display(df.head())\n",
    "    display(df.info())"
   ]
  },
  {
   "cell_type": "markdown",
   "metadata": {},
   "source": [
    "Посмотрим информацию о каждом регионе:"
   ]
  },
  {
   "cell_type": "code",
   "execution_count": 5,
   "metadata": {},
   "outputs": [
    {
     "name": "stdout",
     "output_type": "stream",
     "text": [
      "Количество полных дубликатов в датасете: 0\n"
     ]
    },
    {
     "data": {
      "text/html": [
       "<div>\n",
       "<style scoped>\n",
       "    .dataframe tbody tr th:only-of-type {\n",
       "        vertical-align: middle;\n",
       "    }\n",
       "\n",
       "    .dataframe tbody tr th {\n",
       "        vertical-align: top;\n",
       "    }\n",
       "\n",
       "    .dataframe thead th {\n",
       "        text-align: right;\n",
       "    }\n",
       "</style>\n",
       "<table border=\"1\" class=\"dataframe\">\n",
       "  <thead>\n",
       "    <tr style=\"text-align: right;\">\n",
       "      <th></th>\n",
       "      <th>id</th>\n",
       "      <th>f0</th>\n",
       "      <th>f1</th>\n",
       "      <th>f2</th>\n",
       "      <th>product</th>\n",
       "    </tr>\n",
       "  </thead>\n",
       "  <tbody>\n",
       "    <tr>\n",
       "      <td>0</td>\n",
       "      <td>txEyH</td>\n",
       "      <td>0.705745</td>\n",
       "      <td>-0.497823</td>\n",
       "      <td>1.221170</td>\n",
       "      <td>105.280062</td>\n",
       "    </tr>\n",
       "    <tr>\n",
       "      <td>1</td>\n",
       "      <td>2acmU</td>\n",
       "      <td>1.334711</td>\n",
       "      <td>-0.340164</td>\n",
       "      <td>4.365080</td>\n",
       "      <td>73.037750</td>\n",
       "    </tr>\n",
       "    <tr>\n",
       "      <td>2</td>\n",
       "      <td>409Wp</td>\n",
       "      <td>1.022732</td>\n",
       "      <td>0.151990</td>\n",
       "      <td>1.419926</td>\n",
       "      <td>85.265647</td>\n",
       "    </tr>\n",
       "    <tr>\n",
       "      <td>3</td>\n",
       "      <td>iJLyR</td>\n",
       "      <td>-0.032172</td>\n",
       "      <td>0.139033</td>\n",
       "      <td>2.978566</td>\n",
       "      <td>168.620776</td>\n",
       "    </tr>\n",
       "    <tr>\n",
       "      <td>4</td>\n",
       "      <td>Xdl7t</td>\n",
       "      <td>1.988431</td>\n",
       "      <td>0.155413</td>\n",
       "      <td>4.751769</td>\n",
       "      <td>154.036647</td>\n",
       "    </tr>\n",
       "  </tbody>\n",
       "</table>\n",
       "</div>"
      ],
      "text/plain": [
       "      id        f0        f1        f2     product\n",
       "0  txEyH  0.705745 -0.497823  1.221170  105.280062\n",
       "1  2acmU  1.334711 -0.340164  4.365080   73.037750\n",
       "2  409Wp  1.022732  0.151990  1.419926   85.265647\n",
       "3  iJLyR -0.032172  0.139033  2.978566  168.620776\n",
       "4  Xdl7t  1.988431  0.155413  4.751769  154.036647"
      ]
     },
     "metadata": {},
     "output_type": "display_data"
    },
    {
     "name": "stdout",
     "output_type": "stream",
     "text": [
      "<class 'pandas.core.frame.DataFrame'>\n",
      "RangeIndex: 100000 entries, 0 to 99999\n",
      "Data columns (total 5 columns):\n",
      "id         100000 non-null object\n",
      "f0         100000 non-null float64\n",
      "f1         100000 non-null float64\n",
      "f2         100000 non-null float64\n",
      "product    100000 non-null float64\n",
      "dtypes: float64(4), object(1)\n",
      "memory usage: 3.8+ MB\n"
     ]
    },
    {
     "data": {
      "text/plain": [
       "None"
      ]
     },
     "metadata": {},
     "output_type": "display_data"
    }
   ],
   "source": [
    "data_info(geo_0)"
   ]
  },
  {
   "cell_type": "code",
   "execution_count": 6,
   "metadata": {},
   "outputs": [
    {
     "name": "stdout",
     "output_type": "stream",
     "text": [
      "Количество полных дубликатов в датасете: 0\n"
     ]
    },
    {
     "data": {
      "text/html": [
       "<div>\n",
       "<style scoped>\n",
       "    .dataframe tbody tr th:only-of-type {\n",
       "        vertical-align: middle;\n",
       "    }\n",
       "\n",
       "    .dataframe tbody tr th {\n",
       "        vertical-align: top;\n",
       "    }\n",
       "\n",
       "    .dataframe thead th {\n",
       "        text-align: right;\n",
       "    }\n",
       "</style>\n",
       "<table border=\"1\" class=\"dataframe\">\n",
       "  <thead>\n",
       "    <tr style=\"text-align: right;\">\n",
       "      <th></th>\n",
       "      <th>id</th>\n",
       "      <th>f0</th>\n",
       "      <th>f1</th>\n",
       "      <th>f2</th>\n",
       "      <th>product</th>\n",
       "    </tr>\n",
       "  </thead>\n",
       "  <tbody>\n",
       "    <tr>\n",
       "      <td>0</td>\n",
       "      <td>kBEdx</td>\n",
       "      <td>-15.001348</td>\n",
       "      <td>-8.276000</td>\n",
       "      <td>-0.005876</td>\n",
       "      <td>3.179103</td>\n",
       "    </tr>\n",
       "    <tr>\n",
       "      <td>1</td>\n",
       "      <td>62mP7</td>\n",
       "      <td>14.272088</td>\n",
       "      <td>-3.475083</td>\n",
       "      <td>0.999183</td>\n",
       "      <td>26.953261</td>\n",
       "    </tr>\n",
       "    <tr>\n",
       "      <td>2</td>\n",
       "      <td>vyE1P</td>\n",
       "      <td>6.263187</td>\n",
       "      <td>-5.948386</td>\n",
       "      <td>5.001160</td>\n",
       "      <td>134.766305</td>\n",
       "    </tr>\n",
       "    <tr>\n",
       "      <td>3</td>\n",
       "      <td>KcrkZ</td>\n",
       "      <td>-13.081196</td>\n",
       "      <td>-11.506057</td>\n",
       "      <td>4.999415</td>\n",
       "      <td>137.945408</td>\n",
       "    </tr>\n",
       "    <tr>\n",
       "      <td>4</td>\n",
       "      <td>AHL4O</td>\n",
       "      <td>12.702195</td>\n",
       "      <td>-8.147433</td>\n",
       "      <td>5.004363</td>\n",
       "      <td>134.766305</td>\n",
       "    </tr>\n",
       "  </tbody>\n",
       "</table>\n",
       "</div>"
      ],
      "text/plain": [
       "      id         f0         f1        f2     product\n",
       "0  kBEdx -15.001348  -8.276000 -0.005876    3.179103\n",
       "1  62mP7  14.272088  -3.475083  0.999183   26.953261\n",
       "2  vyE1P   6.263187  -5.948386  5.001160  134.766305\n",
       "3  KcrkZ -13.081196 -11.506057  4.999415  137.945408\n",
       "4  AHL4O  12.702195  -8.147433  5.004363  134.766305"
      ]
     },
     "metadata": {},
     "output_type": "display_data"
    },
    {
     "name": "stdout",
     "output_type": "stream",
     "text": [
      "<class 'pandas.core.frame.DataFrame'>\n",
      "RangeIndex: 100000 entries, 0 to 99999\n",
      "Data columns (total 5 columns):\n",
      "id         100000 non-null object\n",
      "f0         100000 non-null float64\n",
      "f1         100000 non-null float64\n",
      "f2         100000 non-null float64\n",
      "product    100000 non-null float64\n",
      "dtypes: float64(4), object(1)\n",
      "memory usage: 3.8+ MB\n"
     ]
    },
    {
     "data": {
      "text/plain": [
       "None"
      ]
     },
     "metadata": {},
     "output_type": "display_data"
    }
   ],
   "source": [
    "data_info(geo_1)"
   ]
  },
  {
   "cell_type": "code",
   "execution_count": 7,
   "metadata": {},
   "outputs": [
    {
     "name": "stdout",
     "output_type": "stream",
     "text": [
      "Количество полных дубликатов в датасете: 0\n"
     ]
    },
    {
     "data": {
      "text/html": [
       "<div>\n",
       "<style scoped>\n",
       "    .dataframe tbody tr th:only-of-type {\n",
       "        vertical-align: middle;\n",
       "    }\n",
       "\n",
       "    .dataframe tbody tr th {\n",
       "        vertical-align: top;\n",
       "    }\n",
       "\n",
       "    .dataframe thead th {\n",
       "        text-align: right;\n",
       "    }\n",
       "</style>\n",
       "<table border=\"1\" class=\"dataframe\">\n",
       "  <thead>\n",
       "    <tr style=\"text-align: right;\">\n",
       "      <th></th>\n",
       "      <th>id</th>\n",
       "      <th>f0</th>\n",
       "      <th>f1</th>\n",
       "      <th>f2</th>\n",
       "      <th>product</th>\n",
       "    </tr>\n",
       "  </thead>\n",
       "  <tbody>\n",
       "    <tr>\n",
       "      <td>0</td>\n",
       "      <td>fwXo0</td>\n",
       "      <td>-1.146987</td>\n",
       "      <td>0.963328</td>\n",
       "      <td>-0.828965</td>\n",
       "      <td>27.758673</td>\n",
       "    </tr>\n",
       "    <tr>\n",
       "      <td>1</td>\n",
       "      <td>WJtFt</td>\n",
       "      <td>0.262778</td>\n",
       "      <td>0.269839</td>\n",
       "      <td>-2.530187</td>\n",
       "      <td>56.069697</td>\n",
       "    </tr>\n",
       "    <tr>\n",
       "      <td>2</td>\n",
       "      <td>ovLUW</td>\n",
       "      <td>0.194587</td>\n",
       "      <td>0.289035</td>\n",
       "      <td>-5.586433</td>\n",
       "      <td>62.871910</td>\n",
       "    </tr>\n",
       "    <tr>\n",
       "      <td>3</td>\n",
       "      <td>q6cA6</td>\n",
       "      <td>2.236060</td>\n",
       "      <td>-0.553760</td>\n",
       "      <td>0.930038</td>\n",
       "      <td>114.572842</td>\n",
       "    </tr>\n",
       "    <tr>\n",
       "      <td>4</td>\n",
       "      <td>WPMUX</td>\n",
       "      <td>-0.515993</td>\n",
       "      <td>1.716266</td>\n",
       "      <td>5.899011</td>\n",
       "      <td>149.600746</td>\n",
       "    </tr>\n",
       "  </tbody>\n",
       "</table>\n",
       "</div>"
      ],
      "text/plain": [
       "      id        f0        f1        f2     product\n",
       "0  fwXo0 -1.146987  0.963328 -0.828965   27.758673\n",
       "1  WJtFt  0.262778  0.269839 -2.530187   56.069697\n",
       "2  ovLUW  0.194587  0.289035 -5.586433   62.871910\n",
       "3  q6cA6  2.236060 -0.553760  0.930038  114.572842\n",
       "4  WPMUX -0.515993  1.716266  5.899011  149.600746"
      ]
     },
     "metadata": {},
     "output_type": "display_data"
    },
    {
     "name": "stdout",
     "output_type": "stream",
     "text": [
      "<class 'pandas.core.frame.DataFrame'>\n",
      "RangeIndex: 100000 entries, 0 to 99999\n",
      "Data columns (total 5 columns):\n",
      "id         100000 non-null object\n",
      "f0         100000 non-null float64\n",
      "f1         100000 non-null float64\n",
      "f2         100000 non-null float64\n",
      "product    100000 non-null float64\n",
      "dtypes: float64(4), object(1)\n",
      "memory usage: 3.8+ MB\n"
     ]
    },
    {
     "data": {
      "text/plain": [
       "None"
      ]
     },
     "metadata": {},
     "output_type": "display_data"
    }
   ],
   "source": [
    "data_info(geo_2)"
   ]
  },
  {
   "cell_type": "markdown",
   "metadata": {},
   "source": [
    "**Результаты предварительного анализа данных:**\n",
    "<br>\n",
    "- Пропуски и дубликаты отсутствуют в данных;  <br>\n",
    "- Типы данных согласуются с их описанием: 1 качественный признак - идентификатор скважины, 4 признака - количественных;  <br>\n",
    "- Датафрейм содержит 5 признаков и 100 тыс. объектов <br>"
   ]
  },
  {
   "cell_type": "markdown",
   "metadata": {},
   "source": [
    "**Согласно условию задачи каждый датасет включает в себя следующие признаки:**<br>\n",
    "- id - уникальный идентификатор скважины; <br>\n",
    "- f0, f1, f2 — три признака точек (неважно, что они означают, но сами признаки значимы); <br>\n",
    "- product — объём запасов в скважине (тыс. баррелей). <br>"
   ]
  },
  {
   "cell_type": "markdown",
   "metadata": {},
   "source": [
    "## Обучение и проверка модели"
   ]
  },
  {
   "cell_type": "markdown",
   "metadata": {},
   "source": [
    "Зададим начальное значение для генерации последовательности псевдослучайных чисел\n"
   ]
  },
  {
   "cell_type": "code",
   "execution_count": 8,
   "metadata": {},
   "outputs": [],
   "source": [
    "random = 12345"
   ]
  },
  {
   "cell_type": "markdown",
   "metadata": {},
   "source": [
    "**Разобьем данные на обучающую и валидационную выборки в соотношении 75:25**"
   ]
  },
  {
   "cell_type": "markdown",
   "metadata": {},
   "source": [
    "Список с датасетами данных по регионам:"
   ]
  },
  {
   "cell_type": "code",
   "execution_count": 9,
   "metadata": {},
   "outputs": [],
   "source": [
    "geo = [geo_0, geo_1, geo_2]"
   ]
  },
  {
   "cell_type": "markdown",
   "metadata": {},
   "source": [
    "Cписок с названиями датасетов:"
   ]
  },
  {
   "cell_type": "code",
   "execution_count": 10,
   "metadata": {},
   "outputs": [],
   "source": [
    "geo_name = ['geo_0', 'geo_1', 'geo_2']"
   ]
  },
  {
   "cell_type": "markdown",
   "metadata": {},
   "source": [
    "Cписок с обучающей и валидационной выборками:"
   ]
  },
  {
   "cell_type": "code",
   "execution_count": 11,
   "metadata": {},
   "outputs": [],
   "source": [
    "train = []\n",
    "valid = []"
   ]
  },
  {
   "cell_type": "markdown",
   "metadata": {},
   "source": [
    "Cписок с признаками для обучающей и валидационной выборок:"
   ]
  },
  {
   "cell_type": "code",
   "execution_count": 12,
   "metadata": {},
   "outputs": [],
   "source": [
    "features_train = []\n",
    "features_valid = []"
   ]
  },
  {
   "cell_type": "markdown",
   "metadata": {},
   "source": [
    "Cписок с целевыми признаками для обучающей и валидационной выборок:"
   ]
  },
  {
   "cell_type": "code",
   "execution_count": 13,
   "metadata": {},
   "outputs": [],
   "source": [
    "target_train = []\n",
    "target_valid = []"
   ]
  },
  {
   "cell_type": "markdown",
   "metadata": {},
   "source": [
    "Зададим списки:"
   ]
  },
  {
   "cell_type": "code",
   "execution_count": 14,
   "metadata": {},
   "outputs": [],
   "source": [
    "for region in geo:\n",
    "    train_set, valid_set = train_test_split(region, test_size = 0.25, random_state = random)\n",
    "    train.append(train_set)\n",
    "    valid.append(valid_set)\n",
    "    features_train_set = train_set.drop(['id','product'], axis = 1)\n",
    "    features_valid_set = valid_set.drop(['id','product'], axis = 1)\n",
    "    features_train.append(features_train_set)\n",
    "    features_valid.append(features_valid_set)\n",
    "    target_train_set = train_set['product']\n",
    "    target_valid_set = valid_set['product']\n",
    "    target_train.append(target_train_set)\n",
    "    target_valid.append(target_valid_set)"
   ]
  },
  {
   "cell_type": "markdown",
   "metadata": {},
   "source": [
    "Выведем доли и проведем проверку разделения:"
   ]
  },
  {
   "cell_type": "code",
   "execution_count": 15,
   "metadata": {},
   "outputs": [
    {
     "name": "stdout",
     "output_type": "stream",
     "text": [
      "Датасет geo_0\n",
      "Доля тренировочной выборки равна: 75.0%\n",
      "Доля валидационной выборки равна: 25.0%\n",
      "Размер датасета (число объектов): 100000\n",
      "\n",
      "Датасет geo_1\n",
      "Доля тренировочной выборки равна: 75.0%\n",
      "Доля валидационной выборки равна: 25.0%\n",
      "Размер датасета (число объектов): 100000\n",
      "\n",
      "Датасет geo_2\n",
      "Доля тренировочной выборки равна: 75.0%\n",
      "Доля валидационной выборки равна: 25.0%\n",
      "Размер датасета (число объектов): 100000\n",
      "\n"
     ]
    }
   ],
   "source": [
    "for i in range(len(geo)):\n",
    "    print('Датасет', geo_name[i])\n",
    "    print('Доля тренировочной выборки равна: {:.1%}'.format(len(features_train[i])/ len(geo[i])))\n",
    "    print('Доля валидационной выборки равна: {:.1%}'.format(len(features_valid[i])/ len(geo[i])))\n",
    "    print('Размер датасета (число объектов):', len(geo[i]))\n",
    "    print()"
   ]
  },
  {
   "cell_type": "markdown",
   "metadata": {},
   "source": [
    "Проверка разделения выборок:"
   ]
  },
  {
   "cell_type": "code",
   "execution_count": 16,
   "metadata": {},
   "outputs": [
    {
     "data": {
      "text/html": [
       "<div>\n",
       "<style scoped>\n",
       "    .dataframe tbody tr th:only-of-type {\n",
       "        vertical-align: middle;\n",
       "    }\n",
       "\n",
       "    .dataframe tbody tr th {\n",
       "        vertical-align: top;\n",
       "    }\n",
       "\n",
       "    .dataframe thead th {\n",
       "        text-align: right;\n",
       "    }\n",
       "</style>\n",
       "<table border=\"1\" class=\"dataframe\">\n",
       "  <thead>\n",
       "    <tr style=\"text-align: right;\">\n",
       "      <th></th>\n",
       "      <th>f0</th>\n",
       "      <th>f1</th>\n",
       "      <th>f2</th>\n",
       "    </tr>\n",
       "  </thead>\n",
       "  <tbody>\n",
       "    <tr>\n",
       "      <td>71751</td>\n",
       "      <td>0.948970</td>\n",
       "      <td>-0.057547</td>\n",
       "      <td>2.095727</td>\n",
       "    </tr>\n",
       "    <tr>\n",
       "      <td>80493</td>\n",
       "      <td>0.992974</td>\n",
       "      <td>0.206671</td>\n",
       "      <td>-0.142278</td>\n",
       "    </tr>\n",
       "    <tr>\n",
       "      <td>2655</td>\n",
       "      <td>1.199854</td>\n",
       "      <td>-0.563356</td>\n",
       "      <td>-1.852991</td>\n",
       "    </tr>\n",
       "    <tr>\n",
       "      <td>53233</td>\n",
       "      <td>0.691422</td>\n",
       "      <td>-0.433347</td>\n",
       "      <td>0.564974</td>\n",
       "    </tr>\n",
       "    <tr>\n",
       "      <td>91141</td>\n",
       "      <td>0.420772</td>\n",
       "      <td>0.972638</td>\n",
       "      <td>0.736190</td>\n",
       "    </tr>\n",
       "    <tr>\n",
       "      <td>...</td>\n",
       "      <td>...</td>\n",
       "      <td>...</td>\n",
       "      <td>...</td>\n",
       "    </tr>\n",
       "    <tr>\n",
       "      <td>12581</td>\n",
       "      <td>1.841106</td>\n",
       "      <td>-0.107678</td>\n",
       "      <td>2.585648</td>\n",
       "    </tr>\n",
       "    <tr>\n",
       "      <td>18456</td>\n",
       "      <td>0.041859</td>\n",
       "      <td>0.489280</td>\n",
       "      <td>2.168001</td>\n",
       "    </tr>\n",
       "    <tr>\n",
       "      <td>73035</td>\n",
       "      <td>0.376389</td>\n",
       "      <td>1.054298</td>\n",
       "      <td>-0.430104</td>\n",
       "    </tr>\n",
       "    <tr>\n",
       "      <td>63834</td>\n",
       "      <td>1.071330</td>\n",
       "      <td>-0.470046</td>\n",
       "      <td>4.527099</td>\n",
       "    </tr>\n",
       "    <tr>\n",
       "      <td>43558</td>\n",
       "      <td>1.726318</td>\n",
       "      <td>-0.077871</td>\n",
       "      <td>5.007083</td>\n",
       "    </tr>\n",
       "  </tbody>\n",
       "</table>\n",
       "<p>25000 rows × 3 columns</p>\n",
       "</div>"
      ],
      "text/plain": [
       "             f0        f1        f2\n",
       "71751  0.948970 -0.057547  2.095727\n",
       "80493  0.992974  0.206671 -0.142278\n",
       "2655   1.199854 -0.563356 -1.852991\n",
       "53233  0.691422 -0.433347  0.564974\n",
       "91141  0.420772  0.972638  0.736190\n",
       "...         ...       ...       ...\n",
       "12581  1.841106 -0.107678  2.585648\n",
       "18456  0.041859  0.489280  2.168001\n",
       "73035  0.376389  1.054298 -0.430104\n",
       "63834  1.071330 -0.470046  4.527099\n",
       "43558  1.726318 -0.077871  5.007083\n",
       "\n",
       "[25000 rows x 3 columns]"
      ]
     },
     "execution_count": 16,
     "metadata": {},
     "output_type": "execute_result"
    }
   ],
   "source": [
    "features_valid[0]"
   ]
  },
  {
   "cell_type": "markdown",
   "metadata": {},
   "source": [
    "**Обучение, предсказание и расчет метрик.**\n"
   ]
  },
  {
   "cell_type": "markdown",
   "metadata": {},
   "source": [
    "Список с предсказаниями на валидационной выборке:"
   ]
  },
  {
   "cell_type": "code",
   "execution_count": 17,
   "metadata": {},
   "outputs": [],
   "source": [
    "predictions_valid = []"
   ]
  },
  {
   "cell_type": "markdown",
   "metadata": {},
   "source": [
    "Cписок со средним предсказанным сырьем на валидационной выборке:"
   ]
  },
  {
   "cell_type": "code",
   "execution_count": 18,
   "metadata": {},
   "outputs": [],
   "source": [
    "predicted_mean = []"
   ]
  },
  {
   "cell_type": "markdown",
   "metadata": {},
   "source": [
    "**Зададим и обучим модель c помощью линейной регрессии. Затем выведем значение метрик MSE, RMSE и средних предсказанных значений:**"
   ]
  },
  {
   "cell_type": "code",
   "execution_count": 19,
   "metadata": {},
   "outputs": [
    {
     "name": "stdout",
     "output_type": "stream",
     "text": [
      "Регион geo_0\n",
      "MSE: 1412.21\n",
      "RMSE: 37.58\n",
      "Средний предсказанный запас сырья: 92.59\n",
      "\n",
      "Регион geo_1\n",
      "MSE: 0.80\n",
      "RMSE: 0.89\n",
      "Средний предсказанный запас сырья: 68.73\n",
      "\n",
      "Регион geo_2\n",
      "MSE: 1602.38\n",
      "RMSE: 40.03\n",
      "Средний предсказанный запас сырья: 94.97\n",
      "\n"
     ]
    }
   ],
   "source": [
    "for i in range(len(geo)):\n",
    "    regr = LinearRegression(normalize = True)\n",
    "    regr.fit(features_train[i], target_train[i])\n",
    "    product_pred = regr.predict(features_valid[i])\n",
    "    product_pred = pd.Series(product_pred, index = features_valid[i].index)\n",
    "    predictions_valid.append(product_pred)\n",
    "    print('Регион', geo_name[i])\n",
    "    mean = product_pred.mean()\n",
    "    predicted_mean.append(mean)\n",
    "    print('MSE: {:.2f}'.format(mean_squared_error(target_valid[i], product_pred)))\n",
    "    print('RMSE: {:.2f}'.format(mean_squared_error(target_valid[i], product_pred)**0.5))\n",
    "    print('Средний предсказанный запас сырья: {:.2f}'.format(mean))\n",
    "    print()"
   ]
  },
  {
   "cell_type": "markdown",
   "metadata": {},
   "source": [
    "Сделаем проверку сохранения предсказаний:"
   ]
  },
  {
   "cell_type": "code",
   "execution_count": 20,
   "metadata": {},
   "outputs": [
    {
     "data": {
      "text/plain": [
       "71751     95.894952\n",
       "80493     77.572583\n",
       "2655      77.892640\n",
       "53233     90.175134\n",
       "91141     70.510088\n",
       "            ...    \n",
       "12581    103.037104\n",
       "18456     85.403255\n",
       "73035     61.509833\n",
       "63834    118.180397\n",
       "43558    118.169392\n",
       "Length: 25000, dtype: float64"
      ]
     },
     "execution_count": 20,
     "metadata": {},
     "output_type": "execute_result"
    }
   ],
   "source": [
    "predictions_valid[0]"
   ]
  },
  {
   "cell_type": "markdown",
   "metadata": {},
   "source": [
    "**Анализ результатов**"
   ]
  },
  {
   "cell_type": "markdown",
   "metadata": {},
   "source": [
    "Исходя из вышеперечисленных расчетов видно, что для региона geo_1 выходит наименьшая ошибка в предсказаниях, при этом RMSE меньше среднего предсказанного значения. Из этого можно сделать вывод о том, что для этого региона модель имеет хорошую точность прогноза. В то время как для других регионов (geo_0 и geo_2) значение RMSE сравнимо со средним предсказанным значением, т.е. модель дает значительную ошибку при предсказании запасов сырья для этих регионов."
   ]
  },
  {
   "cell_type": "markdown",
   "metadata": {},
   "source": [
    "# 3. Подготовка к расчёту прибыли"
   ]
  },
  {
   "cell_type": "markdown",
   "metadata": {},
   "source": [
    "**Сохраним ключевые значения для расчетов в отдельных переменных.**"
   ]
  },
  {
   "cell_type": "markdown",
   "metadata": {},
   "source": [
    "Число точек при разведке:"
   ]
  },
  {
   "cell_type": "code",
   "execution_count": 21,
   "metadata": {},
   "outputs": [],
   "source": [
    "points_number = 500"
   ]
  },
  {
   "cell_type": "markdown",
   "metadata": {},
   "source": [
    "Число наилучших точек:"
   ]
  },
  {
   "cell_type": "code",
   "execution_count": 22,
   "metadata": {},
   "outputs": [],
   "source": [
    "points_best = 200\n"
   ]
  },
  {
   "cell_type": "markdown",
   "metadata": {},
   "source": [
    "Бюджет в млрд. рублей:"
   ]
  },
  {
   "cell_type": "code",
   "execution_count": 23,
   "metadata": {},
   "outputs": [],
   "source": [
    "budget = 10"
   ]
  },
  {
   "cell_type": "markdown",
   "metadata": {},
   "source": [
    "Цена за баррель в рублях:"
   ]
  },
  {
   "cell_type": "code",
   "execution_count": 24,
   "metadata": {},
   "outputs": [],
   "source": [
    "income_per_barrel = 450"
   ]
  },
  {
   "cell_type": "markdown",
   "metadata": {},
   "source": [
    "Цена за тысячу баррелей (за единицу продукта) в тыс. рублей:"
   ]
  },
  {
   "cell_type": "code",
   "execution_count": 25,
   "metadata": {},
   "outputs": [],
   "source": [
    "income_per_unit = 450"
   ]
  },
  {
   "cell_type": "markdown",
   "metadata": {},
   "source": [
    "Вероятность убытков:"
   ]
  },
  {
   "cell_type": "code",
   "execution_count": 26,
   "metadata": {},
   "outputs": [],
   "source": [
    "loss_probabilty = 0.025 "
   ]
  },
  {
   "cell_type": "markdown",
   "metadata": {},
   "source": [
    "**Сохраним вспомогательные параметры для расчетов в отдельных переменных.**"
   ]
  },
  {
   "cell_type": "markdown",
   "metadata": {},
   "source": [
    "Коэффициент пересчета млрд. рублей в рублей:"
   ]
  },
  {
   "cell_type": "code",
   "execution_count": 27,
   "metadata": {},
   "outputs": [],
   "source": [
    "billions_ruble = 1E9 "
   ]
  },
  {
   "cell_type": "markdown",
   "metadata": {},
   "source": [
    "Коэффициент пересчета тыс. рублей в рублей:"
   ]
  },
  {
   "cell_type": "code",
   "execution_count": 28,
   "metadata": {},
   "outputs": [],
   "source": [
    "thousands_ruble = 1E3"
   ]
  },
  {
   "cell_type": "markdown",
   "metadata": {},
   "source": [
    "Коэффициент пересчета рублей в млн. рублей:"
   ]
  },
  {
   "cell_type": "code",
   "execution_count": 29,
   "metadata": {},
   "outputs": [],
   "source": [
    "ruble_millions = 1E-6"
   ]
  },
  {
   "cell_type": "markdown",
   "metadata": {},
   "source": [
    "**Произведем расчет достаточного объёма сырья для безубыточной разработки новой скважины и сравним полученный объем сырья со средним запасом в каждом регионе.**"
   ]
  },
  {
   "cell_type": "markdown",
   "metadata": {},
   "source": [
    "Рассчитаем бюджет разработки на одну скважину:"
   ]
  },
  {
   "cell_type": "code",
   "execution_count": 30,
   "metadata": {},
   "outputs": [],
   "source": [
    "costs_per_well = budget *  billions_ruble / points_best"
   ]
  },
  {
   "cell_type": "markdown",
   "metadata": {},
   "source": [
    "Рассчитаем необходимый объем продукта из бюджета разработки одной скважины:"
   ]
  },
  {
   "cell_type": "code",
   "execution_count": 31,
   "metadata": {},
   "outputs": [
    {
     "name": "stdout",
     "output_type": "stream",
     "text": [
      "Необходимый объем продукта (в тыс. баррелей) 111.11\n"
     ]
    }
   ],
   "source": [
    "product_volume = costs_per_well / (income_per_unit * thousands_ruble)\n",
    "print('Необходимый объем продукта (в тыс. баррелей) {:.2f}'.format(product_volume))"
   ]
  },
  {
   "cell_type": "code",
   "execution_count": 32,
   "metadata": {},
   "outputs": [
    {
     "name": "stdout",
     "output_type": "stream",
     "text": [
      "geo_0\n",
      "Абсолютная разница между средним предсказанным и необходимым объемом продукта -18.52\n",
      "Относительная разница между средним предсказанным и необходимым объемом продукта 16.67%\n",
      "\n",
      "geo_1\n",
      "Абсолютная разница между средним предсказанным и необходимым объемом продукта -42.38\n",
      "Относительная разница между средним предсказанным и необходимым объемом продукта 38.14%\n",
      "\n",
      "geo_2\n",
      "Абсолютная разница между средним предсказанным и необходимым объемом продукта -16.15\n",
      "Относительная разница между средним предсказанным и необходимым объемом продукта 14.53%\n",
      "\n"
     ]
    }
   ],
   "source": [
    "for i in range(len(predicted_mean)):\n",
    "    difference = predicted_mean[i] - product_volume\n",
    "    relative = np.abs(difference / product_volume)\n",
    "    print(geo_name[i])\n",
    "    print('Абсолютная разница между средним предсказанным и необходимым объемом продукта {:.2f}' \\\n",
    "         .format(difference))\n",
    "    print('Относительная разница между средним предсказанным и необходимым объемом продукта {:.2%}' \\\n",
    "         .format(relative))\n",
    "    print()"
   ]
  },
  {
   "cell_type": "markdown",
   "metadata": {},
   "source": [
    "**Ни один регион не дотягивает до точки безубыточности. В регионах  geo_0 и geo_2 относительная разница  составляет менее 20%, а в регионе geo_1 почти 40%. Видно, что нефтянке срочно нужны ребята DS с яндекс-практикума)) Поэтому при отборе скважин для разработки необходимо выбирать те, которые дают объем продукта выше среднего, при этом для региона geo_1 необходимо отбирать те скважины, которые значительно лучше средней по региону.**"
   ]
  },
  {
   "cell_type": "markdown",
   "metadata": {},
   "source": [
    "# 4. Расчёт прибыли и рисков "
   ]
  },
  {
   "cell_type": "markdown",
   "metadata": {},
   "source": [
    "Расчет прибыли состоит из следующих этапов:\n",
    "- выбора скважин с максимальными значениями предсказаний;    \n",
    "- суммирование целевого значения объёма сырья, соответствующее этим предсказаниям;       \n",
    "- расчет прибыли для полученного объёма сырья  "
   ]
  },
  {
   "cell_type": "markdown",
   "metadata": {},
   "source": [
    "Создадим функцию для расчета прибыли по выбранным скважинам и предсказаниям модели. "
   ]
  },
  {
   "cell_type": "code",
   "execution_count": 33,
   "metadata": {},
   "outputs": [],
   "source": [
    "def Revenue(predictions, target, wells_number): #wells_number - число скважин\n",
    "    predict = predictions.sort_values(ascending = False)\n",
    "    selected = target[predict.index][:wells_number] \n",
    "    product_sum = selected.sum()#суммарный продукта для лучших скважин\n",
    "    revenue_wells = product_sum * income_per_unit * thousands_ruble - budget * billions_ruble #прибыль с учетом полученного объёма сырья и расходов на разработку\n",
    "    return selected, revenue_wells"
   ]
  },
  {
   "cell_type": "markdown",
   "metadata": {},
   "source": [
    "Применение техники Bootstrap для нахождения распределения прибыли."
   ]
  },
  {
   "cell_type": "code",
   "execution_count": 34,
   "metadata": {},
   "outputs": [],
   "source": [
    "state = np.random.RandomState(random)"
   ]
  },
  {
   "cell_type": "code",
   "execution_count": 35,
   "metadata": {},
   "outputs": [],
   "source": [
    "def RevenueBootstrap(predictions, target, wells_number, sample_size, region_name):\n",
    "    values = []\n",
    "    for j in range(1000): #проход по 1000 выборок и подсчет прибыли для каждой из них\n",
    "        preds = predictions.sample(n = sample_size, replace = True, random_state=state)\n",
    "        selected, rev = Revenue(preds, target, wells_number)\n",
    "        values.append(rev)\n",
    "        \n",
    "    values = pd.Series(values) * ruble_millions #прибыль в млн. рублей\n",
    "    \n",
    "    lower = values.quantile(0.025) #границы 95% доверительного интервала\n",
    "    upper = values.quantile(0.975)\n",
    "    \n",
    "    revenues_loss = values[values < 0] #вероятность убытков\n",
    "    loss_probability = len(revenues_loss) / len(values) * 100\n",
    "    \n",
    "    mean_revenue = values.mean() #средняя прибыль\n",
    "    \n",
    "    #создание датафрейма с расчетными данными \n",
    "    data = pd.DataFrame(np.zeros((4,1)), index = ['2.5%', '97.5%', 'loss_prob', 'mean'], \\\n",
    "                        columns = [region_name])\n",
    "    data.loc['2.5%',region_name] = lower\n",
    "    data.loc['97.5%',region_name] = upper\n",
    "    data.loc['loss_prob',region_name] = loss_probability \n",
    "    data.loc['mean', region_name] = mean_revenue \n",
    "    \n",
    "    return values, data"
   ]
  },
  {
   "cell_type": "markdown",
   "metadata": {},
   "source": [
    "Рассчитаем прибыль для трех регионов:"
   ]
  },
  {
   "cell_type": "code",
   "execution_count": 36,
   "metadata": {},
   "outputs": [],
   "source": [
    "geo_data = []\n",
    "geo_values = []\n",
    "\n",
    "for i in range(len(geo)): \n",
    "    values, data = RevenueBootstrap(predictions_valid[i], target_valid[i], \\\n",
    "                                    points_best, points_number, geo_name[i])\n",
    "    geo_values.append(values)\n",
    "    geo_data.append(data)"
   ]
  },
  {
   "cell_type": "markdown",
   "metadata": {},
   "source": [
    "Распределение прибыли по 1000 выборок и построим графики:"
   ]
  },
  {
   "cell_type": "code",
   "execution_count": 37,
   "metadata": {},
   "outputs": [
    {
     "data": {
      "image/png": "[encoded data removed]",
      "text/plain": [
       "<Figure size 1440x720 with 1 Axes>"
      ]
     },
     "metadata": {
      "needs_background": "light"
     },
     "output_type": "display_data"
    }
   ],
   "source": [
    "color = ['yellow', 'grey', 'black']\n",
    "fig, axes = plt.subplots(1,1, figsize = (20,10))\n",
    "plt.suptitle('Распределение прибыли');\n",
    "\n",
    "for i in range(len(geo)):\n",
    "    hist, bin_edges = np.histogram(geo_values[i], bins = 100)\n",
    "    axes.plot(bin_edges[:-1], hist, marker = 'o', color = color[i]);\n",
    "    axes.set_xlabel('прибыль, млн. рублей');\n",
    "    axes.set_ylabel('частота');\n",
    "    axes.legend(geo_name);"
   ]
  },
  {
   "cell_type": "markdown",
   "metadata": {},
   "source": [
    "Из рисунка видно, что распределение прибыли для региона geo_1 сдвинуто вправо по отношению к распределениям прибыли для регионов geo_0 и geo_2. Это означает, что средняя прибыль для geo_1 должна быть больше, а риски убытков - меньше."
   ]
  },
  {
   "cell_type": "markdown",
   "metadata": {},
   "source": [
    "Сведем все данные в таблицу:"
   ]
  },
  {
   "cell_type": "code",
   "execution_count": 38,
   "metadata": {},
   "outputs": [
    {
     "data": {
      "text/html": [
       "<div>\n",
       "<style scoped>\n",
       "    .dataframe tbody tr th:only-of-type {\n",
       "        vertical-align: middle;\n",
       "    }\n",
       "\n",
       "    .dataframe tbody tr th {\n",
       "        vertical-align: top;\n",
       "    }\n",
       "\n",
       "    .dataframe thead th {\n",
       "        text-align: right;\n",
       "    }\n",
       "</style>\n",
       "<table border=\"1\" class=\"dataframe\">\n",
       "  <thead>\n",
       "    <tr style=\"text-align: right;\">\n",
       "      <th></th>\n",
       "      <th>geo_0</th>\n",
       "      <th>geo_1</th>\n",
       "      <th>geo_2</th>\n",
       "    </tr>\n",
       "  </thead>\n",
       "  <tbody>\n",
       "    <tr>\n",
       "      <td>2.5%</td>\n",
       "      <td>-111.215546</td>\n",
       "      <td>78.050811</td>\n",
       "      <td>-112.227625</td>\n",
       "    </tr>\n",
       "    <tr>\n",
       "      <td>97.5%</td>\n",
       "      <td>909.766942</td>\n",
       "      <td>862.952060</td>\n",
       "      <td>934.562915</td>\n",
       "    </tr>\n",
       "    <tr>\n",
       "      <td>loss_prob</td>\n",
       "      <td>6.900000</td>\n",
       "      <td>0.700000</td>\n",
       "      <td>6.500000</td>\n",
       "    </tr>\n",
       "    <tr>\n",
       "      <td>mean</td>\n",
       "      <td>396.164985</td>\n",
       "      <td>461.155817</td>\n",
       "      <td>392.950475</td>\n",
       "    </tr>\n",
       "  </tbody>\n",
       "</table>\n",
       "</div>"
      ],
      "text/plain": [
       "                geo_0       geo_1       geo_2\n",
       "2.5%      -111.215546   78.050811 -112.227625\n",
       "97.5%      909.766942  862.952060  934.562915\n",
       "loss_prob    6.900000    0.700000    6.500000\n",
       "mean       396.164985  461.155817  392.950475"
      ]
     },
     "execution_count": 38,
     "metadata": {},
     "output_type": "execute_result"
    }
   ],
   "source": [
    "geo_data_pivot = pd.concat([geo_data[0], geo_data[1], geo_data[2]], axis=1, join='inner')\n",
    "geo_data_pivot"
   ]
  },
  {
   "cell_type": "markdown",
   "metadata": {},
   "source": [
    "# 5. Вывод\n",
    "Цель проекта - не просто построить прогноз по модели или прогноз продаж, а научиться выбирать лучшее управленческое решение на основе метода моделирования ситуации. В этом ключе мы как раз и применили технику Bootstrap.\n",
    "\n",
    "Исходя из полученных данных и проведенного анализа, можно сделать следующий вывод:\n",
    "\n",
    "- Регионы geo_0 и geo_2 - разработка слишком рискована, т.к. вероятность убытков больше 2,5%;\n",
    "- Регион geo_1 - подходит для бурения, т.к. там самая высокая средняя прибыль и вероятность убытков меньше 2,5%"
   ]
  }
 ],
 "metadata": {
  "ExecuteTimeLog": [
   {
    "duration": 843,
    "start_time": "2021-07-19T05:00:06.676Z"
   },
   {
    "duration": 725,
    "start_time": "2021-07-19T05:00:25.144Z"
   },
   {
    "duration": 433,
    "start_time": "2021-07-19T05:00:57.831Z"
   },
   {
    "duration": 5,
    "start_time": "2021-07-19T05:04:02.607Z"
   },
   {
    "duration": 109,
    "start_time": "2021-07-19T05:05:17.281Z"
   },
   {
    "duration": 86,
    "start_time": "2021-07-19T05:05:43.696Z"
   },
   {
    "duration": 100,
    "start_time": "2021-07-19T05:06:10.000Z"
   },
   {
    "duration": 3,
    "start_time": "2021-07-19T05:08:42.236Z"
   },
   {
    "duration": 4,
    "start_time": "2021-07-19T05:17:28.017Z"
   },
   {
    "duration": 5,
    "start_time": "2021-07-19T05:18:09.161Z"
   },
   {
    "duration": 3,
    "start_time": "2021-07-19T07:11:49.013Z"
   },
   {
    "duration": 3,
    "start_time": "2021-07-19T07:11:51.124Z"
   },
   {
    "duration": 4,
    "start_time": "2021-07-19T07:11:55.044Z"
   },
   {
    "duration": 70,
    "start_time": "2021-07-19T07:12:23.613Z"
   },
   {
    "duration": 9,
    "start_time": "2021-07-19T07:12:29.220Z"
   },
   {
    "duration": 14,
    "start_time": "2021-07-19T07:12:44.221Z"
   },
   {
    "duration": 110,
    "start_time": "2021-07-19T07:39:03.007Z"
   },
   {
    "duration": 4,
    "start_time": "2021-07-19T07:39:21.030Z"
   },
   {
    "duration": 409,
    "start_time": "2021-07-19T07:39:42.558Z"
   },
   {
    "duration": 7,
    "start_time": "2021-07-19T07:40:00.519Z"
   },
   {
    "duration": 4,
    "start_time": "2021-07-19T07:44:43.524Z"
   },
   {
    "duration": 4,
    "start_time": "2021-07-19T07:45:16.431Z"
   },
   {
    "duration": 3,
    "start_time": "2021-07-19T07:46:03.206Z"
   },
   {
    "duration": 4,
    "start_time": "2021-07-19T07:46:40.326Z"
   },
   {
    "duration": 3,
    "start_time": "2021-07-19T07:48:06.605Z"
   },
   {
    "duration": 4,
    "start_time": "2021-07-19T07:48:39.095Z"
   },
   {
    "duration": 3,
    "start_time": "2021-07-19T07:52:01.433Z"
   },
   {
    "duration": 3,
    "start_time": "2021-07-19T07:52:06.575Z"
   },
   {
    "duration": 4,
    "start_time": "2021-07-19T07:52:51.684Z"
   },
   {
    "duration": 5,
    "start_time": "2021-07-19T08:41:20.295Z"
   },
   {
    "duration": 8,
    "start_time": "2021-07-19T08:41:38.378Z"
   },
   {
    "duration": 1013,
    "start_time": "2021-07-19T08:43:32.962Z"
   },
   {
    "duration": 581,
    "start_time": "2021-07-19T08:43:33.978Z"
   },
   {
    "duration": 430,
    "start_time": "2021-07-19T08:43:34.562Z"
   },
   {
    "duration": 4,
    "start_time": "2021-07-19T08:43:34.995Z"
   },
   {
    "duration": 107,
    "start_time": "2021-07-19T08:43:35.001Z"
   },
   {
    "duration": 113,
    "start_time": "2021-07-19T08:43:35.110Z"
   },
   {
    "duration": 110,
    "start_time": "2021-07-19T08:43:35.226Z"
   },
   {
    "duration": 17,
    "start_time": "2021-07-19T08:43:35.339Z"
   },
   {
    "duration": 7,
    "start_time": "2021-07-19T08:43:35.359Z"
   },
   {
    "duration": 7,
    "start_time": "2021-07-19T08:43:35.368Z"
   },
   {
    "duration": 7,
    "start_time": "2021-07-19T08:43:35.377Z"
   },
   {
    "duration": 10,
    "start_time": "2021-07-19T08:43:35.387Z"
   },
   {
    "duration": 10,
    "start_time": "2021-07-19T08:43:35.399Z"
   },
   {
    "duration": 92,
    "start_time": "2021-07-19T08:43:35.411Z"
   },
   {
    "duration": 8,
    "start_time": "2021-07-19T08:43:35.506Z"
   },
   {
    "duration": 17,
    "start_time": "2021-07-19T08:43:35.516Z"
   },
   {
    "duration": 20,
    "start_time": "2021-07-19T08:43:35.535Z"
   },
   {
    "duration": 403,
    "start_time": "2021-07-19T08:43:35.558Z"
   },
   {
    "duration": 94,
    "start_time": "2021-07-19T08:43:35.964Z"
   },
   {
    "duration": 11,
    "start_time": "2021-07-19T08:43:36.060Z"
   },
   {
    "duration": 22,
    "start_time": "2021-07-19T08:43:36.073Z"
   },
   {
    "duration": 19,
    "start_time": "2021-07-19T08:43:36.097Z"
   },
   {
    "duration": 12,
    "start_time": "2021-07-19T08:43:36.121Z"
   },
   {
    "duration": 9,
    "start_time": "2021-07-19T08:43:36.135Z"
   },
   {
    "duration": 39,
    "start_time": "2021-07-19T08:43:36.146Z"
   },
   {
    "duration": 30,
    "start_time": "2021-07-19T08:43:36.187Z"
   },
   {
    "duration": 7,
    "start_time": "2021-07-19T08:43:36.220Z"
   },
   {
    "duration": 7,
    "start_time": "2021-07-19T08:43:36.229Z"
   },
   {
    "duration": 9,
    "start_time": "2021-07-19T08:43:36.239Z"
   },
   {
    "duration": 7,
    "start_time": "2021-07-19T08:43:36.250Z"
   },
   {
    "duration": 5,
    "start_time": "2021-07-19T08:56:02.426Z"
   },
   {
    "duration": 4,
    "start_time": "2021-07-19T08:56:59.507Z"
   },
   {
    "duration": 8,
    "start_time": "2021-07-19T08:57:14.772Z"
   },
   {
    "duration": 8638,
    "start_time": "2021-07-19T08:57:27.131Z"
   },
   {
    "duration": 448,
    "start_time": "2021-07-19T08:57:46.921Z"
   },
   {
    "duration": 12,
    "start_time": "2021-07-19T09:02:07.002Z"
   },
   {
    "duration": 8,
    "start_time": "2021-07-19T09:09:22.429Z"
   },
   {
    "duration": 9,
    "start_time": "2021-07-19T09:09:56.597Z"
   },
   {
    "duration": 70,
    "start_time": "2021-07-19T09:12:08.206Z"
   },
   {
    "duration": 14,
    "start_time": "2021-07-19T09:12:37.270Z"
   },
   {
    "duration": 3,
    "start_time": "2021-07-19T09:15:16.073Z"
   },
   {
    "duration": 3,
    "start_time": "2021-07-19T09:15:19.565Z"
   },
   {
    "duration": 345,
    "start_time": "2021-07-19T09:19:30.912Z"
   },
   {
    "duration": 4,
    "start_time": "2021-07-19T09:44:54.999Z"
   },
   {
    "duration": 4,
    "start_time": "2021-07-19T09:46:00.821Z"
   },
   {
    "duration": 119,
    "start_time": "2021-07-19T10:03:34.878Z"
   },
   {
    "duration": 5,
    "start_time": "2021-07-19T10:03:41.391Z"
   },
   {
    "duration": 720,
    "start_time": "2021-07-19T10:45:41.792Z"
   },
   {
    "duration": 407,
    "start_time": "2021-07-19T10:45:53.881Z"
   },
   {
    "duration": 410,
    "start_time": "2021-07-19T10:46:15.815Z"
   },
   {
    "duration": 83,
    "start_time": "2021-07-19T10:52:57.088Z"
   },
   {
    "duration": 1533,
    "start_time": "2021-07-19T10:53:36.715Z"
   },
   {
    "duration": 597,
    "start_time": "2021-07-19T10:56:34.040Z"
   },
   {
    "duration": 422,
    "start_time": "2021-07-19T10:56:45.018Z"
   },
   {
    "duration": 277,
    "start_time": "2021-07-19T10:59:59.034Z"
   },
   {
    "duration": 287,
    "start_time": "2021-07-19T11:00:10.806Z"
   },
   {
    "duration": 602,
    "start_time": "2021-07-19T11:00:22.183Z"
   },
   {
    "duration": 417,
    "start_time": "2021-07-19T11:00:37.666Z"
   },
   {
    "duration": 806,
    "start_time": "2021-07-19T11:18:08.060Z"
   },
   {
    "duration": 596,
    "start_time": "2021-07-19T11:18:08.868Z"
   },
   {
    "duration": 442,
    "start_time": "2021-07-19T11:18:09.468Z"
   },
   {
    "duration": 5,
    "start_time": "2021-07-19T11:18:09.914Z"
   },
   {
    "duration": 116,
    "start_time": "2021-07-19T11:18:09.922Z"
   },
   {
    "duration": 105,
    "start_time": "2021-07-19T11:18:10.056Z"
   },
   {
    "duration": 112,
    "start_time": "2021-07-19T11:18:10.164Z"
   },
   {
    "duration": 4,
    "start_time": "2021-07-19T11:18:10.282Z"
   },
   {
    "duration": 4,
    "start_time": "2021-07-19T11:18:10.290Z"
   },
   {
    "duration": 8,
    "start_time": "2021-07-19T11:18:10.297Z"
   },
   {
    "duration": 8,
    "start_time": "2021-07-19T11:18:10.307Z"
   },
   {
    "duration": 4,
    "start_time": "2021-07-19T11:18:10.357Z"
   },
   {
    "duration": 11,
    "start_time": "2021-07-19T11:18:10.365Z"
   },
   {
    "duration": 96,
    "start_time": "2021-07-19T11:18:10.380Z"
   },
   {
    "duration": 10,
    "start_time": "2021-07-19T11:18:10.478Z"
   },
   {
    "duration": 16,
    "start_time": "2021-07-19T11:18:10.491Z"
   },
   {
    "duration": 6,
    "start_time": "2021-07-19T11:18:10.510Z"
   },
   {
    "duration": 5,
    "start_time": "2021-07-19T11:18:10.518Z"
   },
   {
    "duration": 507,
    "start_time": "2021-07-19T11:18:10.557Z"
   },
   {
    "duration": 8,
    "start_time": "2021-07-19T11:18:11.155Z"
   },
   {
    "duration": 7,
    "start_time": "2021-07-19T11:18:11.165Z"
   },
   {
    "duration": 10,
    "start_time": "2021-07-19T11:18:11.174Z"
   },
   {
    "duration": 3,
    "start_time": "2021-07-19T11:18:11.189Z"
   },
   {
    "duration": 7,
    "start_time": "2021-07-19T11:18:11.195Z"
   },
   {
    "duration": 8,
    "start_time": "2021-07-19T11:18:11.204Z"
   },
   {
    "duration": 6,
    "start_time": "2021-07-19T11:18:11.214Z"
   },
   {
    "duration": 33,
    "start_time": "2021-07-19T11:18:11.223Z"
   },
   {
    "duration": 10,
    "start_time": "2021-07-19T11:18:11.258Z"
   },
   {
    "duration": 5,
    "start_time": "2021-07-19T11:18:11.271Z"
   },
   {
    "duration": 10,
    "start_time": "2021-07-19T11:18:11.279Z"
   },
   {
    "duration": 10,
    "start_time": "2021-07-19T11:18:11.291Z"
   },
   {
    "duration": 10,
    "start_time": "2021-07-19T11:18:11.303Z"
   },
   {
    "duration": 6,
    "start_time": "2021-07-19T11:18:11.316Z"
   },
   {
    "duration": 32,
    "start_time": "2021-07-19T11:18:11.324Z"
   },
   {
    "duration": 9,
    "start_time": "2021-07-19T11:18:11.358Z"
   },
   {
    "duration": 8487,
    "start_time": "2021-07-19T11:18:11.370Z"
   },
   {
    "duration": 78,
    "start_time": "2021-07-19T11:18:19.859Z"
   },
   {
    "duration": 457,
    "start_time": "2021-07-19T11:18:19.939Z"
   },
   {
    "duration": 13,
    "start_time": "2021-07-19T11:18:20.399Z"
   },
   {
    "duration": 1393,
    "start_time": "2021-07-19T11:26:16.566Z"
   },
   {
    "duration": 1481,
    "start_time": "2021-07-19T11:32:21.212Z"
   },
   {
    "duration": 1436,
    "start_time": "2021-07-19T11:34:09.724Z"
   },
   {
    "duration": 1493,
    "start_time": "2021-07-19T11:34:19.605Z"
   },
   {
    "duration": 394,
    "start_time": "2021-07-19T11:41:30.874Z"
   },
   {
    "duration": 1480,
    "start_time": "2021-07-19T11:41:58.276Z"
   },
   {
    "duration": 1390,
    "start_time": "2021-07-19T11:42:17.246Z"
   },
   {
    "duration": 1595,
    "start_time": "2021-07-19T11:42:44.406Z"
   },
   {
    "duration": 1485,
    "start_time": "2021-07-19T11:43:16.286Z"
   },
   {
    "duration": 401,
    "start_time": "2021-07-19T11:44:10.998Z"
   },
   {
    "duration": 593,
    "start_time": "2021-07-19T11:44:27.588Z"
   },
   {
    "duration": 617,
    "start_time": "2021-07-19T11:45:04.214Z"
   },
   {
    "duration": 587,
    "start_time": "2021-07-19T11:45:18.974Z"
   },
   {
    "duration": 611,
    "start_time": "2021-07-19T11:45:31.630Z"
   },
   {
    "duration": 2326,
    "start_time": "2021-07-19T11:49:41.743Z"
   },
   {
    "duration": 614,
    "start_time": "2021-07-19T11:49:54.412Z"
   },
   {
    "duration": 606,
    "start_time": "2021-07-19T11:51:33.879Z"
   },
   {
    "duration": 903,
    "start_time": "2021-07-19T11:57:05.232Z"
   },
   {
    "duration": 605,
    "start_time": "2021-07-19T11:57:06.137Z"
   },
   {
    "duration": 469,
    "start_time": "2021-07-19T11:57:06.745Z"
   },
   {
    "duration": 6,
    "start_time": "2021-07-19T11:57:07.217Z"
   },
   {
    "duration": 131,
    "start_time": "2021-07-19T11:57:07.226Z"
   },
   {
    "duration": 113,
    "start_time": "2021-07-19T11:57:07.359Z"
   },
   {
    "duration": 138,
    "start_time": "2021-07-19T11:57:07.476Z"
   },
   {
    "duration": 4,
    "start_time": "2021-07-19T11:57:07.619Z"
   },
   {
    "duration": 7,
    "start_time": "2021-07-19T11:57:07.626Z"
   },
   {
    "duration": 21,
    "start_time": "2021-07-19T11:57:07.636Z"
   },
   {
    "duration": 6,
    "start_time": "2021-07-19T11:57:07.659Z"
   },
   {
    "duration": 9,
    "start_time": "2021-07-19T11:57:07.667Z"
   },
   {
    "duration": 20,
    "start_time": "2021-07-19T11:57:07.679Z"
   },
   {
    "duration": 95,
    "start_time": "2021-07-19T11:57:07.701Z"
   },
   {
    "duration": 11,
    "start_time": "2021-07-19T11:57:07.799Z"
   },
   {
    "duration": 33,
    "start_time": "2021-07-19T11:57:07.812Z"
   },
   {
    "duration": 35,
    "start_time": "2021-07-19T11:57:07.848Z"
   },
   {
    "duration": 19,
    "start_time": "2021-07-19T11:57:07.885Z"
   },
   {
    "duration": 267,
    "start_time": "2021-07-19T11:57:07.906Z"
   },
   {
    "duration": 84,
    "start_time": "2021-07-19T11:57:08.176Z"
   },
   {
    "duration": 99,
    "start_time": "2021-07-19T11:57:08.264Z"
   },
   {
    "duration": 7,
    "start_time": "2021-07-19T11:57:08.366Z"
   },
   {
    "duration": 3,
    "start_time": "2021-07-19T11:57:08.379Z"
   },
   {
    "duration": 5,
    "start_time": "2021-07-19T11:57:08.386Z"
   },
   {
    "duration": 7,
    "start_time": "2021-07-19T11:57:08.393Z"
   },
   {
    "duration": 8,
    "start_time": "2021-07-19T11:57:08.402Z"
   },
   {
    "duration": 45,
    "start_time": "2021-07-19T11:57:08.412Z"
   },
   {
    "duration": 11,
    "start_time": "2021-07-19T11:57:08.460Z"
   },
   {
    "duration": 10,
    "start_time": "2021-07-19T11:57:08.473Z"
   },
   {
    "duration": 7,
    "start_time": "2021-07-19T11:57:08.485Z"
   },
   {
    "duration": 12,
    "start_time": "2021-07-19T11:57:08.494Z"
   },
   {
    "duration": 11,
    "start_time": "2021-07-19T11:57:08.508Z"
   },
   {
    "duration": 7,
    "start_time": "2021-07-19T11:57:08.522Z"
   },
   {
    "duration": 5,
    "start_time": "2021-07-19T11:57:08.557Z"
   },
   {
    "duration": 13,
    "start_time": "2021-07-19T11:57:08.565Z"
   },
   {
    "duration": 13044,
    "start_time": "2021-07-19T11:57:08.581Z"
   },
   {
    "duration": 928,
    "start_time": "2021-07-19T11:57:21.628Z"
   },
   {
    "duration": 17,
    "start_time": "2021-07-19T11:57:22.559Z"
   },
   {
    "duration": 886,
    "start_time": "2021-07-19T11:58:53.942Z"
   },
   {
    "duration": 619,
    "start_time": "2021-07-19T11:58:54.831Z"
   },
   {
    "duration": 459,
    "start_time": "2021-07-19T11:58:55.455Z"
   },
   {
    "duration": 3,
    "start_time": "2021-07-19T11:58:55.917Z"
   },
   {
    "duration": 113,
    "start_time": "2021-07-19T11:58:55.923Z"
   },
   {
    "duration": 98,
    "start_time": "2021-07-19T11:58:56.039Z"
   },
   {
    "duration": 102,
    "start_time": "2021-07-19T11:58:56.155Z"
   },
   {
    "duration": 4,
    "start_time": "2021-07-19T11:58:56.260Z"
   },
   {
    "duration": 27,
    "start_time": "2021-07-19T11:58:56.267Z"
   },
   {
    "duration": 9,
    "start_time": "2021-07-19T11:58:56.297Z"
   },
   {
    "duration": 14,
    "start_time": "2021-07-19T11:58:56.308Z"
   },
   {
    "duration": 20,
    "start_time": "2021-07-19T11:58:56.324Z"
   },
   {
    "duration": 15,
    "start_time": "2021-07-19T11:58:56.346Z"
   },
   {
    "duration": 71,
    "start_time": "2021-07-19T11:58:56.363Z"
   },
   {
    "duration": 19,
    "start_time": "2021-07-19T11:58:56.436Z"
   },
   {
    "duration": 20,
    "start_time": "2021-07-19T11:58:56.457Z"
   },
   {
    "duration": 6,
    "start_time": "2021-07-19T11:58:56.479Z"
   },
   {
    "duration": 8,
    "start_time": "2021-07-19T11:58:56.487Z"
   },
   {
    "duration": 267,
    "start_time": "2021-07-19T11:58:56.497Z"
   },
   {
    "duration": 96,
    "start_time": "2021-07-19T11:58:56.864Z"
   },
   {
    "duration": 7,
    "start_time": "2021-07-19T11:58:56.962Z"
   },
   {
    "duration": 9,
    "start_time": "2021-07-19T11:58:56.971Z"
   },
   {
    "duration": 4,
    "start_time": "2021-07-19T11:58:56.985Z"
   },
   {
    "duration": 15,
    "start_time": "2021-07-19T11:58:56.992Z"
   },
   {
    "duration": 12,
    "start_time": "2021-07-19T11:58:57.009Z"
   },
   {
    "duration": 8,
    "start_time": "2021-07-19T11:58:57.023Z"
   },
   {
    "duration": 6,
    "start_time": "2021-07-19T11:58:57.033Z"
   },
   {
    "duration": 6,
    "start_time": "2021-07-19T11:58:57.056Z"
   },
   {
    "duration": 6,
    "start_time": "2021-07-19T11:58:57.064Z"
   },
   {
    "duration": 10,
    "start_time": "2021-07-19T11:58:57.073Z"
   },
   {
    "duration": 10,
    "start_time": "2021-07-19T11:58:57.085Z"
   },
   {
    "duration": 10,
    "start_time": "2021-07-19T11:58:57.098Z"
   },
   {
    "duration": 6,
    "start_time": "2021-07-19T11:58:57.110Z"
   },
   {
    "duration": 41,
    "start_time": "2021-07-19T11:58:57.118Z"
   },
   {
    "duration": 10,
    "start_time": "2021-07-19T11:58:57.161Z"
   },
   {
    "duration": 8431,
    "start_time": "2021-07-19T11:58:57.173Z"
   },
   {
    "duration": 625,
    "start_time": "2021-07-19T11:59:05.607Z"
   },
   {
    "duration": 24,
    "start_time": "2021-07-19T11:59:06.234Z"
   }
  ],
  "kernelspec": {
   "display_name": "Python 3",
   "language": "python",
   "name": "python3"
  },
  "language_info": {
   "codemirror_mode": {
    "name": "ipython",
    "version": 3
   },
   "file_extension": ".py",
   "mimetype": "text/x-python",
   "name": "python",
   "nbconvert_exporter": "python",
   "pygments_lexer": "ipython3",
   "version": "3.7.8"
  },
  "toc": {
   "base_numbering": 1,
   "nav_menu": {},
   "number_sections": true,
   "sideBar": true,
   "skip_h1_title": true,
   "title_cell": "Table of Contents",
   "title_sidebar": "Contents",
   "toc_cell": false,
   "toc_position": {},
   "toc_section_display": true,
   "toc_window_display": false
  }
 },
 "nbformat": 4,
 "nbformat_minor": 2
}
