{
 "cells": [
  {
   "cell_type": "markdown",
   "metadata": {
    "toc": true
   },
   "source": [
    "<h1>Содержание<span class=\"tocSkip\"></span></h1>\n",
    "<div class=\"toc\"><ul class=\"toc-item\"><li><span><a href=\"#Подготовка-данных\" data-toc-modified-id=\"Подготовка-данных-1\"><span class=\"toc-item-num\">1&nbsp;&nbsp;</span>Подготовка данных</a></span></li><li><span><a href=\"#Анализ-данных\" data-toc-modified-id=\"Анализ-данных-2\"><span class=\"toc-item-num\">2&nbsp;&nbsp;</span>Анализ данных</a></span></li><li><span><a href=\"#Модель\" data-toc-modified-id=\"Модель-3\"><span class=\"toc-item-num\">3&nbsp;&nbsp;</span>Модель</a></span><ul class=\"toc-item\"><li><span><a href=\"#Вывод\" data-toc-modified-id=\"Вывод-3.1\"><span class=\"toc-item-num\">3.1&nbsp;&nbsp;</span>Вывод</a></span></li></ul></li><li><span><a href=\"#Чек-лист-готовности-проекта\" data-toc-modified-id=\"Чек-лист-готовности-проекта-4\"><span class=\"toc-item-num\">4&nbsp;&nbsp;</span>Чек-лист готовности проекта</a></span></li></ul></div>"
   ]
  },
  {
   "cell_type": "markdown",
   "metadata": {},
   "source": [
    "# Восстановление золота из руды"
   ]
  },
  {
   "cell_type": "markdown",
   "metadata": {},
   "source": [
    "Подготовьте прототип модели машинного обучения для «Цифры». Компания разрабатывает решения для эффективной работы промышленных предприятий. Модель должна предсказать коэффициент восстановления золота из золотосодержащей руды. В вашем распоряжении данные с параметрами добычи и очистки. Модель поможет оптимизировать производство, чтобы не запускать предприятие с убыточными характеристиками."
   ]
  },
  {
   "cell_type": "markdown",
   "metadata": {},
   "source": [
    "# Описание данных"
   ]
  },
  {
   "cell_type": "markdown",
   "metadata": {},
   "source": [
    "**Технологический процесс**\n",
    "\n",
    "* Rougher feed — исходное сырье\n",
    "* Rougher additions (или reagent additions) — флотационные реагенты: Xanthate, * Sulphate, Depressant\n",
    "* Xanthate **— ксантогенат (промотер, или активатор флотации);\n",
    "* Sulphate — сульфат (на данном производстве сульфид натрия);\n",
    "* Depressant — депрессант (силикат натрия).\n",
    "* Rougher process (англ. «грубый процесс») — флотация\n",
    "* Rougher tails — отвальные хвосты\n",
    "* Float banks — флотационная установка\n",
    "* Cleaner process — очистка\n",
    "* Rougher Au — черновой концентрат золота\n",
    "* Final Au — финальный концентрат золота\n",
    "\n",
    "**Параметры этапов**\n",
    "\n",
    "* air amount — объём воздуха\n",
    "* fluid levels — уровень жидкости\n",
    "* feed size — размер гранул сырья\n",
    "* feed rate — скорость подачи\n",
    "\n",
    "**Наименование признаков**\n",
    "\n",
    "Наименование признаков должно быть такое:\\\n",
    "**[этап].[тип_параметра].[название_параметра]**\\\n",
    "Пример: rougher.input.feed_ag\n",
    "\n",
    "**Возможные значения для блока [этап]:** \n",
    "\n",
    "* rougher — флотация\n",
    "* primary_cleaner — первичная очистка\n",
    "* secondary_cleaner — вторичная очистка\n",
    "* final — финальные характеристики\n",
    "\n",
    "**Возможные значения для блока [тип_параметра]:**\n",
    "\n",
    "* input — параметры сырья\n",
    "* output — параметры продукта\n",
    "* state — параметры, характеризующие текущее состояние этапа\n",
    "* calculation — расчётные характеристики\n"
   ]
  },
  {
   "cell_type": "markdown",
   "metadata": {},
   "source": [
    "**Данные находятся в трёх файлах:**\n",
    "\n",
    "- **gold_recovery_train.csv** — обучающая выборка;\n",
    "- **gold_recovery_test.csv** — тестовая выборка;\n",
    "- **gold_recovery_full.csv** — исходные данные\n",
    "\n",
    "Данные индексируются датой и временем получения информации (признак date). Соседние по времени параметры часто похожи.\n",
    "Некоторые параметры недоступны, потому что замеряются и/или рассчитываются значительно позже. Из-за этого в тестовой выборке отсутствуют некоторые признаки, которые могут быть в обучающей. Также в тестовом наборе нет целевых признаков.\n",
    "Исходный датасет содержит обучающую и тестовую выборки со всеми признаками.\n",
    "В вашем распоряжении сырые данные: их просто выгрузили из хранилища. Прежде чем приступить к построению модели, проверьте по нашей инструкции их на корректность."
   ]
  },
  {
   "cell_type": "markdown",
   "metadata": {},
   "source": [
    "## Подготовка данных"
   ]
  },
  {
   "cell_type": "code",
   "execution_count": 1,
   "metadata": {},
   "outputs": [],
   "source": [
    "#Сделаем импорт библиотек\n",
    "import pandas as pd\n",
    "import numpy as np\n",
    "import seaborn as sns\n",
    "import matplotlib.pyplot as plt\n",
    "from sklearn.metrics import mean_absolute_error\n",
    "from sklearn.model_selection import train_test_split\n",
    "from sklearn.linear_model import LinearRegression\n",
    "from sklearn.ensemble import RandomForestRegressor\n",
    "from sklearn.tree import DecisionTreeRegressor\n",
    "from sklearn.model_selection import cross_val_score\n",
    "from sklearn.metrics import f1_score\n",
    "from sklearn.metrics import make_scorer\n",
    "from sklearn.preprocessing import StandardScaler\n",
    "from sklearn.model_selection import RandomizedSearchCV\n",
    "from sklearn.model_selection import GridSearchCV\n",
    "from sklearn.dummy import DummyRegressor\n"
   ]
  },
  {
   "cell_type": "code",
   "execution_count": 2,
   "metadata": {},
   "outputs": [],
   "source": [
    "#сделаем загрузку данных\n",
    "data_train = pd.read_csv('/datasets/gold_recovery_train_new.csv')\n",
    "data_test = pd.read_csv('/datasets/gold_recovery_test_new.csv')\n",
    "data_full = pd.read_csv('/datasets/gold_recovery_full_new.csv')"
   ]
  },
  {
   "cell_type": "code",
   "execution_count": 3,
   "metadata": {},
   "outputs": [
    {
     "data": {
      "text/plain": [
       "((14149, 87), (5290, 53), (19439, 87))"
      ]
     },
     "execution_count": 3,
     "metadata": {},
     "output_type": "execute_result"
    }
   ],
   "source": [
    "data_train.shape, data_test.shape, data_full.shape"
   ]
  },
  {
   "cell_type": "code",
   "execution_count": 4,
   "metadata": {},
   "outputs": [
    {
     "data": {
      "text/plain": [
       "(0.7278666598076032, 0.2721333401923967)"
      ]
     },
     "execution_count": 4,
     "metadata": {},
     "output_type": "execute_result"
    }
   ],
   "source": [
    "len(data_train) / len(data_full), len(data_test) / len(data_full)"
   ]
  },
  {
   "cell_type": "markdown",
   "metadata": {},
   "source": [
    "Стандартное разделение выборок: 3:1"
   ]
  },
  {
   "cell_type": "code",
   "execution_count": 5,
   "metadata": {},
   "outputs": [
    {
     "data": {
      "text/html": [
       "<div>\n",
       "<style scoped>\n",
       "    .dataframe tbody tr th:only-of-type {\n",
       "        vertical-align: middle;\n",
       "    }\n",
       "\n",
       "    .dataframe tbody tr th {\n",
       "        vertical-align: top;\n",
       "    }\n",
       "\n",
       "    .dataframe thead th {\n",
       "        text-align: right;\n",
       "    }\n",
       "</style>\n",
       "<table border=\"1\" class=\"dataframe\">\n",
       "  <thead>\n",
       "    <tr style=\"text-align: right;\">\n",
       "      <th></th>\n",
       "      <th>date</th>\n",
       "      <th>final.output.concentrate_ag</th>\n",
       "      <th>final.output.concentrate_pb</th>\n",
       "      <th>final.output.concentrate_sol</th>\n",
       "      <th>final.output.concentrate_au</th>\n",
       "      <th>final.output.recovery</th>\n",
       "      <th>final.output.tail_ag</th>\n",
       "      <th>final.output.tail_pb</th>\n",
       "      <th>final.output.tail_sol</th>\n",
       "      <th>final.output.tail_au</th>\n",
       "      <th>...</th>\n",
       "      <th>secondary_cleaner.state.floatbank4_a_air</th>\n",
       "      <th>secondary_cleaner.state.floatbank4_a_level</th>\n",
       "      <th>secondary_cleaner.state.floatbank4_b_air</th>\n",
       "      <th>secondary_cleaner.state.floatbank4_b_level</th>\n",
       "      <th>secondary_cleaner.state.floatbank5_a_air</th>\n",
       "      <th>secondary_cleaner.state.floatbank5_a_level</th>\n",
       "      <th>secondary_cleaner.state.floatbank5_b_air</th>\n",
       "      <th>secondary_cleaner.state.floatbank5_b_level</th>\n",
       "      <th>secondary_cleaner.state.floatbank6_a_air</th>\n",
       "      <th>secondary_cleaner.state.floatbank6_a_level</th>\n",
       "    </tr>\n",
       "  </thead>\n",
       "  <tbody>\n",
       "    <tr>\n",
       "      <td>0</td>\n",
       "      <td>2016-01-15 00:00:00</td>\n",
       "      <td>6.055403</td>\n",
       "      <td>9.889648</td>\n",
       "      <td>5.507324</td>\n",
       "      <td>42.192020</td>\n",
       "      <td>70.541216</td>\n",
       "      <td>10.411962</td>\n",
       "      <td>0.895447</td>\n",
       "      <td>16.904297</td>\n",
       "      <td>2.143149</td>\n",
       "      <td>...</td>\n",
       "      <td>14.016835</td>\n",
       "      <td>-502.488007</td>\n",
       "      <td>12.099931</td>\n",
       "      <td>-504.715942</td>\n",
       "      <td>9.925633</td>\n",
       "      <td>-498.310211</td>\n",
       "      <td>8.079666</td>\n",
       "      <td>-500.470978</td>\n",
       "      <td>14.151341</td>\n",
       "      <td>-605.841980</td>\n",
       "    </tr>\n",
       "    <tr>\n",
       "      <td>1</td>\n",
       "      <td>2016-01-15 01:00:00</td>\n",
       "      <td>6.029369</td>\n",
       "      <td>9.968944</td>\n",
       "      <td>5.257781</td>\n",
       "      <td>42.701629</td>\n",
       "      <td>69.266198</td>\n",
       "      <td>10.462676</td>\n",
       "      <td>0.927452</td>\n",
       "      <td>16.634514</td>\n",
       "      <td>2.224930</td>\n",
       "      <td>...</td>\n",
       "      <td>13.992281</td>\n",
       "      <td>-505.503262</td>\n",
       "      <td>11.950531</td>\n",
       "      <td>-501.331529</td>\n",
       "      <td>10.039245</td>\n",
       "      <td>-500.169983</td>\n",
       "      <td>7.984757</td>\n",
       "      <td>-500.582168</td>\n",
       "      <td>13.998353</td>\n",
       "      <td>-599.787184</td>\n",
       "    </tr>\n",
       "    <tr>\n",
       "      <td>2</td>\n",
       "      <td>2016-01-15 02:00:00</td>\n",
       "      <td>6.055926</td>\n",
       "      <td>10.213995</td>\n",
       "      <td>5.383759</td>\n",
       "      <td>42.657501</td>\n",
       "      <td>68.116445</td>\n",
       "      <td>10.507046</td>\n",
       "      <td>0.953716</td>\n",
       "      <td>16.208849</td>\n",
       "      <td>2.257889</td>\n",
       "      <td>...</td>\n",
       "      <td>14.015015</td>\n",
       "      <td>-502.520901</td>\n",
       "      <td>11.912783</td>\n",
       "      <td>-501.133383</td>\n",
       "      <td>10.070913</td>\n",
       "      <td>-500.129135</td>\n",
       "      <td>8.013877</td>\n",
       "      <td>-500.517572</td>\n",
       "      <td>14.028663</td>\n",
       "      <td>-601.427363</td>\n",
       "    </tr>\n",
       "    <tr>\n",
       "      <td>3</td>\n",
       "      <td>2016-01-15 03:00:00</td>\n",
       "      <td>6.047977</td>\n",
       "      <td>9.977019</td>\n",
       "      <td>4.858634</td>\n",
       "      <td>42.689819</td>\n",
       "      <td>68.347543</td>\n",
       "      <td>10.422762</td>\n",
       "      <td>0.883763</td>\n",
       "      <td>16.532835</td>\n",
       "      <td>2.146849</td>\n",
       "      <td>...</td>\n",
       "      <td>14.036510</td>\n",
       "      <td>-500.857308</td>\n",
       "      <td>11.999550</td>\n",
       "      <td>-501.193686</td>\n",
       "      <td>9.970366</td>\n",
       "      <td>-499.201640</td>\n",
       "      <td>7.977324</td>\n",
       "      <td>-500.255908</td>\n",
       "      <td>14.005551</td>\n",
       "      <td>-599.996129</td>\n",
       "    </tr>\n",
       "    <tr>\n",
       "      <td>4</td>\n",
       "      <td>2016-01-15 04:00:00</td>\n",
       "      <td>6.148599</td>\n",
       "      <td>10.142511</td>\n",
       "      <td>4.939416</td>\n",
       "      <td>42.774141</td>\n",
       "      <td>66.927016</td>\n",
       "      <td>10.360302</td>\n",
       "      <td>0.792826</td>\n",
       "      <td>16.525686</td>\n",
       "      <td>2.055292</td>\n",
       "      <td>...</td>\n",
       "      <td>14.027298</td>\n",
       "      <td>-499.838632</td>\n",
       "      <td>11.953070</td>\n",
       "      <td>-501.053894</td>\n",
       "      <td>9.925709</td>\n",
       "      <td>-501.686727</td>\n",
       "      <td>7.894242</td>\n",
       "      <td>-500.356035</td>\n",
       "      <td>13.996647</td>\n",
       "      <td>-601.496691</td>\n",
       "    </tr>\n",
       "  </tbody>\n",
       "</table>\n",
       "<p>5 rows × 87 columns</p>\n",
       "</div>"
      ],
      "text/plain": [
       "                  date  final.output.concentrate_ag  \\\n",
       "0  2016-01-15 00:00:00                     6.055403   \n",
       "1  2016-01-15 01:00:00                     6.029369   \n",
       "2  2016-01-15 02:00:00                     6.055926   \n",
       "3  2016-01-15 03:00:00                     6.047977   \n",
       "4  2016-01-15 04:00:00                     6.148599   \n",
       "\n",
       "   final.output.concentrate_pb  final.output.concentrate_sol  \\\n",
       "0                     9.889648                      5.507324   \n",
       "1                     9.968944                      5.257781   \n",
       "2                    10.213995                      5.383759   \n",
       "3                     9.977019                      4.858634   \n",
       "4                    10.142511                      4.939416   \n",
       "\n",
       "   final.output.concentrate_au  final.output.recovery  final.output.tail_ag  \\\n",
       "0                    42.192020              70.541216             10.411962   \n",
       "1                    42.701629              69.266198             10.462676   \n",
       "2                    42.657501              68.116445             10.507046   \n",
       "3                    42.689819              68.347543             10.422762   \n",
       "4                    42.774141              66.927016             10.360302   \n",
       "\n",
       "   final.output.tail_pb  final.output.tail_sol  final.output.tail_au  ...  \\\n",
       "0              0.895447              16.904297              2.143149  ...   \n",
       "1              0.927452              16.634514              2.224930  ...   \n",
       "2              0.953716              16.208849              2.257889  ...   \n",
       "3              0.883763              16.532835              2.146849  ...   \n",
       "4              0.792826              16.525686              2.055292  ...   \n",
       "\n",
       "   secondary_cleaner.state.floatbank4_a_air  \\\n",
       "0                                 14.016835   \n",
       "1                                 13.992281   \n",
       "2                                 14.015015   \n",
       "3                                 14.036510   \n",
       "4                                 14.027298   \n",
       "\n",
       "   secondary_cleaner.state.floatbank4_a_level  \\\n",
       "0                                 -502.488007   \n",
       "1                                 -505.503262   \n",
       "2                                 -502.520901   \n",
       "3                                 -500.857308   \n",
       "4                                 -499.838632   \n",
       "\n",
       "   secondary_cleaner.state.floatbank4_b_air  \\\n",
       "0                                 12.099931   \n",
       "1                                 11.950531   \n",
       "2                                 11.912783   \n",
       "3                                 11.999550   \n",
       "4                                 11.953070   \n",
       "\n",
       "   secondary_cleaner.state.floatbank4_b_level  \\\n",
       "0                                 -504.715942   \n",
       "1                                 -501.331529   \n",
       "2                                 -501.133383   \n",
       "3                                 -501.193686   \n",
       "4                                 -501.053894   \n",
       "\n",
       "   secondary_cleaner.state.floatbank5_a_air  \\\n",
       "0                                  9.925633   \n",
       "1                                 10.039245   \n",
       "2                                 10.070913   \n",
       "3                                  9.970366   \n",
       "4                                  9.925709   \n",
       "\n",
       "   secondary_cleaner.state.floatbank5_a_level  \\\n",
       "0                                 -498.310211   \n",
       "1                                 -500.169983   \n",
       "2                                 -500.129135   \n",
       "3                                 -499.201640   \n",
       "4                                 -501.686727   \n",
       "\n",
       "   secondary_cleaner.state.floatbank5_b_air  \\\n",
       "0                                  8.079666   \n",
       "1                                  7.984757   \n",
       "2                                  8.013877   \n",
       "3                                  7.977324   \n",
       "4                                  7.894242   \n",
       "\n",
       "   secondary_cleaner.state.floatbank5_b_level  \\\n",
       "0                                 -500.470978   \n",
       "1                                 -500.582168   \n",
       "2                                 -500.517572   \n",
       "3                                 -500.255908   \n",
       "4                                 -500.356035   \n",
       "\n",
       "   secondary_cleaner.state.floatbank6_a_air  \\\n",
       "0                                 14.151341   \n",
       "1                                 13.998353   \n",
       "2                                 14.028663   \n",
       "3                                 14.005551   \n",
       "4                                 13.996647   \n",
       "\n",
       "   secondary_cleaner.state.floatbank6_a_level  \n",
       "0                                 -605.841980  \n",
       "1                                 -599.787184  \n",
       "2                                 -601.427363  \n",
       "3                                 -599.996129  \n",
       "4                                 -601.496691  \n",
       "\n",
       "[5 rows x 87 columns]"
      ]
     },
     "metadata": {},
     "output_type": "display_data"
    }
   ],
   "source": [
    "display(data_train.head(5))"
   ]
  },
  {
   "cell_type": "code",
   "execution_count": 6,
   "metadata": {},
   "outputs": [
    {
     "data": {
      "text/html": [
       "<div>\n",
       "<style scoped>\n",
       "    .dataframe tbody tr th:only-of-type {\n",
       "        vertical-align: middle;\n",
       "    }\n",
       "\n",
       "    .dataframe tbody tr th {\n",
       "        vertical-align: top;\n",
       "    }\n",
       "\n",
       "    .dataframe thead th {\n",
       "        text-align: right;\n",
       "    }\n",
       "</style>\n",
       "<table border=\"1\" class=\"dataframe\">\n",
       "  <thead>\n",
       "    <tr style=\"text-align: right;\">\n",
       "      <th></th>\n",
       "      <th>date</th>\n",
       "      <th>primary_cleaner.input.sulfate</th>\n",
       "      <th>primary_cleaner.input.depressant</th>\n",
       "      <th>primary_cleaner.input.feed_size</th>\n",
       "      <th>primary_cleaner.input.xanthate</th>\n",
       "      <th>primary_cleaner.state.floatbank8_a_air</th>\n",
       "      <th>primary_cleaner.state.floatbank8_a_level</th>\n",
       "      <th>primary_cleaner.state.floatbank8_b_air</th>\n",
       "      <th>primary_cleaner.state.floatbank8_b_level</th>\n",
       "      <th>primary_cleaner.state.floatbank8_c_air</th>\n",
       "      <th>...</th>\n",
       "      <th>secondary_cleaner.state.floatbank4_a_air</th>\n",
       "      <th>secondary_cleaner.state.floatbank4_a_level</th>\n",
       "      <th>secondary_cleaner.state.floatbank4_b_air</th>\n",
       "      <th>secondary_cleaner.state.floatbank4_b_level</th>\n",
       "      <th>secondary_cleaner.state.floatbank5_a_air</th>\n",
       "      <th>secondary_cleaner.state.floatbank5_a_level</th>\n",
       "      <th>secondary_cleaner.state.floatbank5_b_air</th>\n",
       "      <th>secondary_cleaner.state.floatbank5_b_level</th>\n",
       "      <th>secondary_cleaner.state.floatbank6_a_air</th>\n",
       "      <th>secondary_cleaner.state.floatbank6_a_level</th>\n",
       "    </tr>\n",
       "  </thead>\n",
       "  <tbody>\n",
       "    <tr>\n",
       "      <td>0</td>\n",
       "      <td>2016-09-01 00:59:59</td>\n",
       "      <td>210.800909</td>\n",
       "      <td>14.993118</td>\n",
       "      <td>8.080000</td>\n",
       "      <td>1.005021</td>\n",
       "      <td>1398.981301</td>\n",
       "      <td>-500.225577</td>\n",
       "      <td>1399.144926</td>\n",
       "      <td>-499.919735</td>\n",
       "      <td>1400.102998</td>\n",
       "      <td>...</td>\n",
       "      <td>12.023554</td>\n",
       "      <td>-497.795834</td>\n",
       "      <td>8.016656</td>\n",
       "      <td>-501.289139</td>\n",
       "      <td>7.946562</td>\n",
       "      <td>-432.317850</td>\n",
       "      <td>4.872511</td>\n",
       "      <td>-500.037437</td>\n",
       "      <td>26.705889</td>\n",
       "      <td>-499.709414</td>\n",
       "    </tr>\n",
       "    <tr>\n",
       "      <td>1</td>\n",
       "      <td>2016-09-01 01:59:59</td>\n",
       "      <td>215.392455</td>\n",
       "      <td>14.987471</td>\n",
       "      <td>8.080000</td>\n",
       "      <td>0.990469</td>\n",
       "      <td>1398.777912</td>\n",
       "      <td>-500.057435</td>\n",
       "      <td>1398.055362</td>\n",
       "      <td>-499.778182</td>\n",
       "      <td>1396.151033</td>\n",
       "      <td>...</td>\n",
       "      <td>12.058140</td>\n",
       "      <td>-498.695773</td>\n",
       "      <td>8.130979</td>\n",
       "      <td>-499.634209</td>\n",
       "      <td>7.958270</td>\n",
       "      <td>-525.839648</td>\n",
       "      <td>4.878850</td>\n",
       "      <td>-500.162375</td>\n",
       "      <td>25.019940</td>\n",
       "      <td>-499.819438</td>\n",
       "    </tr>\n",
       "    <tr>\n",
       "      <td>2</td>\n",
       "      <td>2016-09-01 02:59:59</td>\n",
       "      <td>215.259946</td>\n",
       "      <td>12.884934</td>\n",
       "      <td>7.786667</td>\n",
       "      <td>0.996043</td>\n",
       "      <td>1398.493666</td>\n",
       "      <td>-500.868360</td>\n",
       "      <td>1398.860436</td>\n",
       "      <td>-499.764529</td>\n",
       "      <td>1398.075709</td>\n",
       "      <td>...</td>\n",
       "      <td>11.962366</td>\n",
       "      <td>-498.767484</td>\n",
       "      <td>8.096893</td>\n",
       "      <td>-500.827423</td>\n",
       "      <td>8.071056</td>\n",
       "      <td>-500.801673</td>\n",
       "      <td>4.905125</td>\n",
       "      <td>-499.828510</td>\n",
       "      <td>24.994862</td>\n",
       "      <td>-500.622559</td>\n",
       "    </tr>\n",
       "    <tr>\n",
       "      <td>3</td>\n",
       "      <td>2016-09-01 03:59:59</td>\n",
       "      <td>215.336236</td>\n",
       "      <td>12.006805</td>\n",
       "      <td>7.640000</td>\n",
       "      <td>0.863514</td>\n",
       "      <td>1399.618111</td>\n",
       "      <td>-498.863574</td>\n",
       "      <td>1397.440120</td>\n",
       "      <td>-499.211024</td>\n",
       "      <td>1400.129303</td>\n",
       "      <td>...</td>\n",
       "      <td>12.033091</td>\n",
       "      <td>-498.350935</td>\n",
       "      <td>8.074946</td>\n",
       "      <td>-499.474407</td>\n",
       "      <td>7.897085</td>\n",
       "      <td>-500.868509</td>\n",
       "      <td>4.931400</td>\n",
       "      <td>-499.963623</td>\n",
       "      <td>24.948919</td>\n",
       "      <td>-498.709987</td>\n",
       "    </tr>\n",
       "    <tr>\n",
       "      <td>4</td>\n",
       "      <td>2016-09-01 04:59:59</td>\n",
       "      <td>199.099327</td>\n",
       "      <td>10.682530</td>\n",
       "      <td>7.530000</td>\n",
       "      <td>0.805575</td>\n",
       "      <td>1401.268123</td>\n",
       "      <td>-500.808305</td>\n",
       "      <td>1398.128818</td>\n",
       "      <td>-499.504543</td>\n",
       "      <td>1402.172226</td>\n",
       "      <td>...</td>\n",
       "      <td>12.025367</td>\n",
       "      <td>-500.786497</td>\n",
       "      <td>8.054678</td>\n",
       "      <td>-500.397500</td>\n",
       "      <td>8.107890</td>\n",
       "      <td>-509.526725</td>\n",
       "      <td>4.957674</td>\n",
       "      <td>-500.360026</td>\n",
       "      <td>25.003331</td>\n",
       "      <td>-500.856333</td>\n",
       "    </tr>\n",
       "  </tbody>\n",
       "</table>\n",
       "<p>5 rows × 53 columns</p>\n",
       "</div>"
      ],
      "text/plain": [
       "                  date  primary_cleaner.input.sulfate  \\\n",
       "0  2016-09-01 00:59:59                     210.800909   \n",
       "1  2016-09-01 01:59:59                     215.392455   \n",
       "2  2016-09-01 02:59:59                     215.259946   \n",
       "3  2016-09-01 03:59:59                     215.336236   \n",
       "4  2016-09-01 04:59:59                     199.099327   \n",
       "\n",
       "   primary_cleaner.input.depressant  primary_cleaner.input.feed_size  \\\n",
       "0                         14.993118                         8.080000   \n",
       "1                         14.987471                         8.080000   \n",
       "2                         12.884934                         7.786667   \n",
       "3                         12.006805                         7.640000   \n",
       "4                         10.682530                         7.530000   \n",
       "\n",
       "   primary_cleaner.input.xanthate  primary_cleaner.state.floatbank8_a_air  \\\n",
       "0                        1.005021                             1398.981301   \n",
       "1                        0.990469                             1398.777912   \n",
       "2                        0.996043                             1398.493666   \n",
       "3                        0.863514                             1399.618111   \n",
       "4                        0.805575                             1401.268123   \n",
       "\n",
       "   primary_cleaner.state.floatbank8_a_level  \\\n",
       "0                               -500.225577   \n",
       "1                               -500.057435   \n",
       "2                               -500.868360   \n",
       "3                               -498.863574   \n",
       "4                               -500.808305   \n",
       "\n",
       "   primary_cleaner.state.floatbank8_b_air  \\\n",
       "0                             1399.144926   \n",
       "1                             1398.055362   \n",
       "2                             1398.860436   \n",
       "3                             1397.440120   \n",
       "4                             1398.128818   \n",
       "\n",
       "   primary_cleaner.state.floatbank8_b_level  \\\n",
       "0                               -499.919735   \n",
       "1                               -499.778182   \n",
       "2                               -499.764529   \n",
       "3                               -499.211024   \n",
       "4                               -499.504543   \n",
       "\n",
       "   primary_cleaner.state.floatbank8_c_air  ...  \\\n",
       "0                             1400.102998  ...   \n",
       "1                             1396.151033  ...   \n",
       "2                             1398.075709  ...   \n",
       "3                             1400.129303  ...   \n",
       "4                             1402.172226  ...   \n",
       "\n",
       "   secondary_cleaner.state.floatbank4_a_air  \\\n",
       "0                                 12.023554   \n",
       "1                                 12.058140   \n",
       "2                                 11.962366   \n",
       "3                                 12.033091   \n",
       "4                                 12.025367   \n",
       "\n",
       "   secondary_cleaner.state.floatbank4_a_level  \\\n",
       "0                                 -497.795834   \n",
       "1                                 -498.695773   \n",
       "2                                 -498.767484   \n",
       "3                                 -498.350935   \n",
       "4                                 -500.786497   \n",
       "\n",
       "   secondary_cleaner.state.floatbank4_b_air  \\\n",
       "0                                  8.016656   \n",
       "1                                  8.130979   \n",
       "2                                  8.096893   \n",
       "3                                  8.074946   \n",
       "4                                  8.054678   \n",
       "\n",
       "   secondary_cleaner.state.floatbank4_b_level  \\\n",
       "0                                 -501.289139   \n",
       "1                                 -499.634209   \n",
       "2                                 -500.827423   \n",
       "3                                 -499.474407   \n",
       "4                                 -500.397500   \n",
       "\n",
       "   secondary_cleaner.state.floatbank5_a_air  \\\n",
       "0                                  7.946562   \n",
       "1                                  7.958270   \n",
       "2                                  8.071056   \n",
       "3                                  7.897085   \n",
       "4                                  8.107890   \n",
       "\n",
       "   secondary_cleaner.state.floatbank5_a_level  \\\n",
       "0                                 -432.317850   \n",
       "1                                 -525.839648   \n",
       "2                                 -500.801673   \n",
       "3                                 -500.868509   \n",
       "4                                 -509.526725   \n",
       "\n",
       "   secondary_cleaner.state.floatbank5_b_air  \\\n",
       "0                                  4.872511   \n",
       "1                                  4.878850   \n",
       "2                                  4.905125   \n",
       "3                                  4.931400   \n",
       "4                                  4.957674   \n",
       "\n",
       "   secondary_cleaner.state.floatbank5_b_level  \\\n",
       "0                                 -500.037437   \n",
       "1                                 -500.162375   \n",
       "2                                 -499.828510   \n",
       "3                                 -499.963623   \n",
       "4                                 -500.360026   \n",
       "\n",
       "   secondary_cleaner.state.floatbank6_a_air  \\\n",
       "0                                 26.705889   \n",
       "1                                 25.019940   \n",
       "2                                 24.994862   \n",
       "3                                 24.948919   \n",
       "4                                 25.003331   \n",
       "\n",
       "   secondary_cleaner.state.floatbank6_a_level  \n",
       "0                                 -499.709414  \n",
       "1                                 -499.819438  \n",
       "2                                 -500.622559  \n",
       "3                                 -498.709987  \n",
       "4                                 -500.856333  \n",
       "\n",
       "[5 rows x 53 columns]"
      ]
     },
     "metadata": {},
     "output_type": "display_data"
    }
   ],
   "source": [
    "display(data_test.head(5))"
   ]
  },
  {
   "cell_type": "code",
   "execution_count": 7,
   "metadata": {},
   "outputs": [
    {
     "data": {
      "text/html": [
       "<div>\n",
       "<style scoped>\n",
       "    .dataframe tbody tr th:only-of-type {\n",
       "        vertical-align: middle;\n",
       "    }\n",
       "\n",
       "    .dataframe tbody tr th {\n",
       "        vertical-align: top;\n",
       "    }\n",
       "\n",
       "    .dataframe thead th {\n",
       "        text-align: right;\n",
       "    }\n",
       "</style>\n",
       "<table border=\"1\" class=\"dataframe\">\n",
       "  <thead>\n",
       "    <tr style=\"text-align: right;\">\n",
       "      <th></th>\n",
       "      <th>date</th>\n",
       "      <th>final.output.concentrate_ag</th>\n",
       "      <th>final.output.concentrate_pb</th>\n",
       "      <th>final.output.concentrate_sol</th>\n",
       "      <th>final.output.concentrate_au</th>\n",
       "      <th>final.output.recovery</th>\n",
       "      <th>final.output.tail_ag</th>\n",
       "      <th>final.output.tail_pb</th>\n",
       "      <th>final.output.tail_sol</th>\n",
       "      <th>final.output.tail_au</th>\n",
       "      <th>...</th>\n",
       "      <th>secondary_cleaner.state.floatbank4_a_air</th>\n",
       "      <th>secondary_cleaner.state.floatbank4_a_level</th>\n",
       "      <th>secondary_cleaner.state.floatbank4_b_air</th>\n",
       "      <th>secondary_cleaner.state.floatbank4_b_level</th>\n",
       "      <th>secondary_cleaner.state.floatbank5_a_air</th>\n",
       "      <th>secondary_cleaner.state.floatbank5_a_level</th>\n",
       "      <th>secondary_cleaner.state.floatbank5_b_air</th>\n",
       "      <th>secondary_cleaner.state.floatbank5_b_level</th>\n",
       "      <th>secondary_cleaner.state.floatbank6_a_air</th>\n",
       "      <th>secondary_cleaner.state.floatbank6_a_level</th>\n",
       "    </tr>\n",
       "  </thead>\n",
       "  <tbody>\n",
       "    <tr>\n",
       "      <td>0</td>\n",
       "      <td>2016-01-15 00:00:00</td>\n",
       "      <td>6.055403</td>\n",
       "      <td>9.889648</td>\n",
       "      <td>5.507324</td>\n",
       "      <td>42.192020</td>\n",
       "      <td>70.541216</td>\n",
       "      <td>10.411962</td>\n",
       "      <td>0.895447</td>\n",
       "      <td>16.904297</td>\n",
       "      <td>2.143149</td>\n",
       "      <td>...</td>\n",
       "      <td>14.016835</td>\n",
       "      <td>-502.488007</td>\n",
       "      <td>12.099931</td>\n",
       "      <td>-504.715942</td>\n",
       "      <td>9.925633</td>\n",
       "      <td>-498.310211</td>\n",
       "      <td>8.079666</td>\n",
       "      <td>-500.470978</td>\n",
       "      <td>14.151341</td>\n",
       "      <td>-605.841980</td>\n",
       "    </tr>\n",
       "    <tr>\n",
       "      <td>1</td>\n",
       "      <td>2016-01-15 01:00:00</td>\n",
       "      <td>6.029369</td>\n",
       "      <td>9.968944</td>\n",
       "      <td>5.257781</td>\n",
       "      <td>42.701629</td>\n",
       "      <td>69.266198</td>\n",
       "      <td>10.462676</td>\n",
       "      <td>0.927452</td>\n",
       "      <td>16.634514</td>\n",
       "      <td>2.224930</td>\n",
       "      <td>...</td>\n",
       "      <td>13.992281</td>\n",
       "      <td>-505.503262</td>\n",
       "      <td>11.950531</td>\n",
       "      <td>-501.331529</td>\n",
       "      <td>10.039245</td>\n",
       "      <td>-500.169983</td>\n",
       "      <td>7.984757</td>\n",
       "      <td>-500.582168</td>\n",
       "      <td>13.998353</td>\n",
       "      <td>-599.787184</td>\n",
       "    </tr>\n",
       "    <tr>\n",
       "      <td>2</td>\n",
       "      <td>2016-01-15 02:00:00</td>\n",
       "      <td>6.055926</td>\n",
       "      <td>10.213995</td>\n",
       "      <td>5.383759</td>\n",
       "      <td>42.657501</td>\n",
       "      <td>68.116445</td>\n",
       "      <td>10.507046</td>\n",
       "      <td>0.953716</td>\n",
       "      <td>16.208849</td>\n",
       "      <td>2.257889</td>\n",
       "      <td>...</td>\n",
       "      <td>14.015015</td>\n",
       "      <td>-502.520901</td>\n",
       "      <td>11.912783</td>\n",
       "      <td>-501.133383</td>\n",
       "      <td>10.070913</td>\n",
       "      <td>-500.129135</td>\n",
       "      <td>8.013877</td>\n",
       "      <td>-500.517572</td>\n",
       "      <td>14.028663</td>\n",
       "      <td>-601.427363</td>\n",
       "    </tr>\n",
       "    <tr>\n",
       "      <td>3</td>\n",
       "      <td>2016-01-15 03:00:00</td>\n",
       "      <td>6.047977</td>\n",
       "      <td>9.977019</td>\n",
       "      <td>4.858634</td>\n",
       "      <td>42.689819</td>\n",
       "      <td>68.347543</td>\n",
       "      <td>10.422762</td>\n",
       "      <td>0.883763</td>\n",
       "      <td>16.532835</td>\n",
       "      <td>2.146849</td>\n",
       "      <td>...</td>\n",
       "      <td>14.036510</td>\n",
       "      <td>-500.857308</td>\n",
       "      <td>11.999550</td>\n",
       "      <td>-501.193686</td>\n",
       "      <td>9.970366</td>\n",
       "      <td>-499.201640</td>\n",
       "      <td>7.977324</td>\n",
       "      <td>-500.255908</td>\n",
       "      <td>14.005551</td>\n",
       "      <td>-599.996129</td>\n",
       "    </tr>\n",
       "    <tr>\n",
       "      <td>4</td>\n",
       "      <td>2016-01-15 04:00:00</td>\n",
       "      <td>6.148599</td>\n",
       "      <td>10.142511</td>\n",
       "      <td>4.939416</td>\n",
       "      <td>42.774141</td>\n",
       "      <td>66.927016</td>\n",
       "      <td>10.360302</td>\n",
       "      <td>0.792826</td>\n",
       "      <td>16.525686</td>\n",
       "      <td>2.055292</td>\n",
       "      <td>...</td>\n",
       "      <td>14.027298</td>\n",
       "      <td>-499.838632</td>\n",
       "      <td>11.953070</td>\n",
       "      <td>-501.053894</td>\n",
       "      <td>9.925709</td>\n",
       "      <td>-501.686727</td>\n",
       "      <td>7.894242</td>\n",
       "      <td>-500.356035</td>\n",
       "      <td>13.996647</td>\n",
       "      <td>-601.496691</td>\n",
       "    </tr>\n",
       "  </tbody>\n",
       "</table>\n",
       "<p>5 rows × 87 columns</p>\n",
       "</div>"
      ],
      "text/plain": [
       "                  date  final.output.concentrate_ag  \\\n",
       "0  2016-01-15 00:00:00                     6.055403   \n",
       "1  2016-01-15 01:00:00                     6.029369   \n",
       "2  2016-01-15 02:00:00                     6.055926   \n",
       "3  2016-01-15 03:00:00                     6.047977   \n",
       "4  2016-01-15 04:00:00                     6.148599   \n",
       "\n",
       "   final.output.concentrate_pb  final.output.concentrate_sol  \\\n",
       "0                     9.889648                      5.507324   \n",
       "1                     9.968944                      5.257781   \n",
       "2                    10.213995                      5.383759   \n",
       "3                     9.977019                      4.858634   \n",
       "4                    10.142511                      4.939416   \n",
       "\n",
       "   final.output.concentrate_au  final.output.recovery  final.output.tail_ag  \\\n",
       "0                    42.192020              70.541216             10.411962   \n",
       "1                    42.701629              69.266198             10.462676   \n",
       "2                    42.657501              68.116445             10.507046   \n",
       "3                    42.689819              68.347543             10.422762   \n",
       "4                    42.774141              66.927016             10.360302   \n",
       "\n",
       "   final.output.tail_pb  final.output.tail_sol  final.output.tail_au  ...  \\\n",
       "0              0.895447              16.904297              2.143149  ...   \n",
       "1              0.927452              16.634514              2.224930  ...   \n",
       "2              0.953716              16.208849              2.257889  ...   \n",
       "3              0.883763              16.532835              2.146849  ...   \n",
       "4              0.792826              16.525686              2.055292  ...   \n",
       "\n",
       "   secondary_cleaner.state.floatbank4_a_air  \\\n",
       "0                                 14.016835   \n",
       "1                                 13.992281   \n",
       "2                                 14.015015   \n",
       "3                                 14.036510   \n",
       "4                                 14.027298   \n",
       "\n",
       "   secondary_cleaner.state.floatbank4_a_level  \\\n",
       "0                                 -502.488007   \n",
       "1                                 -505.503262   \n",
       "2                                 -502.520901   \n",
       "3                                 -500.857308   \n",
       "4                                 -499.838632   \n",
       "\n",
       "   secondary_cleaner.state.floatbank4_b_air  \\\n",
       "0                                 12.099931   \n",
       "1                                 11.950531   \n",
       "2                                 11.912783   \n",
       "3                                 11.999550   \n",
       "4                                 11.953070   \n",
       "\n",
       "   secondary_cleaner.state.floatbank4_b_level  \\\n",
       "0                                 -504.715942   \n",
       "1                                 -501.331529   \n",
       "2                                 -501.133383   \n",
       "3                                 -501.193686   \n",
       "4                                 -501.053894   \n",
       "\n",
       "   secondary_cleaner.state.floatbank5_a_air  \\\n",
       "0                                  9.925633   \n",
       "1                                 10.039245   \n",
       "2                                 10.070913   \n",
       "3                                  9.970366   \n",
       "4                                  9.925709   \n",
       "\n",
       "   secondary_cleaner.state.floatbank5_a_level  \\\n",
       "0                                 -498.310211   \n",
       "1                                 -500.169983   \n",
       "2                                 -500.129135   \n",
       "3                                 -499.201640   \n",
       "4                                 -501.686727   \n",
       "\n",
       "   secondary_cleaner.state.floatbank5_b_air  \\\n",
       "0                                  8.079666   \n",
       "1                                  7.984757   \n",
       "2                                  8.013877   \n",
       "3                                  7.977324   \n",
       "4                                  7.894242   \n",
       "\n",
       "   secondary_cleaner.state.floatbank5_b_level  \\\n",
       "0                                 -500.470978   \n",
       "1                                 -500.582168   \n",
       "2                                 -500.517572   \n",
       "3                                 -500.255908   \n",
       "4                                 -500.356035   \n",
       "\n",
       "   secondary_cleaner.state.floatbank6_a_air  \\\n",
       "0                                 14.151341   \n",
       "1                                 13.998353   \n",
       "2                                 14.028663   \n",
       "3                                 14.005551   \n",
       "4                                 13.996647   \n",
       "\n",
       "   secondary_cleaner.state.floatbank6_a_level  \n",
       "0                                 -605.841980  \n",
       "1                                 -599.787184  \n",
       "2                                 -601.427363  \n",
       "3                                 -599.996129  \n",
       "4                                 -601.496691  \n",
       "\n",
       "[5 rows x 87 columns]"
      ]
     },
     "metadata": {},
     "output_type": "display_data"
    }
   ],
   "source": [
    "display(data_full.head(5))"
   ]
  },
  {
   "cell_type": "code",
   "execution_count": 8,
   "metadata": {},
   "outputs": [
    {
     "name": "stdout",
     "output_type": "stream",
     "text": [
      "<class 'pandas.core.frame.DataFrame'>\n",
      "RangeIndex: 14149 entries, 0 to 14148\n",
      "Data columns (total 87 columns):\n",
      "date                                                  14149 non-null object\n",
      "final.output.concentrate_ag                           14148 non-null float64\n",
      "final.output.concentrate_pb                           14148 non-null float64\n",
      "final.output.concentrate_sol                          13938 non-null float64\n",
      "final.output.concentrate_au                           14149 non-null float64\n",
      "final.output.recovery                                 14149 non-null float64\n",
      "final.output.tail_ag                                  14149 non-null float64\n",
      "final.output.tail_pb                                  14049 non-null float64\n",
      "final.output.tail_sol                                 14144 non-null float64\n",
      "final.output.tail_au                                  14149 non-null float64\n",
      "primary_cleaner.input.sulfate                         14129 non-null float64\n",
      "primary_cleaner.input.depressant                      14117 non-null float64\n",
      "primary_cleaner.input.feed_size                       14149 non-null float64\n",
      "primary_cleaner.input.xanthate                        14049 non-null float64\n",
      "primary_cleaner.output.concentrate_ag                 14149 non-null float64\n",
      "primary_cleaner.output.concentrate_pb                 14063 non-null float64\n",
      "primary_cleaner.output.concentrate_sol                13863 non-null float64\n",
      "primary_cleaner.output.concentrate_au                 14149 non-null float64\n",
      "primary_cleaner.output.tail_ag                        14148 non-null float64\n",
      "primary_cleaner.output.tail_pb                        14134 non-null float64\n",
      "primary_cleaner.output.tail_sol                       14103 non-null float64\n",
      "primary_cleaner.output.tail_au                        14149 non-null float64\n",
      "primary_cleaner.state.floatbank8_a_air                14145 non-null float64\n",
      "primary_cleaner.state.floatbank8_a_level              14148 non-null float64\n",
      "primary_cleaner.state.floatbank8_b_air                14145 non-null float64\n",
      "primary_cleaner.state.floatbank8_b_level              14148 non-null float64\n",
      "primary_cleaner.state.floatbank8_c_air                14147 non-null float64\n",
      "primary_cleaner.state.floatbank8_c_level              14148 non-null float64\n",
      "primary_cleaner.state.floatbank8_d_air                14146 non-null float64\n",
      "primary_cleaner.state.floatbank8_d_level              14148 non-null float64\n",
      "rougher.calculation.sulfate_to_au_concentrate         14148 non-null float64\n",
      "rougher.calculation.floatbank10_sulfate_to_au_feed    14148 non-null float64\n",
      "rougher.calculation.floatbank11_sulfate_to_au_feed    14148 non-null float64\n",
      "rougher.calculation.au_pb_ratio                       14149 non-null float64\n",
      "rougher.input.feed_ag                                 14149 non-null float64\n",
      "rougher.input.feed_pb                                 14049 non-null float64\n",
      "rougher.input.feed_rate                               14141 non-null float64\n",
      "rougher.input.feed_size                               14005 non-null float64\n",
      "rougher.input.feed_sol                                14071 non-null float64\n",
      "rougher.input.feed_au                                 14149 non-null float64\n",
      "rougher.input.floatbank10_sulfate                     14120 non-null float64\n",
      "rougher.input.floatbank10_xanthate                    14141 non-null float64\n",
      "rougher.input.floatbank11_sulfate                     14113 non-null float64\n",
      "rougher.input.floatbank11_xanthate                    13721 non-null float64\n",
      "rougher.output.concentrate_ag                         14149 non-null float64\n",
      "rougher.output.concentrate_pb                         14149 non-null float64\n",
      "rougher.output.concentrate_sol                        14127 non-null float64\n",
      "rougher.output.concentrate_au                         14149 non-null float64\n",
      "rougher.output.recovery                               14149 non-null float64\n",
      "rougher.output.tail_ag                                14148 non-null float64\n",
      "rougher.output.tail_pb                                14149 non-null float64\n",
      "rougher.output.tail_sol                               14149 non-null float64\n",
      "rougher.output.tail_au                                14149 non-null float64\n",
      "rougher.state.floatbank10_a_air                       14148 non-null float64\n",
      "rougher.state.floatbank10_a_level                     14148 non-null float64\n",
      "rougher.state.floatbank10_b_air                       14148 non-null float64\n",
      "rougher.state.floatbank10_b_level                     14148 non-null float64\n",
      "rougher.state.floatbank10_c_air                       14148 non-null float64\n",
      "rougher.state.floatbank10_c_level                     14148 non-null float64\n",
      "rougher.state.floatbank10_d_air                       14149 non-null float64\n",
      "rougher.state.floatbank10_d_level                     14149 non-null float64\n",
      "rougher.state.floatbank10_e_air                       13713 non-null float64\n",
      "rougher.state.floatbank10_e_level                     14149 non-null float64\n",
      "rougher.state.floatbank10_f_air                       14149 non-null float64\n",
      "rougher.state.floatbank10_f_level                     14149 non-null float64\n",
      "secondary_cleaner.output.tail_ag                      14147 non-null float64\n",
      "secondary_cleaner.output.tail_pb                      14139 non-null float64\n",
      "secondary_cleaner.output.tail_sol                     12544 non-null float64\n",
      "secondary_cleaner.output.tail_au                      14149 non-null float64\n",
      "secondary_cleaner.state.floatbank2_a_air              13932 non-null float64\n",
      "secondary_cleaner.state.floatbank2_a_level            14148 non-null float64\n",
      "secondary_cleaner.state.floatbank2_b_air              14128 non-null float64\n",
      "secondary_cleaner.state.floatbank2_b_level            14148 non-null float64\n",
      "secondary_cleaner.state.floatbank3_a_air              14145 non-null float64\n",
      "secondary_cleaner.state.floatbank3_a_level            14148 non-null float64\n",
      "secondary_cleaner.state.floatbank3_b_air              14148 non-null float64\n",
      "secondary_cleaner.state.floatbank3_b_level            14148 non-null float64\n",
      "secondary_cleaner.state.floatbank4_a_air              14143 non-null float64\n",
      "secondary_cleaner.state.floatbank4_a_level            14148 non-null float64\n",
      "secondary_cleaner.state.floatbank4_b_air              14148 non-null float64\n",
      "secondary_cleaner.state.floatbank4_b_level            14148 non-null float64\n",
      "secondary_cleaner.state.floatbank5_a_air              14148 non-null float64\n",
      "secondary_cleaner.state.floatbank5_a_level            14148 non-null float64\n",
      "secondary_cleaner.state.floatbank5_b_air              14148 non-null float64\n",
      "secondary_cleaner.state.floatbank5_b_level            14148 non-null float64\n",
      "secondary_cleaner.state.floatbank6_a_air              14147 non-null float64\n",
      "secondary_cleaner.state.floatbank6_a_level            14148 non-null float64\n",
      "dtypes: float64(86), object(1)\n",
      "memory usage: 9.4+ MB\n"
     ]
    }
   ],
   "source": [
    "data_train.info()"
   ]
  },
  {
   "cell_type": "code",
   "execution_count": 9,
   "metadata": {},
   "outputs": [
    {
     "name": "stdout",
     "output_type": "stream",
     "text": [
      "<class 'pandas.core.frame.DataFrame'>\n",
      "RangeIndex: 5290 entries, 0 to 5289\n",
      "Data columns (total 53 columns):\n",
      "date                                          5290 non-null object\n",
      "primary_cleaner.input.sulfate                 5286 non-null float64\n",
      "primary_cleaner.input.depressant              5285 non-null float64\n",
      "primary_cleaner.input.feed_size               5290 non-null float64\n",
      "primary_cleaner.input.xanthate                5286 non-null float64\n",
      "primary_cleaner.state.floatbank8_a_air        5290 non-null float64\n",
      "primary_cleaner.state.floatbank8_a_level      5290 non-null float64\n",
      "primary_cleaner.state.floatbank8_b_air        5290 non-null float64\n",
      "primary_cleaner.state.floatbank8_b_level      5290 non-null float64\n",
      "primary_cleaner.state.floatbank8_c_air        5290 non-null float64\n",
      "primary_cleaner.state.floatbank8_c_level      5290 non-null float64\n",
      "primary_cleaner.state.floatbank8_d_air        5290 non-null float64\n",
      "primary_cleaner.state.floatbank8_d_level      5290 non-null float64\n",
      "rougher.input.feed_ag                         5290 non-null float64\n",
      "rougher.input.feed_pb                         5290 non-null float64\n",
      "rougher.input.feed_rate                       5287 non-null float64\n",
      "rougher.input.feed_size                       5289 non-null float64\n",
      "rougher.input.feed_sol                        5269 non-null float64\n",
      "rougher.input.feed_au                         5290 non-null float64\n",
      "rougher.input.floatbank10_sulfate             5285 non-null float64\n",
      "rougher.input.floatbank10_xanthate            5290 non-null float64\n",
      "rougher.input.floatbank11_sulfate             5282 non-null float64\n",
      "rougher.input.floatbank11_xanthate            5265 non-null float64\n",
      "rougher.state.floatbank10_a_air               5290 non-null float64\n",
      "rougher.state.floatbank10_a_level             5290 non-null float64\n",
      "rougher.state.floatbank10_b_air               5290 non-null float64\n",
      "rougher.state.floatbank10_b_level             5290 non-null float64\n",
      "rougher.state.floatbank10_c_air               5290 non-null float64\n",
      "rougher.state.floatbank10_c_level             5290 non-null float64\n",
      "rougher.state.floatbank10_d_air               5290 non-null float64\n",
      "rougher.state.floatbank10_d_level             5290 non-null float64\n",
      "rougher.state.floatbank10_e_air               5290 non-null float64\n",
      "rougher.state.floatbank10_e_level             5290 non-null float64\n",
      "rougher.state.floatbank10_f_air               5290 non-null float64\n",
      "rougher.state.floatbank10_f_level             5290 non-null float64\n",
      "secondary_cleaner.state.floatbank2_a_air      5287 non-null float64\n",
      "secondary_cleaner.state.floatbank2_a_level    5290 non-null float64\n",
      "secondary_cleaner.state.floatbank2_b_air      5288 non-null float64\n",
      "secondary_cleaner.state.floatbank2_b_level    5290 non-null float64\n",
      "secondary_cleaner.state.floatbank3_a_air      5281 non-null float64\n",
      "secondary_cleaner.state.floatbank3_a_level    5290 non-null float64\n",
      "secondary_cleaner.state.floatbank3_b_air      5290 non-null float64\n",
      "secondary_cleaner.state.floatbank3_b_level    5290 non-null float64\n",
      "secondary_cleaner.state.floatbank4_a_air      5290 non-null float64\n",
      "secondary_cleaner.state.floatbank4_a_level    5290 non-null float64\n",
      "secondary_cleaner.state.floatbank4_b_air      5290 non-null float64\n",
      "secondary_cleaner.state.floatbank4_b_level    5290 non-null float64\n",
      "secondary_cleaner.state.floatbank5_a_air      5290 non-null float64\n",
      "secondary_cleaner.state.floatbank5_a_level    5290 non-null float64\n",
      "secondary_cleaner.state.floatbank5_b_air      5290 non-null float64\n",
      "secondary_cleaner.state.floatbank5_b_level    5290 non-null float64\n",
      "secondary_cleaner.state.floatbank6_a_air      5290 non-null float64\n",
      "secondary_cleaner.state.floatbank6_a_level    5290 non-null float64\n",
      "dtypes: float64(52), object(1)\n",
      "memory usage: 2.1+ MB\n"
     ]
    }
   ],
   "source": [
    "data_test.info()"
   ]
  },
  {
   "cell_type": "code",
   "execution_count": 10,
   "metadata": {},
   "outputs": [
    {
     "name": "stdout",
     "output_type": "stream",
     "text": [
      "<class 'pandas.core.frame.DataFrame'>\n",
      "RangeIndex: 19439 entries, 0 to 19438\n",
      "Data columns (total 87 columns):\n",
      "date                                                  19439 non-null object\n",
      "final.output.concentrate_ag                           19438 non-null float64\n",
      "final.output.concentrate_pb                           19438 non-null float64\n",
      "final.output.concentrate_sol                          19228 non-null float64\n",
      "final.output.concentrate_au                           19439 non-null float64\n",
      "final.output.recovery                                 19439 non-null float64\n",
      "final.output.tail_ag                                  19438 non-null float64\n",
      "final.output.tail_pb                                  19338 non-null float64\n",
      "final.output.tail_sol                                 19433 non-null float64\n",
      "final.output.tail_au                                  19439 non-null float64\n",
      "primary_cleaner.input.sulfate                         19415 non-null float64\n",
      "primary_cleaner.input.depressant                      19402 non-null float64\n",
      "primary_cleaner.input.feed_size                       19439 non-null float64\n",
      "primary_cleaner.input.xanthate                        19335 non-null float64\n",
      "primary_cleaner.output.concentrate_ag                 19439 non-null float64\n",
      "primary_cleaner.output.concentrate_pb                 19323 non-null float64\n",
      "primary_cleaner.output.concentrate_sol                19069 non-null float64\n",
      "primary_cleaner.output.concentrate_au                 19439 non-null float64\n",
      "primary_cleaner.output.tail_ag                        19435 non-null float64\n",
      "primary_cleaner.output.tail_pb                        19418 non-null float64\n",
      "primary_cleaner.output.tail_sol                       19377 non-null float64\n",
      "primary_cleaner.output.tail_au                        19439 non-null float64\n",
      "primary_cleaner.state.floatbank8_a_air                19435 non-null float64\n",
      "primary_cleaner.state.floatbank8_a_level              19438 non-null float64\n",
      "primary_cleaner.state.floatbank8_b_air                19435 non-null float64\n",
      "primary_cleaner.state.floatbank8_b_level              19438 non-null float64\n",
      "primary_cleaner.state.floatbank8_c_air                19437 non-null float64\n",
      "primary_cleaner.state.floatbank8_c_level              19438 non-null float64\n",
      "primary_cleaner.state.floatbank8_d_air                19436 non-null float64\n",
      "primary_cleaner.state.floatbank8_d_level              19438 non-null float64\n",
      "rougher.calculation.sulfate_to_au_concentrate         19437 non-null float64\n",
      "rougher.calculation.floatbank10_sulfate_to_au_feed    19437 non-null float64\n",
      "rougher.calculation.floatbank11_sulfate_to_au_feed    19437 non-null float64\n",
      "rougher.calculation.au_pb_ratio                       19439 non-null float64\n",
      "rougher.input.feed_ag                                 19439 non-null float64\n",
      "rougher.input.feed_pb                                 19339 non-null float64\n",
      "rougher.input.feed_rate                               19428 non-null float64\n",
      "rougher.input.feed_size                               19294 non-null float64\n",
      "rougher.input.feed_sol                                19340 non-null float64\n",
      "rougher.input.feed_au                                 19439 non-null float64\n",
      "rougher.input.floatbank10_sulfate                     19405 non-null float64\n",
      "rougher.input.floatbank10_xanthate                    19431 non-null float64\n",
      "rougher.input.floatbank11_sulfate                     19395 non-null float64\n",
      "rougher.input.floatbank11_xanthate                    18986 non-null float64\n",
      "rougher.output.concentrate_ag                         19439 non-null float64\n",
      "rougher.output.concentrate_pb                         19439 non-null float64\n",
      "rougher.output.concentrate_sol                        19416 non-null float64\n",
      "rougher.output.concentrate_au                         19439 non-null float64\n",
      "rougher.output.recovery                               19439 non-null float64\n",
      "rougher.output.tail_ag                                19438 non-null float64\n",
      "rougher.output.tail_pb                                19439 non-null float64\n",
      "rougher.output.tail_sol                               19439 non-null float64\n",
      "rougher.output.tail_au                                19439 non-null float64\n",
      "rougher.state.floatbank10_a_air                       19438 non-null float64\n",
      "rougher.state.floatbank10_a_level                     19438 non-null float64\n",
      "rougher.state.floatbank10_b_air                       19438 non-null float64\n",
      "rougher.state.floatbank10_b_level                     19438 non-null float64\n",
      "rougher.state.floatbank10_c_air                       19438 non-null float64\n",
      "rougher.state.floatbank10_c_level                     19438 non-null float64\n",
      "rougher.state.floatbank10_d_air                       19439 non-null float64\n",
      "rougher.state.floatbank10_d_level                     19439 non-null float64\n",
      "rougher.state.floatbank10_e_air                       19003 non-null float64\n",
      "rougher.state.floatbank10_e_level                     19439 non-null float64\n",
      "rougher.state.floatbank10_f_air                       19439 non-null float64\n",
      "rougher.state.floatbank10_f_level                     19439 non-null float64\n",
      "secondary_cleaner.output.tail_ag                      19437 non-null float64\n",
      "secondary_cleaner.output.tail_pb                      19427 non-null float64\n",
      "secondary_cleaner.output.tail_sol                     17691 non-null float64\n",
      "secondary_cleaner.output.tail_au                      19439 non-null float64\n",
      "secondary_cleaner.state.floatbank2_a_air              19219 non-null float64\n",
      "secondary_cleaner.state.floatbank2_a_level            19438 non-null float64\n",
      "secondary_cleaner.state.floatbank2_b_air              19416 non-null float64\n",
      "secondary_cleaner.state.floatbank2_b_level            19438 non-null float64\n",
      "secondary_cleaner.state.floatbank3_a_air              19426 non-null float64\n",
      "secondary_cleaner.state.floatbank3_a_level            19438 non-null float64\n",
      "secondary_cleaner.state.floatbank3_b_air              19438 non-null float64\n",
      "secondary_cleaner.state.floatbank3_b_level            19438 non-null float64\n",
      "secondary_cleaner.state.floatbank4_a_air              19433 non-null float64\n",
      "secondary_cleaner.state.floatbank4_a_level            19438 non-null float64\n",
      "secondary_cleaner.state.floatbank4_b_air              19438 non-null float64\n",
      "secondary_cleaner.state.floatbank4_b_level            19438 non-null float64\n",
      "secondary_cleaner.state.floatbank5_a_air              19438 non-null float64\n",
      "secondary_cleaner.state.floatbank5_a_level            19438 non-null float64\n",
      "secondary_cleaner.state.floatbank5_b_air              19438 non-null float64\n",
      "secondary_cleaner.state.floatbank5_b_level            19438 non-null float64\n",
      "secondary_cleaner.state.floatbank6_a_air              19437 non-null float64\n",
      "secondary_cleaner.state.floatbank6_a_level            19438 non-null float64\n",
      "dtypes: float64(86), object(1)\n",
      "memory usage: 12.9+ MB\n"
     ]
    }
   ],
   "source": [
    "data_full.info()"
   ]
  },
  {
   "cell_type": "markdown",
   "metadata": {},
   "source": [
    "Видим, что во всех выборках есть пропущенные значения. Также во всех сетах указан тип данных object, что неприминительно к столбцу date."
   ]
  },
  {
   "cell_type": "markdown",
   "metadata": {},
   "source": [
    "**Проверяем, что эффективность обогащения рассчитана правильно**\n",
    "\n",
    "Эффективность обогащения вычисляем на обучающей выборке для признака rougher.output.recovery по формуле (указана в условиях),где:\n",
    "\n",
    "C — доля золота в концентрате после флотации (rougher.output.concentrate_au);\n",
    "F — доля золота в сырье/концентрате до флотации (rougher.input.feed_au);\n",
    "T — доля золота в отвальных хвостах после флотации (rougher.output.tail_au)."
   ]
  },
  {
   "cell_type": "code",
   "execution_count": 11,
   "metadata": {},
   "outputs": [],
   "source": [
    "#выберем необходимые для расчета признаки\n",
    "check = ['rougher.output.concentrate_au',\n",
    "        'rougher.input.feed_au',\n",
    "        'rougher.output.tail_au',\n",
    "        'rougher.output.recovery']"
   ]
  },
  {
   "cell_type": "code",
   "execution_count": 12,
   "metadata": {},
   "outputs": [],
   "source": [
    "data_check = data_train[check].dropna()"
   ]
  },
  {
   "cell_type": "code",
   "execution_count": 13,
   "metadata": {},
   "outputs": [
    {
     "name": "stdout",
     "output_type": "stream",
     "text": [
      "MAE = 9.682896147825551e-15\n"
     ]
    }
   ],
   "source": [
    "C = data_check['rougher.output.concentrate_au']\n",
    "F = data_check['rougher.input.feed_au']\n",
    "T = data_check['rougher.output.tail_au']\n",
    "recovery = (C * (F-T)) / (F * (C - T)) * 100\n",
    "print('MAE =', mean_absolute_error(data_check['rougher.output.recovery'], recovery))"
   ]
  },
  {
   "cell_type": "markdown",
   "metadata": {},
   "source": [
    "Значение показателя оказалось около нуля, что свидетельствует о корректном расчете эффективности обогащения."
   ]
  },
  {
   "cell_type": "markdown",
   "metadata": {},
   "source": [
    "**Сделаем анализ признаков, которые недоступны в тестовой выборке**"
   ]
  },
  {
   "cell_type": "markdown",
   "metadata": {},
   "source": [
    "В data_test отсутсвует часть признаков data_train. Найдем что это за признаки."
   ]
  },
  {
   "cell_type": "code",
   "execution_count": 14,
   "metadata": {},
   "outputs": [
    {
     "name": "stdout",
     "output_type": "stream",
     "text": [
      "final.output.concentrate_ag\n",
      "final.output.concentrate_pb\n",
      "final.output.concentrate_sol\n",
      "final.output.concentrate_au\n",
      "final.output.recovery\n",
      "final.output.tail_ag\n",
      "final.output.tail_pb\n",
      "final.output.tail_sol\n",
      "final.output.tail_au\n",
      "primary_cleaner.output.concentrate_ag\n",
      "primary_cleaner.output.concentrate_pb\n",
      "primary_cleaner.output.concentrate_sol\n",
      "primary_cleaner.output.concentrate_au\n",
      "primary_cleaner.output.tail_ag\n",
      "primary_cleaner.output.tail_pb\n",
      "primary_cleaner.output.tail_sol\n",
      "primary_cleaner.output.tail_au\n",
      "rougher.calculation.sulfate_to_au_concentrate\n",
      "rougher.calculation.floatbank10_sulfate_to_au_feed\n",
      "rougher.calculation.floatbank11_sulfate_to_au_feed\n",
      "rougher.calculation.au_pb_ratio\n",
      "rougher.output.concentrate_ag\n",
      "rougher.output.concentrate_pb\n",
      "rougher.output.concentrate_sol\n",
      "rougher.output.concentrate_au\n",
      "rougher.output.recovery\n",
      "rougher.output.tail_ag\n",
      "rougher.output.tail_pb\n",
      "rougher.output.tail_sol\n",
      "rougher.output.tail_au\n",
      "secondary_cleaner.output.tail_ag\n",
      "secondary_cleaner.output.tail_pb\n",
      "secondary_cleaner.output.tail_sol\n",
      "secondary_cleaner.output.tail_au\n"
     ]
    }
   ],
   "source": [
    "for i in data_full.columns:\n",
    "    if i not in data_test.columns:\n",
    "        print(i)"
   ]
  },
  {
   "cell_type": "markdown",
   "metadata": {},
   "source": [
    "В тестовой выборке отсутсвуют все расчётные и выходные (calculation, output) признаки, в том числе целевые — rougher.output.recovery и final.output.recovery. Скорее всего, это объясняется тем, что указанные показатели замеряются и вычисляются позднее.\n",
    "\n",
    "**Предобработка данных**\n",
    "\n",
    "Проведем предобработку тренировочной и тестовой выборок, так как обучение модели будет производиться на них."
   ]
  },
  {
   "cell_type": "code",
   "execution_count": 15,
   "metadata": {},
   "outputs": [],
   "source": [
    "#заменим формат даты во всех выборках, они у нас  в object \n",
    "data_full['date'] = pd.to_datetime(data_full['date'], format='%Y-%m-%d %H:%M:%S')\n",
    "data_train['date'] = pd.to_datetime(data_train['date'], format='%Y-%m-%d %H:%M:%S')\n",
    "data_test['date'] = pd.to_datetime(data_test['date'], format='%Y-%m-%d %H:%M:%S')\n"
   ]
  },
  {
   "cell_type": "markdown",
   "metadata": {},
   "source": [
    "Пропуски в признаках заполним ближайшими значениями:"
   ]
  },
  {
   "cell_type": "code",
   "execution_count": 16,
   "metadata": {},
   "outputs": [],
   "source": [
    "data_train = data_train.fillna(method = 'ffill')\n",
    "data_test = data_test.fillna(method = 'ffill')"
   ]
  },
  {
   "cell_type": "code",
   "execution_count": 17,
   "metadata": {},
   "outputs": [
    {
     "data": {
      "text/plain": [
       "0"
      ]
     },
     "execution_count": 17,
     "metadata": {},
     "output_type": "execute_result"
    }
   ],
   "source": [
    "data_train.isnull().sum().sum()"
   ]
  },
  {
   "cell_type": "code",
   "execution_count": 18,
   "metadata": {},
   "outputs": [
    {
     "data": {
      "text/plain": [
       "0"
      ]
     },
     "execution_count": 18,
     "metadata": {},
     "output_type": "execute_result"
    }
   ],
   "source": [
    "data_test.isnull().sum().sum()"
   ]
  },
  {
   "cell_type": "code",
   "execution_count": 19,
   "metadata": {},
   "outputs": [
    {
     "data": {
      "text/plain": [
       "(5290, 53)"
      ]
     },
     "execution_count": 19,
     "metadata": {},
     "output_type": "execute_result"
    }
   ],
   "source": [
    "\n",
    "data_test.shape"
   ]
  },
  {
   "cell_type": "markdown",
   "metadata": {},
   "source": [
    "Добавим в тестовую выборку значения целевых признаков из полного датасета:"
   ]
  },
  {
   "cell_type": "code",
   "execution_count": 20,
   "metadata": {},
   "outputs": [],
   "source": [
    "data_test = pd.merge(data_test, data_full[['date', 'rougher.output.recovery', 'final.output.recovery']], how='left', on='date')"
   ]
  },
  {
   "cell_type": "code",
   "execution_count": 21,
   "metadata": {},
   "outputs": [
    {
     "data": {
      "text/plain": [
       "(5290, 55)"
      ]
     },
     "execution_count": 21,
     "metadata": {},
     "output_type": "execute_result"
    }
   ],
   "source": [
    "data_test.shape"
   ]
  },
  {
   "cell_type": "code",
   "execution_count": 22,
   "metadata": {},
   "outputs": [
    {
     "data": {
      "text/plain": [
       "0"
      ]
     },
     "execution_count": 22,
     "metadata": {},
     "output_type": "execute_result"
    }
   ],
   "source": [
    "data_test.isna().sum()['rougher.output.recovery']"
   ]
  },
  {
   "cell_type": "code",
   "execution_count": 23,
   "metadata": {},
   "outputs": [
    {
     "data": {
      "text/plain": [
       "0"
      ]
     },
     "execution_count": 23,
     "metadata": {},
     "output_type": "execute_result"
    }
   ],
   "source": [
    "\n",
    "data_test.isna().sum()['final.output.recovery']"
   ]
  },
  {
   "cell_type": "markdown",
   "metadata": {},
   "source": [
    "Произвели замену отсутствующих значений ближайшими; добавили в тестовую выборку значения целевых признаков из полного датасета."
   ]
  },
  {
   "cell_type": "markdown",
   "metadata": {},
   "source": [
    "## Анализ данных"
   ]
  },
  {
   "cell_type": "markdown",
   "metadata": {},
   "source": [
    "**Исследование изменения концентрации элементов (Au - золото, Ag - серебро, Pb - свинец) на каждом этапе**"
   ]
  },
  {
   "cell_type": "markdown",
   "metadata": {},
   "source": [
    "Золото"
   ]
  },
  {
   "cell_type": "code",
   "execution_count": 24,
   "metadata": {},
   "outputs": [],
   "source": [
    "au = data_full[['rougher.input.feed_au', 'rougher.output.concentrate_au',\n",
    "          'primary_cleaner.output.concentrate_au', 'final.output.concentrate_au']]\n",
    "au.columns = ['Сырье', 'Флотация', 'Первичная очистка', 'Конечный результат']"
   ]
  },
  {
   "cell_type": "code",
   "execution_count": 25,
   "metadata": {},
   "outputs": [
    {
     "name": "stdout",
     "output_type": "stream",
     "text": [
      "Defaulting to user installation because normal site-packages is not writeable\n",
      "Requirement already up-to-date: seaborn in /home/jovyan/.local/lib/python3.7/site-packages (0.11.1)\n",
      "Requirement already satisfied, skipping upgrade: numpy>=1.15 in /opt/conda/lib/python3.7/site-packages (from seaborn) (1.19.5)\n",
      "Requirement already satisfied, skipping upgrade: matplotlib>=2.2 in /opt/conda/lib/python3.7/site-packages (from seaborn) (3.1.0)\n",
      "Requirement already satisfied, skipping upgrade: scipy>=1.0 in /opt/conda/lib/python3.7/site-packages (from seaborn) (1.4.1)\n",
      "Requirement already satisfied, skipping upgrade: pandas>=0.23 in /opt/conda/lib/python3.7/site-packages (from seaborn) (0.25.1)\n",
      "Requirement already satisfied, skipping upgrade: pyparsing!=2.0.4,!=2.1.2,!=2.1.6,>=2.0.1 in /opt/conda/lib/python3.7/site-packages (from matplotlib>=2.2->seaborn) (2.4.7)\n",
      "Requirement already satisfied, skipping upgrade: kiwisolver>=1.0.1 in /opt/conda/lib/python3.7/site-packages (from matplotlib>=2.2->seaborn) (1.3.1)\n",
      "Requirement already satisfied, skipping upgrade: cycler>=0.10 in /opt/conda/lib/python3.7/site-packages (from matplotlib>=2.2->seaborn) (0.10.0)\n",
      "Requirement already satisfied, skipping upgrade: python-dateutil>=2.1 in /opt/conda/lib/python3.7/site-packages (from matplotlib>=2.2->seaborn) (2.8.1)\n",
      "Requirement already satisfied, skipping upgrade: pytz>=2017.2 in /opt/conda/lib/python3.7/site-packages (from pandas>=0.23->seaborn) (2021.1)\n",
      "Requirement already satisfied, skipping upgrade: six in /opt/conda/lib/python3.7/site-packages (from cycler>=0.10->matplotlib>=2.2->seaborn) (1.15.0)\n",
      "Note: you may need to restart the kernel to use updated packages.\n"
     ]
    }
   ],
   "source": [
    "pip install -U seaborn"
   ]
  },
  {
   "cell_type": "code",
   "execution_count": 26,
   "metadata": {},
   "outputs": [
    {
     "data": {
      "image/png": "[encoded data removed]",
      "text/plain": [
       "<Figure size 1440x720 with 1 Axes>"
      ]
     },
     "metadata": {
      "needs_background": "light"
     },
     "output_type": "display_data"
    }
   ],
   "source": [
    "plt.figure(figsize=(20, 10))\n",
    "sns.histplot(au, bins=80, stat='density', kde=True, label=True, palette='hls')\n",
    "plt.title('Концентрация золота на разных стадиях обработки', fontsize = 20)\n",
    "plt.xlabel('Концентрация', fontsize = 12)\n",
    "plt.show()"
   ]
  },
  {
   "cell_type": "markdown",
   "metadata": {},
   "source": [
    "Серебро"
   ]
  },
  {
   "cell_type": "code",
   "execution_count": 27,
   "metadata": {},
   "outputs": [],
   "source": [
    "ag = data_full[['rougher.input.feed_ag', 'rougher.output.concentrate_ag',\n",
    "          'primary_cleaner.output.concentrate_ag', 'final.output.concentrate_ag']]\n",
    "ag.columns = ['Сырье', 'Флотация', 'Первичная очистка', 'Конечный результат']"
   ]
  },
  {
   "cell_type": "code",
   "execution_count": 28,
   "metadata": {},
   "outputs": [
    {
     "data": {
      "image/png": "[encoded data removed]",
      "text/plain": [
       "<Figure size 1440x720 with 1 Axes>"
      ]
     },
     "metadata": {
      "needs_background": "light"
     },
     "output_type": "display_data"
    }
   ],
   "source": [
    "plt.figure(figsize=(20, 10))\n",
    "sns.histplot(ag, bins=80, stat='density', kde=True, label=True, palette='hls')\n",
    "plt.title('Концентрация серебра на разных стадиях обработки', fontsize = 20)\n",
    "plt.xlabel('Концентрация', fontsize = 12)\n",
    "plt.show()"
   ]
  },
  {
   "cell_type": "markdown",
   "metadata": {},
   "source": [
    "Свинец"
   ]
  },
  {
   "cell_type": "code",
   "execution_count": 29,
   "metadata": {},
   "outputs": [],
   "source": [
    "pb = data_full[['rougher.input.feed_pb', 'rougher.output.concentrate_pb',\n",
    "          'primary_cleaner.output.concentrate_pb', 'final.output.concentrate_pb']]\n",
    "pb.columns = ['Сырье', 'Флотация', 'Первичная очистка', 'Конечный результат']"
   ]
  },
  {
   "cell_type": "code",
   "execution_count": 30,
   "metadata": {},
   "outputs": [
    {
     "data": {
      "image/png": "[encoded data removed]",
      "text/plain": [
       "<Figure size 1440x720 with 1 Axes>"
      ]
     },
     "metadata": {
      "needs_background": "light"
     },
     "output_type": "display_data"
    }
   ],
   "source": [
    "plt.figure(figsize=(20, 10))\n",
    "sns.histplot(pb, bins=80, stat='density', kde=True, label=True, palette='hls')\n",
    "plt.title('Концентрация свинца на разных стадиях обработки', fontsize = 20)\n",
    "plt.xlabel('Концентрация', fontsize = 12)\n",
    "plt.show()"
   ]
  },
  {
   "cell_type": "markdown",
   "metadata": {},
   "source": [
    "Можно сделать следующий вывод: \n",
    "\n",
    "- Концентрация устойчивости растёт по мере новых этапов очистки (золото);\n",
    "- Концентрация устойчивости снижается по мере новых этапов очистки (серебро);\n",
    "- Концентрация свинца повышается в процессе обработки, достигая максимальных значений после первичной очистки, после нее концентрация меняется слабо (Свинец)"
   ]
  },
  {
   "cell_type": "markdown",
   "metadata": {},
   "source": [
    "\n",
    "Проанализируем распределение размеров гранул на обучающей и тестовой выборках:"
   ]
  },
  {
   "cell_type": "code",
   "execution_count": 31,
   "metadata": {},
   "outputs": [
    {
     "data": {
      "image/png": "[encoded data removed]",
      "text/plain": [
       "<Figure size 1440x720 with 1 Axes>"
      ]
     },
     "metadata": {
      "needs_background": "light"
     },
     "output_type": "display_data"
    }
   ],
   "source": [
    "#данные содержаться в столбце 'rougher.input.feed_size'.\n",
    "plt.figure(figsize=(20, 10))\n",
    "sns.histplot(data_train['rougher.input.feed_size'], stat='density', label='Обучающая выборка', bins=80, kde=True)\n",
    "sns.histplot(data_test['rougher.input.feed_size'], stat='density', label='Тестовая выборка', bins=80, kde=True, color='green')\n",
    "plt.title('Распределение размеров гранул', fontsize = 20)\n",
    "plt.xlabel('Размер гранул', fontsize = 12)\n",
    "plt.legend()\n",
    "plt.show()"
   ]
  },
  {
   "cell_type": "markdown",
   "metadata": {},
   "source": [
    "Разница некритичная. Тем не менее, в обучающей модели возможна погрешность."
   ]
  },
  {
   "cell_type": "markdown",
   "metadata": {},
   "source": [
    "**Проведем исследование суммарных концентраций металлов на разных стадиях**"
   ]
  },
  {
   "cell_type": "code",
   "execution_count": 32,
   "metadata": {},
   "outputs": [],
   "source": [
    "\n",
    "# Суммарная концентрация металлов в сырье\n",
    "data_full['rougher.input_feed_total'] = (data_full['rougher.input.feed_ag'] + data_full['rougher.input.feed_pb'] +\n",
    "                                        data_full['rougher.input.feed_au'])\n",
    "# Суммарная концентрация металлов в черновом концентрате\n",
    "data_full['rougher.output.concentrate_total'] = (data_full['rougher.output.concentrate_ag'] + data_full['rougher.output.concentrate_pb'] +\n",
    "                                             data_full['rougher.output.concentrate_au'])\n",
    "# Суммарная концентрация металлов в финальном концентрате\n",
    "data_full['final.output.concentrate_total'] = (data_full['final.output.concentrate_ag'] + data_full['final.output.concentrate_pb'] +\n",
    "                                          data_full['final.output.concentrate_au'])"
   ]
  },
  {
   "cell_type": "code",
   "execution_count": 33,
   "metadata": {},
   "outputs": [
    {
     "data": {
      "image/png": "[encoded data removed]",
      "text/plain": [
       "<Figure size 1080x360 with 1 Axes>"
      ]
     },
     "metadata": {
      "needs_background": "light"
     },
     "output_type": "display_data"
    }
   ],
   "source": [
    "\n",
    "plt.figure(figsize=(15, 5))\n",
    "sns.histplot(data_full['rougher.input_feed_total'], stat='density', label='Сырье', bins=80, kde=True, color='b')\n",
    "sns.histplot(data_full['rougher.output.concentrate_total'], stat='density', label='Черновой концентрат', bins=80, kde=True, color='black')\n",
    "sns.histplot(data_full['final.output.concentrate_total'], stat='density', label='Финальный концентрат', bins=80, kde=True, color='green')\n",
    "plt.title('Распределения суммарной концентрации металлов на разных стадиях', fontsize = 20)\n",
    "plt.xlabel('Суммарная концентрация', fontsize = 12)\n",
    "plt.legend()\n",
    "plt.show()"
   ]
  },
  {
   "cell_type": "markdown",
   "metadata": {},
   "source": [
    "\n",
    "Закономерно, что концентрация выше всего на финальной стадии."
   ]
  },
  {
   "cell_type": "code",
   "execution_count": 34,
   "metadata": {},
   "outputs": [
    {
     "data": {
      "text/plain": [
       "count    19438.000000\n",
       "mean        59.224653\n",
       "std          6.093911\n",
       "min          0.000000\n",
       "25%         59.298674\n",
       "50%         60.307296\n",
       "75%         61.096690\n",
       "max         64.968881\n",
       "Name: final.output.concentrate_total, dtype: float64"
      ]
     },
     "execution_count": 34,
     "metadata": {},
     "output_type": "execute_result"
    }
   ],
   "source": [
    "data_full['final.output.concentrate_total'].describe()"
   ]
  },
  {
   "cell_type": "markdown",
   "metadata": {},
   "source": [
    "В таблице есть данные, где суммарная конценрация металлов в сырье и черновом концентрате имеет нулевое значение. С одной стороны, есть некоторая вероятность присутствия плохой руды, с другой стороны не уверен, что бывает руда совсем уж с нулевым значением хоть какого-то металла. Тут, больше вопрос к специалистам."
   ]
  },
  {
   "cell_type": "code",
   "execution_count": 35,
   "metadata": {},
   "outputs": [
    {
     "name": "stdout",
     "output_type": "stream",
     "text": [
      "Обучающая выборка: (14149, 87)\n",
      "Тестовая выборка: (5290, 55)\n"
     ]
    }
   ],
   "source": [
    "#размеры до удаления нулевых значений\n",
    "print('Обучающая выборка:', data_train.shape)\n",
    "print('Тестовая выборка:', data_test.shape)"
   ]
  },
  {
   "cell_type": "code",
   "execution_count": 36,
   "metadata": {},
   "outputs": [],
   "source": [
    "total_columns = (data_full['rougher.input_feed_total'] == 0) \\\n",
    "& (data_full['rougher.output.concentrate_total'] == 0) \\\n",
    "& (data_full['final.output.concentrate_total'] == 0) \\\n",
    "\n",
    "indexes = data_full[total_columns].index\n",
    "test_indexes = data_test[data_test.index.isin(indexes)].index\n",
    "train_indexes = data_train[data_train.index.isin(indexes)].index\n",
    "\n",
    "data_full.drop(indexes, inplace=True)\n",
    "data_test.drop(test_indexes, inplace=True)\n",
    "data_train.drop(train_indexes, inplace=True)"
   ]
  },
  {
   "cell_type": "code",
   "execution_count": 37,
   "metadata": {},
   "outputs": [
    {
     "name": "stdout",
     "output_type": "stream",
     "text": [
      "Обучающая выборка: (14149, 87)\n",
      "Тестовая выборка: (5290, 55)\n"
     ]
    }
   ],
   "source": [
    "print('Обучающая выборка:', data_train.shape)\n",
    "print('Тестовая выборка:', data_test.shape)"
   ]
  },
  {
   "cell_type": "markdown",
   "metadata": {},
   "source": [
    "\n",
    "Проанализированы и обработаны аномальные т.е. нулевые значения в тестовой и тренировочной сетах."
   ]
  },
  {
   "cell_type": "markdown",
   "metadata": {},
   "source": [
    "## Модель"
   ]
  },
  {
   "cell_type": "code",
   "execution_count": 38,
   "metadata": {},
   "outputs": [],
   "source": [
    "def difference_columns(train_large, test_small):\n",
    "    common = []\n",
    "    difference = []\n",
    "    train_large_col = train_large.columns\n",
    "    test_small_col = test_small.columns\n",
    "    for i in train_large_col:\n",
    "        if i in test_small_col:\n",
    "            common.append(i)\n",
    "        else:\n",
    "            difference.append(i)\n",
    "    return common,difference"
   ]
  },
  {
   "cell_type": "code",
   "execution_count": 39,
   "metadata": {},
   "outputs": [],
   "source": [
    "common,difference= difference_columns(data_train, data_test)"
   ]
  },
  {
   "cell_type": "code",
   "execution_count": 40,
   "metadata": {},
   "outputs": [],
   "source": [
    "for i in difference:\n",
    "    del data_train[i]"
   ]
  },
  {
   "cell_type": "code",
   "execution_count": 41,
   "metadata": {},
   "outputs": [
    {
     "name": "stdout",
     "output_type": "stream",
     "text": [
      "Обучающая выборка: (14149, 55)\n",
      "Тестовая выборка: (5290, 55)\n"
     ]
    }
   ],
   "source": [
    "print('Обучающая выборка:', data_train.shape)\n",
    "print('Тестовая выборка:', data_test.shape)"
   ]
  },
  {
   "cell_type": "code",
   "execution_count": 42,
   "metadata": {},
   "outputs": [],
   "source": [
    "data_train = data_train.reset_index(drop=True)"
   ]
  },
  {
   "cell_type": "code",
   "execution_count": 43,
   "metadata": {},
   "outputs": [],
   "source": [
    "data_test = data_test.reset_index(drop=True)"
   ]
  },
  {
   "cell_type": "markdown",
   "metadata": {},
   "source": [
    "**Напишем функцию для вычисления итогового sMAPE**"
   ]
  },
  {
   "cell_type": "code",
   "execution_count": 44,
   "metadata": {},
   "outputs": [],
   "source": [
    "#функция sMAPE -симметричное среднее абсолютное процентное отклонение\n",
    "def smape(target,prediction):\n",
    "    N = len(target)\n",
    "    smape = (1/N)*np.sum(np.abs(target - prediction)/((np.abs(target)+np.abs(prediction))/2))*100\n",
    "    return smape"
   ]
  },
  {
   "cell_type": "code",
   "execution_count": 45,
   "metadata": {},
   "outputs": [],
   "source": [
    "#функция итоговой sMAPE\n",
    "def smape_total(rough,final):\n",
    "    smape_total=0.25*rough+0.75*final\n",
    "    return smape_total"
   ]
  },
  {
   "cell_type": "markdown",
   "metadata": {},
   "source": [
    "Выберем модель предсказания эффективности обогащения чернового концентрата (rougher.output.recovery ) и финального концентрата (final.output.recovery)"
   ]
  },
  {
   "cell_type": "code",
   "execution_count": 46,
   "metadata": {},
   "outputs": [],
   "source": [
    "#smape_scoring = make_scorer(smape)"
   ]
  },
  {
   "cell_type": "markdown",
   "metadata": {},
   "source": [
    "<div class=\"alert alert-success\">\n",
    "<h1>Комментарий студента: <a class=\"tocSkip\"></a></h1>\n",
    "Из-за параметра greater_is_better=False, мы получаем отрицательные значения smape при кросс-валидации (ниже). Как бы мы просим самую низкую метрику и оно добавляет минус, чтобы уже точно самая низкая была =) Общался с преподавателем по проектам и ребятами в чате. Сошлись во мнение, что нужно игнорировать. Прошлый код закомментировал, вбил новый. \n",
    "</div>"
   ]
  },
  {
   "cell_type": "code",
   "execution_count": 47,
   "metadata": {},
   "outputs": [],
   "source": [
    "smape_scoring = make_scorer(smape, greater_is_better=False)"
   ]
  },
  {
   "cell_type": "code",
   "execution_count": 48,
   "metadata": {},
   "outputs": [],
   "source": [
    "train_features = data_train.drop(['rougher.output.recovery', 'final.output.recovery'], axis=1)\n",
    "train_target_rougher = data_train['rougher.output.recovery']\n",
    "train_target_final = data_train['final.output.recovery']\n",
    "\n",
    "\n",
    "\n",
    "test_features = data_test.drop(['rougher.output.recovery', 'final.output.recovery'], axis=1)\n",
    "test_target_rougher = data_test['rougher.output.recovery']\n",
    "test_target_final = data_test['final.output.recovery']"
   ]
  },
  {
   "cell_type": "code",
   "execution_count": 49,
   "metadata": {},
   "outputs": [
    {
     "data": {
      "text/plain": [
       "(14149, 53)"
      ]
     },
     "execution_count": 49,
     "metadata": {},
     "output_type": "execute_result"
    }
   ],
   "source": [
    "train_features.shape"
   ]
  },
  {
   "cell_type": "code",
   "execution_count": 50,
   "metadata": {},
   "outputs": [
    {
     "data": {
      "text/plain": [
       "(5290, 53)"
      ]
     },
     "execution_count": 50,
     "metadata": {},
     "output_type": "execute_result"
    }
   ],
   "source": [
    "\n",
    "test_features.shape"
   ]
  },
  {
   "cell_type": "code",
   "execution_count": 51,
   "metadata": {},
   "outputs": [],
   "source": [
    "# Удалим столбец с датой\n",
    "train_features = train_features.drop(['date'], axis=1)\n",
    "test_features = test_features.drop(['date'], axis=1)"
   ]
  },
  {
   "cell_type": "markdown",
   "metadata": {},
   "source": [
    "**Модель линейной регрессии**"
   ]
  },
  {
   "cell_type": "code",
   "execution_count": 52,
   "metadata": {},
   "outputs": [
    {
     "name": "stdout",
     "output_type": "stream",
     "text": [
      "Линейная регрессия:\n",
      "sMAPE (rougher): -12.8 %\n",
      "sMAPE (final): -12.25 %\n",
      "Итоговое sMAPE: -12.38 %\n"
     ]
    }
   ],
   "source": [
    "print('Линейная регрессия:')\n",
    "model_lrrougher = LinearRegression()\n",
    "final_score_lrrougher = (cross_val_score(model_lrrougher, train_features, train_target_rougher, cv=5, scoring=smape_scoring).mean())\n",
    "print('sMAPE (rougher):', final_score_lrrougher.round(decimals=2), '%')\n",
    "\n",
    "model_lrfinal = LinearRegression()\n",
    "final_score_lrfinal = (cross_val_score(model_lrfinal, train_features, train_target_final, cv=5, scoring=smape_scoring).mean())\n",
    "print('sMAPE (final):', final_score_lrfinal.round(decimals=2), '%')\n",
    "\n",
    "print('Итоговое sMAPE:', smape_total(final_score_lrrougher, final_score_lrfinal).round(decimals=2), '%')"
   ]
  },
  {
   "cell_type": "markdown",
   "metadata": {},
   "source": [
    "**Случайный лес**"
   ]
  },
  {
   "cell_type": "code",
   "execution_count": 53,
   "metadata": {},
   "outputs": [],
   "source": [
    "params = { \n",
    "    'n_estimators': [10, 50, 100],\n",
    "    'max_depth' : [5, 7, 10]}"
   ]
  },
  {
   "cell_type": "markdown",
   "metadata": {},
   "source": [
    "Начальный этап"
   ]
  },
  {
   "cell_type": "code",
   "execution_count": 54,
   "metadata": {},
   "outputs": [],
   "source": [
    "model = RandomForestRegressor()"
   ]
  },
  {
   "cell_type": "code",
   "execution_count": 55,
   "metadata": {},
   "outputs": [],
   "source": [
    "clf = GridSearchCV(estimator=model, param_grid =params,  cv=3,  n_jobs=-1, scoring=smape_scoring)"
   ]
  },
  {
   "cell_type": "code",
   "execution_count": 56,
   "metadata": {},
   "outputs": [
    {
     "name": "stdout",
     "output_type": "stream",
     "text": [
      "sMAPE (rougher): 10.17 %\n"
     ]
    }
   ],
   "source": [
    "clf.fit(train_features , train_target_rougher)\n",
    "rougher_pred=clf.predict(test_features)\n",
    "smape_rougherRF = smape(rougher_pred, test_target_rougher)\n",
    "print('sMAPE (rougher):', smape_rougherRF.round(decimals=2), '%')"
   ]
  },
  {
   "cell_type": "markdown",
   "metadata": {},
   "source": [
    "Финальный этап"
   ]
  },
  {
   "cell_type": "code",
   "execution_count": 57,
   "metadata": {},
   "outputs": [
    {
     "name": "stdout",
     "output_type": "stream",
     "text": [
      "sMAPE (final): 9.55 %\n"
     ]
    }
   ],
   "source": [
    "model = RandomForestRegressor()\n",
    "clf = GridSearchCV(estimator=model, param_grid =params,  cv=3,  n_jobs=-1, scoring=smape_scoring)\n",
    "clf.fit(train_features, train_target_final)\n",
    "final_pred=clf.predict(test_features)\n",
    "smape_finalRF = smape(final_pred, test_target_final)\n",
    "print('sMAPE (final):', smape_finalRF.round(decimals=2), '%')"
   ]
  },
  {
   "cell_type": "code",
   "execution_count": 58,
   "metadata": {},
   "outputs": [
    {
     "name": "stdout",
     "output_type": "stream",
     "text": [
      "Итоговое sMAPE: 9.7 %\n"
     ]
    }
   ],
   "source": [
    "print('Итоговое sMAPE:', smape_total(smape_rougherRF, smape_finalRF).round(decimals=2), '%')"
   ]
  },
  {
   "cell_type": "markdown",
   "metadata": {},
   "source": [
    "**Дерево решений**"
   ]
  },
  {
   "cell_type": "code",
   "execution_count": 59,
   "metadata": {},
   "outputs": [],
   "source": [
    "params = {'min_samples_leaf': list(range(2,21)),\n",
    "    'min_samples_split': list(range(2,6)),\n",
    "    'max_depth' : list(range(2,11))}"
   ]
  },
  {
   "cell_type": "markdown",
   "metadata": {},
   "source": [
    "Начальный этап"
   ]
  },
  {
   "cell_type": "code",
   "execution_count": 60,
   "metadata": {},
   "outputs": [
    {
     "name": "stdout",
     "output_type": "stream",
     "text": [
      "sMAPE (rougher): 10.47 %\n"
     ]
    }
   ],
   "source": [
    "model = DecisionTreeRegressor()\n",
    "clf = GridSearchCV(estimator=model, param_grid =params,  cv=3,  n_jobs=-1, scoring=smape_scoring)\n",
    "clf.fit(train_features , train_target_rougher)\n",
    "rougher_predDT=clf.predict(test_features)\n",
    "smape_rougherDT = smape(rougher_predDT, test_target_rougher)\n",
    "print('sMAPE (rougher):', smape_rougherDT.round(decimals=2), '%')"
   ]
  },
  {
   "cell_type": "markdown",
   "metadata": {},
   "source": [
    "\n",
    "Финальный этап"
   ]
  },
  {
   "cell_type": "code",
   "execution_count": 61,
   "metadata": {},
   "outputs": [
    {
     "name": "stdout",
     "output_type": "stream",
     "text": [
      "sMAPE (final): 9.3 %\n"
     ]
    }
   ],
   "source": [
    "model = DecisionTreeRegressor()\n",
    "clf = GridSearchCV(estimator=model, param_grid =params,  cv=3,  n_jobs=-1, scoring=smape_scoring)\n",
    "clf.fit(train_features, train_target_final)\n",
    "final_predDT=clf.predict(test_features)\n",
    "smape_finalDT = smape(final_predDT, test_target_final)\n",
    "print('sMAPE (final):', smape_finalDT.round(decimals=2), '%')"
   ]
  },
  {
   "cell_type": "code",
   "execution_count": 62,
   "metadata": {},
   "outputs": [
    {
     "name": "stdout",
     "output_type": "stream",
     "text": [
      "Итоговое sMAPE: 9.6 %\n"
     ]
    }
   ],
   "source": [
    "print('Итоговое sMAPE:', smape_total(smape_rougherDT, smape_finalDT).round(decimals=2), '%')"
   ]
  },
  {
   "cell_type": "markdown",
   "metadata": {},
   "source": [
    "Наименьший процент отклонения выдала модель случайного леса. Проверим модели:обучим модели на полных данных и посчитаем sMAPE."
   ]
  },
  {
   "cell_type": "code",
   "execution_count": 63,
   "metadata": {},
   "outputs": [],
   "source": [
    "model_final = RandomForestRegressor(random_state=12345, \n",
    "                                       n_estimators=20, \n",
    "                                       max_depth=3)\n",
    "\n",
    "model_final.fit(train_features, train_target_rougher)\n",
    "predictions_r = model_final.predict(test_features)\n",
    "\n",
    "model_final.fit(train_features, train_target_final)\n",
    "predictions_f = model_final.predict(test_features)"
   ]
  },
  {
   "cell_type": "code",
   "execution_count": 64,
   "metadata": {},
   "outputs": [
    {
     "name": "stdout",
     "output_type": "stream",
     "text": [
      "Итоговое sMAPE: 9.89 %\n"
     ]
    }
   ],
   "source": [
    "\n",
    "smape_r = smape(test_target_rougher, predictions_r)\n",
    "smape_f = smape(test_target_final, predictions_f)\n",
    "\n",
    "print('Итоговое sMAPE:', smape_total(smape_r, smape_f).round(decimals=2), '%')"
   ]
  },
  {
   "cell_type": "markdown",
   "metadata": {},
   "source": [
    "\n",
    "Для проверки адекватности модели, сравним ее с результатами работы DummyRegressor"
   ]
  },
  {
   "cell_type": "code",
   "execution_count": 65,
   "metadata": {},
   "outputs": [
    {
     "name": "stdout",
     "output_type": "stream",
     "text": [
      "Итоговое sMAPE 10.29 %\n"
     ]
    }
   ],
   "source": [
    "dummy_r = DummyRegressor(strategy='mean')\n",
    "\n",
    "dummy_r.fit(train_features, train_target_rougher)\n",
    "predictions_r = dummy_r.predict(test_features)\n",
    "\n",
    "dummy_r.fit(train_features, train_target_final)\n",
    "predictions_f = dummy_r.predict(test_features)\n",
    "\n",
    "smape_r = smape(test_target_rougher, predictions_r)\n",
    "smape_f = smape(test_target_final, predictions_f)\n",
    "\n",
    "print('Итоговое sMAPE', smape_total(smape_r, smape_f).round(decimals=2), '%')"
   ]
  },
  {
   "cell_type": "markdown",
   "metadata": {},
   "source": [
    "### Вывод"
   ]
  },
  {
   "cell_type": "markdown",
   "metadata": {},
   "source": [
    "- Проведено изучение данных трех датасетов: проанализированны признаки, проведена предобработка данных; \n",
    "\n",
    "- Исследованы стадии очистки сырья и концентрация металлов в зависимости от стадии, закономерно, концентрация металлов повышается с каждой стадией обработки; \n",
    "\n",
    "- Проанализировано распределение размеров гранул на обучающей и тестовой выборках; Написаны функции рассчета требуемой метрики итоговой sMAPE; \n",
    "\n",
    "- Построены три модели машинного обучения - линейной регрессии, случайного леса и дерева решений. Проведена кросс-валидация и выбор гиперпараметров моделей;\n",
    "\n",
    "- Выбрана наилучшая модель с подходящими гиперпараметрами - случайный лес;\n",
    "\n",
    "- Выбранная модель проверена на тестовой выборке. Значение итоговой sMAPE близко к значениям полученным при кросс-валидации - 9.89 %.\n",
    "\n",
    "- Была обучена Dummy модель для проверки на адекватность. Предсказания дамми модели оказались хуже предсказаний модели случайного леса - 10.29 %."
   ]
  }
 ],
 "metadata": {
  "ExecuteTimeLog": [
   {
    "duration": 132,
    "start_time": "2021-07-28T09:47:25.283Z"
   },
   {
    "duration": 2172,
    "start_time": "2021-07-28T10:28:41.399Z"
   },
   {
    "duration": 2224,
    "start_time": "2021-07-28T10:29:41.459Z"
   },
   {
    "duration": 1982,
    "start_time": "2021-07-28T10:30:34.564Z"
   },
   {
    "duration": 2337,
    "start_time": "2021-07-28T10:31:59.141Z"
   },
   {
    "duration": 972,
    "start_time": "2021-07-28T10:33:39.533Z"
   },
   {
    "duration": 8,
    "start_time": "2021-07-28T10:41:34.242Z"
   },
   {
    "duration": 5,
    "start_time": "2021-07-28T10:42:29.132Z"
   },
   {
    "duration": 5,
    "start_time": "2021-07-28T10:42:41.604Z"
   },
   {
    "duration": 882,
    "start_time": "2021-07-28T10:43:40.027Z"
   },
   {
    "duration": 6,
    "start_time": "2021-07-28T10:43:42.266Z"
   },
   {
    "duration": 6,
    "start_time": "2021-07-28T10:43:43.442Z"
   },
   {
    "duration": 6,
    "start_time": "2021-07-28T10:43:45.114Z"
   },
   {
    "duration": 5,
    "start_time": "2021-07-28T11:08:23.760Z"
   },
   {
    "duration": 9,
    "start_time": "2021-07-28T11:09:18.197Z"
   },
   {
    "duration": 4,
    "start_time": "2021-07-29T01:02:14.872Z"
   },
   {
    "duration": 325,
    "start_time": "2021-07-29T01:02:25.212Z"
   },
   {
    "duration": 2076,
    "start_time": "2021-07-29T01:02:43.455Z"
   },
   {
    "duration": 914,
    "start_time": "2021-07-29T01:02:45.533Z"
   },
   {
    "duration": 7,
    "start_time": "2021-07-29T01:02:46.450Z"
   },
   {
    "duration": 14,
    "start_time": "2021-07-29T01:02:46.459Z"
   },
   {
    "duration": 10,
    "start_time": "2021-07-29T01:02:46.475Z"
   },
   {
    "duration": 9,
    "start_time": "2021-07-29T01:02:46.487Z"
   },
   {
    "duration": 12,
    "start_time": "2021-07-29T01:02:46.499Z"
   },
   {
    "duration": 40,
    "start_time": "2021-07-29T01:02:46.514Z"
   },
   {
    "duration": 16,
    "start_time": "2021-07-29T01:02:46.558Z"
   },
   {
    "duration": 23,
    "start_time": "2021-07-29T01:02:59.988Z"
   },
   {
    "duration": 5,
    "start_time": "2021-07-29T01:03:09.716Z"
   },
   {
    "duration": 8,
    "start_time": "2021-07-29T01:03:20.516Z"
   },
   {
    "duration": 457,
    "start_time": "2021-07-29T07:50:54.422Z"
   },
   {
    "duration": 2072,
    "start_time": "2021-07-29T07:51:01.895Z"
   },
   {
    "duration": 975,
    "start_time": "2021-07-29T07:51:03.970Z"
   },
   {
    "duration": 9,
    "start_time": "2021-07-29T07:51:04.949Z"
   },
   {
    "duration": 26,
    "start_time": "2021-07-29T07:51:04.961Z"
   },
   {
    "duration": 15,
    "start_time": "2021-07-29T07:51:04.990Z"
   },
   {
    "duration": 11,
    "start_time": "2021-07-29T07:51:05.008Z"
   },
   {
    "duration": 13,
    "start_time": "2021-07-29T07:51:05.021Z"
   },
   {
    "duration": 16,
    "start_time": "2021-07-29T07:51:05.038Z"
   },
   {
    "duration": 33,
    "start_time": "2021-07-29T07:51:05.057Z"
   },
   {
    "duration": 24,
    "start_time": "2021-07-29T07:51:05.094Z"
   },
   {
    "duration": 9,
    "start_time": "2021-07-29T07:51:05.121Z"
   },
   {
    "duration": 9,
    "start_time": "2021-07-29T07:51:05.133Z"
   },
   {
    "duration": 389,
    "start_time": "2021-07-29T07:51:05.145Z"
   },
   {
    "duration": 202,
    "start_time": "2021-07-29T07:51:41.269Z"
   },
   {
    "duration": 34,
    "start_time": "2021-07-29T07:52:14.079Z"
   },
   {
    "duration": 33,
    "start_time": "2021-07-29T07:52:43.648Z"
   },
   {
    "duration": 33,
    "start_time": "2021-07-29T07:53:03.318Z"
   },
   {
    "duration": 8,
    "start_time": "2021-07-29T07:54:18.797Z"
   },
   {
    "duration": 33,
    "start_time": "2021-07-29T07:54:33.118Z"
   },
   {
    "duration": 11,
    "start_time": "2021-07-29T07:54:55.326Z"
   },
   {
    "duration": 7,
    "start_time": "2021-07-29T07:55:04.702Z"
   },
   {
    "duration": 8,
    "start_time": "2021-07-29T07:55:15.804Z"
   },
   {
    "duration": 6,
    "start_time": "2021-07-29T07:55:40.534Z"
   },
   {
    "duration": 8,
    "start_time": "2021-07-29T07:55:53.581Z"
   },
   {
    "duration": 13,
    "start_time": "2021-07-29T07:56:04.925Z"
   },
   {
    "duration": 31,
    "start_time": "2021-07-29T07:56:16.315Z"
   },
   {
    "duration": 32,
    "start_time": "2021-07-29T07:56:38.077Z"
   },
   {
    "duration": 10,
    "start_time": "2021-07-29T07:56:51.006Z"
   },
   {
    "duration": 5,
    "start_time": "2021-07-29T07:57:15.991Z"
   },
   {
    "duration": 14,
    "start_time": "2021-07-29T07:57:25.207Z"
   },
   {
    "duration": 10,
    "start_time": "2021-07-29T07:57:36.365Z"
   },
   {
    "duration": 5,
    "start_time": "2021-07-29T07:58:12.767Z"
   },
   {
    "duration": 9,
    "start_time": "2021-07-29T07:58:22.492Z"
   },
   {
    "duration": 5,
    "start_time": "2021-07-29T07:58:32.342Z"
   },
   {
    "duration": 6,
    "start_time": "2021-07-29T07:58:42.072Z"
   },
   {
    "duration": 9443,
    "start_time": "2021-07-29T14:22:42.377Z"
   },
   {
    "duration": 91,
    "start_time": "2021-07-29T14:23:04.622Z"
   },
   {
    "duration": 4,
    "start_time": "2021-07-29T14:23:45.557Z"
   },
   {
    "duration": 3258,
    "start_time": "2021-07-29T14:23:55.444Z"
   },
   {
    "duration": 2130,
    "start_time": "2021-07-29T14:23:58.705Z"
   },
   {
    "duration": 3,
    "start_time": "2021-07-29T14:24:00.838Z"
   },
   {
    "duration": 1276,
    "start_time": "2021-07-29T14:25:06.976Z"
   },
   {
    "duration": 917,
    "start_time": "2021-07-29T14:25:52.106Z"
   },
   {
    "duration": 5,
    "start_time": "2021-07-29T14:27:11.946Z"
   },
   {
    "duration": 5,
    "start_time": "2021-07-29T14:27:42.875Z"
   },
   {
    "duration": 4,
    "start_time": "2021-07-29T14:28:10.084Z"
   },
   {
    "duration": 3187,
    "start_time": "2021-07-29T14:28:50.969Z"
   },
   {
    "duration": 2062,
    "start_time": "2021-07-29T14:28:54.159Z"
   },
   {
    "duration": 4,
    "start_time": "2021-07-29T14:28:56.224Z"
   },
   {
    "duration": 9,
    "start_time": "2021-07-29T14:28:56.230Z"
   },
   {
    "duration": 8,
    "start_time": "2021-07-29T14:28:56.241Z"
   },
   {
    "duration": 6,
    "start_time": "2021-07-29T14:28:56.251Z"
   },
   {
    "duration": 4,
    "start_time": "2021-07-29T14:29:27.299Z"
   },
   {
    "duration": 3670,
    "start_time": "2021-07-29T14:30:14.701Z"
   },
   {
    "duration": 2875,
    "start_time": "2021-07-29T14:31:09.994Z"
   },
   {
    "duration": 894,
    "start_time": "2021-07-29T14:32:20.522Z"
   },
   {
    "duration": 7,
    "start_time": "2021-07-29T14:32:32.531Z"
   },
   {
    "duration": 26,
    "start_time": "2021-07-29T14:32:39.962Z"
   },
   {
    "duration": 5,
    "start_time": "2021-07-29T14:33:06.059Z"
   },
   {
    "duration": 16,
    "start_time": "2021-07-29T14:33:14.137Z"
   },
   {
    "duration": 4,
    "start_time": "2021-07-29T14:33:26.108Z"
   },
   {
    "duration": 5,
    "start_time": "2021-07-29T14:33:41.906Z"
   },
   {
    "duration": 7,
    "start_time": "2021-07-29T14:33:54.378Z"
   },
   {
    "duration": 8,
    "start_time": "2021-07-29T14:34:04.059Z"
   },
   {
    "duration": 3,
    "start_time": "2021-07-29T14:35:22.861Z"
   },
   {
    "duration": 7,
    "start_time": "2021-07-29T14:35:56.172Z"
   },
   {
    "duration": 1048,
    "start_time": "2021-07-29T14:36:19.084Z"
   },
   {
    "duration": 7,
    "start_time": "2021-07-29T14:37:51.595Z"
   },
   {
    "duration": 788,
    "start_time": "2021-07-29T14:37:53.506Z"
   },
   {
    "duration": 4,
    "start_time": "2021-07-29T14:40:24.409Z"
   },
   {
    "duration": 4,
    "start_time": "2021-07-29T14:40:33.868Z"
   },
   {
    "duration": 3398,
    "start_time": "2021-07-29T14:40:40.957Z"
   },
   {
    "duration": 2187,
    "start_time": "2021-07-29T14:40:44.358Z"
   },
   {
    "duration": 5,
    "start_time": "2021-07-29T14:40:46.548Z"
   },
   {
    "duration": 11,
    "start_time": "2021-07-29T14:40:46.556Z"
   },
   {
    "duration": 15,
    "start_time": "2021-07-29T14:40:46.570Z"
   },
   {
    "duration": 7,
    "start_time": "2021-07-29T14:40:46.589Z"
   },
   {
    "duration": 8,
    "start_time": "2021-07-29T14:40:46.599Z"
   },
   {
    "duration": 5,
    "start_time": "2021-07-29T14:40:46.613Z"
   },
   {
    "duration": 8,
    "start_time": "2021-07-29T14:40:46.621Z"
   },
   {
    "duration": 916,
    "start_time": "2021-07-29T14:40:46.632Z"
   },
   {
    "duration": 8,
    "start_time": "2021-07-29T14:40:47.551Z"
   },
   {
    "duration": 39,
    "start_time": "2021-07-29T14:40:47.563Z"
   },
   {
    "duration": 6,
    "start_time": "2021-07-29T14:40:47.605Z"
   },
   {
    "duration": 18,
    "start_time": "2021-07-29T14:40:47.613Z"
   },
   {
    "duration": 5,
    "start_time": "2021-07-29T14:40:47.633Z"
   },
   {
    "duration": 11,
    "start_time": "2021-07-29T14:40:47.640Z"
   },
   {
    "duration": 36,
    "start_time": "2021-07-29T14:40:47.653Z"
   },
   {
    "duration": 9,
    "start_time": "2021-07-29T14:40:47.692Z"
   },
   {
    "duration": 8,
    "start_time": "2021-07-29T14:40:47.703Z"
   },
   {
    "duration": 327,
    "start_time": "2021-07-29T14:40:47.714Z"
   },
   {
    "duration": 214,
    "start_time": "2021-07-29T14:46:47.293Z"
   },
   {
    "duration": 8,
    "start_time": "2021-07-29T14:47:29.754Z"
   },
   {
    "duration": 1156,
    "start_time": "2021-07-29T14:48:15.976Z"
   },
   {
    "duration": 845,
    "start_time": "2021-07-29T14:48:42.264Z"
   },
   {
    "duration": 272,
    "start_time": "2021-07-29T14:48:59.856Z"
   },
   {
    "duration": 16,
    "start_time": "2021-07-29T14:52:52.345Z"
   },
   {
    "duration": 20,
    "start_time": "2021-07-29T14:53:03.312Z"
   },
   {
    "duration": 5,
    "start_time": "2021-07-29T14:53:42.017Z"
   },
   {
    "duration": 555,
    "start_time": "2021-07-29T14:53:51.345Z"
   },
   {
    "duration": 571,
    "start_time": "2021-07-29T14:54:00.990Z"
   },
   {
    "duration": 33,
    "start_time": "2021-07-29T14:54:31.990Z"
   },
   {
    "duration": 18,
    "start_time": "2021-07-29T14:54:46.263Z"
   },
   {
    "duration": 3398,
    "start_time": "2021-07-29T14:55:12.472Z"
   },
   {
    "duration": 2168,
    "start_time": "2021-07-29T14:55:15.873Z"
   },
   {
    "duration": 5,
    "start_time": "2021-07-29T14:55:18.044Z"
   },
   {
    "duration": 11,
    "start_time": "2021-07-29T14:55:18.052Z"
   },
   {
    "duration": 20,
    "start_time": "2021-07-29T14:55:18.066Z"
   },
   {
    "duration": 12,
    "start_time": "2021-07-29T14:55:18.088Z"
   },
   {
    "duration": 10,
    "start_time": "2021-07-29T14:55:18.102Z"
   },
   {
    "duration": 10,
    "start_time": "2021-07-29T14:55:18.116Z"
   },
   {
    "duration": 8,
    "start_time": "2021-07-29T14:55:18.129Z"
   },
   {
    "duration": 893,
    "start_time": "2021-07-29T14:55:18.140Z"
   },
   {
    "duration": 9,
    "start_time": "2021-07-29T14:55:19.035Z"
   },
   {
    "duration": 46,
    "start_time": "2021-07-29T14:55:19.047Z"
   },
   {
    "duration": 5,
    "start_time": "2021-07-29T14:55:19.095Z"
   },
   {
    "duration": 23,
    "start_time": "2021-07-29T14:55:19.103Z"
   },
   {
    "duration": 5,
    "start_time": "2021-07-29T14:55:19.128Z"
   },
   {
    "duration": 7,
    "start_time": "2021-07-29T14:55:19.135Z"
   },
   {
    "duration": 41,
    "start_time": "2021-07-29T14:55:19.145Z"
   },
   {
    "duration": 11,
    "start_time": "2021-07-29T14:55:19.189Z"
   },
   {
    "duration": 10,
    "start_time": "2021-07-29T14:55:19.203Z"
   },
   {
    "duration": 398,
    "start_time": "2021-07-29T14:55:19.217Z"
   },
   {
    "duration": 240,
    "start_time": "2021-07-29T14:55:19.617Z"
   },
   {
    "duration": 26,
    "start_time": "2021-07-29T14:55:19.859Z"
   },
   {
    "duration": 15,
    "start_time": "2021-07-29T14:55:19.889Z"
   },
   {
    "duration": 17,
    "start_time": "2021-07-29T14:55:19.907Z"
   },
   {
    "duration": 5,
    "start_time": "2021-07-29T14:55:19.927Z"
   },
   {
    "duration": 643,
    "start_time": "2021-07-29T14:55:19.935Z"
   },
   {
    "duration": 611,
    "start_time": "2021-07-29T14:55:20.580Z"
   },
   {
    "duration": 24,
    "start_time": "2021-07-29T14:55:21.194Z"
   },
   {
    "duration": 17,
    "start_time": "2021-07-29T14:55:21.221Z"
   },
   {
    "duration": 1548,
    "start_time": "2021-07-30T01:19:19.399Z"
   },
   {
    "duration": 919,
    "start_time": "2021-07-30T01:20:14.528Z"
   },
   {
    "duration": 9,
    "start_time": "2021-07-30T01:20:25.381Z"
   },
   {
    "duration": 6,
    "start_time": "2021-07-30T01:20:45.774Z"
   },
   {
    "duration": 1633,
    "start_time": "2021-07-30T01:23:30.234Z"
   },
   {
    "duration": 928,
    "start_time": "2021-07-30T01:23:31.869Z"
   },
   {
    "duration": 9,
    "start_time": "2021-07-30T01:23:32.801Z"
   },
   {
    "duration": 10,
    "start_time": "2021-07-30T01:23:32.813Z"
   },
   {
    "duration": 63,
    "start_time": "2021-07-30T01:23:32.826Z"
   },
   {
    "duration": 32,
    "start_time": "2021-07-30T01:23:32.892Z"
   },
   {
    "duration": 64,
    "start_time": "2021-07-30T01:23:32.927Z"
   },
   {
    "duration": 26,
    "start_time": "2021-07-30T01:23:32.996Z"
   },
   {
    "duration": 46,
    "start_time": "2021-07-30T01:23:33.025Z"
   },
   {
    "duration": 28,
    "start_time": "2021-07-30T01:23:33.074Z"
   },
   {
    "duration": 4,
    "start_time": "2021-07-30T01:23:33.105Z"
   },
   {
    "duration": 9,
    "start_time": "2021-07-30T01:23:33.111Z"
   },
   {
    "duration": 47,
    "start_time": "2021-07-30T01:23:33.122Z"
   },
   {
    "duration": 11,
    "start_time": "2021-07-30T01:24:20.641Z"
   },
   {
    "duration": 21,
    "start_time": "2021-07-30T01:24:40.350Z"
   },
   {
    "duration": 16,
    "start_time": "2021-07-30T01:25:04.228Z"
   },
   {
    "duration": 10,
    "start_time": "2021-07-30T01:25:13.486Z"
   },
   {
    "duration": 9,
    "start_time": "2021-07-30T01:25:21.503Z"
   },
   {
    "duration": 5,
    "start_time": "2021-07-30T01:25:30.320Z"
   },
   {
    "duration": 16,
    "start_time": "2021-07-30T01:25:59.871Z"
   },
   {
    "duration": 5,
    "start_time": "2021-07-30T01:26:09.881Z"
   },
   {
    "duration": 10,
    "start_time": "2021-07-30T01:26:23.353Z"
   },
   {
    "duration": 8,
    "start_time": "2021-07-30T01:26:32.184Z"
   },
   {
    "duration": 6,
    "start_time": "2021-07-30T01:37:08.030Z"
   },
   {
    "duration": 518,
    "start_time": "2021-07-30T01:37:17.901Z"
   },
   {
    "duration": 5102,
    "start_time": "2021-07-30T01:38:59.584Z"
   },
   {
    "duration": 345,
    "start_time": "2021-07-30T01:39:15.205Z"
   },
   {
    "duration": 1577,
    "start_time": "2021-07-30T01:39:25.248Z"
   },
   {
    "duration": 915,
    "start_time": "2021-07-30T01:39:26.828Z"
   },
   {
    "duration": 8,
    "start_time": "2021-07-30T01:39:27.746Z"
   },
   {
    "duration": 15,
    "start_time": "2021-07-30T01:39:27.756Z"
   },
   {
    "duration": 32,
    "start_time": "2021-07-30T01:39:27.773Z"
   },
   {
    "duration": 29,
    "start_time": "2021-07-30T01:39:27.808Z"
   },
   {
    "duration": 29,
    "start_time": "2021-07-30T01:39:27.868Z"
   },
   {
    "duration": 26,
    "start_time": "2021-07-30T01:39:27.901Z"
   },
   {
    "duration": 41,
    "start_time": "2021-07-30T01:39:27.930Z"
   },
   {
    "duration": 26,
    "start_time": "2021-07-30T01:39:27.974Z"
   },
   {
    "duration": 4,
    "start_time": "2021-07-30T01:39:28.002Z"
   },
   {
    "duration": 10,
    "start_time": "2021-07-30T01:39:28.008Z"
   },
   {
    "duration": 49,
    "start_time": "2021-07-30T01:39:28.020Z"
   },
   {
    "duration": 9,
    "start_time": "2021-07-30T01:39:28.071Z"
   },
   {
    "duration": 22,
    "start_time": "2021-07-30T01:39:28.083Z"
   },
   {
    "duration": 15,
    "start_time": "2021-07-30T01:39:28.107Z"
   },
   {
    "duration": 44,
    "start_time": "2021-07-30T01:39:28.124Z"
   },
   {
    "duration": 7,
    "start_time": "2021-07-30T01:39:28.171Z"
   },
   {
    "duration": 6,
    "start_time": "2021-07-30T01:39:28.180Z"
   },
   {
    "duration": 15,
    "start_time": "2021-07-30T01:39:28.188Z"
   },
   {
    "duration": 5,
    "start_time": "2021-07-30T01:39:28.205Z"
   },
   {
    "duration": 60,
    "start_time": "2021-07-30T01:39:28.212Z"
   },
   {
    "duration": 7,
    "start_time": "2021-07-30T01:39:28.276Z"
   },
   {
    "duration": 6,
    "start_time": "2021-07-30T01:39:28.285Z"
   },
   {
    "duration": 3901,
    "start_time": "2021-07-30T01:39:28.294Z"
   },
   {
    "duration": 3464,
    "start_time": "2021-07-30T01:39:32.198Z"
   },
   {
    "duration": 6,
    "start_time": "2021-07-30T01:40:03.335Z"
   },
   {
    "duration": 3518,
    "start_time": "2021-07-30T01:40:04.053Z"
   },
   {
    "duration": 3402,
    "start_time": "2021-07-30T01:40:07.574Z"
   },
   {
    "duration": 6,
    "start_time": "2021-07-30T01:40:41.839Z"
   },
   {
    "duration": 3352,
    "start_time": "2021-07-30T01:40:55.893Z"
   },
   {
    "duration": 6,
    "start_time": "2021-07-30T01:41:38.031Z"
   },
   {
    "duration": 3193,
    "start_time": "2021-07-30T01:41:47.582Z"
   },
   {
    "duration": 1408,
    "start_time": "2021-07-30T01:42:48.319Z"
   },
   {
    "duration": 11,
    "start_time": "2021-07-30T01:43:24.528Z"
   },
   {
    "duration": 2534,
    "start_time": "2021-07-30T01:43:33.981Z"
   },
   {
    "duration": 12,
    "start_time": "2021-07-30T01:44:32.624Z"
   },
   {
    "duration": 6,
    "start_time": "2021-07-30T01:46:10.927Z"
   },
   {
    "duration": 48,
    "start_time": "2021-07-30T01:46:23.272Z"
   },
   {
    "duration": 5,
    "start_time": "2021-07-30T01:46:33.069Z"
   },
   {
    "duration": 6,
    "start_time": "2021-07-30T01:46:38.597Z"
   },
   {
    "duration": 5,
    "start_time": "2021-07-30T01:47:56.288Z"
   },
   {
    "duration": 4,
    "start_time": "2021-07-30T01:48:05.600Z"
   },
   {
    "duration": 47,
    "start_time": "2021-07-30T01:48:13.065Z"
   },
   {
    "duration": 5,
    "start_time": "2021-07-30T01:48:24.920Z"
   },
   {
    "duration": 6,
    "start_time": "2021-07-30T01:48:44.575Z"
   },
   {
    "duration": 5,
    "start_time": "2021-07-30T01:48:52.594Z"
   },
   {
    "duration": 5,
    "start_time": "2021-07-30T01:49:21.805Z"
   },
   {
    "duration": 3,
    "start_time": "2021-07-30T01:49:29.585Z"
   },
   {
    "duration": 3,
    "start_time": "2021-07-30T01:50:01.329Z"
   },
   {
    "duration": 11,
    "start_time": "2021-07-30T01:54:06.957Z"
   },
   {
    "duration": 6,
    "start_time": "2021-07-30T01:54:16.337Z"
   },
   {
    "duration": 5,
    "start_time": "2021-07-30T01:54:25.256Z"
   },
   {
    "duration": 9,
    "start_time": "2021-07-30T01:54:41.425Z"
   },
   {
    "duration": 3384,
    "start_time": "2021-07-30T01:55:12.985Z"
   },
   {
    "duration": 4,
    "start_time": "2021-07-30T01:55:53.849Z"
   },
   {
    "duration": 4,
    "start_time": "2021-07-30T01:56:17.368Z"
   },
   {
    "duration": 4,
    "start_time": "2021-07-30T01:56:26.217Z"
   },
   {
    "duration": 1515,
    "start_time": "2021-07-30T02:01:22.519Z"
   },
   {
    "duration": 941,
    "start_time": "2021-07-30T02:01:24.036Z"
   },
   {
    "duration": 7,
    "start_time": "2021-07-30T02:01:24.980Z"
   },
   {
    "duration": 8,
    "start_time": "2021-07-30T02:01:24.990Z"
   },
   {
    "duration": 33,
    "start_time": "2021-07-30T02:01:25.001Z"
   },
   {
    "duration": 61,
    "start_time": "2021-07-30T02:01:25.036Z"
   },
   {
    "duration": 33,
    "start_time": "2021-07-30T02:01:25.099Z"
   },
   {
    "duration": 47,
    "start_time": "2021-07-30T02:01:25.136Z"
   },
   {
    "duration": 16,
    "start_time": "2021-07-30T02:01:25.186Z"
   },
   {
    "duration": 25,
    "start_time": "2021-07-30T02:01:25.204Z"
   },
   {
    "duration": 35,
    "start_time": "2021-07-30T02:01:25.232Z"
   },
   {
    "duration": 9,
    "start_time": "2021-07-30T02:01:25.269Z"
   },
   {
    "duration": 15,
    "start_time": "2021-07-30T02:01:25.280Z"
   },
   {
    "duration": 9,
    "start_time": "2021-07-30T02:01:25.297Z"
   },
   {
    "duration": 21,
    "start_time": "2021-07-30T02:01:25.308Z"
   },
   {
    "duration": 49,
    "start_time": "2021-07-30T02:01:25.331Z"
   },
   {
    "duration": 9,
    "start_time": "2021-07-30T02:01:25.382Z"
   },
   {
    "duration": 7,
    "start_time": "2021-07-30T02:01:25.394Z"
   },
   {
    "duration": 8,
    "start_time": "2021-07-30T02:01:25.403Z"
   },
   {
    "duration": 16,
    "start_time": "2021-07-30T02:01:25.413Z"
   },
   {
    "duration": 40,
    "start_time": "2021-07-30T02:01:25.431Z"
   },
   {
    "duration": 11,
    "start_time": "2021-07-30T02:01:25.473Z"
   },
   {
    "duration": 7,
    "start_time": "2021-07-30T02:01:25.490Z"
   },
   {
    "duration": 5,
    "start_time": "2021-07-30T02:01:25.500Z"
   },
   {
    "duration": 3736,
    "start_time": "2021-07-30T02:01:25.507Z"
   },
   {
    "duration": 3537,
    "start_time": "2021-07-30T02:01:29.246Z"
   },
   {
    "duration": 6,
    "start_time": "2021-07-30T02:01:32.786Z"
   },
   {
    "duration": 3324,
    "start_time": "2021-07-30T02:01:32.795Z"
   },
   {
    "duration": 5,
    "start_time": "2021-07-30T02:01:36.122Z"
   },
   {
    "duration": 3415,
    "start_time": "2021-07-30T02:01:36.130Z"
   },
   {
    "duration": 1419,
    "start_time": "2021-07-30T02:01:39.548Z"
   },
   {
    "duration": 9,
    "start_time": "2021-07-30T02:01:40.969Z"
   },
   {
    "duration": 2456,
    "start_time": "2021-07-30T02:01:40.981Z"
   },
   {
    "duration": 11,
    "start_time": "2021-07-30T02:01:43.440Z"
   },
   {
    "duration": 18,
    "start_time": "2021-07-30T02:01:43.453Z"
   },
   {
    "duration": 47,
    "start_time": "2021-07-30T02:01:43.474Z"
   },
   {
    "duration": 4,
    "start_time": "2021-07-30T02:01:43.523Z"
   },
   {
    "duration": 40,
    "start_time": "2021-07-30T02:01:43.529Z"
   },
   {
    "duration": 4,
    "start_time": "2021-07-30T02:01:43.572Z"
   },
   {
    "duration": 51,
    "start_time": "2021-07-30T02:01:43.578Z"
   },
   {
    "duration": 5,
    "start_time": "2021-07-30T02:01:43.632Z"
   },
   {
    "duration": 35,
    "start_time": "2021-07-30T02:01:43.640Z"
   },
   {
    "duration": 6,
    "start_time": "2021-07-30T02:01:43.678Z"
   },
   {
    "duration": 7,
    "start_time": "2021-07-30T02:01:43.686Z"
   },
   {
    "duration": 8,
    "start_time": "2021-07-30T02:01:43.695Z"
   },
   {
    "duration": 7,
    "start_time": "2021-07-30T02:01:43.705Z"
   },
   {
    "duration": 13,
    "start_time": "2021-07-30T02:01:43.714Z"
   },
   {
    "duration": 39,
    "start_time": "2021-07-30T02:01:43.729Z"
   },
   {
    "duration": 5,
    "start_time": "2021-07-30T02:01:43.771Z"
   },
   {
    "duration": 10,
    "start_time": "2021-07-30T02:01:43.778Z"
   },
   {
    "duration": 3680,
    "start_time": "2021-07-30T02:01:43.790Z"
   },
   {
    "duration": 3,
    "start_time": "2021-07-30T02:01:47.473Z"
   },
   {
    "duration": 12,
    "start_time": "2021-07-30T02:01:47.479Z"
   },
   {
    "duration": 4,
    "start_time": "2021-07-30T02:01:47.567Z"
   },
   {
    "duration": 369373,
    "start_time": "2021-07-30T02:01:47.573Z"
   },
   {
    "duration": 362734,
    "start_time": "2021-07-30T02:07:56.948Z"
   },
   {
    "duration": 6,
    "start_time": "2021-07-30T02:13:59.685Z"
   },
   {
    "duration": 7,
    "start_time": "2021-07-30T02:13:59.694Z"
   },
   {
    "duration": 703855,
    "start_time": "2021-07-30T02:13:59.704Z"
   },
   {
    "duration": -4160,
    "start_time": "2021-07-30T02:37:18.866Z"
   },
   {
    "duration": 384,
    "start_time": "2021-07-30T02:37:48.041Z"
   },
   {
    "duration": 344,
    "start_time": "2021-07-30T02:38:51.026Z"
   },
   {
    "duration": 3,
    "start_time": "2021-07-30T02:39:11.474Z"
   },
   {
    "duration": 1588,
    "start_time": "2021-07-30T02:54:01.454Z"
   },
   {
    "duration": 903,
    "start_time": "2021-07-30T02:54:03.044Z"
   },
   {
    "duration": 8,
    "start_time": "2021-07-30T02:54:03.950Z"
   },
   {
    "duration": 28,
    "start_time": "2021-07-30T02:54:03.960Z"
   },
   {
    "duration": 48,
    "start_time": "2021-07-30T02:54:03.990Z"
   },
   {
    "duration": 31,
    "start_time": "2021-07-30T02:54:04.040Z"
   },
   {
    "duration": 45,
    "start_time": "2021-07-30T02:54:04.073Z"
   },
   {
    "duration": 30,
    "start_time": "2021-07-30T02:54:04.121Z"
   },
   {
    "duration": 25,
    "start_time": "2021-07-30T02:54:04.155Z"
   },
   {
    "duration": 27,
    "start_time": "2021-07-30T02:54:04.183Z"
   },
   {
    "duration": 3,
    "start_time": "2021-07-30T02:54:04.213Z"
   },
   {
    "duration": 18,
    "start_time": "2021-07-30T02:54:04.218Z"
   },
   {
    "duration": 16,
    "start_time": "2021-07-30T02:54:04.268Z"
   },
   {
    "duration": 6,
    "start_time": "2021-07-30T02:54:04.286Z"
   },
   {
    "duration": 23,
    "start_time": "2021-07-30T02:54:04.301Z"
   },
   {
    "duration": 47,
    "start_time": "2021-07-30T02:54:04.326Z"
   },
   {
    "duration": 10,
    "start_time": "2021-07-30T02:54:04.375Z"
   },
   {
    "duration": 7,
    "start_time": "2021-07-30T02:54:04.387Z"
   },
   {
    "duration": 5,
    "start_time": "2021-07-30T02:54:04.396Z"
   },
   {
    "duration": 16,
    "start_time": "2021-07-30T02:54:04.403Z"
   },
   {
    "duration": 46,
    "start_time": "2021-07-30T02:54:04.421Z"
   },
   {
    "duration": 10,
    "start_time": "2021-07-30T02:54:04.469Z"
   },
   {
    "duration": 7,
    "start_time": "2021-07-30T02:54:04.485Z"
   },
   {
    "duration": 6,
    "start_time": "2021-07-30T02:54:04.495Z"
   },
   {
    "duration": 3662,
    "start_time": "2021-07-30T02:54:04.503Z"
   },
   {
    "duration": 3578,
    "start_time": "2021-07-30T02:54:08.168Z"
   },
   {
    "duration": 5,
    "start_time": "2021-07-30T02:54:11.748Z"
   },
   {
    "duration": 3244,
    "start_time": "2021-07-30T02:54:11.756Z"
   },
   {
    "duration": 6,
    "start_time": "2021-07-30T02:54:15.002Z"
   },
   {
    "duration": 3353,
    "start_time": "2021-07-30T02:54:15.010Z"
   },
   {
    "duration": 1460,
    "start_time": "2021-07-30T02:54:18.368Z"
   },
   {
    "duration": 9,
    "start_time": "2021-07-30T02:54:19.831Z"
   },
   {
    "duration": 2372,
    "start_time": "2021-07-30T02:54:19.843Z"
   },
   {
    "duration": 10,
    "start_time": "2021-07-30T02:54:22.217Z"
   },
   {
    "duration": 15,
    "start_time": "2021-07-30T02:54:22.230Z"
   },
   {
    "duration": 59,
    "start_time": "2021-07-30T02:54:22.247Z"
   },
   {
    "duration": 5,
    "start_time": "2021-07-30T02:54:22.309Z"
   },
   {
    "duration": 13,
    "start_time": "2021-07-30T02:54:22.316Z"
   },
   {
    "duration": 6,
    "start_time": "2021-07-30T02:54:22.332Z"
   },
   {
    "duration": 67,
    "start_time": "2021-07-30T02:54:22.340Z"
   },
   {
    "duration": 6,
    "start_time": "2021-07-30T02:54:22.409Z"
   },
   {
    "duration": 8,
    "start_time": "2021-07-30T02:54:22.417Z"
   },
   {
    "duration": 7,
    "start_time": "2021-07-30T02:54:22.427Z"
   },
   {
    "duration": 33,
    "start_time": "2021-07-30T02:54:22.436Z"
   },
   {
    "duration": 13,
    "start_time": "2021-07-30T02:54:22.472Z"
   },
   {
    "duration": 12,
    "start_time": "2021-07-30T02:54:22.488Z"
   },
   {
    "duration": 11,
    "start_time": "2021-07-30T02:54:22.503Z"
   },
   {
    "duration": 14,
    "start_time": "2021-07-30T02:54:22.516Z"
   },
   {
    "duration": 9,
    "start_time": "2021-07-30T02:54:22.532Z"
   },
   {
    "duration": 25,
    "start_time": "2021-07-30T02:54:22.544Z"
   },
   {
    "duration": 2901,
    "start_time": "2021-07-30T02:54:22.571Z"
   },
   {
    "duration": 5,
    "start_time": "2021-07-30T02:54:25.474Z"
   },
   {
    "duration": 7,
    "start_time": "2021-07-30T02:54:25.481Z"
   },
   {
    "duration": 6,
    "start_time": "2021-07-30T02:54:25.490Z"
   },
   {
    "duration": 364694,
    "start_time": "2021-07-30T02:54:25.498Z"
   },
   {
    "duration": 9,
    "start_time": "2021-07-30T03:29:40.312Z"
   },
   {
    "duration": 982,
    "start_time": "2021-07-30T03:37:31.816Z"
   },
   {
    "duration": 6,
    "start_time": "2021-07-30T03:37:34.803Z"
   },
   {
    "duration": 3411,
    "start_time": "2021-07-30T03:38:05.626Z"
   },
   {
    "duration": 3419,
    "start_time": "2021-07-30T03:38:31.187Z"
   },
   {
    "duration": 3526,
    "start_time": "2021-07-30T03:38:42.810Z"
   },
   {
    "duration": 4321,
    "start_time": "2021-07-30T03:39:11.054Z"
   },
   {
    "duration": 3109,
    "start_time": "2021-07-30T03:39:27.134Z"
   },
   {
    "duration": 3231,
    "start_time": "2021-07-30T03:40:01.036Z"
   },
   {
    "duration": 3257,
    "start_time": "2021-07-30T03:40:12.177Z"
   },
   {
    "duration": 3409,
    "start_time": "2021-07-30T03:40:50.011Z"
   },
   {
    "duration": 3255,
    "start_time": "2021-07-30T03:45:22.115Z"
   },
   {
    "duration": 1464,
    "start_time": "2021-07-30T03:46:11.695Z"
   },
   {
    "duration": 8002,
    "start_time": "2021-07-30T03:54:13.037Z"
   },
   {
    "duration": 11,
    "start_time": "2021-07-30T03:54:24.658Z"
   },
   {
    "duration": 2307,
    "start_time": "2021-07-30T03:54:28.464Z"
   },
   {
    "duration": 1973,
    "start_time": "2021-07-30T04:00:57.349Z"
   },
   {
    "duration": 3080,
    "start_time": "2021-07-30T04:01:15.954Z"
   },
   {
    "duration": 3520,
    "start_time": "2021-07-30T04:01:32.562Z"
   },
   {
    "duration": 3405,
    "start_time": "2021-07-30T04:01:52.348Z"
   },
   {
    "duration": 4589,
    "start_time": "2021-07-30T04:03:39.563Z"
   },
   {
    "duration": 4789,
    "start_time": "2021-07-30T04:05:09.947Z"
   },
   {
    "duration": 3416,
    "start_time": "2021-07-30T04:05:51.883Z"
   },
   {
    "duration": 1449,
    "start_time": "2021-07-30T04:06:33.047Z"
   },
   {
    "duration": 1456,
    "start_time": "2021-07-30T04:06:48.635Z"
   },
   {
    "duration": 1594,
    "start_time": "2021-07-30T04:07:25.612Z"
   },
   {
    "duration": 1487,
    "start_time": "2021-07-30T04:07:46.212Z"
   },
   {
    "duration": 1491,
    "start_time": "2021-07-30T04:07:59.006Z"
   },
   {
    "duration": 1457,
    "start_time": "2021-07-30T04:08:15.435Z"
   },
   {
    "duration": 2331,
    "start_time": "2021-07-30T04:09:42.911Z"
   },
   {
    "duration": 1637,
    "start_time": "2021-07-30T04:11:59.547Z"
   },
   {
    "duration": 917,
    "start_time": "2021-07-30T04:12:01.187Z"
   },
   {
    "duration": 8,
    "start_time": "2021-07-30T04:12:02.107Z"
   },
   {
    "duration": 14,
    "start_time": "2021-07-30T04:12:02.117Z"
   },
   {
    "duration": 53,
    "start_time": "2021-07-30T04:12:02.134Z"
   },
   {
    "duration": 39,
    "start_time": "2021-07-30T04:12:02.189Z"
   },
   {
    "duration": 42,
    "start_time": "2021-07-30T04:12:02.230Z"
   },
   {
    "duration": 25,
    "start_time": "2021-07-30T04:12:02.276Z"
   },
   {
    "duration": 17,
    "start_time": "2021-07-30T04:12:02.305Z"
   },
   {
    "duration": 61,
    "start_time": "2021-07-30T04:12:02.324Z"
   },
   {
    "duration": 3,
    "start_time": "2021-07-30T04:12:02.387Z"
   },
   {
    "duration": 39,
    "start_time": "2021-07-30T04:12:02.392Z"
   },
   {
    "duration": 23,
    "start_time": "2021-07-30T04:12:02.434Z"
   },
   {
    "duration": 6,
    "start_time": "2021-07-30T04:12:02.459Z"
   },
   {
    "duration": 34,
    "start_time": "2021-07-30T04:12:02.470Z"
   },
   {
    "duration": 26,
    "start_time": "2021-07-30T04:12:02.506Z"
   },
   {
    "duration": 9,
    "start_time": "2021-07-30T04:12:02.535Z"
   },
   {
    "duration": 21,
    "start_time": "2021-07-30T04:12:02.546Z"
   },
   {
    "duration": 5,
    "start_time": "2021-07-30T04:12:02.569Z"
   },
   {
    "duration": 17,
    "start_time": "2021-07-30T04:12:02.576Z"
   },
   {
    "duration": 11,
    "start_time": "2021-07-30T04:12:02.595Z"
   },
   {
    "duration": 23,
    "start_time": "2021-07-30T04:12:02.608Z"
   },
   {
    "duration": 7,
    "start_time": "2021-07-30T04:12:02.637Z"
   },
   {
    "duration": 6,
    "start_time": "2021-07-30T04:12:02.666Z"
   },
   {
    "duration": 3667,
    "start_time": "2021-07-30T04:12:02.674Z"
   },
   {
    "duration": 3317,
    "start_time": "2021-07-30T04:12:06.344Z"
   },
   {
    "duration": 7,
    "start_time": "2021-07-30T04:12:09.667Z"
   },
   {
    "duration": 3239,
    "start_time": "2021-07-30T04:12:09.677Z"
   },
   {
    "duration": 7,
    "start_time": "2021-07-30T04:12:12.919Z"
   },
   {
    "duration": 3273,
    "start_time": "2021-07-30T04:12:12.929Z"
   },
   {
    "duration": 1745,
    "start_time": "2021-07-30T04:12:16.205Z"
   },
   {
    "duration": 21,
    "start_time": "2021-07-30T04:12:17.953Z"
   },
   {
    "duration": 2263,
    "start_time": "2021-07-30T04:12:17.977Z"
   },
   {
    "duration": 11,
    "start_time": "2021-07-30T04:12:20.242Z"
   },
   {
    "duration": 5,
    "start_time": "2021-07-30T04:12:20.268Z"
   },
   {
    "duration": 45,
    "start_time": "2021-07-30T04:12:20.276Z"
   },
   {
    "duration": 4,
    "start_time": "2021-07-30T04:12:20.323Z"
   },
   {
    "duration": 37,
    "start_time": "2021-07-30T04:12:20.330Z"
   },
   {
    "duration": 7,
    "start_time": "2021-07-30T04:12:20.370Z"
   },
   {
    "duration": 46,
    "start_time": "2021-07-30T04:12:20.379Z"
   },
   {
    "duration": 5,
    "start_time": "2021-07-30T04:12:20.427Z"
   },
   {
    "duration": 6,
    "start_time": "2021-07-30T04:12:20.434Z"
   },
   {
    "duration": 5,
    "start_time": "2021-07-30T04:12:20.467Z"
   },
   {
    "duration": 4,
    "start_time": "2021-07-30T04:12:20.475Z"
   },
   {
    "duration": 9,
    "start_time": "2021-07-30T04:12:20.482Z"
   },
   {
    "duration": 5,
    "start_time": "2021-07-30T04:12:20.493Z"
   },
   {
    "duration": 11,
    "start_time": "2021-07-30T04:12:20.501Z"
   },
   {
    "duration": 15,
    "start_time": "2021-07-30T04:12:20.515Z"
   },
   {
    "duration": 37,
    "start_time": "2021-07-30T04:12:20.532Z"
   },
   {
    "duration": 14,
    "start_time": "2021-07-30T04:12:20.572Z"
   },
   {
    "duration": 3385,
    "start_time": "2021-07-30T04:12:20.588Z"
   },
   {
    "duration": 5,
    "start_time": "2021-07-30T04:12:23.976Z"
   },
   {
    "duration": 88,
    "start_time": "2021-07-30T04:12:23.984Z"
   },
   {
    "duration": 6,
    "start_time": "2021-07-30T04:12:24.075Z"
   },
   {
    "duration": 369434,
    "start_time": "2021-07-30T04:12:24.084Z"
   },
   {
    "duration": 362636,
    "start_time": "2021-07-30T04:18:33.520Z"
   },
   {
    "duration": 10,
    "start_time": "2021-07-30T04:24:36.159Z"
   },
   {
    "duration": 5,
    "start_time": "2021-07-30T04:24:36.173Z"
   },
   {
    "duration": 709687,
    "start_time": "2021-07-30T04:24:36.181Z"
   },
   {
    "duration": 695896,
    "start_time": "2021-07-30T04:36:25.871Z"
   },
   {
    "duration": 5,
    "start_time": "2021-07-30T04:48:01.769Z"
   },
   {
    "duration": 7018,
    "start_time": "2021-07-30T04:48:01.776Z"
   },
   {
    "duration": 10,
    "start_time": "2021-07-30T04:48:08.797Z"
   },
   {
    "duration": 12,
    "start_time": "2021-07-30T04:48:08.810Z"
   },
   {
    "duration": 3,
    "start_time": "2021-07-30T04:48:48.287Z"
   },
   {
    "duration": 288,
    "start_time": "2021-07-31T01:18:26.701Z"
   },
   {
    "duration": 2,
    "start_time": "2021-07-31T01:18:37.862Z"
   },
   {
    "duration": 1273,
    "start_time": "2021-07-31T01:18:58.743Z"
   },
   {
    "duration": 725,
    "start_time": "2021-07-31T01:19:00.018Z"
   },
   {
    "duration": 5,
    "start_time": "2021-07-31T01:19:00.745Z"
   },
   {
    "duration": 11,
    "start_time": "2021-07-31T01:19:00.752Z"
   },
   {
    "duration": 77,
    "start_time": "2021-07-31T01:19:00.765Z"
   },
   {
    "duration": 20,
    "start_time": "2021-07-31T01:19:00.843Z"
   },
   {
    "duration": 24,
    "start_time": "2021-07-31T01:19:00.864Z"
   },
   {
    "duration": 23,
    "start_time": "2021-07-31T01:19:00.890Z"
   },
   {
    "duration": 9,
    "start_time": "2021-07-31T01:19:00.915Z"
   },
   {
    "duration": 18,
    "start_time": "2021-07-31T01:19:00.940Z"
   },
   {
    "duration": 3,
    "start_time": "2021-07-31T01:19:00.960Z"
   },
   {
    "duration": 10,
    "start_time": "2021-07-31T01:19:00.965Z"
   },
   {
    "duration": 14,
    "start_time": "2021-07-31T01:19:00.977Z"
   },
   {
    "duration": 8,
    "start_time": "2021-07-31T01:19:00.993Z"
   },
   {
    "duration": 39,
    "start_time": "2021-07-31T01:19:01.002Z"
   },
   {
    "duration": 12,
    "start_time": "2021-07-31T01:19:01.042Z"
   },
   {
    "duration": 7,
    "start_time": "2021-07-31T01:19:01.056Z"
   },
   {
    "duration": 13,
    "start_time": "2021-07-31T01:19:01.065Z"
   },
   {
    "duration": 11,
    "start_time": "2021-07-31T01:19:01.080Z"
   },
   {
    "duration": 18,
    "start_time": "2021-07-31T01:19:01.092Z"
   },
   {
    "duration": 11,
    "start_time": "2021-07-31T01:19:01.112Z"
   },
   {
    "duration": 17,
    "start_time": "2021-07-31T01:19:01.125Z"
   },
   {
    "duration": 6,
    "start_time": "2021-07-31T01:19:01.146Z"
   },
   {
    "duration": 12,
    "start_time": "2021-07-31T01:19:01.154Z"
   },
   {
    "duration": 3506,
    "start_time": "2021-07-31T01:19:01.168Z"
   },
   {
    "duration": 365,
    "start_time": "2021-07-31T01:19:04.677Z"
   },
   {
    "duration": -4570,
    "start_time": "2021-07-31T01:19:09.614Z"
   },
   {
    "duration": -4577,
    "start_time": "2021-07-31T01:19:09.623Z"
   },
   {
    "duration": -4586,
    "start_time": "2021-07-31T01:19:09.633Z"
   },
   {
    "duration": -4595,
    "start_time": "2021-07-31T01:19:09.644Z"
   },
   {
    "duration": -4603,
    "start_time": "2021-07-31T01:19:09.653Z"
   },
   {
    "duration": -4607,
    "start_time": "2021-07-31T01:19:09.659Z"
   },
   {
    "duration": -4613,
    "start_time": "2021-07-31T01:19:09.666Z"
   },
   {
    "duration": -4617,
    "start_time": "2021-07-31T01:19:09.672Z"
   },
   {
    "duration": -4622,
    "start_time": "2021-07-31T01:19:09.678Z"
   },
   {
    "duration": -4629,
    "start_time": "2021-07-31T01:19:09.686Z"
   },
   {
    "duration": -4635,
    "start_time": "2021-07-31T01:19:09.694Z"
   },
   {
    "duration": -4644,
    "start_time": "2021-07-31T01:19:09.704Z"
   },
   {
    "duration": -4661,
    "start_time": "2021-07-31T01:19:09.723Z"
   },
   {
    "duration": -4667,
    "start_time": "2021-07-31T01:19:09.730Z"
   },
   {
    "duration": -4682,
    "start_time": "2021-07-31T01:19:09.747Z"
   },
   {
    "duration": -4713,
    "start_time": "2021-07-31T01:19:09.779Z"
   },
   {
    "duration": -4720,
    "start_time": "2021-07-31T01:19:09.788Z"
   },
   {
    "duration": -4735,
    "start_time": "2021-07-31T01:19:09.804Z"
   },
   {
    "duration": -4754,
    "start_time": "2021-07-31T01:19:09.825Z"
   },
   {
    "duration": -4773,
    "start_time": "2021-07-31T01:19:09.845Z"
   },
   {
    "duration": -4808,
    "start_time": "2021-07-31T01:19:09.882Z"
   },
   {
    "duration": -4832,
    "start_time": "2021-07-31T01:19:09.907Z"
   },
   {
    "duration": -4840,
    "start_time": "2021-07-31T01:19:09.917Z"
   },
   {
    "duration": -4849,
    "start_time": "2021-07-31T01:19:09.927Z"
   },
   {
    "duration": -4853,
    "start_time": "2021-07-31T01:19:09.932Z"
   },
   {
    "duration": -4862,
    "start_time": "2021-07-31T01:19:09.943Z"
   },
   {
    "duration": -4810,
    "start_time": "2021-07-31T01:19:09.950Z"
   },
   {
    "duration": -4813,
    "start_time": "2021-07-31T01:19:09.955Z"
   },
   {
    "duration": -4818,
    "start_time": "2021-07-31T01:19:09.961Z"
   },
   {
    "duration": -4821,
    "start_time": "2021-07-31T01:19:09.966Z"
   },
   {
    "duration": -4826,
    "start_time": "2021-07-31T01:19:09.972Z"
   },
   {
    "duration": -4832,
    "start_time": "2021-07-31T01:19:09.980Z"
   },
   {
    "duration": -4840,
    "start_time": "2021-07-31T01:19:09.989Z"
   },
   {
    "duration": -4846,
    "start_time": "2021-07-31T01:19:09.997Z"
   },
   {
    "duration": -4871,
    "start_time": "2021-07-31T01:19:10.023Z"
   },
   {
    "duration": -4874,
    "start_time": "2021-07-31T01:19:10.028Z"
   },
   {
    "duration": -4879,
    "start_time": "2021-07-31T01:19:10.034Z"
   },
   {
    "duration": -4883,
    "start_time": "2021-07-31T01:19:10.040Z"
   },
   {
    "duration": -4887,
    "start_time": "2021-07-31T01:19:10.045Z"
   },
   {
    "duration": 2492,
    "start_time": "2021-07-31T01:19:59.590Z"
   },
   {
    "duration": 268,
    "start_time": "2021-07-31T01:20:07.171Z"
   },
   {
    "duration": 1123,
    "start_time": "2021-07-31T01:21:33.576Z"
   },
   {
    "duration": 694,
    "start_time": "2021-07-31T01:21:34.701Z"
   },
   {
    "duration": 6,
    "start_time": "2021-07-31T01:21:35.397Z"
   },
   {
    "duration": 5,
    "start_time": "2021-07-31T01:21:35.405Z"
   },
   {
    "duration": 41,
    "start_time": "2021-07-31T01:21:35.412Z"
   },
   {
    "duration": 17,
    "start_time": "2021-07-31T01:21:35.454Z"
   },
   {
    "duration": 19,
    "start_time": "2021-07-31T01:21:35.473Z"
   },
   {
    "duration": 15,
    "start_time": "2021-07-31T01:21:35.495Z"
   },
   {
    "duration": 37,
    "start_time": "2021-07-31T01:21:35.513Z"
   },
   {
    "duration": 18,
    "start_time": "2021-07-31T01:21:35.552Z"
   },
   {
    "duration": 3,
    "start_time": "2021-07-31T01:21:35.572Z"
   },
   {
    "duration": 7,
    "start_time": "2021-07-31T01:21:35.577Z"
   },
   {
    "duration": 11,
    "start_time": "2021-07-31T01:21:35.586Z"
   },
   {
    "duration": 42,
    "start_time": "2021-07-31T01:21:35.598Z"
   },
   {
    "duration": 16,
    "start_time": "2021-07-31T01:21:35.643Z"
   },
   {
    "duration": 17,
    "start_time": "2021-07-31T01:21:35.661Z"
   },
   {
    "duration": 9,
    "start_time": "2021-07-31T01:21:35.679Z"
   },
   {
    "duration": 6,
    "start_time": "2021-07-31T01:21:35.690Z"
   },
   {
    "duration": 9,
    "start_time": "2021-07-31T01:21:35.697Z"
   },
   {
    "duration": 39,
    "start_time": "2021-07-31T01:21:35.708Z"
   },
   {
    "duration": 3,
    "start_time": "2021-07-31T01:21:35.749Z"
   },
   {
    "duration": 9,
    "start_time": "2021-07-31T01:21:35.753Z"
   },
   {
    "duration": 4,
    "start_time": "2021-07-31T01:21:35.766Z"
   },
   {
    "duration": 4,
    "start_time": "2021-07-31T01:21:35.772Z"
   },
   {
    "duration": 2349,
    "start_time": "2021-07-31T01:21:35.778Z"
   },
   {
    "duration": 2150,
    "start_time": "2021-07-31T01:21:38.129Z"
   },
   {
    "duration": 4,
    "start_time": "2021-07-31T01:21:40.280Z"
   },
   {
    "duration": 2084,
    "start_time": "2021-07-31T01:21:40.286Z"
   },
   {
    "duration": 4,
    "start_time": "2021-07-31T01:21:42.372Z"
   },
   {
    "duration": 2000,
    "start_time": "2021-07-31T01:21:42.377Z"
   },
   {
    "duration": 1018,
    "start_time": "2021-07-31T01:21:44.379Z"
   },
   {
    "duration": 7,
    "start_time": "2021-07-31T01:21:45.398Z"
   },
   {
    "duration": 1463,
    "start_time": "2021-07-31T01:21:45.407Z"
   },
   {
    "duration": 8,
    "start_time": "2021-07-31T01:21:46.872Z"
   },
   {
    "duration": 3,
    "start_time": "2021-07-31T01:21:46.881Z"
   },
   {
    "duration": 33,
    "start_time": "2021-07-31T01:21:46.886Z"
   },
   {
    "duration": 20,
    "start_time": "2021-07-31T01:21:46.921Z"
   },
   {
    "duration": 3,
    "start_time": "2021-07-31T01:21:46.942Z"
   },
   {
    "duration": 5,
    "start_time": "2021-07-31T01:21:46.947Z"
   },
   {
    "duration": 39,
    "start_time": "2021-07-31T01:21:46.954Z"
   },
   {
    "duration": 3,
    "start_time": "2021-07-31T01:21:46.994Z"
   },
   {
    "duration": 6,
    "start_time": "2021-07-31T01:21:46.999Z"
   },
   {
    "duration": 4,
    "start_time": "2021-07-31T01:21:47.006Z"
   },
   {
    "duration": 4,
    "start_time": "2021-07-31T01:21:47.012Z"
   },
   {
    "duration": 4,
    "start_time": "2021-07-31T01:21:47.041Z"
   },
   {
    "duration": 4,
    "start_time": "2021-07-31T01:21:47.047Z"
   },
   {
    "duration": 4,
    "start_time": "2021-07-31T01:21:47.053Z"
   },
   {
    "duration": 11,
    "start_time": "2021-07-31T01:21:47.059Z"
   },
   {
    "duration": 7,
    "start_time": "2021-07-31T01:21:47.072Z"
   },
   {
    "duration": 8,
    "start_time": "2021-07-31T01:21:47.081Z"
   },
   {
    "duration": 8,
    "start_time": "2021-07-31T01:21:47.090Z"
   },
   {
    "duration": 3044,
    "start_time": "2021-07-31T01:21:47.099Z"
   },
   {
    "duration": 3,
    "start_time": "2021-07-31T01:21:50.144Z"
   },
   {
    "duration": 7,
    "start_time": "2021-07-31T01:21:50.149Z"
   },
   {
    "duration": 5,
    "start_time": "2021-07-31T01:21:50.158Z"
   },
   {
    "duration": 285150,
    "start_time": "2021-07-31T01:21:50.165Z"
   },
   {
    "duration": 274684,
    "start_time": "2021-07-31T01:26:35.317Z"
   },
   {
    "duration": 4,
    "start_time": "2021-07-31T01:31:10.003Z"
   },
   {
    "duration": 5,
    "start_time": "2021-07-31T01:31:10.009Z"
   },
   {
    "duration": 536324,
    "start_time": "2021-07-31T01:31:10.016Z"
   },
   {
    "duration": 520812,
    "start_time": "2021-07-31T01:40:06.342Z"
   },
   {
    "duration": 3,
    "start_time": "2021-07-31T01:48:47.155Z"
   },
   {
    "duration": 5228,
    "start_time": "2021-07-31T01:48:47.160Z"
   },
   {
    "duration": 6,
    "start_time": "2021-07-31T01:48:52.389Z"
   },
   {
    "duration": 9,
    "start_time": "2021-07-31T01:48:52.397Z"
   }
  ],
  "kernelspec": {
   "display_name": "Python 3",
   "language": "python",
   "name": "python3"
  },
  "language_info": {
   "codemirror_mode": {
    "name": "ipython",
    "version": 3
   },
   "file_extension": ".py",
   "mimetype": "text/x-python",
   "name": "python",
   "nbconvert_exporter": "python",
   "pygments_lexer": "ipython3",
   "version": "3.8.5"
  },
  "toc": {
   "base_numbering": 1,
   "nav_menu": {},
   "number_sections": true,
   "sideBar": true,
   "skip_h1_title": true,
   "title_cell": "Содержание",
   "title_sidebar": "Contents",
   "toc_cell": true,
   "toc_position": {
    "height": "calc(100% - 180px)",
    "left": "10px",
    "top": "150px",
    "width": "165px"
   },
   "toc_section_display": true,
   "toc_window_display": true
  }
 },
 "nbformat": 4,
 "nbformat_minor": 2
}
