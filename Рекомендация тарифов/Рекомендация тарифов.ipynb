{
 "cells": [
  {
   "cell_type": "markdown",
   "metadata": {},
   "source": [
    "# Рекомендация тарифов"
   ]
  },
  {
   "cell_type": "markdown",
   "metadata": {},
   "source": [
    "В вашем распоряжении данные о поведении клиентов, которые уже перешли на эти тарифы (из проекта курса «Статистический анализ данных»). Нужно построить модель для задачи классификации, которая выберет подходящий тариф. Предобработка данных не понадобится — вы её уже сделали.\n",
    "\n",
    "Постройте модель с максимально большим значением *accuracy*. Чтобы сдать проект успешно, нужно довести долю правильных ответов по крайней мере до 0.75. Проверьте *accuracy* на тестовой выборке самостоятельно."
   ]
  },
  {
   "cell_type": "markdown",
   "metadata": {},
   "source": [
    "## Откройте и изучите файл"
   ]
  },
  {
   "cell_type": "markdown",
   "metadata": {},
   "source": [
    "Импортируем необходимые для работы библиотеки:"
   ]
  },
  {
   "cell_type": "code",
   "execution_count": 1,
   "metadata": {},
   "outputs": [],
   "source": [
    "import pandas as pd\n",
    "from sklearn.model_selection import train_test_split\n",
    "from sklearn.tree import DecisionTreeClassifier\n",
    "from sklearn.metrics import accuracy_score\n",
    "from sklearn.ensemble import RandomForestClassifier\n",
    "from sklearn.linear_model import LogisticRegression\n",
    "from sklearn.dummy import DummyClassifier"
   ]
  },
  {
   "cell_type": "code",
   "execution_count": 2,
   "metadata": {},
   "outputs": [],
   "source": [
    "df = pd.read_csv('/datasets/users_behavior.csv')"
   ]
  },
  {
   "cell_type": "code",
   "execution_count": 3,
   "metadata": {},
   "outputs": [
    {
     "data": {
      "text/html": [
       "<div>\n",
       "<style scoped>\n",
       "    .dataframe tbody tr th:only-of-type {\n",
       "        vertical-align: middle;\n",
       "    }\n",
       "\n",
       "    .dataframe tbody tr th {\n",
       "        vertical-align: top;\n",
       "    }\n",
       "\n",
       "    .dataframe thead th {\n",
       "        text-align: right;\n",
       "    }\n",
       "</style>\n",
       "<table border=\"1\" class=\"dataframe\">\n",
       "  <thead>\n",
       "    <tr style=\"text-align: right;\">\n",
       "      <th></th>\n",
       "      <th>calls</th>\n",
       "      <th>minutes</th>\n",
       "      <th>messages</th>\n",
       "      <th>mb_used</th>\n",
       "      <th>is_ultra</th>\n",
       "    </tr>\n",
       "  </thead>\n",
       "  <tbody>\n",
       "    <tr>\n",
       "      <td>0</td>\n",
       "      <td>40.0</td>\n",
       "      <td>311.90</td>\n",
       "      <td>83.0</td>\n",
       "      <td>19915.42</td>\n",
       "      <td>0</td>\n",
       "    </tr>\n",
       "    <tr>\n",
       "      <td>1</td>\n",
       "      <td>85.0</td>\n",
       "      <td>516.75</td>\n",
       "      <td>56.0</td>\n",
       "      <td>22696.96</td>\n",
       "      <td>0</td>\n",
       "    </tr>\n",
       "    <tr>\n",
       "      <td>2</td>\n",
       "      <td>77.0</td>\n",
       "      <td>467.66</td>\n",
       "      <td>86.0</td>\n",
       "      <td>21060.45</td>\n",
       "      <td>0</td>\n",
       "    </tr>\n",
       "    <tr>\n",
       "      <td>3</td>\n",
       "      <td>106.0</td>\n",
       "      <td>745.53</td>\n",
       "      <td>81.0</td>\n",
       "      <td>8437.39</td>\n",
       "      <td>1</td>\n",
       "    </tr>\n",
       "    <tr>\n",
       "      <td>4</td>\n",
       "      <td>66.0</td>\n",
       "      <td>418.74</td>\n",
       "      <td>1.0</td>\n",
       "      <td>14502.75</td>\n",
       "      <td>0</td>\n",
       "    </tr>\n",
       "    <tr>\n",
       "      <td>...</td>\n",
       "      <td>...</td>\n",
       "      <td>...</td>\n",
       "      <td>...</td>\n",
       "      <td>...</td>\n",
       "      <td>...</td>\n",
       "    </tr>\n",
       "    <tr>\n",
       "      <td>3209</td>\n",
       "      <td>122.0</td>\n",
       "      <td>910.98</td>\n",
       "      <td>20.0</td>\n",
       "      <td>35124.90</td>\n",
       "      <td>1</td>\n",
       "    </tr>\n",
       "    <tr>\n",
       "      <td>3210</td>\n",
       "      <td>25.0</td>\n",
       "      <td>190.36</td>\n",
       "      <td>0.0</td>\n",
       "      <td>3275.61</td>\n",
       "      <td>0</td>\n",
       "    </tr>\n",
       "    <tr>\n",
       "      <td>3211</td>\n",
       "      <td>97.0</td>\n",
       "      <td>634.44</td>\n",
       "      <td>70.0</td>\n",
       "      <td>13974.06</td>\n",
       "      <td>0</td>\n",
       "    </tr>\n",
       "    <tr>\n",
       "      <td>3212</td>\n",
       "      <td>64.0</td>\n",
       "      <td>462.32</td>\n",
       "      <td>90.0</td>\n",
       "      <td>31239.78</td>\n",
       "      <td>0</td>\n",
       "    </tr>\n",
       "    <tr>\n",
       "      <td>3213</td>\n",
       "      <td>80.0</td>\n",
       "      <td>566.09</td>\n",
       "      <td>6.0</td>\n",
       "      <td>29480.52</td>\n",
       "      <td>1</td>\n",
       "    </tr>\n",
       "  </tbody>\n",
       "</table>\n",
       "<p>3214 rows × 5 columns</p>\n",
       "</div>"
      ],
      "text/plain": [
       "      calls  minutes  messages   mb_used  is_ultra\n",
       "0      40.0   311.90      83.0  19915.42         0\n",
       "1      85.0   516.75      56.0  22696.96         0\n",
       "2      77.0   467.66      86.0  21060.45         0\n",
       "3     106.0   745.53      81.0   8437.39         1\n",
       "4      66.0   418.74       1.0  14502.75         0\n",
       "...     ...      ...       ...       ...       ...\n",
       "3209  122.0   910.98      20.0  35124.90         1\n",
       "3210   25.0   190.36       0.0   3275.61         0\n",
       "3211   97.0   634.44      70.0  13974.06         0\n",
       "3212   64.0   462.32      90.0  31239.78         0\n",
       "3213   80.0   566.09       6.0  29480.52         1\n",
       "\n",
       "[3214 rows x 5 columns]"
      ]
     },
     "execution_count": 3,
     "metadata": {},
     "output_type": "execute_result"
    }
   ],
   "source": [
    "df"
   ]
  },
  {
   "cell_type": "markdown",
   "metadata": {},
   "source": [
    "Обычные признаки это количество МБ, минут, звонков и сообщений. Целевой - это тариф."
   ]
  },
  {
   "cell_type": "markdown",
   "metadata": {},
   "source": [
    "## Разбейте данные на выборки"
   ]
  },
  {
   "cell_type": "markdown",
   "metadata": {},
   "source": [
    "Разобьем наш датасет на обучающую, валидационную и тестовую выборки:"
   ]
  },
  {
   "cell_type": "code",
   "execution_count": 4,
   "metadata": {},
   "outputs": [],
   "source": [
    "df_train, df_valid = train_test_split(df, test_size=0.3, random_state=12345)"
   ]
  },
  {
   "cell_type": "code",
   "execution_count": 5,
   "metadata": {},
   "outputs": [],
   "source": [
    "df_valid, df_test = train_test_split(df_valid,test_size = 0.5, random_state=12345)"
   ]
  },
  {
   "cell_type": "markdown",
   "metadata": {},
   "source": [
    "Отделим целевые признаки от обычных:"
   ]
  },
  {
   "cell_type": "code",
   "execution_count": 6,
   "metadata": {},
   "outputs": [],
   "source": [
    "features_train = df_train.drop(['is_ultra'], axis=1)\n",
    "target_train = df_train['is_ultra']\n",
    "test_features = df_test.drop(['is_ultra'], axis=1)\n",
    "test_target = df_test['is_ultra']\n",
    "features_valid = df_valid.drop(['is_ultra'], axis=1)\n",
    "target_valid = df_valid['is_ultra']"
   ]
  },
  {
   "cell_type": "markdown",
   "metadata": {},
   "source": [
    "## Исследуйте модели"
   ]
  },
  {
   "cell_type": "markdown",
   "metadata": {},
   "source": [
    "**Произведем проверку моделей для дерева решений:**"
   ]
  },
  {
   "cell_type": "code",
   "execution_count": 7,
   "metadata": {},
   "outputs": [
    {
     "name": "stdout",
     "output_type": "stream",
     "text": [
      "max_depth = 1 : 0.7510373443983402\n",
      "max_depth = 2 : 0.7800829875518672\n",
      "max_depth = 3 : 0.7863070539419087\n",
      "max_depth = 4 : 0.7883817427385892\n",
      "max_depth = 5 : 0.7614107883817427\n",
      "max_depth = 6 : 0.7842323651452282\n",
      "max_depth = 7 : 0.7821576763485477\n",
      "max_depth = 8 : 0.7821576763485477\n",
      "max_depth = 9 : 0.7780082987551867\n",
      "max_depth = 10 : 0.7883817427385892\n",
      "max_depth = 11 : 0.7904564315352697\n",
      "max_depth = 12 : 0.7946058091286307\n",
      "max_depth = 13 : 0.7821576763485477\n",
      "max_depth = 14 : 0.7821576763485477\n",
      "max_depth = 15 : 0.7593360995850622\n",
      "max_depth = 16 : 0.7489626556016598\n",
      "max_depth = 17 : 0.7510373443983402\n",
      "max_depth = 18 : 0.7551867219917012\n",
      "max_depth = 19 : 0.7551867219917012\n"
     ]
    }
   ],
   "source": [
    "for depth in range (1,20):\n",
    "    model = DecisionTreeClassifier(random_state=12345, max_depth=depth)\n",
    "    model.fit(features_train, target_train)\n",
    "    predictions_valid = model.predict(features_valid)\n",
    "    print(\"max_depth =\", depth, \": \", end='')\n",
    "    print(accuracy_score(target_valid, predictions_valid)) "
   ]
  },
  {
   "cell_type": "markdown",
   "metadata": {},
   "source": [
    "Наилучший показательнь при глубине дерева, равной 12."
   ]
  },
  {
   "cell_type": "markdown",
   "metadata": {},
   "source": [
    "**Произведем проверку моделей Случайного Леса:**"
   ]
  },
  {
   "cell_type": "code",
   "execution_count": 8,
   "metadata": {},
   "outputs": [
    {
     "name": "stdout",
     "output_type": "stream",
     "text": [
      "result = 0.7780082987551867 :  est= 10\n",
      "result = 0.7904564315352697 :  est= 20\n",
      "result = 0.7863070539419087 :  est= 30\n",
      "result = 0.7946058091286307 :  est= 40\n",
      "result = 0.7904564315352697 :  est= 50\n",
      "result = 0.7925311203319502 :  est= 60\n",
      "result = 0.7987551867219918 :  est= 70\n",
      "result = 0.7966804979253111 :  est= 80\n",
      "result = 0.7966804979253111 :  est= 90\n",
      "result = 0.7966804979253111 :  est= 100\n",
      "Accuracy наилучшей модели на валидационной выборке: 0.7987551867219918\n",
      "Количество деревьев: 70\n"
     ]
    }
   ],
   "source": [
    "best_model = None\n",
    "best_result = 0\n",
    "best_est = 0\n",
    "for est in range(10, 101,10):\n",
    "    model = RandomForestClassifier(random_state=12345, n_estimators=est) \n",
    "    model.fit(features_train,target_train) \n",
    "    result = model.score(features_valid, target_valid)\n",
    "    if result > best_result:\n",
    "        best_model = model.fit(features_train, target_train)\n",
    "        best_result = result\n",
    "        best_est = est\n",
    "    print(\"result =\", result, \": \", \"est=\", est )\n",
    "print(\"Accuracy наилучшей модели на валидационной выборке:\", best_result)\n",
    "print(\"Количество деревьев:\", best_est)"
   ]
  },
  {
   "cell_type": "markdown",
   "metadata": {},
   "source": [
    "**Рассмотрим логистическую регрессию:**"
   ]
  },
  {
   "cell_type": "code",
   "execution_count": 9,
   "metadata": {},
   "outputs": [
    {
     "name": "stdout",
     "output_type": "stream",
     "text": [
      "Accuracy модели логистической регрессии на валидационной выборке: 0.6950207468879668\n"
     ]
    },
    {
     "name": "stderr",
     "output_type": "stream",
     "text": [
      "/opt/conda/lib/python3.7/site-packages/sklearn/linear_model/logistic.py:432: FutureWarning: Default solver will be changed to 'lbfgs' in 0.22. Specify a solver to silence this warning.\n",
      "  FutureWarning)\n"
     ]
    }
   ],
   "source": [
    "model = LogisticRegression(random_state=12345) \n",
    "model.fit(features_train,target_train) \n",
    "result = model.score(features_valid,target_valid ) \n",
    "print(\"Accuracy модели логистической регрессии на валидационной выборке:\", result)"
   ]
  },
  {
   "cell_type": "markdown",
   "metadata": {},
   "source": [
    "## Вывод:\n"
   ]
  },
  {
   "cell_type": "markdown",
   "metadata": {},
   "source": [
    "**Исследовали три модели:** Дерево решений, Случайный Лес и логистическую регрессию."
   ]
  },
  {
   "cell_type": "markdown",
   "metadata": {},
   "source": [
    "**После исследования мы получили:**"
   ]
  },
  {
   "cell_type": "markdown",
   "metadata": {},
   "source": [
    " - У дерева решений при глубине 12 accuracy: 0.7946058091286307\n",
    " - У случайного леса при  70 деревьях accuracy: 0.7987551867219918\n",
    " - У логистической регрессии  accuracy 0.6950207468879668\n"
   ]
  },
  {
   "cell_type": "markdown",
   "metadata": {},
   "source": [
    "Исходя из полученных результатов на данный момент, можно сказать, что **модель \"Случайный лес\" показывает лучший результат : при 70 деревьях, Accuracy: 0.7987551867219918**"
   ]
  },
  {
   "cell_type": "markdown",
   "metadata": {},
   "source": [
    "## Проверьте модель на тестовой выборке"
   ]
  },
  {
   "cell_type": "markdown",
   "metadata": {},
   "source": [
    "В качестве оптимальной модели возьмем RandomForestClassifier с количеством деревьев 70:"
   ]
  },
  {
   "cell_type": "code",
   "execution_count": 10,
   "metadata": {},
   "outputs": [
    {
     "name": "stdout",
     "output_type": "stream",
     "text": [
      "Accuracy: 0.7908902691511387\n"
     ]
    }
   ],
   "source": [
    "model = RandomForestClassifier(random_state=12345, n_estimators=70) \n",
    "model.fit(features_train, target_train)\n",
    "test_predictions = model.predict(test_features)\n",
    "score = accuracy_score(test_target, test_predictions)\n",
    "print('Accuracy:', score)"
   ]
  },
  {
   "cell_type": "markdown",
   "metadata": {},
   "source": [
    "При обучении модели на тестовой выборке, модель показала результат Accuracy: 0.7908902691511387."
   ]
  },
  {
   "cell_type": "markdown",
   "metadata": {},
   "source": [
    "## (бонус) Проверьте модели на адекватность"
   ]
  },
  {
   "cell_type": "markdown",
   "metadata": {},
   "source": [
    "Для проверки модели на адекватность используем классификатор DummyClassifier, который делает прогнозы, используя простые правила. Он будет полезен в качестве простой основы для сравнения с другими (реальными) классификаторами. В качестве параметра используем «Most_frequent», который всегда предсказывает наиболее частую метку в обучающем наборе."
   ]
  },
  {
   "cell_type": "code",
   "execution_count": 11,
   "metadata": {},
   "outputs": [
    {
     "data": {
      "text/plain": [
       "DummyClassifier(constant=None, random_state=None, strategy='most_frequent')"
      ]
     },
     "execution_count": 11,
     "metadata": {},
     "output_type": "execute_result"
    }
   ],
   "source": [
    "dummy_clf = DummyClassifier(strategy=\"most_frequent\")\n",
    "dummy_clf.fit(features_train, target_train)"
   ]
  },
  {
   "cell_type": "code",
   "execution_count": 12,
   "metadata": {},
   "outputs": [
    {
     "data": {
      "text/plain": [
       "0.6927523343708315"
      ]
     },
     "execution_count": 12,
     "metadata": {},
     "output_type": "execute_result"
    }
   ],
   "source": [
    "dummy_clf.score(features_train, target_train)"
   ]
  },
  {
   "cell_type": "markdown",
   "metadata": {},
   "source": [
    "Мы видим, что **показатель нашей модели почти на 14% выше**, чем с данным классификатором, поэтому можно заключить, что наша модель вполне адекватна."
   ]
  }
 ],
 "metadata": {
  "ExecuteTimeLog": [
   {
    "duration": 1301,
    "start_time": "2021-06-16T00:58:34.656Z"
   },
   {
    "duration": 2621,
    "start_time": "2021-06-16T00:59:46.598Z"
   },
   {
    "duration": 1877,
    "start_time": "2021-06-16T01:00:19.969Z"
   },
   {
    "duration": 1987,
    "start_time": "2021-06-16T01:00:25.606Z"
   },
   {
    "duration": 2482,
    "start_time": "2021-06-16T01:00:57.198Z"
   },
   {
    "duration": 2292,
    "start_time": "2021-06-16T01:02:07.168Z"
   },
   {
    "duration": 1345,
    "start_time": "2021-06-16T01:02:15.903Z"
   },
   {
    "duration": 2160,
    "start_time": "2021-06-16T01:02:17.251Z"
   },
   {
    "duration": 22,
    "start_time": "2021-06-16T01:02:40.695Z"
   },
   {
    "duration": 27,
    "start_time": "2021-06-16T01:02:58.213Z"
   },
   {
    "duration": 1312,
    "start_time": "2021-06-16T01:07:35.440Z"
   },
   {
    "duration": 24,
    "start_time": "2021-06-16T01:07:36.755Z"
   },
   {
    "duration": 29,
    "start_time": "2021-06-16T01:07:36.783Z"
   },
   {
    "duration": 8,
    "start_time": "2021-06-16T01:07:36.825Z"
   },
   {
    "duration": 8,
    "start_time": "2021-06-16T01:07:36.837Z"
   },
   {
    "duration": 8,
    "start_time": "2021-06-16T01:07:36.848Z"
   },
   {
    "duration": 7,
    "start_time": "2021-06-16T01:07:36.859Z"
   },
   {
    "duration": 54,
    "start_time": "2021-06-16T01:07:36.870Z"
   },
   {
    "duration": 9,
    "start_time": "2021-06-16T02:37:15.446Z"
   },
   {
    "duration": 79,
    "start_time": "2021-06-16T02:38:14.816Z"
   },
   {
    "duration": 92,
    "start_time": "2021-06-16T02:38:37.234Z"
   },
   {
    "duration": 148,
    "start_time": "2021-06-16T02:38:43.023Z"
   },
   {
    "duration": 412,
    "start_time": "2021-06-16T02:39:38.343Z"
   },
   {
    "duration": 515,
    "start_time": "2021-06-16T02:39:58.087Z"
   },
   {
    "duration": 210,
    "start_time": "2021-06-16T02:50:28.471Z"
   },
   {
    "duration": 3973,
    "start_time": "2021-06-16T02:52:43.762Z"
   },
   {
    "duration": 386,
    "start_time": "2021-06-16T02:54:08.110Z"
   },
   {
    "duration": 1829,
    "start_time": "2021-06-16T02:54:40.566Z"
   },
   {
    "duration": -3654,
    "start_time": "2021-06-16T02:54:46.052Z"
   },
   {
    "duration": -3662,
    "start_time": "2021-06-16T02:54:46.061Z"
   },
   {
    "duration": -3663,
    "start_time": "2021-06-16T02:54:46.063Z"
   },
   {
    "duration": -3691,
    "start_time": "2021-06-16T02:54:46.092Z"
   },
   {
    "duration": -3691,
    "start_time": "2021-06-16T02:54:46.094Z"
   },
   {
    "duration": -3692,
    "start_time": "2021-06-16T02:54:46.096Z"
   },
   {
    "duration": -3694,
    "start_time": "2021-06-16T02:54:46.099Z"
   },
   {
    "duration": -3695,
    "start_time": "2021-06-16T02:54:46.101Z"
   },
   {
    "duration": -3696,
    "start_time": "2021-06-16T02:54:46.103Z"
   },
   {
    "duration": 1835,
    "start_time": "2021-06-16T03:06:56.366Z"
   },
   {
    "duration": -3678,
    "start_time": "2021-06-16T03:07:01.883Z"
   },
   {
    "duration": -3711,
    "start_time": "2021-06-16T03:07:01.918Z"
   },
   {
    "duration": -3713,
    "start_time": "2021-06-16T03:07:01.922Z"
   },
   {
    "duration": -3716,
    "start_time": "2021-06-16T03:07:01.927Z"
   },
   {
    "duration": -3722,
    "start_time": "2021-06-16T03:07:01.936Z"
   },
   {
    "duration": -3728,
    "start_time": "2021-06-16T03:07:01.944Z"
   },
   {
    "duration": -3732,
    "start_time": "2021-06-16T03:07:01.950Z"
   },
   {
    "duration": -3763,
    "start_time": "2021-06-16T03:07:01.983Z"
   },
   {
    "duration": -3765,
    "start_time": "2021-06-16T03:07:01.987Z"
   },
   {
    "duration": 6,
    "start_time": "2021-06-16T03:07:41.002Z"
   },
   {
    "duration": 1460,
    "start_time": "2021-06-16T03:07:49.734Z"
   },
   {
    "duration": 22,
    "start_time": "2021-06-16T03:07:51.197Z"
   },
   {
    "duration": 21,
    "start_time": "2021-06-16T03:07:51.222Z"
   },
   {
    "duration": 13,
    "start_time": "2021-06-16T03:07:51.245Z"
   },
   {
    "duration": 13,
    "start_time": "2021-06-16T03:07:51.260Z"
   },
   {
    "duration": 13,
    "start_time": "2021-06-16T03:07:51.275Z"
   },
   {
    "duration": 111,
    "start_time": "2021-06-16T03:07:51.290Z"
   },
   {
    "duration": -3650,
    "start_time": "2021-06-16T03:07:55.053Z"
   },
   {
    "duration": -3654,
    "start_time": "2021-06-16T03:07:55.059Z"
   },
   {
    "duration": -3656,
    "start_time": "2021-06-16T03:07:55.062Z"
   },
   {
    "duration": 1431,
    "start_time": "2021-06-16T03:08:45.665Z"
   },
   {
    "duration": 22,
    "start_time": "2021-06-16T03:08:47.098Z"
   },
   {
    "duration": 21,
    "start_time": "2021-06-16T03:08:47.122Z"
   },
   {
    "duration": 6,
    "start_time": "2021-06-16T03:08:47.146Z"
   },
   {
    "duration": 6,
    "start_time": "2021-06-16T03:08:47.154Z"
   },
   {
    "duration": 9,
    "start_time": "2021-06-16T03:08:47.162Z"
   },
   {
    "duration": 257,
    "start_time": "2021-06-16T03:08:47.173Z"
   },
   {
    "duration": 4045,
    "start_time": "2021-06-16T03:08:47.434Z"
   },
   {
    "duration": 22,
    "start_time": "2021-06-16T03:08:51.481Z"
   },
   {
    "duration": 356,
    "start_time": "2021-06-16T03:10:15.682Z"
   },
   {
    "duration": 3,
    "start_time": "2021-06-16T03:10:38.059Z"
   },
   {
    "duration": 4,
    "start_time": "2021-06-16T03:10:58.148Z"
   },
   {
    "duration": 9,
    "start_time": "2021-06-16T03:11:09.257Z"
   },
   {
    "duration": 11,
    "start_time": "2021-06-16T03:11:21.803Z"
   },
   {
    "duration": 5,
    "start_time": "2021-06-16T03:11:33.931Z"
   },
   {
    "duration": 4,
    "start_time": "2021-06-16T03:11:43.764Z"
   },
   {
    "duration": 15,
    "start_time": "2021-06-16T03:22:40.415Z"
   },
   {
    "duration": 402,
    "start_time": "2021-06-16T03:31:21.018Z"
   },
   {
    "duration": 521,
    "start_time": "2021-06-16T03:32:28.079Z"
   },
   {
    "duration": 630,
    "start_time": "2021-06-16T03:33:52.483Z"
   },
   {
    "duration": 348,
    "start_time": "2021-06-16T03:34:37.388Z"
   },
   {
    "duration": 5,
    "start_time": "2021-06-16T03:35:04.650Z"
   },
   {
    "duration": 610,
    "start_time": "2021-06-16T03:35:35.068Z"
   },
   {
    "duration": 1505,
    "start_time": "2021-06-16T03:35:49.191Z"
   },
   {
    "duration": 23,
    "start_time": "2021-06-16T03:35:50.698Z"
   },
   {
    "duration": 20,
    "start_time": "2021-06-16T03:35:50.724Z"
   },
   {
    "duration": 6,
    "start_time": "2021-06-16T03:35:50.747Z"
   },
   {
    "duration": 14,
    "start_time": "2021-06-16T03:35:50.755Z"
   },
   {
    "duration": 15,
    "start_time": "2021-06-16T03:35:50.771Z"
   },
   {
    "duration": 247,
    "start_time": "2021-06-16T03:35:50.788Z"
   },
   {
    "duration": 3971,
    "start_time": "2021-06-16T03:35:51.038Z"
   },
   {
    "duration": 30,
    "start_time": "2021-06-16T03:35:55.011Z"
   },
   {
    "duration": 761,
    "start_time": "2021-06-16T03:35:55.044Z"
   },
   {
    "duration": -3653,
    "start_time": "2021-06-16T03:35:59.462Z"
   },
   {
    "duration": -3655,
    "start_time": "2021-06-16T03:35:59.466Z"
   },
   {
    "duration": -3657,
    "start_time": "2021-06-16T03:35:59.470Z"
   },
   {
    "duration": -3701,
    "start_time": "2021-06-16T03:35:59.517Z"
   },
   {
    "duration": -3704,
    "start_time": "2021-06-16T03:35:59.521Z"
   },
   {
    "duration": -3706,
    "start_time": "2021-06-16T03:35:59.526Z"
   },
   {
    "duration": -3708,
    "start_time": "2021-06-16T03:35:59.530Z"
   },
   {
    "duration": 351,
    "start_time": "2021-06-16T03:36:25.040Z"
   },
   {
    "duration": 1311,
    "start_time": "2021-06-16T03:39:45.240Z"
   },
   {
    "duration": 22,
    "start_time": "2021-06-16T03:39:46.554Z"
   },
   {
    "duration": 25,
    "start_time": "2021-06-16T03:39:46.579Z"
   },
   {
    "duration": 18,
    "start_time": "2021-06-16T03:39:46.607Z"
   },
   {
    "duration": 7,
    "start_time": "2021-06-16T03:39:46.627Z"
   },
   {
    "duration": 10,
    "start_time": "2021-06-16T03:39:46.636Z"
   },
   {
    "duration": 242,
    "start_time": "2021-06-16T03:39:46.649Z"
   },
   {
    "duration": 4093,
    "start_time": "2021-06-16T03:39:46.893Z"
   },
   {
    "duration": 39,
    "start_time": "2021-06-16T03:39:50.990Z"
   },
   {
    "duration": 375,
    "start_time": "2021-06-16T03:39:51.032Z"
   },
   {
    "duration": 23,
    "start_time": "2021-06-16T03:39:51.410Z"
   },
   {
    "duration": 1282,
    "start_time": "2021-06-16T03:42:25.178Z"
   },
   {
    "duration": 25,
    "start_time": "2021-06-16T03:42:26.462Z"
   },
   {
    "duration": 40,
    "start_time": "2021-06-16T03:42:26.490Z"
   },
   {
    "duration": 8,
    "start_time": "2021-06-16T03:42:26.533Z"
   },
   {
    "duration": 8,
    "start_time": "2021-06-16T03:42:26.543Z"
   },
   {
    "duration": 10,
    "start_time": "2021-06-16T03:42:26.554Z"
   },
   {
    "duration": 272,
    "start_time": "2021-06-16T03:42:26.567Z"
   },
   {
    "duration": 4017,
    "start_time": "2021-06-16T03:42:26.844Z"
   },
   {
    "duration": 22,
    "start_time": "2021-06-16T03:42:30.864Z"
   },
   {
    "duration": 452,
    "start_time": "2021-06-16T03:42:30.888Z"
   },
   {
    "duration": 15,
    "start_time": "2021-06-16T03:42:31.342Z"
   },
   {
    "duration": 1301,
    "start_time": "2021-06-16T03:53:46.757Z"
   },
   {
    "duration": 23,
    "start_time": "2021-06-16T03:53:48.060Z"
   },
   {
    "duration": 27,
    "start_time": "2021-06-16T03:53:48.087Z"
   },
   {
    "duration": 8,
    "start_time": "2021-06-16T03:53:48.125Z"
   },
   {
    "duration": 10,
    "start_time": "2021-06-16T03:53:48.136Z"
   },
   {
    "duration": 21,
    "start_time": "2021-06-16T03:53:48.148Z"
   },
   {
    "duration": 257,
    "start_time": "2021-06-16T03:53:48.172Z"
   },
   {
    "duration": 3998,
    "start_time": "2021-06-16T03:53:48.432Z"
   },
   {
    "duration": 22,
    "start_time": "2021-06-16T03:53:52.432Z"
   },
   {
    "duration": 428,
    "start_time": "2021-06-16T03:53:52.456Z"
   },
   {
    "duration": 14,
    "start_time": "2021-06-16T03:53:52.887Z"
   },
   {
    "duration": 392,
    "start_time": "2021-06-16T04:08:16.567Z"
   },
   {
    "duration": 5,
    "start_time": "2021-06-16T04:08:38.857Z"
   },
   {
    "duration": 1318,
    "start_time": "2021-06-16T04:08:45.529Z"
   },
   {
    "duration": 25,
    "start_time": "2021-06-16T04:08:46.849Z"
   },
   {
    "duration": 28,
    "start_time": "2021-06-16T04:08:46.878Z"
   },
   {
    "duration": 8,
    "start_time": "2021-06-16T04:08:46.926Z"
   },
   {
    "duration": 8,
    "start_time": "2021-06-16T04:08:46.936Z"
   },
   {
    "duration": 9,
    "start_time": "2021-06-16T04:08:46.947Z"
   },
   {
    "duration": 268,
    "start_time": "2021-06-16T04:08:46.959Z"
   },
   {
    "duration": 4043,
    "start_time": "2021-06-16T04:08:47.232Z"
   },
   {
    "duration": 23,
    "start_time": "2021-06-16T04:08:51.277Z"
   },
   {
    "duration": 441,
    "start_time": "2021-06-16T04:08:51.303Z"
   },
   {
    "duration": 7,
    "start_time": "2021-06-16T04:08:51.746Z"
   },
   {
    "duration": 8,
    "start_time": "2021-06-16T04:08:51.755Z"
   },
   {
    "duration": 1272,
    "start_time": "2021-06-16T04:20:27.371Z"
   },
   {
    "duration": 23,
    "start_time": "2021-06-16T04:20:28.646Z"
   },
   {
    "duration": 24,
    "start_time": "2021-06-16T04:20:28.672Z"
   },
   {
    "duration": 6,
    "start_time": "2021-06-16T04:20:28.699Z"
   },
   {
    "duration": 20,
    "start_time": "2021-06-16T04:20:28.707Z"
   },
   {
    "duration": 10,
    "start_time": "2021-06-16T04:20:28.729Z"
   },
   {
    "duration": 244,
    "start_time": "2021-06-16T04:20:28.741Z"
   },
   {
    "duration": 4032,
    "start_time": "2021-06-16T04:20:28.987Z"
   },
   {
    "duration": 21,
    "start_time": "2021-06-16T04:20:33.022Z"
   },
   {
    "duration": 489,
    "start_time": "2021-06-16T04:20:33.046Z"
   },
   {
    "duration": 6,
    "start_time": "2021-06-16T04:20:33.538Z"
   },
   {
    "duration": 6,
    "start_time": "2021-06-16T04:20:33.547Z"
   },
   {
    "duration": 1365,
    "start_time": "2021-06-16T04:23:24.199Z"
   },
   {
    "duration": 22,
    "start_time": "2021-06-16T04:23:25.567Z"
   },
   {
    "duration": 32,
    "start_time": "2021-06-16T04:23:25.592Z"
   },
   {
    "duration": 7,
    "start_time": "2021-06-16T04:23:25.626Z"
   },
   {
    "duration": 13,
    "start_time": "2021-06-16T04:23:25.636Z"
   },
   {
    "duration": 9,
    "start_time": "2021-06-16T04:23:25.652Z"
   },
   {
    "duration": 242,
    "start_time": "2021-06-16T04:23:25.664Z"
   },
   {
    "duration": 4008,
    "start_time": "2021-06-16T04:23:25.908Z"
   },
   {
    "duration": 20,
    "start_time": "2021-06-16T04:23:29.924Z"
   },
   {
    "duration": 442,
    "start_time": "2021-06-16T04:23:29.946Z"
   },
   {
    "duration": 7,
    "start_time": "2021-06-16T04:23:30.390Z"
   },
   {
    "duration": 26,
    "start_time": "2021-06-16T04:23:30.399Z"
   },
   {
    "duration": 1550,
    "start_time": "2021-06-17T08:26:02.197Z"
   },
   {
    "duration": 21,
    "start_time": "2021-06-17T08:26:03.749Z"
   },
   {
    "duration": 30,
    "start_time": "2021-06-17T08:26:03.773Z"
   },
   {
    "duration": 7,
    "start_time": "2021-06-17T08:26:03.806Z"
   },
   {
    "duration": 14,
    "start_time": "2021-06-17T08:26:03.816Z"
   },
   {
    "duration": 11,
    "start_time": "2021-06-17T08:26:03.833Z"
   },
   {
    "duration": 299,
    "start_time": "2021-06-17T08:26:03.847Z"
   },
   {
    "duration": 4328,
    "start_time": "2021-06-17T08:26:04.149Z"
   },
   {
    "duration": 36,
    "start_time": "2021-06-17T08:26:08.483Z"
   },
   {
    "duration": 477,
    "start_time": "2021-06-17T08:26:08.523Z"
   },
   {
    "duration": 8,
    "start_time": "2021-06-17T08:26:09.003Z"
   },
   {
    "duration": 15,
    "start_time": "2021-06-17T08:26:09.014Z"
   },
   {
    "duration": 1725,
    "start_time": "2021-06-17T08:28:42.051Z"
   },
   {
    "duration": 25,
    "start_time": "2021-06-17T08:28:43.779Z"
   },
   {
    "duration": 41,
    "start_time": "2021-06-17T08:28:43.808Z"
   },
   {
    "duration": 10,
    "start_time": "2021-06-17T08:28:43.853Z"
   },
   {
    "duration": 13,
    "start_time": "2021-06-17T08:28:43.884Z"
   },
   {
    "duration": 10,
    "start_time": "2021-06-17T08:28:43.900Z"
   },
   {
    "duration": 262,
    "start_time": "2021-06-17T08:28:43.913Z"
   },
   {
    "duration": 5484,
    "start_time": "2021-06-17T08:28:44.186Z"
   },
   {
    "duration": 29,
    "start_time": "2021-06-17T08:28:49.689Z"
   },
   {
    "duration": 614,
    "start_time": "2021-06-17T08:28:49.721Z"
   },
   {
    "duration": 9,
    "start_time": "2021-06-17T08:28:50.338Z"
   },
   {
    "duration": 9,
    "start_time": "2021-06-17T08:28:50.350Z"
   }
  ],
  "kernelspec": {
   "display_name": "Python 3",
   "language": "python",
   "name": "python3"
  },
  "language_info": {
   "codemirror_mode": {
    "name": "ipython",
    "version": 3
   },
   "file_extension": ".py",
   "mimetype": "text/x-python",
   "name": "python",
   "nbconvert_exporter": "python",
   "pygments_lexer": "ipython3",
   "version": "3.7.8"
  },
  "toc": {
   "base_numbering": 1,
   "nav_menu": {},
   "number_sections": true,
   "sideBar": true,
   "skip_h1_title": true,
   "title_cell": "Table of Contents",
   "title_sidebar": "Contents",
   "toc_cell": false,
   "toc_position": {},
   "toc_section_display": true,
   "toc_window_display": false
  }
 },
 "nbformat": 4,
 "nbformat_minor": 2
}
