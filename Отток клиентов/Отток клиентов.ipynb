{
 "cells": [
  {
   "cell_type": "markdown",
   "metadata": {},
   "source": [
    "# Отток клиентов"
   ]
  },
  {
   "cell_type": "markdown",
   "metadata": {},
   "source": [
    "Из «Бета-Банка» стали уходить клиенты. Каждый месяц. Немного, но заметно. Банковские маркетологи посчитали: сохранять текущих клиентов дешевле, чем привлекать новых.\n",
    "\n",
    "Нужно спрогнозировать, уйдёт клиент из банка в ближайшее время или нет. Вам предоставлены исторические данные о поведении клиентов и расторжении договоров с банком. \n",
    "\n",
    "Постройте модель с предельно большим значением *F1*-меры. Чтобы сдать проект успешно, нужно довести метрику до 0.59. Проверьте *F1*-меру на тестовой выборке самостоятельно.\n",
    "\n",
    "Источник данных: [https://www.kaggle.com/barelydedicated/bank-customer-churn-modeling](https://www.kaggle.com/barelydedicated/bank-customer-churn-modeling)"
   ]
  },
  {
   "cell_type": "markdown",
   "metadata": {},
   "source": [
    "**Признаки** \n",
    ">- **RowNumber**  — индекс строки в данных\n",
    ">- **CustomerId**  — уникальный идентификатор клиента\n",
    ">- **Surname**  — фамилия\n",
    ">- **CreditScore**  — кредитный рейтинг\n",
    ">- **Geography**  — страна проживания\n",
    ">- **Gender**  — пол\n",
    ">- **Age**  — возраст\n",
    ">- **Tenure**  — количество недвижимости у клиента\n",
    ">- **Balance**  — баланс на счёте\n",
    ">- **NumOfProducts**  — количество продуктов банка, используемых клиентом\n",
    ">- **HasCrCard**  — наличие кредитной карты\n",
    ">- **IsActiveMember**  — активность клиента\n",
    ">- **EstimatedSalary**  — предполагаемая зарплата\n",
    "\n",
    "**Целевой признак**\n",
    ">- **Exited**  — факт ухода клиента"
   ]
  },
  {
   "cell_type": "markdown",
   "metadata": {},
   "source": [
    "## Подготовка данных"
   ]
  },
  {
   "cell_type": "markdown",
   "metadata": {},
   "source": [
    "Импортируем необходимые библиотеки:"
   ]
  },
  {
   "cell_type": "code",
   "execution_count": 1,
   "metadata": {},
   "outputs": [],
   "source": [
    "import pandas as pd\n",
    "import matplotlib.pyplot as plt\n",
    "\n",
    "from sklearn.model_selection import train_test_split\n",
    "from sklearn.preprocessing import OrdinalEncoder, StandardScaler\n",
    "from sklearn.utils import shuffle\n",
    "\n",
    "from sklearn.tree import DecisionTreeClassifier\n",
    "from sklearn.ensemble import RandomForestClassifier\n",
    "from sklearn.linear_model import LogisticRegression\n",
    "\n",
    "from sklearn.metrics import f1_score, roc_auc_score\n",
    "from sklearn.metrics import roc_curve \n"
   ]
  },
  {
   "cell_type": "markdown",
   "metadata": {},
   "source": [
    "Отключим предупреждения:"
   ]
  },
  {
   "cell_type": "code",
   "execution_count": 2,
   "metadata": {},
   "outputs": [],
   "source": [
    "pd.options.mode.chained_assignment = None"
   ]
  },
  {
   "cell_type": "markdown",
   "metadata": {},
   "source": [
    "Прочитаем файл \"Churn.csv\" и сохраним его в переменной \"data\":"
   ]
  },
  {
   "cell_type": "code",
   "execution_count": 3,
   "metadata": {},
   "outputs": [],
   "source": [
    "data = pd.read_csv('/datasets/Churn.csv')"
   ]
  },
  {
   "cell_type": "code",
   "execution_count": 4,
   "metadata": {},
   "outputs": [
    {
     "name": "stdout",
     "output_type": "stream",
     "text": [
      "<class 'pandas.core.frame.DataFrame'>\n",
      "RangeIndex: 10000 entries, 0 to 9999\n",
      "Data columns (total 14 columns):\n",
      "RowNumber          10000 non-null int64\n",
      "CustomerId         10000 non-null int64\n",
      "Surname            10000 non-null object\n",
      "CreditScore        10000 non-null int64\n",
      "Geography          10000 non-null object\n",
      "Gender             10000 non-null object\n",
      "Age                10000 non-null int64\n",
      "Tenure             9091 non-null float64\n",
      "Balance            10000 non-null float64\n",
      "NumOfProducts      10000 non-null int64\n",
      "HasCrCard          10000 non-null int64\n",
      "IsActiveMember     10000 non-null int64\n",
      "EstimatedSalary    10000 non-null float64\n",
      "Exited             10000 non-null int64\n",
      "dtypes: float64(3), int64(8), object(3)\n",
      "memory usage: 1.1+ MB\n"
     ]
    }
   ],
   "source": [
    "data.info()"
   ]
  },
  {
   "cell_type": "code",
   "execution_count": 5,
   "metadata": {},
   "outputs": [
    {
     "data": {
      "text/html": [
       "<div>\n",
       "<style scoped>\n",
       "    .dataframe tbody tr th:only-of-type {\n",
       "        vertical-align: middle;\n",
       "    }\n",
       "\n",
       "    .dataframe tbody tr th {\n",
       "        vertical-align: top;\n",
       "    }\n",
       "\n",
       "    .dataframe thead th {\n",
       "        text-align: right;\n",
       "    }\n",
       "</style>\n",
       "<table border=\"1\" class=\"dataframe\">\n",
       "  <thead>\n",
       "    <tr style=\"text-align: right;\">\n",
       "      <th></th>\n",
       "      <th>RowNumber</th>\n",
       "      <th>CustomerId</th>\n",
       "      <th>Surname</th>\n",
       "      <th>CreditScore</th>\n",
       "      <th>Geography</th>\n",
       "      <th>Gender</th>\n",
       "      <th>Age</th>\n",
       "      <th>Tenure</th>\n",
       "      <th>Balance</th>\n",
       "      <th>NumOfProducts</th>\n",
       "      <th>HasCrCard</th>\n",
       "      <th>IsActiveMember</th>\n",
       "      <th>EstimatedSalary</th>\n",
       "      <th>Exited</th>\n",
       "    </tr>\n",
       "  </thead>\n",
       "  <tbody>\n",
       "    <tr>\n",
       "      <td>0</td>\n",
       "      <td>1</td>\n",
       "      <td>15634602</td>\n",
       "      <td>Hargrave</td>\n",
       "      <td>619</td>\n",
       "      <td>France</td>\n",
       "      <td>Female</td>\n",
       "      <td>42</td>\n",
       "      <td>2.0</td>\n",
       "      <td>0.00</td>\n",
       "      <td>1</td>\n",
       "      <td>1</td>\n",
       "      <td>1</td>\n",
       "      <td>101348.88</td>\n",
       "      <td>1</td>\n",
       "    </tr>\n",
       "    <tr>\n",
       "      <td>1</td>\n",
       "      <td>2</td>\n",
       "      <td>15647311</td>\n",
       "      <td>Hill</td>\n",
       "      <td>608</td>\n",
       "      <td>Spain</td>\n",
       "      <td>Female</td>\n",
       "      <td>41</td>\n",
       "      <td>1.0</td>\n",
       "      <td>83807.86</td>\n",
       "      <td>1</td>\n",
       "      <td>0</td>\n",
       "      <td>1</td>\n",
       "      <td>112542.58</td>\n",
       "      <td>0</td>\n",
       "    </tr>\n",
       "    <tr>\n",
       "      <td>2</td>\n",
       "      <td>3</td>\n",
       "      <td>15619304</td>\n",
       "      <td>Onio</td>\n",
       "      <td>502</td>\n",
       "      <td>France</td>\n",
       "      <td>Female</td>\n",
       "      <td>42</td>\n",
       "      <td>8.0</td>\n",
       "      <td>159660.80</td>\n",
       "      <td>3</td>\n",
       "      <td>1</td>\n",
       "      <td>0</td>\n",
       "      <td>113931.57</td>\n",
       "      <td>1</td>\n",
       "    </tr>\n",
       "    <tr>\n",
       "      <td>3</td>\n",
       "      <td>4</td>\n",
       "      <td>15701354</td>\n",
       "      <td>Boni</td>\n",
       "      <td>699</td>\n",
       "      <td>France</td>\n",
       "      <td>Female</td>\n",
       "      <td>39</td>\n",
       "      <td>1.0</td>\n",
       "      <td>0.00</td>\n",
       "      <td>2</td>\n",
       "      <td>0</td>\n",
       "      <td>0</td>\n",
       "      <td>93826.63</td>\n",
       "      <td>0</td>\n",
       "    </tr>\n",
       "    <tr>\n",
       "      <td>4</td>\n",
       "      <td>5</td>\n",
       "      <td>15737888</td>\n",
       "      <td>Mitchell</td>\n",
       "      <td>850</td>\n",
       "      <td>Spain</td>\n",
       "      <td>Female</td>\n",
       "      <td>43</td>\n",
       "      <td>2.0</td>\n",
       "      <td>125510.82</td>\n",
       "      <td>1</td>\n",
       "      <td>1</td>\n",
       "      <td>1</td>\n",
       "      <td>79084.10</td>\n",
       "      <td>0</td>\n",
       "    </tr>\n",
       "  </tbody>\n",
       "</table>\n",
       "</div>"
      ],
      "text/plain": [
       "   RowNumber  CustomerId   Surname  CreditScore Geography  Gender  Age  \\\n",
       "0          1    15634602  Hargrave          619    France  Female   42   \n",
       "1          2    15647311      Hill          608     Spain  Female   41   \n",
       "2          3    15619304      Onio          502    France  Female   42   \n",
       "3          4    15701354      Boni          699    France  Female   39   \n",
       "4          5    15737888  Mitchell          850     Spain  Female   43   \n",
       "\n",
       "   Tenure    Balance  NumOfProducts  HasCrCard  IsActiveMember  \\\n",
       "0     2.0       0.00              1          1               1   \n",
       "1     1.0   83807.86              1          0               1   \n",
       "2     8.0  159660.80              3          1               0   \n",
       "3     1.0       0.00              2          0               0   \n",
       "4     2.0  125510.82              1          1               1   \n",
       "\n",
       "   EstimatedSalary  Exited  \n",
       "0        101348.88       1  \n",
       "1        112542.58       0  \n",
       "2        113931.57       1  \n",
       "3         93826.63       0  \n",
       "4         79084.10       0  "
      ]
     },
     "execution_count": 5,
     "metadata": {},
     "output_type": "execute_result"
    }
   ],
   "source": [
    "data.head()"
   ]
  },
  {
   "cell_type": "code",
   "execution_count": 6,
   "metadata": {},
   "outputs": [
    {
     "data": {
      "text/plain": [
       "France     5014\n",
       "Germany    2509\n",
       "Spain      2477\n",
       "Name: Geography, dtype: int64"
      ]
     },
     "execution_count": 6,
     "metadata": {},
     "output_type": "execute_result"
    }
   ],
   "source": [
    "data['Geography'].value_counts()"
   ]
  },
  {
   "cell_type": "markdown",
   "metadata": {},
   "source": [
    "Т.к. клиенты из стран Франции, Германии и Испании, то, скорее всего, все денежные суммы указаны в евро."
   ]
  },
  {
   "cell_type": "markdown",
   "metadata": {},
   "source": [
    "Исходя из данных на сайте Kaggle, признак Surname включает в себя 2932 уникальных значений."
   ]
  },
  {
   "cell_type": "markdown",
   "metadata": {},
   "source": [
    "Проверим клиентов на уникальность:"
   ]
  },
  {
   "cell_type": "code",
   "execution_count": 7,
   "metadata": {},
   "outputs": [
    {
     "data": {
      "text/plain": [
       "10000"
      ]
     },
     "execution_count": 7,
     "metadata": {},
     "output_type": "execute_result"
    }
   ],
   "source": [
    "len(data['CustomerId'].unique())"
   ]
  },
  {
   "cell_type": "markdown",
   "metadata": {},
   "source": [
    "Признак Tenure имеет тип данных float64. При чтении файла библиотека вывела этот тип из-за наличия пропусков, которые составляют примерно 10%. Если мы заполним пропуски средним значением, то это может привести к переобучению модели. "
   ]
  },
  {
   "cell_type": "markdown",
   "metadata": {},
   "source": [
    "Данных у нас не так уж и мало, поэтому избавимся от пропусков и приведем признак к целочисленному типу:"
   ]
  },
  {
   "cell_type": "code",
   "execution_count": 8,
   "metadata": {},
   "outputs": [],
   "source": [
    "data.dropna(subset = ['Tenure'], inplace = True)\n",
    "data['Tenure'] = data['Tenure'].astype('int')"
   ]
  },
  {
   "cell_type": "markdown",
   "metadata": {},
   "source": [
    "Построим гистограмму баланса:"
   ]
  },
  {
   "cell_type": "code",
   "execution_count": 9,
   "metadata": {},
   "outputs": [
    {
     "data": {
      "image/png": "[encoded data removed]",
      "text/plain": [
       "<Figure size 432x288 with 1 Axes>"
      ]
     },
     "metadata": {
      "needs_background": "light"
     },
     "output_type": "display_data"
    }
   ],
   "source": [
    "data.hist('Balance')\n",
    "plt.show()"
   ]
  },
  {
   "cell_type": "code",
   "execution_count": 10,
   "metadata": {},
   "outputs": [
    {
     "name": "stdout",
     "output_type": "stream",
     "text": [
      "Клиенты, имеющие нулевой баланс: 3283\n"
     ]
    },
    {
     "data": {
      "text/html": [
       "<div>\n",
       "<style scoped>\n",
       "    .dataframe tbody tr th:only-of-type {\n",
       "        vertical-align: middle;\n",
       "    }\n",
       "\n",
       "    .dataframe tbody tr th {\n",
       "        vertical-align: top;\n",
       "    }\n",
       "\n",
       "    .dataframe thead th {\n",
       "        text-align: right;\n",
       "    }\n",
       "</style>\n",
       "<table border=\"1\" class=\"dataframe\">\n",
       "  <thead>\n",
       "    <tr style=\"text-align: right;\">\n",
       "      <th></th>\n",
       "      <th>RowNumber</th>\n",
       "      <th>CustomerId</th>\n",
       "      <th>Surname</th>\n",
       "      <th>CreditScore</th>\n",
       "      <th>Geography</th>\n",
       "      <th>Gender</th>\n",
       "      <th>Age</th>\n",
       "      <th>Tenure</th>\n",
       "      <th>Balance</th>\n",
       "      <th>NumOfProducts</th>\n",
       "      <th>HasCrCard</th>\n",
       "      <th>IsActiveMember</th>\n",
       "      <th>EstimatedSalary</th>\n",
       "      <th>Exited</th>\n",
       "    </tr>\n",
       "  </thead>\n",
       "  <tbody>\n",
       "    <tr>\n",
       "      <td>0</td>\n",
       "      <td>1</td>\n",
       "      <td>15634602</td>\n",
       "      <td>Hargrave</td>\n",
       "      <td>619</td>\n",
       "      <td>France</td>\n",
       "      <td>Female</td>\n",
       "      <td>42</td>\n",
       "      <td>2</td>\n",
       "      <td>0.0</td>\n",
       "      <td>1</td>\n",
       "      <td>1</td>\n",
       "      <td>1</td>\n",
       "      <td>101348.88</td>\n",
       "      <td>1</td>\n",
       "    </tr>\n",
       "    <tr>\n",
       "      <td>3</td>\n",
       "      <td>4</td>\n",
       "      <td>15701354</td>\n",
       "      <td>Boni</td>\n",
       "      <td>699</td>\n",
       "      <td>France</td>\n",
       "      <td>Female</td>\n",
       "      <td>39</td>\n",
       "      <td>1</td>\n",
       "      <td>0.0</td>\n",
       "      <td>2</td>\n",
       "      <td>0</td>\n",
       "      <td>0</td>\n",
       "      <td>93826.63</td>\n",
       "      <td>0</td>\n",
       "    </tr>\n",
       "    <tr>\n",
       "      <td>6</td>\n",
       "      <td>7</td>\n",
       "      <td>15592531</td>\n",
       "      <td>Bartlett</td>\n",
       "      <td>822</td>\n",
       "      <td>France</td>\n",
       "      <td>Male</td>\n",
       "      <td>50</td>\n",
       "      <td>7</td>\n",
       "      <td>0.0</td>\n",
       "      <td>2</td>\n",
       "      <td>1</td>\n",
       "      <td>1</td>\n",
       "      <td>10062.80</td>\n",
       "      <td>0</td>\n",
       "    </tr>\n",
       "    <tr>\n",
       "      <td>11</td>\n",
       "      <td>12</td>\n",
       "      <td>15737173</td>\n",
       "      <td>Andrews</td>\n",
       "      <td>497</td>\n",
       "      <td>Spain</td>\n",
       "      <td>Male</td>\n",
       "      <td>24</td>\n",
       "      <td>3</td>\n",
       "      <td>0.0</td>\n",
       "      <td>2</td>\n",
       "      <td>1</td>\n",
       "      <td>0</td>\n",
       "      <td>76390.01</td>\n",
       "      <td>0</td>\n",
       "    </tr>\n",
       "    <tr>\n",
       "      <td>12</td>\n",
       "      <td>13</td>\n",
       "      <td>15632264</td>\n",
       "      <td>Kay</td>\n",
       "      <td>476</td>\n",
       "      <td>France</td>\n",
       "      <td>Female</td>\n",
       "      <td>34</td>\n",
       "      <td>10</td>\n",
       "      <td>0.0</td>\n",
       "      <td>2</td>\n",
       "      <td>1</td>\n",
       "      <td>0</td>\n",
       "      <td>26260.98</td>\n",
       "      <td>0</td>\n",
       "    </tr>\n",
       "  </tbody>\n",
       "</table>\n",
       "</div>"
      ],
      "text/plain": [
       "    RowNumber  CustomerId   Surname  CreditScore Geography  Gender  Age  \\\n",
       "0           1    15634602  Hargrave          619    France  Female   42   \n",
       "3           4    15701354      Boni          699    France  Female   39   \n",
       "6           7    15592531  Bartlett          822    France    Male   50   \n",
       "11         12    15737173   Andrews          497     Spain    Male   24   \n",
       "12         13    15632264       Kay          476    France  Female   34   \n",
       "\n",
       "    Tenure  Balance  NumOfProducts  HasCrCard  IsActiveMember  \\\n",
       "0        2      0.0              1          1               1   \n",
       "3        1      0.0              2          0               0   \n",
       "6        7      0.0              2          1               1   \n",
       "11       3      0.0              2          1               0   \n",
       "12      10      0.0              2          1               0   \n",
       "\n",
       "    EstimatedSalary  Exited  \n",
       "0         101348.88       1  \n",
       "3          93826.63       0  \n",
       "6          10062.80       0  \n",
       "11         76390.01       0  \n",
       "12         26260.98       0  "
      ]
     },
     "execution_count": 10,
     "metadata": {},
     "output_type": "execute_result"
    }
   ],
   "source": [
    "zero_balance = data.query('Balance == 0')\n",
    "print('Клиенты, имеющие нулевой баланс:', len(zero_balance))\n",
    "zero_balance.head()"
   ]
  },
  {
   "cell_type": "markdown",
   "metadata": {},
   "source": [
    "Более 3000 клиентов банка имеют нулевой баланс. Ситуация может быть правдоподобной, особенно если банк предоставляет бесплатное обслуживание."
   ]
  },
  {
   "cell_type": "markdown",
   "metadata": {},
   "source": [
    "Построим боксплот предполагаемой зарплаты:"
   ]
  },
  {
   "cell_type": "code",
   "execution_count": 11,
   "metadata": {},
   "outputs": [
    {
     "data": {
      "image/png": "[encoded data removed]",
      "text/plain": [
       "<Figure size 432x288 with 1 Axes>"
      ]
     },
     "metadata": {
      "needs_background": "light"
     },
     "output_type": "display_data"
    }
   ],
   "source": [
    "data.boxplot('EstimatedSalary')\n",
    "plt.show()"
   ]
  },
  {
   "cell_type": "markdown",
   "metadata": {},
   "source": [
    "Первый квартиль находится на уровне €50 000, в то время как нижний ус почти лежит на нулевой границе."
   ]
  },
  {
   "cell_type": "markdown",
   "metadata": {},
   "source": [
    "### Вывод\n",
    "\n",
    "Файл представлен 14 признаками, из которых 3 нам не понадобятся для обучения модели: RowNumber (индекс строки в данных), CustomerId (уникальный идентификатор), Surname (фамилия клиента).\n",
    "\n",
    "- Exited - будет целевым признаком. Построенная модель будет предсказывать значение 1 если клиент уйдет или 0 если клиент останется. В этом заключается наша задача классификации, т.к. целевой признак является категориальным;\n",
    "\n",
    "- Нулевой баланс более 3000 клиентов банка может претендовать на истину, но в реальных условиях обязательно нужно уточнить этот момент;\n",
    "\n",
    "- Большая разница между самой высокой предполагаемой зарплатой и низкой тоже может быть реалистичной, т.к. в наше время некоторые имеют пассивный доход. Но, как и в случае с нулевым балансом, этот момент тоже нужно уточнить: заполняет этот признак клиент или его предсказывает другая модель."
   ]
  },
  {
   "cell_type": "markdown",
   "metadata": {},
   "source": [
    "### Подготовка выборки для дальнейшего обучения моделей"
   ]
  },
  {
   "cell_type": "code",
   "execution_count": 12,
   "metadata": {},
   "outputs": [
    {
     "data": {
      "text/plain": [
       "909"
      ]
     },
     "execution_count": 12,
     "metadata": {},
     "output_type": "execute_result"
    }
   ],
   "source": [
    "len(data.query('EstimatedSalary < 20_000'))"
   ]
  },
  {
   "cell_type": "markdown",
   "metadata": {},
   "source": [
    "Удалим ненужные признаки:"
   ]
  },
  {
   "cell_type": "code",
   "execution_count": 13,
   "metadata": {},
   "outputs": [],
   "source": [
    "features_ignored = ['RowNumber', 'CustomerId', 'Surname']\n",
    "data = data.drop(features_ignored, axis=1)"
   ]
  },
  {
   "cell_type": "markdown",
   "metadata": {},
   "source": [
    "Зафиксируем псевдослучайность для всех используемых в проекте алгоритмов:"
   ]
  },
  {
   "cell_type": "code",
   "execution_count": 14,
   "metadata": {},
   "outputs": [],
   "source": [
    "rnd_state = 47"
   ]
  },
  {
   "cell_type": "markdown",
   "metadata": {},
   "source": [
    "Создадим несколько функций, которые помогут нам избежать дублирование кода:"
   ]
  },
  {
   "cell_type": "code",
   "execution_count": 15,
   "metadata": {},
   "outputs": [],
   "source": [
    "def tf(data, target_column='Exited'):\n",
    "    '''Функция возвращает целевой признак и признаки для обучения модели.'''    \n",
    "    target = data[target_column]\n",
    "    features = data.drop(target_column, axis=1)\n",
    "    return target, features"
   ]
  },
  {
   "cell_type": "markdown",
   "metadata": {},
   "source": [
    "Разобьем набор данных на обучающую (60%), валидационную(20%) и тестовую(20%) выборки. Затем проведем масштабирование признаков:"
   ]
  },
  {
   "cell_type": "code",
   "execution_count": 16,
   "metadata": {},
   "outputs": [],
   "source": [
    "def split_data(features, target):\n",
    "    features_train, features_valid, target_train, target_valid = train_test_split(\n",
    "        features, target, test_size=0.4, random_state=rnd_state\n",
    "    )\n",
    "\n",
    "    features_valid, features_test, target_valid, target_test = train_test_split(\n",
    "        features_valid, target_valid, test_size=0.5, random_state=rnd_state\n",
    "    )\n",
    "    \n",
    "    scaler = StandardScaler()\n",
    "    numeric = ['CreditScore', 'Age', 'Tenure', 'Balance', 'NumOfProducts', 'EstimatedSalary']\n",
    "    scaler.fit(features_train[numeric])\n",
    "    \n",
    "    features_train[numeric] = scaler.transform(features_train[numeric])\n",
    "    features_valid[numeric] = scaler.transform(features_valid[numeric])\n",
    "    features_test[numeric] = scaler.transform(features_test[numeric])\n",
    "    \n",
    "    return features_train, features_valid, features_test, target_train, target_valid, target_test"
   ]
  },
  {
   "cell_type": "markdown",
   "metadata": {},
   "source": [
    "Создадим функцию, которая возвращает обученную модель:"
   ]
  },
  {
   "cell_type": "code",
   "execution_count": 17,
   "metadata": {},
   "outputs": [],
   "source": [
    "def train_and_predict(data, model, log_prefix='', samplefunc=None, test=False):\n",
    "    target, features = tf(data)\n",
    "    features_train, features_valid, features_test, target_train, target_valid, target_test = split_data(features, target)\n",
    "    \n",
    "    if samplefunc:\n",
    "        features_train, target_train = samplefunc(features_train, target_train)\n",
    "    \n",
    "    model.fit(features_train, target_train)\n",
    "    predicted_valid = model.predict(features_valid)\n",
    "    print(f'{log_prefix}F1-мера на валидационной выборке: {f1_score(target_valid, predicted_valid)}')\n",
    "    \n",
    "    if test:\n",
    "        predictions_test = model.predict(features_test)\n",
    "        print(f'{log_prefix}F1-мера на тестовой выборке: {f1_score(target_test, predicted_test)}')\n",
    "    \n",
    "    return model"
   ]
  },
  {
   "cell_type": "markdown",
   "metadata": {},
   "source": [
    "## Исследование задачи"
   ]
  },
  {
   "cell_type": "markdown",
   "metadata": {},
   "source": [
    "Посмотрим, насколько часто встречается класс «1» или «0» в целевом признаке:"
   ]
  },
  {
   "cell_type": "code",
   "execution_count": 18,
   "metadata": {},
   "outputs": [
    {
     "name": "stdout",
     "output_type": "stream",
     "text": [
      "0    0.796062\n",
      "1    0.203938\n",
      "Name: Exited, dtype: float64\n"
     ]
    },
    {
     "data": {
      "image/png": "[encoded data removed]",
      "text/plain": [
       "<Figure size 432x288 with 1 Axes>"
      ]
     },
     "metadata": {
      "needs_background": "light"
     },
     "output_type": "display_data"
    }
   ],
   "source": [
    "class_frequency = data['Exited'].value_counts(normalize=True)\n",
    "class_frequency.plot(kind='bar')\n",
    "print(class_frequency)\n",
    "plt.show()"
   ]
  },
  {
   "cell_type": "markdown",
   "metadata": {},
   "source": [
    "- Классы несбалансированы: всего 20% положительных и 80% отрицательных;\n",
    "- На этом этапе мы проведем исследование модели без учета дисбаланса классов и будем ожидать заведомо плохие результаты;\n",
    "- Часть признаков из файла категориальные. Для логистической регрессии нам необходимо сделать преобразование категориальных признаков прямым кодированием. Для алгоритмов решающего дерева или случайного леса необходимо сделать порядковое кодирование.\n",
    "\n"
   ]
  },
  {
   "cell_type": "markdown",
   "metadata": {},
   "source": [
    "### Логистическая регрессия"
   ]
  },
  {
   "cell_type": "code",
   "execution_count": 19,
   "metadata": {},
   "outputs": [],
   "source": [
    "data_ohe = pd.get_dummies(data, drop_first=True)"
   ]
  },
  {
   "cell_type": "code",
   "execution_count": 20,
   "metadata": {},
   "outputs": [
    {
     "name": "stdout",
     "output_type": "stream",
     "text": [
      "F1-мера на валидационной выборке: 0.3441295546558704\n"
     ]
    },
    {
     "data": {
      "text/plain": [
       "LogisticRegression(C=1.0, class_weight=None, dual=False, fit_intercept=True,\n",
       "                   intercept_scaling=1, l1_ratio=None, max_iter=100,\n",
       "                   multi_class='warn', n_jobs=None, penalty='l2',\n",
       "                   random_state=47, solver='liblinear', tol=0.0001, verbose=0,\n",
       "                   warm_start=False)"
      ]
     },
     "execution_count": 20,
     "metadata": {},
     "output_type": "execute_result"
    }
   ],
   "source": [
    "model = LogisticRegression(solver='liblinear', random_state=rnd_state)\n",
    "train_and_predict(data_ohe, model)"
   ]
  },
  {
   "cell_type": "markdown",
   "metadata": {},
   "source": [
    "Логистическая регрессия показывает плохие результаты при дисбалансе классов."
   ]
  },
  {
   "cell_type": "markdown",
   "metadata": {},
   "source": [
    "Воспользуемся техникой порядкового кодирования для категориальных признаков:"
   ]
  },
  {
   "cell_type": "code",
   "execution_count": 21,
   "metadata": {},
   "outputs": [],
   "source": [
    "encoder = OrdinalEncoder()\n",
    "data_ordinal = pd.DataFrame(encoder.fit_transform(data), columns=data.columns)"
   ]
  },
  {
   "cell_type": "markdown",
   "metadata": {},
   "source": [
    "### Дерево решений"
   ]
  },
  {
   "cell_type": "code",
   "execution_count": 22,
   "metadata": {},
   "outputs": [
    {
     "name": "stdout",
     "output_type": "stream",
     "text": [
      "max_depth 2:\tF1-мера на валидационной выборке: 0.535073409461664\n",
      "max_depth 4:\tF1-мера на валидационной выборке: 0.5543478260869564\n",
      "max_depth 6:\tF1-мера на валидационной выборке: 0.5512104283054003\n",
      "max_depth 8:\tF1-мера на валидационной выборке: 0.5633802816901408\n",
      "max_depth 10:\tF1-мера на валидационной выборке: 0.5559105431309903\n",
      "max_depth 12:\tF1-мера на валидационной выборке: 0.5393939393939394\n",
      "max_depth 14:\tF1-мера на валидационной выборке: 0.5196629213483146\n",
      "max_depth 16:\tF1-мера на валидационной выборке: 0.5286713286713286\n",
      "max_depth 18:\tF1-мера на валидационной выборке: 0.509641873278237\n",
      "max_depth 20:\tF1-мера на валидационной выборке: 0.5013774104683195\n"
     ]
    }
   ],
   "source": [
    "for max_depth in range(2, 22, 2):\n",
    "    model = DecisionTreeClassifier(max_depth=max_depth, random_state=rnd_state)\n",
    "    train_and_predict(data_ordinal, model, log_prefix=f'max_depth {max_depth}:\\t')"
   ]
  },
  {
   "cell_type": "markdown",
   "metadata": {},
   "source": [
    "С глубиной равной 10, мы получили результат 0.5421133231240429. Далее посмотрим работу модели случайного леса."
   ]
  },
  {
   "cell_type": "markdown",
   "metadata": {},
   "source": [
    "### Случайный лес"
   ]
  },
  {
   "cell_type": "code",
   "execution_count": 23,
   "metadata": {},
   "outputs": [],
   "source": [
    "import warnings\n",
    "warnings.simplefilter('ignore')"
   ]
  },
  {
   "cell_type": "code",
   "execution_count": 24,
   "metadata": {},
   "outputs": [
    {
     "name": "stdout",
     "output_type": "stream",
     "text": [
      "max_depth 2:\tF1-мера на валидационной выборке: 0.24499999999999997\n",
      "max_depth 4:\tF1-мера на валидационной выборке: 0.2696078431372549\n",
      "max_depth 6:\tF1-мера на валидационной выборке: 0.5489443378119002\n",
      "max_depth 8:\tF1-мера на валидационной выборке: 0.5547169811320756\n",
      "max_depth 10:\tF1-мера на валидационной выборке: 0.5601436265709157\n",
      "max_depth 12:\tF1-мера на валидационной выборке: 0.5457809694793537\n",
      "max_depth 14:\tF1-мера на валидационной выборке: 0.5747899159663865\n",
      "max_depth 16:\tF1-мера на валидационной выборке: 0.5860927152317881\n",
      "max_depth 18:\tF1-мера на валидационной выборке: 0.5608465608465609\n",
      "max_depth 20:\tF1-мера на валидационной выборке: 0.5694444444444444\n"
     ]
    }
   ],
   "source": [
    "for max_depth in range(2, 22, 2):\n",
    "    model = RandomForestClassifier(max_depth=max_depth, random_state=rnd_state)\n",
    "    train_and_predict(data_ordinal, model, log_prefix=f'max_depth {max_depth}:\\t')"
   ]
  },
  {
   "cell_type": "code",
   "execution_count": 25,
   "metadata": {},
   "outputs": [
    {
     "name": "stdout",
     "output_type": "stream",
     "text": [
      "n_estimators = 10:\tF1-мера на валидационной выборке: 0.5860927152317881\n",
      "n_estimators = 20:\tF1-мера на валидационной выборке: 0.5892255892255893\n",
      "n_estimators = 30:\tF1-мера на валидационной выборке: 0.5836177474402731\n",
      "n_estimators = 40:\tF1-мера на валидационной выборке: 0.5868055555555555\n",
      "n_estimators = 50:\tF1-мера на валидационной выборке: 0.6010362694300518\n",
      "n_estimators = 60:\tF1-мера на валидационной выборке: 0.5993031358885017\n",
      "n_estimators = 70:\tF1-мера на валидационной выборке: 0.5944055944055944\n",
      "n_estimators = 80:\tF1-мера на валидационной выборке: 0.604895104895105\n",
      "n_estimators = 90:\tF1-мера на валидационной выборке: 0.6006944444444445\n",
      "n_estimators = 100:\tF1-мера на валидационной выборке: 0.6031195840554593\n",
      "n_estimators = 110:\tF1-мера на валидационной выборке: 0.602076124567474\n",
      "n_estimators = 120:\tF1-мера на валидационной выборке: 0.6038394415357766\n",
      "n_estimators = 130:\tF1-мера на валидационной выборке: 0.6031195840554593\n",
      "n_estimators = 140:\tF1-мера на валидационной выборке: 0.6031195840554593\n",
      "n_estimators = 150:\tF1-мера на валидационной выборке: 0.604895104895105\n",
      "n_estimators = 160:\tF1-мера на валидационной выборке: 0.6052173913043478\n",
      "n_estimators = 170:\tF1-мера на валидационной выборке: 0.607638888888889\n",
      "n_estimators = 180:\tF1-мера на валидационной выборке: 0.6031195840554593\n",
      "n_estimators = 190:\tF1-мера на валидационной выборке: 0.602787456445993\n",
      "n_estimators = 200:\tF1-мера на валидационной выборке: 0.6017391304347826\n"
     ]
    }
   ],
   "source": [
    "for estim in range(10, 201, 10):\n",
    "    model = RandomForestClassifier(n_estimators=estim, max_depth=16, random_state=rnd_state)\n",
    "    train_and_predict(data_ordinal, model, log_prefix=f'n_estimators = {estim}:\\t')"
   ]
  },
  {
   "cell_type": "markdown",
   "metadata": {},
   "source": [
    "<a class=\"anchor\" id=\"21-bullet\">"
   ]
  },
  {
   "cell_type": "code",
   "execution_count": 45,
   "metadata": {},
   "outputs": [],
   "source": [
    "def train_and_predict_1(data, model, log_prefix='', samplefunc=None, test=False):\n",
    "    target, features = tf(data)\n",
    "    features_train, features_valid, features_test, target_train, target_valid, target_test = split_data(features, target)\n",
    "    \n",
    "    if samplefunc:\n",
    "        features_train, target_train = samplefunc(features_train, target_train)\n",
    "    \n",
    "    model.fit(features_train, target_train)\n",
    "    predicted_valid = model.predict(features_valid)\n",
    "    #print(f'{log_prefix}F1-мера на валидационной выборке: {f1_score(target_valid, predicted_valid)}')\n",
    "    \n",
    "    if test:\n",
    "        predictions_test = model.predict(features_test)\n",
    "        #print(f'{log_prefix}F1-мера на тестовой выборке: {f1_score(target_test, predicted_test)}')\n",
    "    \n",
    "    return model, f1_score(target_valid, predicted_valid)"
   ]
  },
  {
   "cell_type": "code",
   "execution_count": 42,
   "metadata": {},
   "outputs": [],
   "source": [
    "from tqdm.notebook import tqdm"
   ]
  },
  {
   "cell_type": "code",
   "execution_count": 47,
   "metadata": {
    "scrolled": true
   },
   "outputs": [
    {
     "data": {
      "application/vnd.jupyter.widget-view+json": {
       "model_id": "b7d76e4d0a7c4c9c97f7a3bfb660e334",
       "version_major": 2,
       "version_minor": 0
      },
      "text/plain": [
       "HBox(children=(HTML(value='Depth loop:'), FloatProgress(value=0.0, max=10.0), HTML(value='')))"
      ]
     },
     "metadata": {},
     "output_type": "display_data"
    },
    {
     "data": {
      "application/vnd.jupyter.widget-view+json": {
       "model_id": "",
       "version_major": 2,
       "version_minor": 0
      },
      "text/plain": [
       "HBox(children=(HTML(value='Estim loop:'), FloatProgress(value=0.0, max=20.0), HTML(value='')))"
      ]
     },
     "metadata": {},
     "output_type": "display_data"
    },
    {
     "name": "stdout",
     "output_type": "stream",
     "text": [
      "max_depth 2:\tF1-мера на валидационной выборке: 0.24499999999999997\n",
      "max_depth 2:\tF1-мера на валидационной выборке: 0.21079691516709512\n",
      "max_depth 2:\tF1-мера на валидационной выборке: 0.20618556701030927\n",
      "max_depth 2:\tF1-мера на валидационной выборке: 0.20155038759689925\n",
      "max_depth 2:\tF1-мера на валидационной выборке: 0.12903225806451613\n",
      "max_depth 2:\tF1-мера на валидационной выборке: 0.10869565217391304\n",
      "max_depth 2:\tF1-мера на валидационной выборке: 0.12903225806451613\n",
      "max_depth 2:\tF1-мера на валидационной выборке: 0.12903225806451613\n",
      "max_depth 2:\tF1-мера на валидационной выборке: 0.144\n",
      "max_depth 2:\tF1-мера на валидационной выборке: 0.14893617021276595\n",
      "max_depth 2:\tF1-мера на валидационной выборке: 0.15384615384615385\n",
      "max_depth 2:\tF1-мера на валидационной выборке: 0.15873015873015872\n",
      "max_depth 2:\tF1-мера на валидационной выборке: 0.15873015873015872\n",
      "max_depth 2:\tF1-мера на валидационной выборке: 0.15384615384615385\n",
      "max_depth 2:\tF1-мера на валидационной выборке: 0.15873015873015872\n",
      "max_depth 2:\tF1-мера на валидационной выборке: 0.15873015873015872\n",
      "max_depth 2:\tF1-мера на валидационной выборке: 0.15873015873015872\n",
      "max_depth 2:\tF1-мера на валидационной выборке: 0.1875\n",
      "max_depth 2:\tF1-мера на валидационной выборке: 0.1732283464566929\n",
      "max_depth 2:\tF1-мера на валидационной выборке: 0.1732283464566929\n"
     ]
    },
    {
     "data": {
      "application/vnd.jupyter.widget-view+json": {
       "model_id": "",
       "version_major": 2,
       "version_minor": 0
      },
      "text/plain": [
       "HBox(children=(HTML(value='Estim loop:'), FloatProgress(value=0.0, max=20.0), HTML(value='')))"
      ]
     },
     "metadata": {},
     "output_type": "display_data"
    },
    {
     "name": "stdout",
     "output_type": "stream",
     "text": [
      "max_depth 4:\tF1-мера на валидационной выборке: 0.2696078431372549\n",
      "max_depth 4:\tF1-мера на валидационной выборке: 0.27737226277372257\n",
      "max_depth 4:\tF1-мера на валидационной выборке: 0.34272300469483563\n",
      "max_depth 4:\tF1-мера на валидационной выборке: 0.36194895591647336\n",
      "max_depth 4:\tF1-мера на валидационной выборке: 0.3559718969555035\n",
      "max_depth 4:\tF1-мера на валидационной выборке: 0.40091116173120733\n",
      "max_depth 4:\tF1-мера на валидационной выборке: 0.4170403587443946\n",
      "max_depth 4:\tF1-мера на валидационной выборке: 0.4144144144144144\n",
      "max_depth 4:\tF1-мера на валидационной выборке: 0.4507658643326039\n",
      "max_depth 4:\tF1-мера на валидационной выборке: 0.4668094218415418\n",
      "max_depth 4:\tF1-мера на валидационной выборке: 0.44638949671772427\n",
      "max_depth 4:\tF1-мера на валидационной выборке: 0.43668122270742366\n",
      "max_depth 4:\tF1-мера на валидационной выборке: 0.4351648351648352\n",
      "max_depth 4:\tF1-мера на валидационной выборке: 0.44008714596949894\n",
      "max_depth 4:\tF1-мера на валидационной выборке: 0.4468546637744034\n",
      "max_depth 4:\tF1-мера на валидационной выборке: 0.4525862068965517\n",
      "max_depth 4:\tF1-мера на валидационной выборке: 0.4658119658119658\n",
      "max_depth 4:\tF1-мера на валидационной выборке: 0.4690831556503198\n",
      "max_depth 4:\tF1-мера на валидационной выборке: 0.4713375796178344\n",
      "max_depth 4:\tF1-мера на валидационной выборке: 0.4670912951167729\n"
     ]
    },
    {
     "data": {
      "application/vnd.jupyter.widget-view+json": {
       "model_id": "",
       "version_major": 2,
       "version_minor": 0
      },
      "text/plain": [
       "HBox(children=(HTML(value='Estim loop:'), FloatProgress(value=0.0, max=20.0), HTML(value='')))"
      ]
     },
     "metadata": {},
     "output_type": "display_data"
    },
    {
     "name": "stdout",
     "output_type": "stream",
     "text": [
      "max_depth 6:\tF1-мера на валидационной выборке: 0.5489443378119002\n",
      "max_depth 6:\tF1-мера на валидационной выборке: 0.5497076023391813\n",
      "max_depth 6:\tF1-мера на валидационной выборке: 0.558766859344894\n",
      "max_depth 6:\tF1-мера на валидационной выборке: 0.5627376425855513\n",
      "max_depth 6:\tF1-мера на валидационной выборке: 0.5549132947976879\n",
      "max_depth 6:\tF1-мера на валидационной выборке: 0.55893536121673\n",
      "max_depth 6:\tF1-мера на валидационной выборке: 0.5610687022900763\n",
      "max_depth 6:\tF1-мера на валидационной выборке: 0.5616698292220113\n",
      "max_depth 6:\tF1-мера на валидационной выборке: 0.5557655954631381\n",
      "max_depth 6:\tF1-мера на валидационной выборке: 0.5595463137996219\n",
      "max_depth 6:\tF1-мера на валидационной выборке: 0.5551330798479087\n",
      "max_depth 6:\tF1-мера на валидационной выборке: 0.5523809523809524\n",
      "max_depth 6:\tF1-мера на валидационной выборке: 0.5496183206106869\n",
      "max_depth 6:\tF1-мера на валидационной выборке: 0.5496183206106869\n",
      "max_depth 6:\tF1-мера на валидационной выборке: 0.5485714285714286\n",
      "max_depth 6:\tF1-мера на валидационной выборке: 0.5513307984790875\n",
      "max_depth 6:\tF1-мера на валидационной выборке: 0.5513307984790875\n",
      "max_depth 6:\tF1-мера на валидационной выборке: 0.5568181818181819\n",
      "max_depth 6:\tF1-мера на валидационной выборке: 0.5584905660377357\n",
      "max_depth 6:\tF1-мера на валидационной выборке: 0.5584905660377357\n"
     ]
    },
    {
     "data": {
      "application/vnd.jupyter.widget-view+json": {
       "model_id": "",
       "version_major": 2,
       "version_minor": 0
      },
      "text/plain": [
       "HBox(children=(HTML(value='Estim loop:'), FloatProgress(value=0.0, max=20.0), HTML(value='')))"
      ]
     },
     "metadata": {},
     "output_type": "display_data"
    },
    {
     "name": "stdout",
     "output_type": "stream",
     "text": [
      "max_depth 8:\tF1-мера на валидационной выборке: 0.5547169811320756\n",
      "max_depth 8:\tF1-мера на валидационной выборке: 0.5698324022346368\n",
      "max_depth 8:\tF1-мера на валидационной выборке: 0.5814814814814814\n",
      "max_depth 8:\tF1-мера на валидационной выборке: 0.5851851851851853\n",
      "max_depth 8:\tF1-мера на валидационной выборке: 0.582089552238806\n",
      "max_depth 8:\tF1-мера на валидационной выборке: 0.5831775700934579\n",
      "max_depth 8:\tF1-мера на валидационной выборке: 0.585820895522388\n",
      "max_depth 8:\tF1-мера на валидационной выборке: 0.5847299813780261\n",
      "max_depth 8:\tF1-мера на валидационной выборке: 0.582089552238806\n",
      "max_depth 8:\tF1-мера на валидационной выборке: 0.5825602968460111\n",
      "max_depth 8:\tF1-мера на валидационной выборке: 0.5836431226765798\n",
      "max_depth 8:\tF1-мера на валидационной выборке: 0.5836431226765798\n",
      "max_depth 8:\tF1-мера на валидационной выборке: 0.5851851851851853\n",
      "max_depth 8:\tF1-мера на валидационной выборке: 0.5825602968460111\n",
      "max_depth 8:\tF1-мера на валидационной выборке: 0.5825602968460111\n",
      "max_depth 8:\tF1-мера на валидационной выборке: 0.5825602968460111\n",
      "max_depth 8:\tF1-мера на валидационной выборке: 0.5825602968460111\n",
      "max_depth 8:\tF1-мера на валидационной выборке: 0.5825602968460111\n",
      "max_depth 8:\tF1-мера на валидационной выборке: 0.5788497217068646\n",
      "max_depth 8:\tF1-мера на валидационной выборке: 0.5856353591160222\n"
     ]
    },
    {
     "data": {
      "application/vnd.jupyter.widget-view+json": {
       "model_id": "",
       "version_major": 2,
       "version_minor": 0
      },
      "text/plain": [
       "HBox(children=(HTML(value='Estim loop:'), FloatProgress(value=0.0, max=20.0), HTML(value='')))"
      ]
     },
     "metadata": {},
     "output_type": "display_data"
    },
    {
     "name": "stdout",
     "output_type": "stream",
     "text": [
      "max_depth 10:\tF1-мера на валидационной выборке: 0.5601436265709157\n",
      "max_depth 10:\tF1-мера на валидационной выборке: 0.5842293906810037\n",
      "max_depth 10:\tF1-мера на валидационной выборке: 0.5806451612903226\n",
      "max_depth 10:\tF1-мера на валидационной выборке: 0.5867620751341682\n",
      "max_depth 10:\tF1-мера на валидационной выборке: 0.5863309352517986\n",
      "max_depth 10:\tF1-мера на валидационной выборке: 0.5869565217391304\n",
      "max_depth 10:\tF1-мера на валидационной выборке: 0.5890909090909091\n",
      "max_depth 10:\tF1-мера на валидационной выборке: 0.5833333333333333\n",
      "max_depth 10:\tF1-мера на валидационной выборке: 0.5916515426497277\n",
      "max_depth 10:\tF1-мера на валидационной выборке: 0.595667870036101\n",
      "max_depth 10:\tF1-мера на валидационной выборке: 0.5905797101449275\n",
      "max_depth 10:\tF1-мера на валидационной выборке: 0.588021778584392\n",
      "max_depth 10:\tF1-мера на валидационной выборке: 0.588021778584392\n",
      "max_depth 10:\tF1-мера на валидационной выборке: 0.5833333333333333\n",
      "max_depth 10:\tF1-мера на валидационной выборке: 0.5858951175406871\n",
      "max_depth 10:\tF1-мера на валидационной выборке: 0.5854545454545454\n",
      "max_depth 10:\tF1-мера на валидационной выборке: 0.5905797101449275\n",
      "max_depth 10:\tF1-мера на валидационной выборке: 0.5927272727272727\n",
      "max_depth 10:\tF1-мера на валидационной выборке: 0.5916515426497277\n",
      "max_depth 10:\tF1-мера на валидационной выборке: 0.590990990990991\n"
     ]
    },
    {
     "data": {
      "application/vnd.jupyter.widget-view+json": {
       "model_id": "",
       "version_major": 2,
       "version_minor": 0
      },
      "text/plain": [
       "HBox(children=(HTML(value='Estim loop:'), FloatProgress(value=0.0, max=20.0), HTML(value='')))"
      ]
     },
     "metadata": {},
     "output_type": "display_data"
    },
    {
     "name": "stdout",
     "output_type": "stream",
     "text": [
      "max_depth 12:\tF1-мера на валидационной выборке: 0.5457809694793537\n",
      "max_depth 12:\tF1-мера на валидационной выборке: 0.5886524822695035\n",
      "max_depth 12:\tF1-мера на валидационной выборке: 0.5911504424778761\n",
      "max_depth 12:\tF1-мера на валидационной выборке: 0.590339892665474\n",
      "max_depth 12:\tF1-мера на валидационной выборке: 0.590339892665474\n",
      "max_depth 12:\tF1-мера на валидационной выборке: 0.590990990990991\n",
      "max_depth 12:\tF1-мера на валидационной выборке: 0.5960502692998205\n",
      "max_depth 12:\tF1-мера на валидационной выборке: 0.5943060498220641\n",
      "max_depth 12:\tF1-мера на валидационной выборке: 0.5982300884955752\n",
      "max_depth 12:\tF1-мера на валидационной выборке: 0.5921985815602837\n",
      "max_depth 12:\tF1-мера на валидационной выборке: 0.5932504440497336\n",
      "max_depth 12:\tF1-мера на валидационной выборке: 0.5957446808510638\n",
      "max_depth 12:\tF1-мера на валидационной выборке: 0.6003552397868561\n",
      "max_depth 12:\tF1-мера на валидационной выборке: 0.599290780141844\n",
      "max_depth 12:\tF1-мера на валидационной выборке: 0.599290780141844\n",
      "max_depth 12:\tF1-мера на валидационной выборке: 0.599290780141844\n",
      "max_depth 12:\tF1-мера на валидационной выборке: 0.5978647686832741\n",
      "max_depth 12:\tF1-мера на валидационной выборке: 0.599290780141844\n",
      "max_depth 12:\tF1-мера на валидационной выборке: 0.5901060070671379\n",
      "max_depth 12:\tF1-мера на валидационной выборке: 0.5901060070671379\n"
     ]
    },
    {
     "data": {
      "application/vnd.jupyter.widget-view+json": {
       "model_id": "",
       "version_major": 2,
       "version_minor": 0
      },
      "text/plain": [
       "HBox(children=(HTML(value='Estim loop:'), FloatProgress(value=0.0, max=20.0), HTML(value='')))"
      ]
     },
     "metadata": {},
     "output_type": "display_data"
    },
    {
     "name": "stdout",
     "output_type": "stream",
     "text": [
      "max_depth 14:\tF1-мера на валидационной выборке: 0.5747899159663865\n",
      "max_depth 14:\tF1-мера на валидационной выборке: 0.579861111111111\n",
      "max_depth 14:\tF1-мера на валидационной выборке: 0.5827586206896551\n",
      "max_depth 14:\tF1-мера на валидационной выборке: 0.5799648506151143\n",
      "max_depth 14:\tF1-мера на валидационной выборке: 0.5834797891036906\n",
      "max_depth 14:\tF1-мера на валидационной выборке: 0.5890652557319224\n",
      "max_depth 14:\tF1-мера на валидационной выборке: 0.5957446808510638\n",
      "max_depth 14:\tF1-мера на валидационной выборке: 0.5905096660808435\n",
      "max_depth 14:\tF1-мера на валидационной выборке: 0.597173144876325\n",
      "max_depth 14:\tF1-мера на валидационной выборке: 0.5896980461811724\n",
      "max_depth 14:\tF1-мера на валидационной выборке: 0.5901060070671379\n",
      "max_depth 14:\tF1-мера на валидационной выборке: 0.5964912280701754\n",
      "max_depth 14:\tF1-мера на валидационной выборке: 0.6010544815465729\n",
      "max_depth 14:\tF1-мера на валидационной выборке: 0.5975395430579965\n",
      "max_depth 14:\tF1-мера на валидационной выборке: 0.5996472663139331\n",
      "max_depth 14:\tF1-мера на валидационной выборке: 0.6035087719298246\n",
      "max_depth 14:\tF1-мера на валидационной выборке: 0.6035087719298246\n",
      "max_depth 14:\tF1-мера на валидационной выборке: 0.6024518388791594\n",
      "max_depth 14:\tF1-мера на валидационной выборке: 0.5989492119089317\n",
      "max_depth 14:\tF1-мера на валидационной выборке: 0.6013986013986014\n"
     ]
    },
    {
     "data": {
      "application/vnd.jupyter.widget-view+json": {
       "model_id": "",
       "version_major": 2,
       "version_minor": 0
      },
      "text/plain": [
       "HBox(children=(HTML(value='Estim loop:'), FloatProgress(value=0.0, max=20.0), HTML(value='')))"
      ]
     },
     "metadata": {},
     "output_type": "display_data"
    },
    {
     "name": "stdout",
     "output_type": "stream",
     "text": [
      "max_depth 16:\tF1-мера на валидационной выборке: 0.5860927152317881\n",
      "max_depth 16:\tF1-мера на валидационной выборке: 0.5892255892255893\n",
      "max_depth 16:\tF1-мера на валидационной выборке: 0.5836177474402731\n",
      "max_depth 16:\tF1-мера на валидационной выборке: 0.5868055555555555\n",
      "max_depth 16:\tF1-мера на валидационной выборке: 0.6010362694300518\n",
      "max_depth 16:\tF1-мера на валидационной выборке: 0.5993031358885017\n",
      "max_depth 16:\tF1-мера на валидационной выборке: 0.5944055944055944\n",
      "max_depth 16:\tF1-мера на валидационной выборке: 0.604895104895105\n",
      "max_depth 16:\tF1-мера на валидационной выборке: 0.6006944444444445\n",
      "max_depth 16:\tF1-мера на валидационной выборке: 0.6031195840554593\n",
      "max_depth 16:\tF1-мера на валидационной выборке: 0.602076124567474\n",
      "max_depth 16:\tF1-мера на валидационной выборке: 0.6038394415357766\n",
      "max_depth 16:\tF1-мера на валидационной выборке: 0.6031195840554593\n",
      "max_depth 16:\tF1-мера на валидационной выборке: 0.6031195840554593\n",
      "max_depth 16:\tF1-мера на валидационной выборке: 0.604895104895105\n",
      "max_depth 16:\tF1-мера на валидационной выборке: 0.6052173913043478\n",
      "max_depth 16:\tF1-мера на валидационной выборке: 0.607638888888889\n",
      "max_depth 16:\tF1-мера на валидационной выборке: 0.6031195840554593\n",
      "max_depth 16:\tF1-мера на валидационной выборке: 0.602787456445993\n",
      "max_depth 16:\tF1-мера на валидационной выборке: 0.6017391304347826\n"
     ]
    },
    {
     "data": {
      "application/vnd.jupyter.widget-view+json": {
       "model_id": "",
       "version_major": 2,
       "version_minor": 0
      },
      "text/plain": [
       "HBox(children=(HTML(value='Estim loop:'), FloatProgress(value=0.0, max=20.0), HTML(value='')))"
      ]
     },
     "metadata": {},
     "output_type": "display_data"
    },
    {
     "name": "stdout",
     "output_type": "stream",
     "text": [
      "max_depth 18:\tF1-мера на валидационной выборке: 0.5608465608465609\n",
      "max_depth 18:\tF1-мера на валидационной выборке: 0.5795053003533569\n",
      "max_depth 18:\tF1-мера на валидационной выборке: 0.5886402753872634\n",
      "max_depth 18:\tF1-мера на валидационной выборке: 0.5888501742160279\n",
      "max_depth 18:\tF1-мера на валидационной выборке: 0.5913043478260871\n",
      "max_depth 18:\tF1-мера на валидационной выборке: 0.6068965517241379\n",
      "max_depth 18:\tF1-мера на валидационной выборке: 0.6145833333333333\n",
      "max_depth 18:\tF1-мера на валидационной выборке: 0.6103448275862069\n",
      "max_depth 18:\tF1-мера на валидационной выборке: 0.6137931034482759\n",
      "max_depth 18:\tF1-мера на валидационной выборке: 0.607638888888889\n",
      "max_depth 18:\tF1-мера на валидационной выборке: 0.6041666666666667\n",
      "max_depth 18:\tF1-мера на валидационной выборке: 0.610051993067591\n",
      "max_depth 18:\tF1-мера на валидационной выборке: 0.6017391304347826\n",
      "max_depth 18:\tF1-мера на валидационной выборке: 0.6079447322970639\n",
      "max_depth 18:\tF1-мера на валидационной выборке: 0.6055363321799307\n",
      "max_depth 18:\tF1-мера на валидационной выборке: 0.6089965397923875\n",
      "max_depth 18:\tF1-мера на валидационной выборке: 0.602787456445993\n",
      "max_depth 18:\tF1-мера на валидационной выборке: 0.6041666666666667\n",
      "max_depth 18:\tF1-мера на валидационной выборке: 0.6103448275862069\n",
      "max_depth 18:\tF1-мера на валидационной выборке: 0.610051993067591\n"
     ]
    },
    {
     "data": {
      "application/vnd.jupyter.widget-view+json": {
       "model_id": "",
       "version_major": 2,
       "version_minor": 0
      },
      "text/plain": [
       "HBox(children=(HTML(value='Estim loop:'), FloatProgress(value=0.0, max=20.0), HTML(value='')))"
      ]
     },
     "metadata": {},
     "output_type": "display_data"
    },
    {
     "name": "stdout",
     "output_type": "stream",
     "text": [
      "max_depth 20:\tF1-мера на валидационной выборке: 0.5694444444444444\n",
      "max_depth 20:\tF1-мера на валидационной выборке: 0.6010362694300518\n",
      "max_depth 20:\tF1-мера на валидационной выборке: 0.5937499999999999\n",
      "max_depth 20:\tF1-мера на валидационной выборке: 0.5989492119089317\n",
      "max_depth 20:\tF1-мера на валидационной выборке: 0.5898778359511343\n",
      "max_depth 20:\tF1-мера на валидационной выборке: 0.5958188153310103\n",
      "max_depth 20:\tF1-мера на валидационной выборке: 0.5993031358885017\n",
      "max_depth 20:\tF1-мера на валидационной выборке: 0.5979020979020979\n",
      "max_depth 20:\tF1-мера на валидационной выборке: 0.5996533795493935\n",
      "max_depth 20:\tF1-мера на валидационной выборке: 0.5972222222222222\n",
      "max_depth 20:\tF1-мера на валидационной выборке: 0.5993031358885017\n",
      "max_depth 20:\tF1-мера на валидационной выборке: 0.5958188153310103\n",
      "max_depth 20:\tF1-мера на валидационной выборке: 0.5923344947735192\n",
      "max_depth 20:\tF1-мера на валидационной выборке: 0.5954465849387041\n",
      "max_depth 20:\tF1-мера на валидационной выборке: 0.6017391304347826\n",
      "max_depth 20:\tF1-мера на валидационной выборке: 0.6013986013986014\n",
      "max_depth 20:\tF1-мера на валидационной выборке: 0.5972222222222222\n",
      "max_depth 20:\tF1-мера на валидационной выборке: 0.5961871750433275\n",
      "max_depth 20:\tF1-мера на валидационной выборке: 0.5996533795493935\n",
      "max_depth 20:\tF1-мера на валидационной выборке: 0.5965517241379311\n",
      "\n"
     ]
    }
   ],
   "source": [
    "best_score = 0\n",
    "best_depth = 0\n",
    "best_n_estim = 0\n",
    "best_model = None\n",
    "\n",
    "for max_depth in tqdm(range(2, 22, 2), desc='Depth loop:'):\n",
    "    for estim in tqdm(range(10, 201, 10), desc='Estim loop:', leave=False):\n",
    "        model = RandomForestClassifier(max_depth=max_depth, n_estimators=estim, random_state=rnd_state)\n",
    "        m, f1 = train_and_predict_1(data_ordinal, model, log_prefix=f'max_depth {max_depth}:\\t')\n",
    "        if f1 > best_score:\n",
    "            best_score = f1\n",
    "            best_depth = m.get_params('max_depth')\n",
    "            best_n_estim = m.get_params('n_estimators')\n",
    "            best_model = m"
   ]
  },
  {
   "cell_type": "code",
   "execution_count": 49,
   "metadata": {},
   "outputs": [
    {
     "data": {
      "text/plain": [
       "0.6145833333333333"
      ]
     },
     "execution_count": 49,
     "metadata": {},
     "output_type": "execute_result"
    }
   ],
   "source": [
    "best_score"
   ]
  },
  {
   "cell_type": "code",
   "execution_count": 48,
   "metadata": {},
   "outputs": [
    {
     "data": {
      "text/plain": [
       "RandomForestClassifier(bootstrap=True, class_weight=None, criterion='gini',\n",
       "                       max_depth=18, max_features='auto', max_leaf_nodes=None,\n",
       "                       min_impurity_decrease=0.0, min_impurity_split=None,\n",
       "                       min_samples_leaf=1, min_samples_split=2,\n",
       "                       min_weight_fraction_leaf=0.0, n_estimators=70,\n",
       "                       n_jobs=None, oob_score=False, random_state=47, verbose=0,\n",
       "                       warm_start=False)"
      ]
     },
     "execution_count": 48,
     "metadata": {},
     "output_type": "execute_result"
    }
   ],
   "source": [
    "best_model"
   ]
  },
  {
   "cell_type": "markdown",
   "metadata": {},
   "source": [
    "Как можно заметить, метрика еще выше\n",
    "<hr style=\"border: 2px solid orange;\" />"
   ]
  },
  {
   "cell_type": "markdown",
   "metadata": {},
   "source": [
    "## Борьба с дисбалансом"
   ]
  },
  {
   "cell_type": "markdown",
   "metadata": {},
   "source": [
    "Возьмем во внимание дисбаланс классов. Посмотрим, как это повлияет на исследуемые модели."
   ]
  },
  {
   "cell_type": "markdown",
   "metadata": {},
   "source": [
    "### Взвешивание классов"
   ]
  },
  {
   "cell_type": "markdown",
   "metadata": {},
   "source": [
    "Придадим объектам редкого класса 1 больший вес используя гиперпараметр class_weight='balanced'."
   ]
  },
  {
   "cell_type": "markdown",
   "metadata": {},
   "source": [
    "#### Логистическая регрессия"
   ]
  },
  {
   "cell_type": "code",
   "execution_count": 26,
   "metadata": {},
   "outputs": [
    {
     "name": "stdout",
     "output_type": "stream",
     "text": [
      "F1-мера на валидационной выборке: 0.4688995215311005\n"
     ]
    },
    {
     "data": {
      "text/plain": [
       "LogisticRegression(C=1.0, class_weight='balanced', dual=False,\n",
       "                   fit_intercept=True, intercept_scaling=1, l1_ratio=None,\n",
       "                   max_iter=100, multi_class='warn', n_jobs=None, penalty='l2',\n",
       "                   random_state=47, solver='liblinear', tol=0.0001, verbose=0,\n",
       "                   warm_start=False)"
      ]
     },
     "execution_count": 26,
     "metadata": {},
     "output_type": "execute_result"
    }
   ],
   "source": [
    "model = LogisticRegression(class_weight='balanced', solver='liblinear', random_state=rnd_state)\n",
    "train_and_predict(data_ohe, model)"
   ]
  },
  {
   "cell_type": "markdown",
   "metadata": {},
   "source": [
    "Значение F1-меры увеличилось."
   ]
  },
  {
   "cell_type": "markdown",
   "metadata": {},
   "source": [
    "#### Дерево решений"
   ]
  },
  {
   "cell_type": "code",
   "execution_count": 27,
   "metadata": {},
   "outputs": [
    {
     "name": "stdout",
     "output_type": "stream",
     "text": [
      "max_depth 2:\tF1-мера на валидационной выборке: 0.5137614678899083\n",
      "max_depth 4:\tF1-мера на валидационной выборке: 0.4892857142857143\n",
      "max_depth 6:\tF1-мера на валидационной выборке: 0.5469556243550052\n",
      "max_depth 8:\tF1-мера на валидационной выборке: 0.5334645669291338\n",
      "max_depth 10:\tF1-мера на валидационной выборке: 0.5118279569892473\n",
      "max_depth 12:\tF1-мера на валидационной выборке: 0.4994192799070848\n",
      "max_depth 14:\tF1-мера на валидационной выборке: 0.5037783375314862\n",
      "max_depth 16:\tF1-мера на валидационной выборке: 0.4974093264248704\n",
      "max_depth 18:\tF1-мера на валидационной выборке: 0.5013192612137203\n",
      "max_depth 20:\tF1-мера на валидационной выборке: 0.4939271255060729\n"
     ]
    }
   ],
   "source": [
    "for max_depth in range(2, 22, 2):\n",
    "    model = DecisionTreeClassifier(class_weight='balanced', max_depth=max_depth, random_state=rnd_state)\n",
    "    train_and_predict(data_ordinal, model, log_prefix=f'max_depth {max_depth}:\\t')"
   ]
  },
  {
   "cell_type": "markdown",
   "metadata": {},
   "source": [
    "Наилучший результат: 0.574370709382151 у решающего дерева с глубиной 6."
   ]
  },
  {
   "cell_type": "markdown",
   "metadata": {},
   "source": [
    "#### Случайный лес"
   ]
  },
  {
   "cell_type": "code",
   "execution_count": 28,
   "metadata": {},
   "outputs": [
    {
     "name": "stdout",
     "output_type": "stream",
     "text": [
      "max_depth 2:\tF1-мера на валидационной выборке: 0.5569620253164558\n",
      "max_depth 4:\tF1-мера на валидационной выборке: 0.5533678756476683\n",
      "max_depth 6:\tF1-мера на валидационной выборке: 0.5827505827505828\n",
      "max_depth 8:\tF1-мера на валидационной выборке: 0.597051597051597\n",
      "max_depth 10:\tF1-мера на валидационной выборке: 0.6055776892430278\n",
      "max_depth 12:\tF1-мера на валидационной выборке: 0.5795795795795796\n",
      "max_depth 14:\tF1-мера на валидационной выборке: 0.5843071786310517\n",
      "max_depth 16:\tF1-мера на валидационной выборке: 0.549645390070922\n",
      "max_depth 18:\tF1-мера на валидационной выборке: 0.5557586837294334\n",
      "max_depth 20:\tF1-мера на валидационной выборке: 0.5297297297297296\n"
     ]
    }
   ],
   "source": [
    "for max_depth in range(2, 22, 2):\n",
    "    model = RandomForestClassifier(class_weight='balanced', max_depth=max_depth, random_state=rnd_state)\n",
    "    train_and_predict(data_ordinal, model, log_prefix=f'max_depth {max_depth}:\\t')"
   ]
  },
  {
   "cell_type": "markdown",
   "metadata": {},
   "source": [
    "Наилучший результат 0.6055776892430278 был показан при гиперпараметре глубины дерева 10."
   ]
  },
  {
   "cell_type": "code",
   "execution_count": 29,
   "metadata": {},
   "outputs": [
    {
     "name": "stdout",
     "output_type": "stream",
     "text": [
      "n_estimators = 10:\tF1-мера на валидационной выборке: 0.6055776892430278\n",
      "n_estimators = 20:\tF1-мера на валидационной выборке: 0.5983827493261455\n",
      "n_estimators = 30:\tF1-мера на валидационной выборке: 0.6113416320885201\n",
      "n_estimators = 40:\tF1-мера на валидационной выборке: 0.6199158485273492\n",
      "n_estimators = 50:\tF1-мера на валидационной выборке: 0.628491620111732\n",
      "n_estimators = 60:\tF1-мера на валидационной выборке: 0.625\n",
      "n_estimators = 70:\tF1-мера на валидационной выборке: 0.6225352112676057\n",
      "n_estimators = 80:\tF1-мера на валидационной выборке: 0.6318758815232722\n",
      "n_estimators = 90:\tF1-мера на валидационной выборке: 0.628005657708628\n",
      "n_estimators = 100:\tF1-мера на валидационной выборке: 0.6299435028248588\n",
      "n_estimators = 110:\tF1-мера на валидационной выборке: 0.6326241134751773\n",
      "n_estimators = 120:\tF1-мера на валидационной выборке: 0.6385372714486638\n",
      "n_estimators = 130:\tF1-мера на валидационной выборке: 0.6311360448807855\n",
      "n_estimators = 140:\tF1-мера на валидационной выборке: 0.6333808844507846\n",
      "n_estimators = 150:\tF1-мера на валидационной выборке: 0.6344238975817923\n",
      "n_estimators = 160:\tF1-мера на валидационной выборке: 0.6344238975817923\n",
      "n_estimators = 170:\tF1-мера на валидационной выборке: 0.635593220338983\n",
      "n_estimators = 180:\tF1-мера на валидационной выборке: 0.6346967559943583\n",
      "n_estimators = 190:\tF1-мера на валидационной выборке: 0.6308345120226307\n",
      "n_estimators = 200:\tF1-мера на валидационной выборке: 0.6354609929078013\n"
     ]
    }
   ],
   "source": [
    "for estim in range(10, 201, 10):\n",
    "    model = RandomForestClassifier(class_weight='balanced', n_estimators=estim, max_depth=10, random_state=rnd_state)\n",
    "    train_and_predict(data_ordinal, model, log_prefix=f'n_estimators = {estim}:\\t')"
   ]
  },
  {
   "cell_type": "markdown",
   "metadata": {},
   "source": [
    "А вот модель случайного леса показывает самое высокое значение F1-меры: 0.6385372714486638 при количестве деревьев равном 120."
   ]
  },
  {
   "cell_type": "markdown",
   "metadata": {},
   "source": [
    "### Увеличение выборки"
   ]
  },
  {
   "cell_type": "markdown",
   "metadata": {},
   "source": [
    "Cделаем объекты редкого класса не такими редкими и переобучим модели."
   ]
  },
  {
   "cell_type": "code",
   "execution_count": 30,
   "metadata": {},
   "outputs": [],
   "source": [
    "def upsample(features, target, repeat=10):\n",
    "    features_zeros = features[target == 0]\n",
    "    features_ones = features[target == 1]\n",
    "    target_zeros = target[target == 0]\n",
    "    target_ones = target[target == 1]\n",
    "\n",
    "    features_upsampled = pd.concat([features_zeros] + [features_ones] * repeat)\n",
    "    target_upsampled = pd.concat([target_zeros] + [target_ones] * repeat)\n",
    "    \n",
    "    features_upsampled, target_upsampled = shuffle(\n",
    "        features_upsampled, target_upsampled, random_state=rnd_state)\n",
    "    \n",
    "    return features_upsampled, target_upsampled"
   ]
  },
  {
   "cell_type": "markdown",
   "metadata": {},
   "source": [
    "#### Логистическая регрессия"
   ]
  },
  {
   "cell_type": "code",
   "execution_count": 31,
   "metadata": {},
   "outputs": [
    {
     "name": "stdout",
     "output_type": "stream",
     "text": [
      "F1-мера на валидационной выборке: 0.39540507859733975\n"
     ]
    },
    {
     "data": {
      "text/plain": [
       "LogisticRegression(C=1.0, class_weight=None, dual=False, fit_intercept=True,\n",
       "                   intercept_scaling=1, l1_ratio=None, max_iter=100,\n",
       "                   multi_class='warn', n_jobs=None, penalty='l2',\n",
       "                   random_state=47, solver='liblinear', tol=0.0001, verbose=0,\n",
       "                   warm_start=False)"
      ]
     },
     "execution_count": 31,
     "metadata": {},
     "output_type": "execute_result"
    }
   ],
   "source": [
    "model = LogisticRegression(solver='liblinear', random_state=rnd_state)\n",
    "train_and_predict(data_ohe, model, samplefunc=upsample)"
   ]
  },
  {
   "cell_type": "markdown",
   "metadata": {},
   "source": [
    "#### Дерево решений"
   ]
  },
  {
   "cell_type": "code",
   "execution_count": 32,
   "metadata": {},
   "outputs": [
    {
     "name": "stdout",
     "output_type": "stream",
     "text": [
      "max_depth 2:\tF1-мера на валидационной выборке: 0.32132963988919666\n",
      "max_depth 4:\tF1-мера на валидационной выборке: 0.40200375704445845\n",
      "max_depth 6:\tF1-мера на валидационной выборке: 0.4765625\n",
      "max_depth 8:\tF1-мера на валидационной выборке: 0.46586345381526106\n",
      "max_depth 10:\tF1-мера на валидационной выборке: 0.5009310986964618\n",
      "max_depth 12:\tF1-мера на валидационной выборке: 0.503030303030303\n",
      "max_depth 14:\tF1-мера на валидационной выборке: 0.5206124852767963\n",
      "max_depth 16:\tF1-мера на валидационной выборке: 0.5240506329113925\n",
      "max_depth 18:\tF1-мера на валидационной выборке: 0.5132978723404257\n",
      "max_depth 20:\tF1-мера на валидационной выборке: 0.505586592178771\n"
     ]
    }
   ],
   "source": [
    "for max_depth in range(2, 22, 2):\n",
    "    model = DecisionTreeClassifier(max_depth=max_depth, random_state=rnd_state)\n",
    "    train_and_predict(data_ordinal, model, samplefunc=upsample, log_prefix=f'max_depth {max_depth}:\\t')"
   ]
  },
  {
   "cell_type": "markdown",
   "metadata": {},
   "source": [
    "#### Случайный лес"
   ]
  },
  {
   "cell_type": "code",
   "execution_count": 33,
   "metadata": {},
   "outputs": [
    {
     "name": "stdout",
     "output_type": "stream",
     "text": [
      "n_estimators = 10:\tF1-мера на валидационной выборке: 0.5215004574565416\n",
      "n_estimators = 20:\tF1-мера на валидационной выборке: 0.5312499999999999\n",
      "n_estimators = 30:\tF1-мера на валидационной выборке: 0.5278538812785388\n",
      "n_estimators = 40:\tF1-мера на валидационной выборке: 0.528714676390155\n",
      "n_estimators = 50:\tF1-мера на валидационной выборке: 0.5283363802559415\n",
      "n_estimators = 60:\tF1-мера на валидационной выборке: 0.5302752293577983\n",
      "n_estimators = 70:\tF1-мера на валидационной выборке: 0.5354185832566698\n",
      "n_estimators = 80:\tF1-мера на валидационной выборке: 0.5351851851851852\n",
      "n_estimators = 90:\tF1-мера на валидационной выборке: 0.535681186283596\n",
      "n_estimators = 100:\tF1-мера на валидационной выборке: 0.5322283609576427\n",
      "n_estimators = 110:\tF1-мера на валидационной выборке: 0.5360443622920518\n",
      "n_estimators = 120:\tF1-мера на валидационной выборке: 0.5355493998153278\n",
      "n_estimators = 130:\tF1-мера на валидационной выборке: 0.5341959334565619\n",
      "n_estimators = 140:\tF1-мера на валидационной выборке: 0.533210332103321\n",
      "n_estimators = 150:\tF1-мера на валидационной выборке: 0.5327188940092166\n",
      "n_estimators = 160:\tF1-мера на валидационной выборке: 0.5338276181649676\n",
      "n_estimators = 170:\tF1-мера на валидационной выборке: 0.5319740500463392\n",
      "n_estimators = 180:\tF1-мера на валидационной выборке: 0.5353159851301115\n",
      "n_estimators = 190:\tF1-мера на валидационной выборке: 0.5338276181649676\n",
      "n_estimators = 200:\tF1-мера на валидационной выборке: 0.5343228200371057\n"
     ]
    }
   ],
   "source": [
    "for estim in range(10, 201, 10):\n",
    "    model = RandomForestClassifier(n_estimators=estim, max_depth=10, random_state=rnd_state)\n",
    "    train_and_predict(data_ordinal, model, samplefunc=upsample, log_prefix=f'n_estimators = {estim}:\\t')"
   ]
  },
  {
   "cell_type": "markdown",
   "metadata": {},
   "source": [
    "Значение F1-меры у каждой из рассмотренных моделей меньше, чем в случае балансировки классов."
   ]
  },
  {
   "cell_type": "markdown",
   "metadata": {},
   "source": [
    "### Уменьшение выборки"
   ]
  },
  {
   "cell_type": "code",
   "execution_count": 34,
   "metadata": {},
   "outputs": [],
   "source": [
    "def downsample(features, target, fraction = 0.2):\n",
    "    features_zeros = features[target == 0]\n",
    "    features_ones = features[target == 1]\n",
    "    target_zeros = target[target == 0]\n",
    "    target_ones = target[target == 1]\n",
    "\n",
    "    features_downsampled = pd.concat(\n",
    "        [features_zeros.sample(frac=fraction, random_state=rnd_state)] + [features_ones]\n",
    "    )\n",
    "    target_downsampled = pd.concat(\n",
    "        [target_zeros.sample(frac=fraction, random_state=rnd_state)] + [target_ones]\n",
    "    )\n",
    "    \n",
    "    return features_downsampled, target_downsampled"
   ]
  },
  {
   "cell_type": "markdown",
   "metadata": {},
   "source": [
    "#### Логистическая регрессия"
   ]
  },
  {
   "cell_type": "code",
   "execution_count": 35,
   "metadata": {},
   "outputs": [
    {
     "name": "stdout",
     "output_type": "stream",
     "text": [
      "F1-мера на валидационной выборке: 0.46457990115321257\n"
     ]
    },
    {
     "data": {
      "text/plain": [
       "LogisticRegression(C=1.0, class_weight=None, dual=False, fit_intercept=True,\n",
       "                   intercept_scaling=1, l1_ratio=None, max_iter=100,\n",
       "                   multi_class='warn', n_jobs=None, penalty='l2',\n",
       "                   random_state=47, solver='liblinear', tol=0.0001, verbose=0,\n",
       "                   warm_start=False)"
      ]
     },
     "execution_count": 35,
     "metadata": {},
     "output_type": "execute_result"
    }
   ],
   "source": [
    "model = LogisticRegression(solver='liblinear', random_state=rnd_state)\n",
    "train_and_predict(data_ohe, model, samplefunc=downsample)"
   ]
  },
  {
   "cell_type": "markdown",
   "metadata": {},
   "source": [
    "#### Дерево решений"
   ]
  },
  {
   "cell_type": "code",
   "execution_count": 36,
   "metadata": {},
   "outputs": [
    {
     "name": "stdout",
     "output_type": "stream",
     "text": [
      "max_depth 2:\tF1-мера на валидационной выборке: 0.5137614678899083\n",
      "max_depth 4:\tF1-мера на валидационной выборке: 0.46725949878738887\n",
      "max_depth 6:\tF1-мера на валидационной выборке: 0.5250683682771194\n",
      "max_depth 8:\tF1-мера на валидационной выборке: 0.4949402023919043\n",
      "max_depth 10:\tF1-мера на валидационной выборке: 0.46975088967971534\n",
      "max_depth 12:\tF1-мера на валидационной выборке: 0.4650751547303272\n",
      "max_depth 14:\tF1-мера на валидационной выборке: 0.4574468085106383\n",
      "max_depth 16:\tF1-мера на валидационной выборке: 0.45166959578207383\n",
      "max_depth 18:\tF1-мера на валидационной выборке: 0.43700440528634354\n",
      "max_depth 20:\tF1-мера на валидационной выборке: 0.43700440528634354\n"
     ]
    }
   ],
   "source": [
    "for max_depth in range(2, 22, 2):\n",
    "    model = DecisionTreeClassifier(max_depth=max_depth, random_state=rnd_state)\n",
    "    train_and_predict(data_ordinal, model, samplefunc=downsample, log_prefix=f'max_depth {max_depth}:\\t')"
   ]
  },
  {
   "cell_type": "markdown",
   "metadata": {},
   "source": [
    "#### Случайный лес"
   ]
  },
  {
   "cell_type": "code",
   "execution_count": 37,
   "metadata": {},
   "outputs": [
    {
     "name": "stdout",
     "output_type": "stream",
     "text": [
      "n_estimators = 10:\tF1-мера на валидационной выборке: 0.5136612021857924\n",
      "n_estimators = 20:\tF1-мера на валидационной выборке: 0.5103324348607368\n",
      "n_estimators = 30:\tF1-мера на валидационной выборке: 0.5223744292237443\n",
      "n_estimators = 40:\tF1-мера на валидационной выборке: 0.52\n",
      "n_estimators = 50:\tF1-мера на валидационной выборке: 0.5319926873857403\n",
      "n_estimators = 60:\tF1-мера на валидационной выборке: 0.5345622119815668\n",
      "n_estimators = 70:\tF1-мера на валидационной выборке: 0.5393883225208527\n",
      "n_estimators = 80:\tF1-мера на валидационной выборке: 0.5387453874538745\n",
      "n_estimators = 90:\tF1-мера на валидационной выборке: 0.5349264705882353\n",
      "n_estimators = 100:\tF1-мера на валидационной выборке: 0.5337026777469992\n",
      "n_estimators = 110:\tF1-мера на валидационной выборке: 0.5392428439519852\n",
      "n_estimators = 120:\tF1-мера на валидационной выборке: 0.5350553505535055\n",
      "n_estimators = 130:\tF1-мера на валидационной выборке: 0.5349264705882353\n",
      "n_estimators = 140:\tF1-мера на валидационной выборке: 0.53690036900369\n",
      "n_estimators = 150:\tF1-мера на валидационной выборке: 0.5409383624655014\n",
      "n_estimators = 160:\tF1-мера на валидационной выборке: 0.5378927911275415\n",
      "n_estimators = 170:\tF1-мера на валидационной выборке: 0.5392428439519852\n",
      "n_estimators = 180:\tF1-мера на валидационной выборке: 0.541743970315399\n",
      "n_estimators = 190:\tF1-мера на валидационной выборке: 0.5390334572490706\n",
      "n_estimators = 200:\tF1-мера на валидационной выборке: 0.5407407407407407\n"
     ]
    }
   ],
   "source": [
    "for estim in range(10, 201, 10):\n",
    "    model = RandomForestClassifier(n_estimators=estim, max_depth=10, random_state=rnd_state)\n",
    "    train_and_predict(data_ordinal, model, samplefunc=downsample, log_prefix=f'n_estimators = {estim}:\\t')"
   ]
  },
  {
   "cell_type": "markdown",
   "metadata": {},
   "source": [
    "Значение F1-меры у каждой из рассмотренных моделей меньше, чем в случае балансировки классов."
   ]
  },
  {
   "cell_type": "markdown",
   "metadata": {},
   "source": [
    "## Тестирование модели"
   ]
  },
  {
   "cell_type": "markdown",
   "metadata": {},
   "source": [
    "Исходя из наших манипуляций с моделями делаем вывод, что наилучшей моделью оказался случайный лес с количеством деревьев 120 и глубиной 10 с учетом балансировки классов."
   ]
  },
  {
   "cell_type": "markdown",
   "metadata": {},
   "source": [
    "Протестируем:"
   ]
  },
  {
   "cell_type": "code",
   "execution_count": 38,
   "metadata": {},
   "outputs": [
    {
     "name": "stdout",
     "output_type": "stream",
     "text": [
      "test: 0.6024423337856173\n"
     ]
    }
   ],
   "source": [
    "target, features = tf(data_ordinal)\n",
    "features_train, features_valid, features_test, target_train, target_valid, target_test = split_data(features, target)\n",
    "\n",
    "model = RandomForestClassifier(class_weight='balanced', n_estimators=120, max_depth=10, random_state=rnd_state)\n",
    "model.fit(features_train, target_train)\n",
    "\n",
    "#predicted_valid = model.predict(features_valid)\n",
    "#print('valid:', f1_score(target_valid, predicted_valid))\n",
    "\n",
    "predicted_test = model.predict(features_test)\n",
    "print('test:', f1_score(target_test, predicted_test))"
   ]
  },
  {
   "cell_type": "markdown",
   "metadata": {},
   "source": [
    "<div style=\"border:solid red 2px; padding: 20px\"> <b>Что необходимо доработать</b><br>\n",
    "Для тестирования модели можно выбрать один из двух вариантов:<br>\n",
    "<ul>\n",
    "    <li> Обучать на train, подбор гиперпараметров по оценка на valid, результирующее тестирование на test\n",
    "    <li> Обучать на train, подбор гиперпараметров по оценка на valid, выбранная лучшая модель обучается на train+valid и тестируется на test</ul><br>\n",
    "Наша задача очень проста, использовать как можно больше данных для обучения модели, в таком случае модель получится более лучшей\\стабильной и вторая задача учиться. Поэтому давай попробуем с тобой второй способ тестирования модели</div> <br>"
   ]
  },
  {
   "cell_type": "markdown",
   "metadata": {},
   "source": [
    "<div class=\"alert alert-info\" style=\"border:solid blue 2px; padding: 20px\"> <b>Исправлено:</b> Объединил выборки, результат оказался чуть-чуть лучше..</div>"
   ]
  },
  {
   "cell_type": "markdown",
   "metadata": {},
   "source": [
    "<div style=\"border:solid green 2px; padding: 20px\"> <b>Отличная работа 2</b><br>👍Если модель хорошо обобщает данные, то чем больше данных, тем лучше модель (не всегда на много, но лучше)</div> "
   ]
  },
  {
   "cell_type": "markdown",
   "metadata": {},
   "source": [
    "# Попробуем обучить модель на обобщенной выборке и посмотрим, улучшит ли это результат"
   ]
  },
  {
   "cell_type": "code",
   "execution_count": 39,
   "metadata": {},
   "outputs": [
    {
     "name": "stdout",
     "output_type": "stream",
     "text": [
      "test: 0.6097560975609756\n"
     ]
    }
   ],
   "source": [
    "target, features = tf(data_ordinal)\n",
    "features_train, features_valid, features_test, target_train, target_valid, target_test = split_data(features, target)\n",
    "X_trainvalid = pd.concat([features_train, features_valid])\n",
    "y_trainvalid = pd.concat([target_train, target_valid])\n",
    "model = RandomForestClassifier(class_weight='balanced', n_estimators=120, max_depth=10, random_state=rnd_state)\n",
    "model.fit(X_trainvalid, y_trainvalid)\n",
    "#predicted_valid = model.predict(features_valid)\n",
    "#print('valid:', f1_score(target_valid, predicted_valid))\n",
    "predicted_test = model.predict(features_test)\n",
    "print('test:', f1_score(target_test, predicted_test))"
   ]
  },
  {
   "cell_type": "markdown",
   "metadata": {},
   "source": [
    "Посчитаем AUC-ROC для нашей модели и посмотрим насколько она лучше случайной модели:"
   ]
  },
  {
   "cell_type": "code",
   "execution_count": 40,
   "metadata": {},
   "outputs": [
    {
     "data": {
      "text/plain": [
       "0.966746813667996"
      ]
     },
     "execution_count": 40,
     "metadata": {},
     "output_type": "execute_result"
    }
   ],
   "source": [
    "probabilities_valid = model.predict_proba(features_valid)\n",
    "probabilities_one_valid = probabilities_valid[:, 1]\n",
    "\n",
    "roc_auc_score(target_valid, probabilities_one_valid)"
   ]
  },
  {
   "cell_type": "code",
   "execution_count": 41,
   "metadata": {},
   "outputs": [
    {
     "data": {
      "image/png": "[encoded data removed]",
      "text/plain": [
       "<Figure size 432x288 with 1 Axes>"
      ]
     },
     "metadata": {
      "needs_background": "light"
     },
     "output_type": "display_data"
    }
   ],
   "source": [
    "fpr, tpr, thresholds = roc_curve(target_valid, probabilities_one_valid) \n",
    "plt.figure()\n",
    "#ROC-кривая случайной модели (выглядит как прямая):\n",
    "plt.plot([0, 1], [0, 1], linestyle='--')\n",
    "plt.plot(fpr, tpr)\n",
    "#Применим функции plt.xlim() и plt.ylim(), чтобы установить границы осей от 0 до 1:\n",
    "plt.xlim([0.0, 1.0])\n",
    "plt.ylim([0.0, 1.0])\n",
    "#Применим функции plt.xlabel() и plt.ylabel(), чтобы \n",
    "#подписать оси \"False Positive Rate\" и \"True Positive Rate\":\n",
    "plt.xlabel('False Positive Rate')\n",
    "plt.ylabel('True Positive Rate')\n",
    "# Добавим к графику заголовок \"ROC-кривая\" функцией plt.title():\n",
    "plt.title('ROC-кривая')\n",
    "plt.show() \n"
   ]
  },
  {
   "cell_type": "markdown",
   "metadata": {},
   "source": [
    "Наша метрика выше AUC-ROC случайной модели и стремится к единице."
   ]
  },
  {
   "cell_type": "markdown",
   "metadata": {},
   "source": [
    "### Вывод\n",
    "В ходе построения модели, которая делает прогноз уйдет ли клиент из банка или нет, было сделано следующее:\n",
    "\n",
    "- Не влияющие на построение модели признаки были удалены;\n",
    "- На этапе обработки данных было проведено масштабирование признаков и кодирование категориальных данных;\n",
    "- На основе наших экспериментов с моделями сделали вывод, что лучшей моделью является случайный лес с количеством деревьев равным 100 и глубиной равной 8 с учетом балансировки классов;\n",
    "- Наша метрика выше AUC-ROC случайной модели и стремится к единице."
   ]
  },
  {
   "cell_type": "markdown",
   "metadata": {},
   "source": [
    "<hr style=\"border: 2px solid green;\" />\n",
    "\n",
    "## Общий комментарий\n",
    "Спасибо за проделанную работу🤝\n",
    "\n",
    "Дмитрий, проект выполнен хорошо, есть две доработки:\n",
    "- корректно подобрать гиперпараметры для случайного леса\n",
    "- использовать 2 способ тестирования модели\n",
    "\n",
    "Исправляй и отправляй на проверку🛠"
   ]
  },
  {
   "cell_type": "markdown",
   "metadata": {},
   "source": [
    "## Чек-лист готовности проекта"
   ]
  },
  {
   "cell_type": "markdown",
   "metadata": {},
   "source": [
    "Поставьте 'x' в выполненных пунктах. Далее нажмите Shift+Enter."
   ]
  },
  {
   "cell_type": "markdown",
   "metadata": {},
   "source": [
    "- [x]  Jupyter Notebook открыт\n",
    "- [x]  Весь код выполняется без ошибок\n",
    "- [x]  Ячейки с кодом расположены в порядке исполнения\n",
    "- [x]  Выполнен шаг 1: данные подготовлены\n",
    "- [x]  Выполнен шаг 2: задача исследована\n",
    "    - [x]  Исследован баланс классов\n",
    "    - [x]  Изучены модели без учёта дисбаланса\n",
    "    - [x]  Написаны выводы по результатам исследования\n",
    "- [x]  Выполнен шаг 3: учтён дисбаланс\n",
    "    - [x]  Применено несколько способов борьбы с дисбалансом\n",
    "    - [x]  Написаны выводы по результатам исследования\n",
    "- [x]  Выполнен шаг 4: проведено тестирование\n",
    "- [x]  Удалось достичь *F1*-меры не менее 0.59\n",
    "- [x]  Исследована метрика *AUC-ROC*"
   ]
  }
 ],
 "metadata": {
  "ExecuteTimeLog": [
   {
    "duration": 1428,
    "start_time": "2021-07-02T02:38:45.653Z"
   },
   {
    "duration": 4,
    "start_time": "2021-07-02T02:38:58.052Z"
   },
   {
    "duration": 30,
    "start_time": "2021-07-02T02:39:45.434Z"
   },
   {
    "duration": 24,
    "start_time": "2021-07-02T02:39:51.378Z"
   },
   {
    "duration": 4,
    "start_time": "2021-07-02T02:40:53.051Z"
   },
   {
    "duration": 1493,
    "start_time": "2021-07-02T02:41:11.769Z"
   },
   {
    "duration": 87,
    "start_time": "2021-07-02T02:42:01.210Z"
   },
   {
    "duration": 30,
    "start_time": "2021-07-02T02:43:08.626Z"
   },
   {
    "duration": 4,
    "start_time": "2021-07-02T02:43:09.810Z"
   },
   {
    "duration": 262,
    "start_time": "2021-07-03T02:05:01.364Z"
   },
   {
    "duration": 1095,
    "start_time": "2021-07-03T02:05:09.980Z"
   },
   {
    "duration": 27,
    "start_time": "2021-07-03T02:05:11.076Z"
   },
   {
    "duration": 4,
    "start_time": "2021-07-03T02:05:11.105Z"
   },
   {
    "duration": 68,
    "start_time": "2021-07-03T02:05:11.110Z"
   },
   {
    "duration": 28,
    "start_time": "2021-07-03T02:05:11.179Z"
   },
   {
    "duration": 7,
    "start_time": "2021-07-03T02:05:49.320Z"
   },
   {
    "duration": 7,
    "start_time": "2021-07-03T02:05:57.249Z"
   },
   {
    "duration": 5,
    "start_time": "2021-07-03T02:06:07.801Z"
   },
   {
    "duration": 9,
    "start_time": "2021-07-03T02:06:21.482Z"
   },
   {
    "duration": 13,
    "start_time": "2021-07-03T02:06:45.217Z"
   },
   {
    "duration": 12,
    "start_time": "2021-07-03T02:06:53.104Z"
   },
   {
    "duration": 5,
    "start_time": "2021-07-03T02:07:29.594Z"
   },
   {
    "duration": 3,
    "start_time": "2021-07-03T02:07:33.904Z"
   },
   {
    "duration": 4,
    "start_time": "2021-07-03T02:07:41.497Z"
   },
   {
    "duration": 17,
    "start_time": "2021-07-03T02:07:50.289Z"
   },
   {
    "duration": 2,
    "start_time": "2021-07-03T02:08:26.634Z"
   },
   {
    "duration": 9,
    "start_time": "2021-07-03T02:08:36.609Z"
   },
   {
    "duration": 14,
    "start_time": "2021-07-03T02:08:45.498Z"
   },
   {
    "duration": 18,
    "start_time": "2021-07-03T02:08:53.602Z"
   },
   {
    "duration": 318,
    "start_time": "2021-07-03T02:09:04.594Z"
   },
   {
    "duration": 1049,
    "start_time": "2021-07-03T02:09:16.416Z"
   },
   {
    "duration": 27,
    "start_time": "2021-07-03T02:09:17.467Z"
   },
   {
    "duration": 4,
    "start_time": "2021-07-03T02:09:17.497Z"
   },
   {
    "duration": 88,
    "start_time": "2021-07-03T02:09:17.503Z"
   },
   {
    "duration": 18,
    "start_time": "2021-07-03T02:09:17.593Z"
   },
   {
    "duration": 6,
    "start_time": "2021-07-03T02:09:17.612Z"
   },
   {
    "duration": 6,
    "start_time": "2021-07-03T02:09:17.620Z"
   },
   {
    "duration": 4,
    "start_time": "2021-07-03T02:09:17.629Z"
   },
   {
    "duration": 12,
    "start_time": "2021-07-03T02:09:17.635Z"
   },
   {
    "duration": 42,
    "start_time": "2021-07-03T02:09:17.649Z"
   },
   {
    "duration": 10,
    "start_time": "2021-07-03T02:09:17.693Z"
   },
   {
    "duration": 4,
    "start_time": "2021-07-03T02:09:17.704Z"
   },
   {
    "duration": 7,
    "start_time": "2021-07-03T02:09:17.709Z"
   },
   {
    "duration": 9,
    "start_time": "2021-07-03T02:09:17.717Z"
   },
   {
    "duration": 19,
    "start_time": "2021-07-03T02:09:17.728Z"
   },
   {
    "duration": 3,
    "start_time": "2021-07-03T02:09:17.748Z"
   },
   {
    "duration": 13,
    "start_time": "2021-07-03T02:09:17.752Z"
   },
   {
    "duration": 31,
    "start_time": "2021-07-03T02:09:17.767Z"
   },
   {
    "duration": 15,
    "start_time": "2021-07-03T02:09:17.800Z"
   },
   {
    "duration": 315,
    "start_time": "2021-07-03T02:09:17.816Z"
   },
   {
    "duration": 4,
    "start_time": "2021-07-03T02:26:54.483Z"
   },
   {
    "duration": 1051,
    "start_time": "2021-07-03T02:27:01.357Z"
   },
   {
    "duration": 3,
    "start_time": "2021-07-03T02:27:18.829Z"
   },
   {
    "duration": 86,
    "start_time": "2021-07-03T02:27:52.190Z"
   },
   {
    "duration": 1802,
    "start_time": "2021-07-03T02:28:09.421Z"
   },
   {
    "duration": 28,
    "start_time": "2021-07-03T02:28:48.095Z"
   },
   {
    "duration": 8,
    "start_time": "2021-07-03T02:28:56.822Z"
   },
   {
    "duration": 15,
    "start_time": "2021-07-03T02:29:39.502Z"
   },
   {
    "duration": 7,
    "start_time": "2021-07-03T02:29:55.549Z"
   },
   {
    "duration": 5,
    "start_time": "2021-07-03T02:30:17.078Z"
   },
   {
    "duration": 7,
    "start_time": "2021-07-03T02:30:44.854Z"
   },
   {
    "duration": 178,
    "start_time": "2021-07-03T02:30:53.397Z"
   },
   {
    "duration": 17,
    "start_time": "2021-07-03T02:31:06.030Z"
   },
   {
    "duration": 119,
    "start_time": "2021-07-03T02:31:16.726Z"
   },
   {
    "duration": 6,
    "start_time": "2021-07-03T02:32:49.536Z"
   },
   {
    "duration": 5,
    "start_time": "2021-07-03T02:33:09.214Z"
   },
   {
    "duration": 2,
    "start_time": "2021-07-03T02:33:59.251Z"
   },
   {
    "duration": 3,
    "start_time": "2021-07-03T02:34:24.350Z"
   },
   {
    "duration": 5,
    "start_time": "2021-07-03T02:34:47.917Z"
   },
   {
    "duration": 4,
    "start_time": "2021-07-03T03:18:56.894Z"
   },
   {
    "duration": 114,
    "start_time": "2021-07-03T03:19:24.574Z"
   },
   {
    "duration": 12,
    "start_time": "2021-07-03T03:20:06.826Z"
   },
   {
    "duration": 97,
    "start_time": "2021-07-03T03:20:19.798Z"
   },
   {
    "duration": 21,
    "start_time": "2021-07-03T03:20:57.505Z"
   },
   {
    "duration": 3,
    "start_time": "2021-07-03T03:21:13.166Z"
   },
   {
    "duration": 285,
    "start_time": "2021-07-03T03:21:27.031Z"
   },
   {
    "duration": 8842,
    "start_time": "2021-07-03T03:22:21.483Z"
   },
   {
    "duration": 45,
    "start_time": "2021-07-03T03:23:57.548Z"
   },
   {
    "duration": 293,
    "start_time": "2021-07-03T03:24:57.610Z"
   },
   {
    "duration": 9037,
    "start_time": "2021-07-03T03:25:34.580Z"
   },
   {
    "duration": 3,
    "start_time": "2021-07-03T03:26:33.784Z"
   },
   {
    "duration": 69,
    "start_time": "2021-07-03T03:26:54.936Z"
   },
   {
    "duration": 481,
    "start_time": "2021-07-03T03:27:17.167Z"
   },
   {
    "duration": 2,
    "start_time": "2021-07-03T03:27:31.055Z"
   },
   {
    "duration": 21429,
    "start_time": "2021-07-03T03:27:45.320Z"
   },
   {
    "duration": 4,
    "start_time": "2021-07-03T03:28:51.394Z"
   },
   {
    "duration": 42,
    "start_time": "2021-07-03T03:29:15.656Z"
   },
   {
    "duration": 224,
    "start_time": "2021-07-03T03:29:41.512Z"
   },
   {
    "duration": 3320,
    "start_time": "2021-07-03T03:30:13.922Z"
   },
   {
    "duration": 454,
    "start_time": "2021-07-03T03:31:05.651Z"
   },
   {
    "duration": 34,
    "start_time": "2021-07-03T03:31:30.671Z"
   },
   {
    "duration": 363,
    "start_time": "2021-07-03T06:25:10.834Z"
   },
   {
    "duration": 1491,
    "start_time": "2021-07-03T06:25:19.117Z"
   },
   {
    "duration": 3,
    "start_time": "2021-07-03T06:25:20.611Z"
   },
   {
    "duration": 38,
    "start_time": "2021-07-03T06:25:20.617Z"
   },
   {
    "duration": 17,
    "start_time": "2021-07-03T06:25:20.658Z"
   },
   {
    "duration": 22,
    "start_time": "2021-07-03T06:25:20.677Z"
   },
   {
    "duration": 9,
    "start_time": "2021-07-03T06:25:20.701Z"
   },
   {
    "duration": 8,
    "start_time": "2021-07-03T06:25:20.713Z"
   },
   {
    "duration": 47,
    "start_time": "2021-07-03T06:25:20.724Z"
   },
   {
    "duration": 304,
    "start_time": "2021-07-03T06:25:20.774Z"
   },
   {
    "duration": 27,
    "start_time": "2021-07-03T06:25:21.081Z"
   },
   {
    "duration": 269,
    "start_time": "2021-07-03T06:25:21.111Z"
   },
   {
    "duration": 9,
    "start_time": "2021-07-03T06:25:21.383Z"
   },
   {
    "duration": 9,
    "start_time": "2021-07-03T06:25:21.395Z"
   },
   {
    "duration": 7,
    "start_time": "2021-07-03T06:25:21.406Z"
   },
   {
    "duration": 7,
    "start_time": "2021-07-03T06:25:21.415Z"
   },
   {
    "duration": 44,
    "start_time": "2021-07-03T06:25:21.425Z"
   },
   {
    "duration": 15,
    "start_time": "2021-07-03T06:25:21.472Z"
   },
   {
    "duration": 223,
    "start_time": "2021-07-03T06:25:21.490Z"
   },
   {
    "duration": 20,
    "start_time": "2021-07-03T06:25:21.715Z"
   },
   {
    "duration": 137,
    "start_time": "2021-07-03T06:25:21.737Z"
   },
   {
    "duration": 32,
    "start_time": "2021-07-03T06:25:21.967Z"
   },
   {
    "duration": 513,
    "start_time": "2021-07-03T06:25:22.002Z"
   },
   {
    "duration": 15752,
    "start_time": "2021-07-03T06:25:22.519Z"
   },
   {
    "duration": 195,
    "start_time": "2021-07-03T06:25:38.273Z"
   },
   {
    "duration": 553,
    "start_time": "2021-07-03T06:25:38.471Z"
   },
   {
    "duration": 15592,
    "start_time": "2021-07-03T06:25:39.027Z"
   },
   {
    "duration": 5,
    "start_time": "2021-07-03T06:25:54.621Z"
   },
   {
    "duration": 248,
    "start_time": "2021-07-03T06:25:54.629Z"
   },
   {
    "duration": 892,
    "start_time": "2021-07-03T06:25:54.969Z"
   },
   {
    "duration": 41021,
    "start_time": "2021-07-03T06:25:55.863Z"
   },
   {
    "duration": 6,
    "start_time": "2021-07-03T06:26:36.886Z"
   },
   {
    "duration": 175,
    "start_time": "2021-07-03T06:26:36.894Z"
   },
   {
    "duration": 511,
    "start_time": "2021-07-03T06:26:37.073Z"
   },
   {
    "duration": 5997,
    "start_time": "2021-07-03T06:26:37.587Z"
   },
   {
    "duration": 812,
    "start_time": "2021-07-03T06:26:43.586Z"
   },
   {
    "duration": 46,
    "start_time": "2021-07-03T06:26:44.400Z"
   },
   {
    "duration": 5,
    "start_time": "2021-07-03T07:21:16.637Z"
   },
   {
    "duration": 125,
    "start_time": "2021-07-03T07:21:19.997Z"
   },
   {
    "duration": 7,
    "start_time": "2021-07-03T07:22:41.816Z"
   },
   {
    "duration": 1415,
    "start_time": "2021-07-03T07:22:53.018Z"
   },
   {
    "duration": 3,
    "start_time": "2021-07-03T07:22:54.436Z"
   },
   {
    "duration": 42,
    "start_time": "2021-07-03T07:22:54.442Z"
   },
   {
    "duration": 16,
    "start_time": "2021-07-03T07:22:54.487Z"
   },
   {
    "duration": 30,
    "start_time": "2021-07-03T07:22:54.506Z"
   },
   {
    "duration": 36,
    "start_time": "2021-07-03T07:22:54.539Z"
   },
   {
    "duration": 9,
    "start_time": "2021-07-03T07:22:54.578Z"
   },
   {
    "duration": 12,
    "start_time": "2021-07-03T07:22:54.592Z"
   },
   {
    "duration": 330,
    "start_time": "2021-07-03T07:22:54.607Z"
   },
   {
    "duration": 36,
    "start_time": "2021-07-03T07:22:54.939Z"
   },
   {
    "duration": 249,
    "start_time": "2021-07-03T07:22:54.978Z"
   },
   {
    "duration": 11,
    "start_time": "2021-07-03T07:22:55.229Z"
   },
   {
    "duration": 24,
    "start_time": "2021-07-03T07:22:55.242Z"
   },
   {
    "duration": 7,
    "start_time": "2021-07-03T07:22:55.269Z"
   },
   {
    "duration": 6,
    "start_time": "2021-07-03T07:22:55.279Z"
   },
   {
    "duration": 8,
    "start_time": "2021-07-03T07:22:55.287Z"
   },
   {
    "duration": 6,
    "start_time": "2021-07-03T07:22:55.297Z"
   },
   {
    "duration": 247,
    "start_time": "2021-07-03T07:22:55.305Z"
   },
   {
    "duration": 25,
    "start_time": "2021-07-03T07:22:55.555Z"
   },
   {
    "duration": 196,
    "start_time": "2021-07-03T07:22:55.582Z"
   },
   {
    "duration": 98,
    "start_time": "2021-07-03T07:22:55.780Z"
   },
   {
    "duration": 507,
    "start_time": "2021-07-03T07:22:55.880Z"
   },
   {
    "duration": 16178,
    "start_time": "2021-07-03T07:22:56.391Z"
   },
   {
    "duration": 197,
    "start_time": "2021-07-03T07:23:12.572Z"
   },
   {
    "duration": 550,
    "start_time": "2021-07-03T07:23:12.771Z"
   },
   {
    "duration": 19246,
    "start_time": "2021-07-03T07:23:13.324Z"
   },
   {
    "duration": 6,
    "start_time": "2021-07-03T07:23:32.572Z"
   },
   {
    "duration": 191,
    "start_time": "2021-07-03T07:23:32.580Z"
   },
   {
    "duration": 976,
    "start_time": "2021-07-03T07:23:32.774Z"
   },
   {
    "duration": 42402,
    "start_time": "2021-07-03T07:23:33.753Z"
   },
   {
    "duration": 10,
    "start_time": "2021-07-03T07:24:16.157Z"
   },
   {
    "duration": 201,
    "start_time": "2021-07-03T07:24:16.170Z"
   },
   {
    "duration": 431,
    "start_time": "2021-07-03T07:24:16.373Z"
   },
   {
    "duration": 5845,
    "start_time": "2021-07-03T07:24:16.806Z"
   },
   {
    "duration": 802,
    "start_time": "2021-07-03T07:24:22.653Z"
   },
   {
    "duration": 50,
    "start_time": "2021-07-03T07:24:23.458Z"
   },
   {
    "duration": 7,
    "start_time": "2021-07-03T07:25:30.462Z"
   },
   {
    "duration": 5,
    "start_time": "2021-07-03T07:26:38.919Z"
   },
   {
    "duration": 106,
    "start_time": "2021-07-03T07:53:20.647Z"
   },
   {
    "duration": 492,
    "start_time": "2021-07-03T08:54:38.784Z"
   },
   {
    "duration": 5,
    "start_time": "2021-07-03T08:55:20.529Z"
   },
   {
    "duration": 1516,
    "start_time": "2021-07-03T08:55:28.539Z"
   },
   {
    "duration": 10,
    "start_time": "2021-07-03T08:55:30.057Z"
   },
   {
    "duration": 37,
    "start_time": "2021-07-03T08:55:30.071Z"
   },
   {
    "duration": 12,
    "start_time": "2021-07-03T08:55:30.110Z"
   },
   {
    "duration": 43,
    "start_time": "2021-07-03T08:55:30.125Z"
   },
   {
    "duration": 11,
    "start_time": "2021-07-03T08:55:30.170Z"
   },
   {
    "duration": 67,
    "start_time": "2021-07-03T08:55:30.183Z"
   },
   {
    "duration": 27,
    "start_time": "2021-07-03T08:55:30.254Z"
   },
   {
    "duration": 325,
    "start_time": "2021-07-03T08:55:30.284Z"
   },
   {
    "duration": 27,
    "start_time": "2021-07-03T08:55:30.612Z"
   },
   {
    "duration": 268,
    "start_time": "2021-07-03T08:55:30.642Z"
   },
   {
    "duration": 8,
    "start_time": "2021-07-03T08:55:30.912Z"
   },
   {
    "duration": 22,
    "start_time": "2021-07-03T08:55:30.922Z"
   },
   {
    "duration": 17,
    "start_time": "2021-07-03T08:55:30.946Z"
   },
   {
    "duration": 26,
    "start_time": "2021-07-03T08:55:30.965Z"
   },
   {
    "duration": 26,
    "start_time": "2021-07-03T08:55:30.993Z"
   },
   {
    "duration": 17,
    "start_time": "2021-07-03T08:55:31.021Z"
   },
   {
    "duration": 247,
    "start_time": "2021-07-03T08:55:31.041Z"
   },
   {
    "duration": 21,
    "start_time": "2021-07-03T08:55:31.290Z"
   },
   {
    "duration": 161,
    "start_time": "2021-07-03T08:55:31.313Z"
   },
   {
    "duration": 131,
    "start_time": "2021-07-03T08:55:31.476Z"
   },
   {
    "duration": 524,
    "start_time": "2021-07-03T08:55:31.610Z"
   },
   {
    "duration": 16333,
    "start_time": "2021-07-03T08:55:32.139Z"
   },
   {
    "duration": 101,
    "start_time": "2021-07-03T08:55:48.475Z"
   },
   {
    "duration": 660,
    "start_time": "2021-07-03T08:55:48.579Z"
   },
   {
    "duration": 16187,
    "start_time": "2021-07-03T08:55:49.241Z"
   },
   {
    "duration": 6,
    "start_time": "2021-07-03T08:56:05.430Z"
   },
   {
    "duration": 229,
    "start_time": "2021-07-03T08:56:05.438Z"
   },
   {
    "duration": 999,
    "start_time": "2021-07-03T08:56:05.670Z"
   },
   {
    "duration": 42269,
    "start_time": "2021-07-03T08:56:06.672Z"
   },
   {
    "duration": 6,
    "start_time": "2021-07-03T08:56:48.943Z"
   },
   {
    "duration": 109,
    "start_time": "2021-07-03T08:56:48.967Z"
   },
   {
    "duration": 508,
    "start_time": "2021-07-03T08:56:49.079Z"
   },
   {
    "duration": 6100,
    "start_time": "2021-07-03T08:56:49.590Z"
   },
   {
    "duration": 819,
    "start_time": "2021-07-03T08:56:55.692Z"
   },
   {
    "duration": 60,
    "start_time": "2021-07-03T08:56:56.513Z"
   },
   {
    "duration": 473,
    "start_time": "2021-07-03T08:56:56.575Z"
   },
   {
    "duration": 494,
    "start_time": "2021-07-03T08:57:32.319Z"
   },
   {
    "duration": 1535,
    "start_time": "2021-07-03T09:02:27.166Z"
   },
   {
    "duration": 4,
    "start_time": "2021-07-03T09:02:28.703Z"
   },
   {
    "duration": 40,
    "start_time": "2021-07-03T09:02:28.709Z"
   },
   {
    "duration": 16,
    "start_time": "2021-07-03T09:02:28.752Z"
   },
   {
    "duration": 35,
    "start_time": "2021-07-03T09:02:28.771Z"
   },
   {
    "duration": 8,
    "start_time": "2021-07-03T09:02:28.809Z"
   },
   {
    "duration": 9,
    "start_time": "2021-07-03T09:02:28.820Z"
   },
   {
    "duration": 41,
    "start_time": "2021-07-03T09:02:28.833Z"
   },
   {
    "duration": 319,
    "start_time": "2021-07-03T09:02:28.879Z"
   },
   {
    "duration": 27,
    "start_time": "2021-07-03T09:02:29.200Z"
   },
   {
    "duration": 262,
    "start_time": "2021-07-03T09:02:29.229Z"
   },
   {
    "duration": 8,
    "start_time": "2021-07-03T09:02:29.494Z"
   },
   {
    "duration": 9,
    "start_time": "2021-07-03T09:02:29.505Z"
   },
   {
    "duration": 7,
    "start_time": "2021-07-03T09:02:29.516Z"
   },
   {
    "duration": 7,
    "start_time": "2021-07-03T09:02:29.525Z"
   },
   {
    "duration": 37,
    "start_time": "2021-07-03T09:02:29.534Z"
   },
   {
    "duration": 9,
    "start_time": "2021-07-03T09:02:29.574Z"
   },
   {
    "duration": 244,
    "start_time": "2021-07-03T09:02:29.586Z"
   },
   {
    "duration": 34,
    "start_time": "2021-07-03T09:02:29.833Z"
   },
   {
    "duration": 197,
    "start_time": "2021-07-03T09:02:29.871Z"
   },
   {
    "duration": 35,
    "start_time": "2021-07-03T09:02:30.071Z"
   },
   {
    "duration": 560,
    "start_time": "2021-07-03T09:02:30.109Z"
   },
   {
    "duration": 16509,
    "start_time": "2021-07-03T09:02:30.675Z"
   },
   {
    "duration": 183,
    "start_time": "2021-07-03T09:02:47.188Z"
   },
   {
    "duration": 619,
    "start_time": "2021-07-03T09:02:47.374Z"
   },
   {
    "duration": 16079,
    "start_time": "2021-07-03T09:02:47.995Z"
   },
   {
    "duration": 6,
    "start_time": "2021-07-03T09:03:04.077Z"
   },
   {
    "duration": 190,
    "start_time": "2021-07-03T09:03:04.086Z"
   },
   {
    "duration": 1011,
    "start_time": "2021-07-03T09:03:04.279Z"
   },
   {
    "duration": 43106,
    "start_time": "2021-07-03T09:03:05.293Z"
   },
   {
    "duration": 5,
    "start_time": "2021-07-03T09:03:48.402Z"
   },
   {
    "duration": 158,
    "start_time": "2021-07-03T09:03:48.409Z"
   },
   {
    "duration": 532,
    "start_time": "2021-07-03T09:03:48.570Z"
   },
   {
    "duration": 6245,
    "start_time": "2021-07-03T09:03:49.105Z"
   },
   {
    "duration": 872,
    "start_time": "2021-07-03T09:03:55.353Z"
   },
   {
    "duration": 61,
    "start_time": "2021-07-03T09:03:56.227Z"
   },
   {
    "duration": 450,
    "start_time": "2021-07-03T09:03:56.290Z"
   },
   {
    "duration": 93,
    "start_time": "2021-07-03T09:07:01.525Z"
   },
   {
    "duration": 371,
    "start_time": "2021-07-03T09:07:13.608Z"
   },
   {
    "duration": 374,
    "start_time": "2021-07-03T09:08:24.525Z"
   },
   {
    "duration": 8,
    "start_time": "2021-07-03T09:08:43.274Z"
   },
   {
    "duration": 341,
    "start_time": "2021-07-03T09:08:50.918Z"
   },
   {
    "duration": 5,
    "start_time": "2021-07-03T09:09:41.064Z"
   },
   {
    "duration": 4,
    "start_time": "2021-07-03T09:11:16.982Z"
   },
   {
    "duration": 1507,
    "start_time": "2021-07-03T09:11:22.190Z"
   },
   {
    "duration": 5,
    "start_time": "2021-07-03T09:11:23.699Z"
   },
   {
    "duration": 40,
    "start_time": "2021-07-03T09:11:23.707Z"
   },
   {
    "duration": 21,
    "start_time": "2021-07-03T09:11:23.750Z"
   },
   {
    "duration": 30,
    "start_time": "2021-07-03T09:11:23.774Z"
   },
   {
    "duration": 9,
    "start_time": "2021-07-03T09:11:23.806Z"
   },
   {
    "duration": 8,
    "start_time": "2021-07-03T09:11:23.817Z"
   },
   {
    "duration": 45,
    "start_time": "2021-07-03T09:11:23.829Z"
   },
   {
    "duration": 311,
    "start_time": "2021-07-03T09:11:23.877Z"
   },
   {
    "duration": 28,
    "start_time": "2021-07-03T09:11:24.191Z"
   },
   {
    "duration": 280,
    "start_time": "2021-07-03T09:11:24.221Z"
   },
   {
    "duration": 9,
    "start_time": "2021-07-03T09:11:24.504Z"
   },
   {
    "duration": 9,
    "start_time": "2021-07-03T09:11:24.516Z"
   },
   {
    "duration": 5,
    "start_time": "2021-07-03T09:11:24.528Z"
   },
   {
    "duration": 10,
    "start_time": "2021-07-03T09:11:24.536Z"
   },
   {
    "duration": 8,
    "start_time": "2021-07-03T09:11:24.567Z"
   },
   {
    "duration": 16,
    "start_time": "2021-07-03T09:11:24.581Z"
   },
   {
    "duration": 240,
    "start_time": "2021-07-03T09:11:24.599Z"
   },
   {
    "duration": 35,
    "start_time": "2021-07-03T09:11:24.841Z"
   },
   {
    "duration": 95,
    "start_time": "2021-07-03T09:11:24.878Z"
   },
   {
    "duration": 121,
    "start_time": "2021-07-03T09:11:24.977Z"
   },
   {
    "duration": 576,
    "start_time": "2021-07-03T09:11:25.101Z"
   },
   {
    "duration": 16411,
    "start_time": "2021-07-03T09:11:25.681Z"
   },
   {
    "duration": 89,
    "start_time": "2021-07-03T09:11:42.095Z"
   },
   {
    "duration": 619,
    "start_time": "2021-07-03T09:11:42.268Z"
   },
   {
    "duration": 16077,
    "start_time": "2021-07-03T09:11:42.890Z"
   },
   {
    "duration": 7,
    "start_time": "2021-07-03T09:11:58.970Z"
   },
   {
    "duration": 196,
    "start_time": "2021-07-03T09:11:58.981Z"
   },
   {
    "duration": 997,
    "start_time": "2021-07-03T09:11:59.181Z"
   },
   {
    "duration": 42115,
    "start_time": "2021-07-03T09:12:00.180Z"
   },
   {
    "duration": 6,
    "start_time": "2021-07-03T09:12:42.297Z"
   },
   {
    "duration": 177,
    "start_time": "2021-07-03T09:12:42.305Z"
   },
   {
    "duration": 498,
    "start_time": "2021-07-03T09:12:42.491Z"
   },
   {
    "duration": 6605,
    "start_time": "2021-07-03T09:12:42.991Z"
   },
   {
    "duration": 839,
    "start_time": "2021-07-03T09:12:49.598Z"
   },
   {
    "duration": 63,
    "start_time": "2021-07-03T09:12:50.440Z"
   },
   {
    "duration": 447,
    "start_time": "2021-07-03T09:12:50.506Z"
   },
   {
    "duration": 44,
    "start_time": "2021-07-03T09:39:48.497Z"
   },
   {
    "duration": 13,
    "start_time": "2021-07-03T09:39:57.684Z"
   },
   {
    "duration": 6,
    "start_time": "2021-07-03T09:40:33.188Z"
   },
   {
    "duration": 6,
    "start_time": "2021-07-03T09:40:44.531Z"
   },
   {
    "duration": 10,
    "start_time": "2021-07-03T09:40:56.933Z"
   },
   {
    "duration": 350,
    "start_time": "2021-07-03T09:41:33.301Z"
   },
   {
    "duration": 340,
    "start_time": "2021-07-03T09:42:13.620Z"
   },
   {
    "duration": 318,
    "start_time": "2021-07-03T09:43:31.197Z"
   },
   {
    "duration": 7,
    "start_time": "2021-07-03T09:43:56.428Z"
   },
   {
    "duration": 309,
    "start_time": "2021-07-03T09:44:03.078Z"
   },
   {
    "duration": 315,
    "start_time": "2021-07-03T09:44:17.436Z"
   },
   {
    "duration": 478,
    "start_time": "2021-07-03T09:44:28.245Z"
   },
   {
    "duration": 1581,
    "start_time": "2021-07-03T09:46:04.729Z"
   },
   {
    "duration": 4,
    "start_time": "2021-07-03T09:46:06.313Z"
   },
   {
    "duration": 43,
    "start_time": "2021-07-03T09:46:06.319Z"
   },
   {
    "duration": 15,
    "start_time": "2021-07-03T09:46:06.365Z"
   },
   {
    "duration": 26,
    "start_time": "2021-07-03T09:46:06.383Z"
   },
   {
    "duration": 9,
    "start_time": "2021-07-03T09:46:06.412Z"
   },
   {
    "duration": 46,
    "start_time": "2021-07-03T09:46:06.423Z"
   },
   {
    "duration": 16,
    "start_time": "2021-07-03T09:46:06.473Z"
   },
   {
    "duration": 329,
    "start_time": "2021-07-03T09:46:06.492Z"
   },
   {
    "duration": 28,
    "start_time": "2021-07-03T09:46:06.824Z"
   },
   {
    "duration": 364,
    "start_time": "2021-07-03T09:46:06.867Z"
   },
   {
    "duration": 11,
    "start_time": "2021-07-03T09:46:07.234Z"
   },
   {
    "duration": 26,
    "start_time": "2021-07-03T09:46:07.248Z"
   },
   {
    "duration": 12,
    "start_time": "2021-07-03T09:46:07.277Z"
   },
   {
    "duration": 9,
    "start_time": "2021-07-03T09:46:07.291Z"
   },
   {
    "duration": 8,
    "start_time": "2021-07-03T09:46:07.303Z"
   },
   {
    "duration": 6,
    "start_time": "2021-07-03T09:46:07.313Z"
   },
   {
    "duration": 262,
    "start_time": "2021-07-03T09:46:07.322Z"
   },
   {
    "duration": 20,
    "start_time": "2021-07-03T09:46:07.586Z"
   },
   {
    "duration": 161,
    "start_time": "2021-07-03T09:46:07.608Z"
   },
   {
    "duration": 121,
    "start_time": "2021-07-03T09:46:07.772Z"
   },
   {
    "duration": 538,
    "start_time": "2021-07-03T09:46:07.896Z"
   },
   {
    "duration": 16465,
    "start_time": "2021-07-03T09:46:08.439Z"
   },
   {
    "duration": 180,
    "start_time": "2021-07-03T09:46:24.907Z"
   },
   {
    "duration": 541,
    "start_time": "2021-07-03T09:46:25.167Z"
   },
   {
    "duration": 19640,
    "start_time": "2021-07-03T09:46:25.711Z"
   },
   {
    "duration": 6,
    "start_time": "2021-07-03T09:46:45.353Z"
   },
   {
    "duration": 207,
    "start_time": "2021-07-03T09:46:45.367Z"
   },
   {
    "duration": 999,
    "start_time": "2021-07-03T09:46:45.577Z"
   },
   {
    "duration": 45156,
    "start_time": "2021-07-03T09:46:46.579Z"
   },
   {
    "duration": 5,
    "start_time": "2021-07-03T09:47:31.738Z"
   },
   {
    "duration": 124,
    "start_time": "2021-07-03T09:47:31.745Z"
   },
   {
    "duration": 521,
    "start_time": "2021-07-03T09:47:31.872Z"
   },
   {
    "duration": 6128,
    "start_time": "2021-07-03T09:47:32.396Z"
   },
   {
    "duration": 823,
    "start_time": "2021-07-03T09:47:38.526Z"
   },
   {
    "duration": 59,
    "start_time": "2021-07-03T09:47:39.351Z"
   },
   {
    "duration": 7,
    "start_time": "2021-07-03T09:50:54.933Z"
   },
   {
    "duration": 28,
    "start_time": "2021-07-03T09:51:08.278Z"
   },
   {
    "duration": 8,
    "start_time": "2021-07-03T09:51:47.677Z"
   },
   {
    "duration": 9,
    "start_time": "2021-07-03T09:51:59.731Z"
   },
   {
    "duration": 255,
    "start_time": "2021-07-03T09:52:12.637Z"
   },
   {
    "duration": 272,
    "start_time": "2021-07-03T09:52:27.469Z"
   },
   {
    "duration": 247,
    "start_time": "2021-07-03T09:52:43.388Z"
   },
   {
    "duration": 264,
    "start_time": "2021-07-03T09:52:55.735Z"
   },
   {
    "duration": 243,
    "start_time": "2021-07-03T09:53:09.727Z"
   },
   {
    "duration": 264,
    "start_time": "2021-07-03T09:53:39.576Z"
   },
   {
    "duration": 283,
    "start_time": "2021-07-03T09:59:02.932Z"
   },
   {
    "duration": 1902,
    "start_time": "2021-07-03T10:19:34.636Z"
   },
   {
    "duration": 4,
    "start_time": "2021-07-03T10:19:36.541Z"
   },
   {
    "duration": 45,
    "start_time": "2021-07-03T10:19:36.548Z"
   },
   {
    "duration": 13,
    "start_time": "2021-07-03T10:19:36.595Z"
   },
   {
    "duration": 26,
    "start_time": "2021-07-03T10:19:36.610Z"
   },
   {
    "duration": 37,
    "start_time": "2021-07-03T10:19:36.639Z"
   },
   {
    "duration": 7,
    "start_time": "2021-07-03T10:19:36.680Z"
   },
   {
    "duration": 12,
    "start_time": "2021-07-03T10:19:36.692Z"
   },
   {
    "duration": 339,
    "start_time": "2021-07-03T10:19:36.709Z"
   },
   {
    "duration": 35,
    "start_time": "2021-07-03T10:19:37.051Z"
   },
   {
    "duration": 254,
    "start_time": "2021-07-03T10:19:37.089Z"
   },
   {
    "duration": 22,
    "start_time": "2021-07-03T10:19:37.345Z"
   },
   {
    "duration": 16,
    "start_time": "2021-07-03T10:19:37.372Z"
   },
   {
    "duration": 10,
    "start_time": "2021-07-03T10:19:37.391Z"
   },
   {
    "duration": 6,
    "start_time": "2021-07-03T10:19:37.403Z"
   },
   {
    "duration": 9,
    "start_time": "2021-07-03T10:19:37.412Z"
   },
   {
    "duration": 12,
    "start_time": "2021-07-03T10:19:37.424Z"
   },
   {
    "duration": 265,
    "start_time": "2021-07-03T10:19:37.439Z"
   },
   {
    "duration": 21,
    "start_time": "2021-07-03T10:19:37.706Z"
   },
   {
    "duration": 145,
    "start_time": "2021-07-03T10:19:37.730Z"
   },
   {
    "duration": 124,
    "start_time": "2021-07-03T10:19:37.877Z"
   },
   {
    "duration": 549,
    "start_time": "2021-07-03T10:19:38.005Z"
   },
   {
    "duration": 16667,
    "start_time": "2021-07-03T10:19:38.569Z"
   },
   {
    "duration": 130,
    "start_time": "2021-07-03T10:19:55.239Z"
   },
   {
    "duration": 633,
    "start_time": "2021-07-03T10:19:55.373Z"
   },
   {
    "duration": 16822,
    "start_time": "2021-07-03T10:19:56.008Z"
   },
   {
    "duration": 6,
    "start_time": "2021-07-03T10:20:12.832Z"
   },
   {
    "duration": 243,
    "start_time": "2021-07-03T10:20:12.841Z"
   },
   {
    "duration": 1025,
    "start_time": "2021-07-03T10:20:13.087Z"
   },
   {
    "duration": 43400,
    "start_time": "2021-07-03T10:20:14.115Z"
   },
   {
    "duration": 6,
    "start_time": "2021-07-03T10:20:57.517Z"
   },
   {
    "duration": 145,
    "start_time": "2021-07-03T10:20:57.526Z"
   },
   {
    "duration": 536,
    "start_time": "2021-07-03T10:20:57.674Z"
   },
   {
    "duration": 6319,
    "start_time": "2021-07-03T10:20:58.213Z"
   },
   {
    "duration": 927,
    "start_time": "2021-07-03T10:21:04.535Z"
   },
   {
    "duration": 50,
    "start_time": "2021-07-03T10:21:05.468Z"
   },
   {
    "duration": 295,
    "start_time": "2021-07-03T10:21:05.521Z"
   },
   {
    "duration": 1335,
    "start_time": "2021-07-04T05:03:29.471Z"
   },
   {
    "duration": 2,
    "start_time": "2021-07-04T05:03:30.808Z"
   },
   {
    "duration": 32,
    "start_time": "2021-07-04T05:03:30.812Z"
   },
   {
    "duration": 8,
    "start_time": "2021-07-04T05:03:30.845Z"
   },
   {
    "duration": 14,
    "start_time": "2021-07-04T05:03:30.855Z"
   },
   {
    "duration": 15,
    "start_time": "2021-07-04T05:03:30.870Z"
   },
   {
    "duration": 4,
    "start_time": "2021-07-04T05:03:30.887Z"
   },
   {
    "duration": 10,
    "start_time": "2021-07-04T05:03:30.892Z"
   },
   {
    "duration": 197,
    "start_time": "2021-07-04T05:03:30.905Z"
   },
   {
    "duration": 17,
    "start_time": "2021-07-04T05:03:31.103Z"
   },
   {
    "duration": 158,
    "start_time": "2021-07-04T05:03:31.121Z"
   },
   {
    "duration": 7,
    "start_time": "2021-07-04T05:03:31.284Z"
   },
   {
    "duration": 5,
    "start_time": "2021-07-04T05:03:31.292Z"
   },
   {
    "duration": 11,
    "start_time": "2021-07-04T05:03:31.298Z"
   },
   {
    "duration": 6,
    "start_time": "2021-07-04T05:03:31.310Z"
   },
   {
    "duration": 5,
    "start_time": "2021-07-04T05:03:31.318Z"
   },
   {
    "duration": 7,
    "start_time": "2021-07-04T05:03:31.325Z"
   },
   {
    "duration": 151,
    "start_time": "2021-07-04T05:03:31.333Z"
   },
   {
    "duration": 13,
    "start_time": "2021-07-04T05:03:31.486Z"
   },
   {
    "duration": 86,
    "start_time": "2021-07-04T05:03:31.501Z"
   },
   {
    "duration": 114,
    "start_time": "2021-07-04T05:03:31.589Z"
   },
   {
    "duration": 340,
    "start_time": "2021-07-04T05:03:31.705Z"
   },
   {
    "duration": 9689,
    "start_time": "2021-07-04T05:03:32.047Z"
   },
   {
    "duration": 148,
    "start_time": "2021-07-04T05:03:41.738Z"
   },
   {
    "duration": 434,
    "start_time": "2021-07-04T05:03:41.888Z"
   },
   {
    "duration": 9511,
    "start_time": "2021-07-04T05:03:42.324Z"
   },
   {
    "duration": 3,
    "start_time": "2021-07-04T05:03:51.838Z"
   },
   {
    "duration": 144,
    "start_time": "2021-07-04T05:03:51.843Z"
   },
   {
    "duration": 635,
    "start_time": "2021-07-04T05:03:51.989Z"
   },
   {
    "duration": 22345,
    "start_time": "2021-07-04T05:03:52.626Z"
   },
   {
    "duration": 4,
    "start_time": "2021-07-04T05:04:14.972Z"
   },
   {
    "duration": 103,
    "start_time": "2021-07-04T05:04:14.985Z"
   },
   {
    "duration": 362,
    "start_time": "2021-07-04T05:04:15.090Z"
   },
   {
    "duration": 3450,
    "start_time": "2021-07-04T05:04:15.454Z"
   },
   {
    "duration": 512,
    "start_time": "2021-07-04T05:04:18.905Z"
   },
   {
    "duration": 29,
    "start_time": "2021-07-04T05:04:19.419Z"
   },
   {
    "duration": 179,
    "start_time": "2021-07-04T05:04:19.450Z"
   },
   {
    "duration": 257,
    "start_time": "2021-07-04T07:26:29.506Z"
   },
   {
    "duration": 240,
    "start_time": "2021-07-04T07:27:30.592Z"
   },
   {
    "duration": 1091,
    "start_time": "2021-07-04T07:27:51.528Z"
   },
   {
    "duration": 264,
    "start_time": "2021-07-04T07:28:05.214Z"
   },
   {
    "duration": 1093,
    "start_time": "2021-07-04T07:28:16.424Z"
   },
   {
    "duration": 3,
    "start_time": "2021-07-04T07:28:17.519Z"
   },
   {
    "duration": 32,
    "start_time": "2021-07-04T07:28:17.524Z"
   },
   {
    "duration": 9,
    "start_time": "2021-07-04T07:28:17.557Z"
   },
   {
    "duration": 13,
    "start_time": "2021-07-04T07:28:17.568Z"
   },
   {
    "duration": 11,
    "start_time": "2021-07-04T07:28:17.583Z"
   },
   {
    "duration": 5,
    "start_time": "2021-07-04T07:28:17.596Z"
   },
   {
    "duration": 10,
    "start_time": "2021-07-04T07:28:17.604Z"
   },
   {
    "duration": 177,
    "start_time": "2021-07-04T07:28:17.616Z"
   },
   {
    "duration": 19,
    "start_time": "2021-07-04T07:28:17.795Z"
   },
   {
    "duration": 134,
    "start_time": "2021-07-04T07:28:17.815Z"
   },
   {
    "duration": 7,
    "start_time": "2021-07-04T07:28:17.951Z"
   },
   {
    "duration": 8,
    "start_time": "2021-07-04T07:28:17.960Z"
   },
   {
    "duration": 6,
    "start_time": "2021-07-04T07:28:17.970Z"
   },
   {
    "duration": 14,
    "start_time": "2021-07-04T07:28:17.977Z"
   },
   {
    "duration": 6,
    "start_time": "2021-07-04T07:28:17.992Z"
   },
   {
    "duration": 7,
    "start_time": "2021-07-04T07:28:18.000Z"
   },
   {
    "duration": 118,
    "start_time": "2021-07-04T07:28:18.008Z"
   },
   {
    "duration": 11,
    "start_time": "2021-07-04T07:28:18.127Z"
   },
   {
    "duration": 156,
    "start_time": "2021-07-04T07:28:18.139Z"
   },
   {
    "duration": 112,
    "start_time": "2021-07-04T07:28:18.297Z"
   },
   {
    "duration": 302,
    "start_time": "2021-07-04T07:28:18.410Z"
   },
   {
    "duration": 620,
    "start_time": "2021-07-04T07:28:18.715Z"
   },
   {
    "duration": 9419,
    "start_time": "2021-07-04T07:28:19.337Z"
   },
   {
    "duration": 51,
    "start_time": "2021-07-04T07:28:28.758Z"
   },
   {
    "duration": 481,
    "start_time": "2021-07-04T07:28:28.811Z"
   },
   {
    "duration": 9151,
    "start_time": "2021-07-04T07:28:29.293Z"
   },
   {
    "duration": 4,
    "start_time": "2021-07-04T07:28:38.446Z"
   },
   {
    "duration": 143,
    "start_time": "2021-07-04T07:28:38.452Z"
   },
   {
    "duration": 588,
    "start_time": "2021-07-04T07:28:38.597Z"
   },
   {
    "duration": 21175,
    "start_time": "2021-07-04T07:28:39.191Z"
   },
   {
    "duration": 3,
    "start_time": "2021-07-04T07:29:00.368Z"
   },
   {
    "duration": 120,
    "start_time": "2021-07-04T07:29:00.372Z"
   },
   {
    "duration": 357,
    "start_time": "2021-07-04T07:29:00.495Z"
   },
   {
    "duration": 3356,
    "start_time": "2021-07-04T07:29:00.854Z"
   },
   {
    "duration": 491,
    "start_time": "2021-07-04T07:29:04.211Z"
   },
   {
    "duration": 29,
    "start_time": "2021-07-04T07:29:04.704Z"
   },
   {
    "duration": 162,
    "start_time": "2021-07-04T07:29:04.735Z"
   },
   {
    "duration": 11270,
    "start_time": "2021-07-04T07:30:08.582Z"
   },
   {
    "duration": 16377,
    "start_time": "2021-07-04T07:35:49.383Z"
   },
   {
    "duration": 1047,
    "start_time": "2021-07-04T07:38:04.565Z"
   },
   {
    "duration": 3,
    "start_time": "2021-07-04T07:38:05.614Z"
   },
   {
    "duration": 32,
    "start_time": "2021-07-04T07:38:05.619Z"
   },
   {
    "duration": 8,
    "start_time": "2021-07-04T07:38:05.652Z"
   },
   {
    "duration": 17,
    "start_time": "2021-07-04T07:38:05.661Z"
   },
   {
    "duration": 5,
    "start_time": "2021-07-04T07:38:05.680Z"
   },
   {
    "duration": 4,
    "start_time": "2021-07-04T07:38:05.691Z"
   },
   {
    "duration": 8,
    "start_time": "2021-07-04T07:38:05.697Z"
   },
   {
    "duration": 170,
    "start_time": "2021-07-04T07:38:05.706Z"
   },
   {
    "duration": 22,
    "start_time": "2021-07-04T07:38:05.877Z"
   },
   {
    "duration": 127,
    "start_time": "2021-07-04T07:38:05.901Z"
   },
   {
    "duration": 6,
    "start_time": "2021-07-04T07:38:06.030Z"
   },
   {
    "duration": 7,
    "start_time": "2021-07-04T07:38:06.037Z"
   },
   {
    "duration": 6,
    "start_time": "2021-07-04T07:38:06.045Z"
   },
   {
    "duration": 7,
    "start_time": "2021-07-04T07:38:06.052Z"
   },
   {
    "duration": 6,
    "start_time": "2021-07-04T07:38:06.060Z"
   },
   {
    "duration": 6,
    "start_time": "2021-07-04T07:38:06.068Z"
   },
   {
    "duration": 130,
    "start_time": "2021-07-04T07:38:06.075Z"
   },
   {
    "duration": 11,
    "start_time": "2021-07-04T07:38:06.207Z"
   },
   {
    "duration": 81,
    "start_time": "2021-07-04T07:38:06.220Z"
   },
   {
    "duration": 22,
    "start_time": "2021-07-04T07:38:06.392Z"
   },
   {
    "duration": 312,
    "start_time": "2021-07-04T07:38:06.415Z"
   },
   {
    "duration": 630,
    "start_time": "2021-07-04T07:38:06.730Z"
   },
   {
    "duration": 11235,
    "start_time": "2021-07-04T07:38:07.362Z"
   },
   {
    "duration": 99,
    "start_time": "2021-07-04T07:38:18.599Z"
   },
   {
    "duration": 432,
    "start_time": "2021-07-04T07:38:18.699Z"
   },
   {
    "duration": 11355,
    "start_time": "2021-07-04T07:38:19.133Z"
   },
   {
    "duration": 3,
    "start_time": "2021-07-04T07:38:30.491Z"
   },
   {
    "duration": 198,
    "start_time": "2021-07-04T07:38:30.496Z"
   },
   {
    "duration": 587,
    "start_time": "2021-07-04T07:38:30.697Z"
   },
   {
    "duration": 21436,
    "start_time": "2021-07-04T07:38:31.286Z"
   },
   {
    "duration": 4,
    "start_time": "2021-07-04T07:38:52.725Z"
   },
   {
    "duration": 63,
    "start_time": "2021-07-04T07:38:52.731Z"
   },
   {
    "duration": 443,
    "start_time": "2021-07-04T07:38:52.796Z"
   },
   {
    "duration": 3494,
    "start_time": "2021-07-04T07:38:53.241Z"
   },
   {
    "duration": 464,
    "start_time": "2021-07-04T07:38:56.737Z"
   },
   {
    "duration": 27,
    "start_time": "2021-07-04T07:38:57.203Z"
   },
   {
    "duration": 149,
    "start_time": "2021-07-04T07:38:57.232Z"
   },
   {
    "duration": 10162,
    "start_time": "2021-07-04T07:41:08.725Z"
   },
   {
    "duration": 11925,
    "start_time": "2021-07-04T07:50:34.824Z"
   },
   {
    "duration": 11016,
    "start_time": "2021-07-04T07:50:55.367Z"
   },
   {
    "duration": 1069,
    "start_time": "2021-07-04T07:51:45.439Z"
   },
   {
    "duration": 3,
    "start_time": "2021-07-04T07:51:46.510Z"
   },
   {
    "duration": 33,
    "start_time": "2021-07-04T07:51:46.515Z"
   },
   {
    "duration": 8,
    "start_time": "2021-07-04T07:51:46.550Z"
   },
   {
    "duration": 18,
    "start_time": "2021-07-04T07:51:46.560Z"
   },
   {
    "duration": 20,
    "start_time": "2021-07-04T07:51:46.580Z"
   },
   {
    "duration": 14,
    "start_time": "2021-07-04T07:51:46.602Z"
   },
   {
    "duration": 15,
    "start_time": "2021-07-04T07:51:46.618Z"
   },
   {
    "duration": 154,
    "start_time": "2021-07-04T07:51:46.635Z"
   },
   {
    "duration": 15,
    "start_time": "2021-07-04T07:51:46.791Z"
   },
   {
    "duration": 133,
    "start_time": "2021-07-04T07:51:46.808Z"
   },
   {
    "duration": 7,
    "start_time": "2021-07-04T07:51:46.943Z"
   },
   {
    "duration": 15,
    "start_time": "2021-07-04T07:51:46.952Z"
   },
   {
    "duration": 16,
    "start_time": "2021-07-04T07:51:46.968Z"
   },
   {
    "duration": 6,
    "start_time": "2021-07-04T07:51:46.985Z"
   },
   {
    "duration": 11,
    "start_time": "2021-07-04T07:51:46.993Z"
   },
   {
    "duration": 10,
    "start_time": "2021-07-04T07:51:47.006Z"
   },
   {
    "duration": 131,
    "start_time": "2021-07-04T07:51:47.017Z"
   },
   {
    "duration": 13,
    "start_time": "2021-07-04T07:51:47.149Z"
   },
   {
    "duration": 131,
    "start_time": "2021-07-04T07:51:47.164Z"
   },
   {
    "duration": 114,
    "start_time": "2021-07-04T07:51:47.298Z"
   },
   {
    "duration": 306,
    "start_time": "2021-07-04T07:51:47.414Z"
   },
   {
    "duration": 619,
    "start_time": "2021-07-04T07:51:47.723Z"
   },
   {
    "duration": 11436,
    "start_time": "2021-07-04T07:51:48.344Z"
   },
   {
    "duration": 110,
    "start_time": "2021-07-04T07:51:59.782Z"
   },
   {
    "duration": 431,
    "start_time": "2021-07-04T07:51:59.893Z"
   },
   {
    "duration": 11126,
    "start_time": "2021-07-04T07:52:00.326Z"
   },
   {
    "duration": 4,
    "start_time": "2021-07-04T07:52:11.454Z"
   },
   {
    "duration": 136,
    "start_time": "2021-07-04T07:52:11.459Z"
   },
   {
    "duration": 609,
    "start_time": "2021-07-04T07:52:11.597Z"
   },
   {
    "duration": 22072,
    "start_time": "2021-07-04T07:52:12.208Z"
   },
   {
    "duration": 3,
    "start_time": "2021-07-04T07:52:34.282Z"
   },
   {
    "duration": 109,
    "start_time": "2021-07-04T07:52:34.291Z"
   },
   {
    "duration": 433,
    "start_time": "2021-07-04T07:52:34.402Z"
   },
   {
    "duration": 3412,
    "start_time": "2021-07-04T07:52:34.837Z"
   },
   {
    "duration": 460,
    "start_time": "2021-07-04T07:52:38.252Z"
   },
   {
    "duration": 29,
    "start_time": "2021-07-04T07:52:38.714Z"
   },
   {
    "duration": 209,
    "start_time": "2021-07-04T07:52:38.745Z"
   },
   {
    "duration": 12203,
    "start_time": "2021-07-04T07:54:03.339Z"
   },
   {
    "duration": 10191,
    "start_time": "2021-07-04T07:54:27.369Z"
   },
   {
    "duration": 642,
    "start_time": "2021-07-04T07:58:43.434Z"
   },
   {
    "duration": 11960,
    "start_time": "2021-07-04T08:11:30.511Z"
   },
   {
    "duration": 183,
    "start_time": "2021-07-04T08:21:21.380Z"
   },
   {
    "duration": 183,
    "start_time": "2021-07-04T08:21:25.287Z"
   },
   {
    "duration": 344,
    "start_time": "2021-07-04T08:24:25.714Z"
   },
   {
    "duration": 197,
    "start_time": "2021-07-04T08:24:49.399Z"
   },
   {
    "duration": 228,
    "start_time": "2021-07-04T10:41:51.505Z"
   },
   {
    "duration": 1086,
    "start_time": "2021-07-04T10:43:44.791Z"
   },
   {
    "duration": 2,
    "start_time": "2021-07-04T10:43:45.879Z"
   },
   {
    "duration": 35,
    "start_time": "2021-07-04T10:43:45.883Z"
   },
   {
    "duration": 7,
    "start_time": "2021-07-04T10:43:45.920Z"
   },
   {
    "duration": 13,
    "start_time": "2021-07-04T10:43:45.929Z"
   },
   {
    "duration": 7,
    "start_time": "2021-07-04T10:43:45.943Z"
   },
   {
    "duration": 8,
    "start_time": "2021-07-04T10:43:45.952Z"
   },
   {
    "duration": 7,
    "start_time": "2021-07-04T10:43:45.962Z"
   },
   {
    "duration": 175,
    "start_time": "2021-07-04T10:43:45.971Z"
   },
   {
    "duration": 15,
    "start_time": "2021-07-04T10:43:46.148Z"
   },
   {
    "duration": 139,
    "start_time": "2021-07-04T10:43:46.165Z"
   },
   {
    "duration": 7,
    "start_time": "2021-07-04T10:43:46.306Z"
   },
   {
    "duration": 7,
    "start_time": "2021-07-04T10:43:46.314Z"
   },
   {
    "duration": 6,
    "start_time": "2021-07-04T10:43:46.322Z"
   },
   {
    "duration": 7,
    "start_time": "2021-07-04T10:43:46.329Z"
   },
   {
    "duration": 9,
    "start_time": "2021-07-04T10:43:46.337Z"
   },
   {
    "duration": 7,
    "start_time": "2021-07-04T10:43:46.347Z"
   },
   {
    "duration": 135,
    "start_time": "2021-07-04T10:43:46.356Z"
   },
   {
    "duration": 16,
    "start_time": "2021-07-04T10:43:46.493Z"
   },
   {
    "duration": 88,
    "start_time": "2021-07-04T10:43:46.511Z"
   },
   {
    "duration": 110,
    "start_time": "2021-07-04T10:43:46.601Z"
   },
   {
    "duration": 462,
    "start_time": "2021-07-04T10:43:46.713Z"
   },
   {
    "duration": 904,
    "start_time": "2021-07-04T10:43:47.179Z"
   },
   {
    "duration": 10660,
    "start_time": "2021-07-04T10:43:48.086Z"
   },
   {
    "duration": 144,
    "start_time": "2021-07-04T10:43:58.748Z"
   },
   {
    "duration": 384,
    "start_time": "2021-07-04T10:43:58.894Z"
   },
   {
    "duration": 629,
    "start_time": "2021-07-04T10:43:59.280Z"
   },
   {
    "duration": 11120,
    "start_time": "2021-07-04T10:43:59.911Z"
   },
   {
    "duration": 3,
    "start_time": "2021-07-04T10:44:11.033Z"
   },
   {
    "duration": 160,
    "start_time": "2021-07-04T10:44:11.038Z"
   },
   {
    "duration": 634,
    "start_time": "2021-07-04T10:44:11.199Z"
   },
   {
    "duration": 21776,
    "start_time": "2021-07-04T10:44:11.835Z"
   },
   {
    "duration": 3,
    "start_time": "2021-07-04T10:44:33.613Z"
   },
   {
    "duration": 75,
    "start_time": "2021-07-04T10:44:33.618Z"
   },
   {
    "duration": 340,
    "start_time": "2021-07-04T10:44:33.695Z"
   },
   {
    "duration": 3613,
    "start_time": "2021-07-04T10:44:34.036Z"
   },
   {
    "duration": 187,
    "start_time": "2021-07-04T10:44:37.651Z"
   },
   {
    "duration": 2,
    "start_time": "2021-07-04T10:44:37.840Z"
   },
   {
    "duration": 245,
    "start_time": "2021-07-04T10:44:37.843Z"
   },
   {
    "duration": 14,
    "start_time": "2021-07-04T10:44:38.092Z"
   },
   {
    "duration": 147,
    "start_time": "2021-07-04T10:44:38.107Z"
   },
   {
    "duration": 338,
    "start_time": "2021-07-04T10:47:49.431Z"
   },
   {
    "duration": 253,
    "start_time": "2021-07-04T10:48:09.378Z"
   },
   {
    "duration": 255,
    "start_time": "2021-07-04T10:48:29.338Z"
   },
   {
    "duration": 238,
    "start_time": "2021-07-04T10:48:51.507Z"
   },
   {
    "duration": 245,
    "start_time": "2021-07-04T10:51:04.181Z"
   },
   {
    "duration": 231,
    "start_time": "2021-07-04T10:51:34.346Z"
   },
   {
    "duration": 231,
    "start_time": "2021-07-04T10:55:19.935Z"
   },
   {
    "duration": 223,
    "start_time": "2021-07-04T10:55:26.018Z"
   },
   {
    "duration": 1065,
    "start_time": "2021-07-04T10:55:36.520Z"
   },
   {
    "duration": 7,
    "start_time": "2021-07-04T10:55:37.586Z"
   },
   {
    "duration": 35,
    "start_time": "2021-07-04T10:55:37.595Z"
   },
   {
    "duration": 7,
    "start_time": "2021-07-04T10:55:37.632Z"
   },
   {
    "duration": 13,
    "start_time": "2021-07-04T10:55:37.641Z"
   },
   {
    "duration": 9,
    "start_time": "2021-07-04T10:55:37.655Z"
   },
   {
    "duration": 7,
    "start_time": "2021-07-04T10:55:37.666Z"
   },
   {
    "duration": 8,
    "start_time": "2021-07-04T10:55:37.675Z"
   },
   {
    "duration": 168,
    "start_time": "2021-07-04T10:55:37.685Z"
   },
   {
    "duration": 18,
    "start_time": "2021-07-04T10:55:37.855Z"
   },
   {
    "duration": 136,
    "start_time": "2021-07-04T10:55:37.874Z"
   },
   {
    "duration": 6,
    "start_time": "2021-07-04T10:55:38.011Z"
   },
   {
    "duration": 7,
    "start_time": "2021-07-04T10:55:38.018Z"
   },
   {
    "duration": 6,
    "start_time": "2021-07-04T10:55:38.026Z"
   },
   {
    "duration": 6,
    "start_time": "2021-07-04T10:55:38.033Z"
   },
   {
    "duration": 6,
    "start_time": "2021-07-04T10:55:38.041Z"
   },
   {
    "duration": 9,
    "start_time": "2021-07-04T10:55:38.049Z"
   },
   {
    "duration": 125,
    "start_time": "2021-07-04T10:55:38.059Z"
   },
   {
    "duration": 18,
    "start_time": "2021-07-04T10:55:38.186Z"
   },
   {
    "duration": 93,
    "start_time": "2021-07-04T10:55:38.205Z"
   },
   {
    "duration": 106,
    "start_time": "2021-07-04T10:55:38.300Z"
   },
   {
    "duration": 319,
    "start_time": "2021-07-04T10:55:38.408Z"
   },
   {
    "duration": 668,
    "start_time": "2021-07-04T10:55:38.730Z"
   },
   {
    "duration": 10849,
    "start_time": "2021-07-04T10:55:39.400Z"
   },
   {
    "duration": 67,
    "start_time": "2021-07-04T10:55:50.251Z"
   },
   {
    "duration": 409,
    "start_time": "2021-07-04T10:55:50.393Z"
   },
   {
    "duration": 655,
    "start_time": "2021-07-04T10:55:50.804Z"
   },
   {
    "duration": 11877,
    "start_time": "2021-07-04T10:55:51.461Z"
   },
   {
    "duration": 3,
    "start_time": "2021-07-04T10:56:03.340Z"
   },
   {
    "duration": 152,
    "start_time": "2021-07-04T10:56:03.345Z"
   },
   {
    "duration": 596,
    "start_time": "2021-07-04T10:56:03.500Z"
   },
   {
    "duration": 22773,
    "start_time": "2021-07-04T10:56:04.100Z"
   },
   {
    "duration": 4,
    "start_time": "2021-07-04T10:56:26.875Z"
   },
   {
    "duration": 112,
    "start_time": "2021-07-04T10:56:26.880Z"
   },
   {
    "duration": 328,
    "start_time": "2021-07-04T10:56:26.995Z"
   },
   {
    "duration": 3546,
    "start_time": "2021-07-04T10:56:27.325Z"
   },
   {
    "duration": 199,
    "start_time": "2021-07-04T10:56:30.873Z"
   },
   {
    "duration": 2,
    "start_time": "2021-07-04T10:56:31.073Z"
   },
   {
    "duration": 235,
    "start_time": "2021-07-04T10:56:31.077Z"
   },
   {
    "duration": 14,
    "start_time": "2021-07-04T10:56:31.313Z"
   },
   {
    "duration": 153,
    "start_time": "2021-07-04T10:56:31.328Z"
   },
   {
    "duration": 203,
    "start_time": "2021-07-04T10:58:02.218Z"
   },
   {
    "duration": 1056,
    "start_time": "2021-07-04T11:03:48.712Z"
   },
   {
    "duration": 2,
    "start_time": "2021-07-04T11:03:49.770Z"
   },
   {
    "duration": 34,
    "start_time": "2021-07-04T11:03:49.776Z"
   },
   {
    "duration": 7,
    "start_time": "2021-07-04T11:03:49.812Z"
   },
   {
    "duration": 13,
    "start_time": "2021-07-04T11:03:49.821Z"
   },
   {
    "duration": 5,
    "start_time": "2021-07-04T11:03:49.836Z"
   },
   {
    "duration": 7,
    "start_time": "2021-07-04T11:03:49.843Z"
   },
   {
    "duration": 9,
    "start_time": "2021-07-04T11:03:49.852Z"
   },
   {
    "duration": 173,
    "start_time": "2021-07-04T11:03:49.862Z"
   },
   {
    "duration": 17,
    "start_time": "2021-07-04T11:03:50.037Z"
   },
   {
    "duration": 141,
    "start_time": "2021-07-04T11:03:50.056Z"
   },
   {
    "duration": 6,
    "start_time": "2021-07-04T11:03:50.199Z"
   },
   {
    "duration": 6,
    "start_time": "2021-07-04T11:03:50.206Z"
   },
   {
    "duration": 6,
    "start_time": "2021-07-04T11:03:50.214Z"
   },
   {
    "duration": 6,
    "start_time": "2021-07-04T11:03:50.222Z"
   },
   {
    "duration": 7,
    "start_time": "2021-07-04T11:03:50.230Z"
   },
   {
    "duration": 9,
    "start_time": "2021-07-04T11:03:50.239Z"
   },
   {
    "duration": 138,
    "start_time": "2021-07-04T11:03:50.249Z"
   },
   {
    "duration": 13,
    "start_time": "2021-07-04T11:03:50.389Z"
   },
   {
    "duration": 90,
    "start_time": "2021-07-04T11:03:50.403Z"
   },
   {
    "duration": 112,
    "start_time": "2021-07-04T11:03:50.495Z"
   },
   {
    "duration": 319,
    "start_time": "2021-07-04T11:03:50.611Z"
   },
   {
    "duration": 648,
    "start_time": "2021-07-04T11:03:50.932Z"
   },
   {
    "duration": 10364,
    "start_time": "2021-07-04T11:03:51.581Z"
   },
   {
    "duration": 146,
    "start_time": "2021-07-04T11:04:01.947Z"
   },
   {
    "duration": 385,
    "start_time": "2021-07-04T11:04:02.096Z"
   },
   {
    "duration": 623,
    "start_time": "2021-07-04T11:04:02.483Z"
   },
   {
    "duration": 11074,
    "start_time": "2021-07-04T11:04:03.108Z"
   },
   {
    "duration": 7,
    "start_time": "2021-07-04T11:04:14.184Z"
   },
   {
    "duration": 103,
    "start_time": "2021-07-04T11:04:14.192Z"
   },
   {
    "duration": 580,
    "start_time": "2021-07-04T11:04:14.297Z"
   },
   {
    "duration": 21196,
    "start_time": "2021-07-04T11:04:14.879Z"
   },
   {
    "duration": 5,
    "start_time": "2021-07-04T11:04:36.077Z"
   },
   {
    "duration": 113,
    "start_time": "2021-07-04T11:04:36.083Z"
   },
   {
    "duration": 350,
    "start_time": "2021-07-04T11:04:36.199Z"
   },
   {
    "duration": 3396,
    "start_time": "2021-07-04T11:04:36.551Z"
   },
   {
    "duration": 188,
    "start_time": "2021-07-04T11:04:39.948Z"
   },
   {
    "duration": 13,
    "start_time": "2021-07-04T11:04:40.138Z"
   },
   {
    "duration": 153,
    "start_time": "2021-07-04T11:04:40.152Z"
   },
   {
    "duration": 212,
    "start_time": "2021-07-04T11:06:57.728Z"
   },
   {
    "duration": 185,
    "start_time": "2021-07-04T11:08:27.614Z"
   },
   {
    "duration": 214,
    "start_time": "2021-07-04T11:09:00.239Z"
   },
   {
    "duration": 211,
    "start_time": "2021-07-04T11:09:08.807Z"
   },
   {
    "duration": 196,
    "start_time": "2021-07-04T11:09:17.518Z"
   },
   {
    "duration": 216,
    "start_time": "2021-07-04T11:09:24.404Z"
   },
   {
    "duration": 323,
    "start_time": "2021-07-04T11:22:54.390Z"
   },
   {
    "duration": 3,
    "start_time": "2021-07-04T11:23:21.968Z"
   },
   {
    "duration": 996,
    "start_time": "2021-07-04T11:23:25.688Z"
   },
   {
    "duration": 185,
    "start_time": "2021-07-04T11:26:09.713Z"
   },
   {
    "duration": 216,
    "start_time": "2021-07-04T11:26:16.416Z"
   },
   {
    "duration": 1233,
    "start_time": "2021-07-04T11:28:54.272Z"
   },
   {
    "duration": 3,
    "start_time": "2021-07-04T11:28:55.507Z"
   },
   {
    "duration": 31,
    "start_time": "2021-07-04T11:28:55.514Z"
   },
   {
    "duration": 8,
    "start_time": "2021-07-04T11:28:55.547Z"
   },
   {
    "duration": 19,
    "start_time": "2021-07-04T11:28:55.556Z"
   },
   {
    "duration": 15,
    "start_time": "2021-07-04T11:28:55.577Z"
   },
   {
    "duration": 7,
    "start_time": "2021-07-04T11:28:55.594Z"
   },
   {
    "duration": 15,
    "start_time": "2021-07-04T11:28:55.603Z"
   },
   {
    "duration": 169,
    "start_time": "2021-07-04T11:28:55.619Z"
   },
   {
    "duration": 15,
    "start_time": "2021-07-04T11:28:55.790Z"
   },
   {
    "duration": 138,
    "start_time": "2021-07-04T11:28:55.806Z"
   },
   {
    "duration": 7,
    "start_time": "2021-07-04T11:28:55.946Z"
   },
   {
    "duration": 7,
    "start_time": "2021-07-04T11:28:55.955Z"
   },
   {
    "duration": 13,
    "start_time": "2021-07-04T11:28:55.964Z"
   },
   {
    "duration": 13,
    "start_time": "2021-07-04T11:28:55.979Z"
   },
   {
    "duration": 23,
    "start_time": "2021-07-04T11:28:55.994Z"
   },
   {
    "duration": 22,
    "start_time": "2021-07-04T11:28:56.018Z"
   },
   {
    "duration": 134,
    "start_time": "2021-07-04T11:28:56.041Z"
   },
   {
    "duration": 20,
    "start_time": "2021-07-04T11:28:56.176Z"
   },
   {
    "duration": 194,
    "start_time": "2021-07-04T11:28:56.198Z"
   },
   {
    "duration": 23,
    "start_time": "2021-07-04T11:28:56.394Z"
   },
   {
    "duration": 323,
    "start_time": "2021-07-04T11:28:56.419Z"
   },
   {
    "duration": 2,
    "start_time": "2021-07-04T11:28:56.746Z"
   },
   {
    "duration": 629,
    "start_time": "2021-07-04T11:28:56.749Z"
   },
   {
    "duration": 10189,
    "start_time": "2021-07-04T11:28:57.379Z"
   },
   {
    "duration": 222,
    "start_time": "2021-07-04T11:29:07.570Z"
   },
   {
    "duration": 312,
    "start_time": "2021-07-04T11:29:07.794Z"
   },
   {
    "duration": 616,
    "start_time": "2021-07-04T11:29:08.108Z"
   },
   {
    "duration": 10970,
    "start_time": "2021-07-04T11:29:08.725Z"
   },
   {
    "duration": 3,
    "start_time": "2021-07-04T11:29:19.697Z"
   },
   {
    "duration": 194,
    "start_time": "2021-07-04T11:29:19.702Z"
   },
   {
    "duration": 596,
    "start_time": "2021-07-04T11:29:19.898Z"
   },
   {
    "duration": 21411,
    "start_time": "2021-07-04T11:29:20.496Z"
   },
   {
    "duration": 4,
    "start_time": "2021-07-04T11:29:41.909Z"
   },
   {
    "duration": 88,
    "start_time": "2021-07-04T11:29:41.914Z"
   },
   {
    "duration": 329,
    "start_time": "2021-07-04T11:29:42.004Z"
   },
   {
    "duration": 3359,
    "start_time": "2021-07-04T11:29:42.334Z"
   },
   {
    "duration": 197,
    "start_time": "2021-07-04T11:29:45.695Z"
   },
   {
    "duration": 226,
    "start_time": "2021-07-04T11:29:45.894Z"
   },
   {
    "duration": 16,
    "start_time": "2021-07-04T11:29:46.122Z"
   },
   {
    "duration": 157,
    "start_time": "2021-07-04T11:29:46.139Z"
   },
   {
    "duration": 5,
    "start_time": "2021-07-04T11:33:15.476Z"
   },
   {
    "duration": 1116,
    "start_time": "2021-07-04T11:33:26.197Z"
   },
   {
    "duration": 3,
    "start_time": "2021-07-04T11:33:27.315Z"
   },
   {
    "duration": 32,
    "start_time": "2021-07-04T11:33:27.320Z"
   },
   {
    "duration": 9,
    "start_time": "2021-07-04T11:33:27.353Z"
   },
   {
    "duration": 14,
    "start_time": "2021-07-04T11:33:27.364Z"
   },
   {
    "duration": 16,
    "start_time": "2021-07-04T11:33:27.379Z"
   },
   {
    "duration": 8,
    "start_time": "2021-07-04T11:33:27.396Z"
   },
   {
    "duration": 8,
    "start_time": "2021-07-04T11:33:27.407Z"
   },
   {
    "duration": 175,
    "start_time": "2021-07-04T11:33:27.417Z"
   },
   {
    "duration": 16,
    "start_time": "2021-07-04T11:33:27.594Z"
   },
   {
    "duration": 141,
    "start_time": "2021-07-04T11:33:27.612Z"
   },
   {
    "duration": 6,
    "start_time": "2021-07-04T11:33:27.755Z"
   },
   {
    "duration": 7,
    "start_time": "2021-07-04T11:33:27.763Z"
   },
   {
    "duration": 9,
    "start_time": "2021-07-04T11:33:27.771Z"
   },
   {
    "duration": 3,
    "start_time": "2021-07-04T11:33:27.791Z"
   },
   {
    "duration": 9,
    "start_time": "2021-07-04T11:33:27.795Z"
   },
   {
    "duration": 7,
    "start_time": "2021-07-04T11:33:27.805Z"
   },
   {
    "duration": 127,
    "start_time": "2021-07-04T11:33:27.813Z"
   },
   {
    "duration": 12,
    "start_time": "2021-07-04T11:33:27.941Z"
   },
   {
    "duration": 63,
    "start_time": "2021-07-04T11:33:27.955Z"
   },
   {
    "duration": 112,
    "start_time": "2021-07-04T11:33:28.093Z"
   },
   {
    "duration": 354,
    "start_time": "2021-07-04T11:33:28.207Z"
   },
   {
    "duration": 2,
    "start_time": "2021-07-04T11:33:28.564Z"
   },
   {
    "duration": 747,
    "start_time": "2021-07-04T11:33:28.568Z"
   },
   {
    "duration": 14298,
    "start_time": "2021-07-04T11:33:29.316Z"
   },
   {
    "duration": 85,
    "start_time": "2021-07-04T11:33:43.616Z"
   },
   {
    "duration": 464,
    "start_time": "2021-07-04T11:33:43.704Z"
   },
   {
    "duration": 772,
    "start_time": "2021-07-04T11:33:44.170Z"
   },
   {
    "duration": 14001,
    "start_time": "2021-07-04T11:33:44.943Z"
   },
   {
    "duration": 3,
    "start_time": "2021-07-04T11:33:58.946Z"
   },
   {
    "duration": 242,
    "start_time": "2021-07-04T11:33:58.951Z"
   },
   {
    "duration": 598,
    "start_time": "2021-07-04T11:33:59.194Z"
   },
   {
    "duration": 29764,
    "start_time": "2021-07-04T11:33:59.794Z"
   },
   {
    "duration": 4,
    "start_time": "2021-07-04T11:34:29.560Z"
   },
   {
    "duration": 63,
    "start_time": "2021-07-04T11:34:29.565Z"
   },
   {
    "duration": 389,
    "start_time": "2021-07-04T11:34:29.692Z"
   },
   {
    "duration": 4208,
    "start_time": "2021-07-04T11:34:30.083Z"
   },
   {
    "duration": 195,
    "start_time": "2021-07-04T11:34:34.293Z"
   },
   {
    "duration": 314,
    "start_time": "2021-07-04T11:34:34.491Z"
   },
   {
    "duration": 16,
    "start_time": "2021-07-04T11:34:34.807Z"
   },
   {
    "duration": 171,
    "start_time": "2021-07-04T11:34:34.825Z"
   },
   {
    "duration": 1111,
    "start_time": "2021-07-04T13:00:42.783Z"
   },
   {
    "duration": 2,
    "start_time": "2021-07-04T13:00:43.896Z"
   },
   {
    "duration": 41,
    "start_time": "2021-07-04T13:00:43.900Z"
   },
   {
    "duration": 8,
    "start_time": "2021-07-04T13:00:43.943Z"
   },
   {
    "duration": 19,
    "start_time": "2021-07-04T13:00:43.952Z"
   },
   {
    "duration": 11,
    "start_time": "2021-07-04T13:00:43.972Z"
   },
   {
    "duration": 19,
    "start_time": "2021-07-04T13:00:43.985Z"
   },
   {
    "duration": 25,
    "start_time": "2021-07-04T13:00:44.006Z"
   },
   {
    "duration": 168,
    "start_time": "2021-07-04T13:00:44.032Z"
   },
   {
    "duration": 17,
    "start_time": "2021-07-04T13:00:44.201Z"
   },
   {
    "duration": 130,
    "start_time": "2021-07-04T13:00:44.220Z"
   },
   {
    "duration": 5,
    "start_time": "2021-07-04T13:00:44.352Z"
   },
   {
    "duration": 14,
    "start_time": "2021-07-04T13:00:44.359Z"
   },
   {
    "duration": 9,
    "start_time": "2021-07-04T13:00:44.374Z"
   },
   {
    "duration": 19,
    "start_time": "2021-07-04T13:00:44.384Z"
   },
   {
    "duration": 10,
    "start_time": "2021-07-04T13:00:44.404Z"
   },
   {
    "duration": 14,
    "start_time": "2021-07-04T13:00:44.416Z"
   },
   {
    "duration": 139,
    "start_time": "2021-07-04T13:00:44.432Z"
   },
   {
    "duration": 12,
    "start_time": "2021-07-04T13:00:44.573Z"
   },
   {
    "duration": 649,
    "start_time": "2021-07-04T13:00:44.586Z"
   },
   {
    "duration": -1346,
    "start_time": "2021-07-04T13:00:46.583Z"
   },
   {
    "duration": -1354,
    "start_time": "2021-07-04T13:00:46.592Z"
   },
   {
    "duration": -1361,
    "start_time": "2021-07-04T13:00:46.600Z"
   },
   {
    "duration": -1365,
    "start_time": "2021-07-04T13:00:46.605Z"
   },
   {
    "duration": -1369,
    "start_time": "2021-07-04T13:00:46.610Z"
   },
   {
    "duration": -1374,
    "start_time": "2021-07-04T13:00:46.616Z"
   },
   {
    "duration": -1380,
    "start_time": "2021-07-04T13:00:46.623Z"
   },
   {
    "duration": -1387,
    "start_time": "2021-07-04T13:00:46.631Z"
   },
   {
    "duration": -1392,
    "start_time": "2021-07-04T13:00:46.637Z"
   },
   {
    "duration": -1397,
    "start_time": "2021-07-04T13:00:46.643Z"
   },
   {
    "duration": -1410,
    "start_time": "2021-07-04T13:00:46.657Z"
   },
   {
    "duration": -1417,
    "start_time": "2021-07-04T13:00:46.665Z"
   },
   {
    "duration": -1423,
    "start_time": "2021-07-04T13:00:46.672Z"
   },
   {
    "duration": -1430,
    "start_time": "2021-07-04T13:00:46.680Z"
   },
   {
    "duration": -1437,
    "start_time": "2021-07-04T13:00:46.688Z"
   },
   {
    "duration": -1444,
    "start_time": "2021-07-04T13:00:46.696Z"
   },
   {
    "duration": -1451,
    "start_time": "2021-07-04T13:00:46.704Z"
   },
   {
    "duration": -1458,
    "start_time": "2021-07-04T13:00:46.712Z"
   },
   {
    "duration": -1464,
    "start_time": "2021-07-04T13:00:46.719Z"
   },
   {
    "duration": -1470,
    "start_time": "2021-07-04T13:00:46.727Z"
   },
   {
    "duration": -1476,
    "start_time": "2021-07-04T13:00:46.734Z"
   },
   {
    "duration": 494,
    "start_time": "2021-07-04T13:01:53.918Z"
   },
   {
    "duration": 1131,
    "start_time": "2021-07-04T13:02:53.997Z"
   },
   {
    "duration": 3,
    "start_time": "2021-07-04T13:02:55.129Z"
   },
   {
    "duration": 37,
    "start_time": "2021-07-04T13:02:55.133Z"
   },
   {
    "duration": 8,
    "start_time": "2021-07-04T13:02:55.172Z"
   },
   {
    "duration": 20,
    "start_time": "2021-07-04T13:02:55.181Z"
   },
   {
    "duration": 11,
    "start_time": "2021-07-04T13:02:55.202Z"
   },
   {
    "duration": 9,
    "start_time": "2021-07-04T13:02:55.215Z"
   },
   {
    "duration": 9,
    "start_time": "2021-07-04T13:02:55.226Z"
   },
   {
    "duration": 173,
    "start_time": "2021-07-04T13:02:55.236Z"
   },
   {
    "duration": 17,
    "start_time": "2021-07-04T13:02:55.411Z"
   },
   {
    "duration": 141,
    "start_time": "2021-07-04T13:02:55.429Z"
   },
   {
    "duration": 6,
    "start_time": "2021-07-04T13:02:55.572Z"
   },
   {
    "duration": 5,
    "start_time": "2021-07-04T13:02:55.591Z"
   },
   {
    "duration": 6,
    "start_time": "2021-07-04T13:02:55.598Z"
   },
   {
    "duration": 9,
    "start_time": "2021-07-04T13:02:55.605Z"
   },
   {
    "duration": 7,
    "start_time": "2021-07-04T13:02:55.616Z"
   },
   {
    "duration": 8,
    "start_time": "2021-07-04T13:02:55.624Z"
   },
   {
    "duration": 147,
    "start_time": "2021-07-04T13:02:55.634Z"
   },
   {
    "duration": 17,
    "start_time": "2021-07-04T13:02:55.783Z"
   },
   {
    "duration": 97,
    "start_time": "2021-07-04T13:02:55.802Z"
   },
   {
    "duration": 110,
    "start_time": "2021-07-04T13:02:55.901Z"
   },
   {
    "duration": 358,
    "start_time": "2021-07-04T13:02:56.013Z"
   },
   {
    "duration": 3,
    "start_time": "2021-07-04T13:02:56.375Z"
   },
   {
    "duration": 665,
    "start_time": "2021-07-04T13:02:56.392Z"
   },
   {
    "duration": 10433,
    "start_time": "2021-07-04T13:02:57.058Z"
   },
   {
    "duration": 39,
    "start_time": "2021-07-04T13:03:07.493Z"
   },
   {
    "duration": 442,
    "start_time": "2021-07-04T13:03:07.534Z"
   },
   {
    "duration": 622,
    "start_time": "2021-07-04T13:03:07.978Z"
   },
   {
    "duration": 11009,
    "start_time": "2021-07-04T13:03:08.601Z"
   },
   {
    "duration": 4,
    "start_time": "2021-07-04T13:03:19.612Z"
   },
   {
    "duration": 80,
    "start_time": "2021-07-04T13:03:19.617Z"
   },
   {
    "duration": 671,
    "start_time": "2021-07-04T13:03:19.699Z"
   },
   {
    "duration": 21564,
    "start_time": "2021-07-04T13:03:20.372Z"
   },
   {
    "duration": 3,
    "start_time": "2021-07-04T13:03:41.938Z"
   },
   {
    "duration": 58,
    "start_time": "2021-07-04T13:03:41.943Z"
   },
   {
    "duration": 321,
    "start_time": "2021-07-04T13:03:42.091Z"
   },
   {
    "duration": 3372,
    "start_time": "2021-07-04T13:03:42.414Z"
   },
   {
    "duration": 200,
    "start_time": "2021-07-04T13:03:45.791Z"
   },
   {
    "duration": 220,
    "start_time": "2021-07-04T13:03:45.993Z"
   },
   {
    "duration": 14,
    "start_time": "2021-07-04T13:03:46.215Z"
   },
   {
    "duration": 147,
    "start_time": "2021-07-04T13:03:46.231Z"
   },
   {
    "duration": 1085,
    "start_time": "2021-07-04T13:05:58.027Z"
   },
   {
    "duration": 3,
    "start_time": "2021-07-04T13:05:59.114Z"
   },
   {
    "duration": 31,
    "start_time": "2021-07-04T13:05:59.119Z"
   },
   {
    "duration": 8,
    "start_time": "2021-07-04T13:05:59.152Z"
   },
   {
    "duration": 14,
    "start_time": "2021-07-04T13:05:59.162Z"
   },
   {
    "duration": 17,
    "start_time": "2021-07-04T13:05:59.177Z"
   },
   {
    "duration": 7,
    "start_time": "2021-07-04T13:05:59.195Z"
   },
   {
    "duration": 10,
    "start_time": "2021-07-04T13:05:59.204Z"
   },
   {
    "duration": 166,
    "start_time": "2021-07-04T13:05:59.216Z"
   },
   {
    "duration": 17,
    "start_time": "2021-07-04T13:05:59.390Z"
   },
   {
    "duration": 134,
    "start_time": "2021-07-04T13:05:59.409Z"
   },
   {
    "duration": 7,
    "start_time": "2021-07-04T13:05:59.545Z"
   },
   {
    "duration": 6,
    "start_time": "2021-07-04T13:05:59.554Z"
   },
   {
    "duration": 6,
    "start_time": "2021-07-04T13:05:59.561Z"
   },
   {
    "duration": 8,
    "start_time": "2021-07-04T13:05:59.568Z"
   },
   {
    "duration": 16,
    "start_time": "2021-07-04T13:05:59.578Z"
   },
   {
    "duration": 7,
    "start_time": "2021-07-04T13:05:59.596Z"
   },
   {
    "duration": 119,
    "start_time": "2021-07-04T13:05:59.605Z"
   },
   {
    "duration": 12,
    "start_time": "2021-07-04T13:05:59.725Z"
   },
   {
    "duration": 153,
    "start_time": "2021-07-04T13:05:59.739Z"
   },
   {
    "duration": 113,
    "start_time": "2021-07-04T13:05:59.895Z"
   },
   {
    "duration": 312,
    "start_time": "2021-07-04T13:06:00.010Z"
   },
   {
    "duration": 2,
    "start_time": "2021-07-04T13:06:00.325Z"
   },
   {
    "duration": 634,
    "start_time": "2021-07-04T13:06:00.329Z"
   },
   {
    "duration": 10979,
    "start_time": "2021-07-04T13:06:00.965Z"
   },
   {
    "duration": 52,
    "start_time": "2021-07-04T13:06:11.946Z"
   },
   {
    "duration": 499,
    "start_time": "2021-07-04T13:06:12.000Z"
   },
   {
    "duration": 616,
    "start_time": "2021-07-04T13:06:12.501Z"
   },
   {
    "duration": 12144,
    "start_time": "2021-07-04T13:06:13.118Z"
   },
   {
    "duration": 5,
    "start_time": "2021-07-04T13:06:25.264Z"
   },
   {
    "duration": 121,
    "start_time": "2021-07-04T13:06:25.271Z"
   },
   {
    "duration": 587,
    "start_time": "2021-07-04T13:06:25.394Z"
   },
   {
    "duration": 21043,
    "start_time": "2021-07-04T13:06:25.990Z"
   },
   {
    "duration": 5,
    "start_time": "2021-07-04T13:06:47.035Z"
   },
   {
    "duration": 60,
    "start_time": "2021-07-04T13:06:47.041Z"
   },
   {
    "duration": 323,
    "start_time": "2021-07-04T13:06:47.191Z"
   },
   {
    "duration": 3350,
    "start_time": "2021-07-04T13:06:47.516Z"
   },
   {
    "duration": 189,
    "start_time": "2021-07-04T13:06:50.868Z"
   },
   {
    "duration": 219,
    "start_time": "2021-07-04T13:06:51.059Z"
   },
   {
    "duration": 22,
    "start_time": "2021-07-04T13:06:51.280Z"
   },
   {
    "duration": 150,
    "start_time": "2021-07-04T13:06:51.304Z"
   },
   {
    "duration": 310,
    "start_time": "2021-07-04T13:15:21.724Z"
   },
   {
    "duration": 3,
    "start_time": "2021-07-04T13:15:49.435Z"
   },
   {
    "duration": 3,
    "start_time": "2021-07-04T13:15:51.983Z"
   },
   {
    "duration": 199,
    "start_time": "2021-07-04T13:15:56.409Z"
   },
   {
    "duration": 219,
    "start_time": "2021-07-04T13:16:14.451Z"
   },
   {
    "duration": 1172,
    "start_time": "2021-07-04T13:18:26.370Z"
   },
   {
    "duration": 3,
    "start_time": "2021-07-04T13:18:27.544Z"
   },
   {
    "duration": 46,
    "start_time": "2021-07-04T13:18:27.549Z"
   },
   {
    "duration": 9,
    "start_time": "2021-07-04T13:18:27.597Z"
   },
   {
    "duration": 17,
    "start_time": "2021-07-04T13:18:27.607Z"
   },
   {
    "duration": 6,
    "start_time": "2021-07-04T13:18:27.625Z"
   },
   {
    "duration": 9,
    "start_time": "2021-07-04T13:18:27.632Z"
   },
   {
    "duration": 8,
    "start_time": "2021-07-04T13:18:27.643Z"
   },
   {
    "duration": 204,
    "start_time": "2021-07-04T13:18:27.653Z"
   },
   {
    "duration": 14,
    "start_time": "2021-07-04T13:18:27.859Z"
   },
   {
    "duration": 140,
    "start_time": "2021-07-04T13:18:27.875Z"
   },
   {
    "duration": 6,
    "start_time": "2021-07-04T13:18:28.017Z"
   },
   {
    "duration": 8,
    "start_time": "2021-07-04T13:18:28.024Z"
   },
   {
    "duration": 9,
    "start_time": "2021-07-04T13:18:28.033Z"
   },
   {
    "duration": 8,
    "start_time": "2021-07-04T13:18:28.044Z"
   },
   {
    "duration": 8,
    "start_time": "2021-07-04T13:18:28.053Z"
   },
   {
    "duration": 9,
    "start_time": "2021-07-04T13:18:28.063Z"
   },
   {
    "duration": 120,
    "start_time": "2021-07-04T13:18:28.073Z"
   },
   {
    "duration": 12,
    "start_time": "2021-07-04T13:18:28.194Z"
   },
   {
    "duration": 184,
    "start_time": "2021-07-04T13:18:28.207Z"
   },
   {
    "duration": 20,
    "start_time": "2021-07-04T13:18:28.393Z"
   },
   {
    "duration": 304,
    "start_time": "2021-07-04T13:18:28.415Z"
   },
   {
    "duration": 2,
    "start_time": "2021-07-04T13:18:28.722Z"
   },
   {
    "duration": 619,
    "start_time": "2021-07-04T13:18:28.726Z"
   },
   {
    "duration": 10241,
    "start_time": "2021-07-04T13:18:29.347Z"
   },
   {
    "duration": 104,
    "start_time": "2021-07-04T13:18:39.592Z"
   },
   {
    "duration": 397,
    "start_time": "2021-07-04T13:18:39.698Z"
   },
   {
    "duration": 618,
    "start_time": "2021-07-04T13:18:40.097Z"
   },
   {
    "duration": 10959,
    "start_time": "2021-07-04T13:18:40.716Z"
   },
   {
    "duration": 3,
    "start_time": "2021-07-04T13:18:51.677Z"
   },
   {
    "duration": 209,
    "start_time": "2021-07-04T13:18:51.682Z"
   },
   {
    "duration": 548,
    "start_time": "2021-07-04T13:18:51.893Z"
   },
   {
    "duration": 21653,
    "start_time": "2021-07-04T13:18:52.443Z"
   },
   {
    "duration": 4,
    "start_time": "2021-07-04T13:19:14.097Z"
   },
   {
    "duration": 93,
    "start_time": "2021-07-04T13:19:14.102Z"
   },
   {
    "duration": 327,
    "start_time": "2021-07-04T13:19:14.197Z"
   },
   {
    "duration": 3303,
    "start_time": "2021-07-04T13:19:14.526Z"
   },
   {
    "duration": 291,
    "start_time": "2021-07-04T13:19:17.830Z"
   },
   {
    "duration": 219,
    "start_time": "2021-07-04T13:19:18.122Z"
   },
   {
    "duration": 14,
    "start_time": "2021-07-04T13:19:18.342Z"
   },
   {
    "duration": 144,
    "start_time": "2021-07-04T13:19:18.357Z"
   },
   {
    "duration": 1050,
    "start_time": "2021-07-04T14:19:32.559Z"
   },
   {
    "duration": 2,
    "start_time": "2021-07-04T14:19:33.611Z"
   },
   {
    "duration": 32,
    "start_time": "2021-07-04T14:19:33.615Z"
   },
   {
    "duration": 7,
    "start_time": "2021-07-04T14:19:33.649Z"
   },
   {
    "duration": 15,
    "start_time": "2021-07-04T14:19:33.657Z"
   },
   {
    "duration": 5,
    "start_time": "2021-07-04T14:19:33.673Z"
   },
   {
    "duration": 13,
    "start_time": "2021-07-04T14:19:33.679Z"
   },
   {
    "duration": 6,
    "start_time": "2021-07-04T14:19:33.694Z"
   },
   {
    "duration": 165,
    "start_time": "2021-07-04T14:19:33.701Z"
   },
   {
    "duration": 17,
    "start_time": "2021-07-04T14:19:33.867Z"
   },
   {
    "duration": 132,
    "start_time": "2021-07-04T14:19:33.885Z"
   },
   {
    "duration": 6,
    "start_time": "2021-07-04T14:19:34.019Z"
   },
   {
    "duration": 8,
    "start_time": "2021-07-04T14:19:34.026Z"
   },
   {
    "duration": 6,
    "start_time": "2021-07-04T14:19:34.036Z"
   },
   {
    "duration": 7,
    "start_time": "2021-07-04T14:19:34.044Z"
   },
   {
    "duration": 9,
    "start_time": "2021-07-04T14:19:34.052Z"
   },
   {
    "duration": 6,
    "start_time": "2021-07-04T14:19:34.062Z"
   },
   {
    "duration": 129,
    "start_time": "2021-07-04T14:19:34.069Z"
   },
   {
    "duration": 12,
    "start_time": "2021-07-04T14:19:34.200Z"
   },
   {
    "duration": 83,
    "start_time": "2021-07-04T14:19:34.213Z"
   },
   {
    "duration": 111,
    "start_time": "2021-07-04T14:19:34.298Z"
   },
   {
    "duration": 311,
    "start_time": "2021-07-04T14:19:34.410Z"
   },
   {
    "duration": 2,
    "start_time": "2021-07-04T14:19:34.724Z"
   },
   {
    "duration": 625,
    "start_time": "2021-07-04T14:19:34.728Z"
   },
   {
    "duration": 10245,
    "start_time": "2021-07-04T14:19:35.355Z"
   },
   {
    "duration": 91,
    "start_time": "2021-07-04T14:19:45.602Z"
   },
   {
    "duration": 411,
    "start_time": "2021-07-04T14:19:45.695Z"
   },
   {
    "duration": 626,
    "start_time": "2021-07-04T14:19:46.107Z"
   },
   {
    "duration": 11558,
    "start_time": "2021-07-04T14:19:46.735Z"
   },
   {
    "duration": 4,
    "start_time": "2021-07-04T14:19:58.294Z"
   },
   {
    "duration": 195,
    "start_time": "2021-07-04T14:19:58.299Z"
   },
   {
    "duration": 555,
    "start_time": "2021-07-04T14:19:58.496Z"
   },
   {
    "duration": 21188,
    "start_time": "2021-07-04T14:19:59.052Z"
   },
   {
    "duration": 3,
    "start_time": "2021-07-04T14:20:20.242Z"
   },
   {
    "duration": 55,
    "start_time": "2021-07-04T14:20:20.246Z"
   },
   {
    "duration": 328,
    "start_time": "2021-07-04T14:20:20.392Z"
   },
   {
    "duration": 3353,
    "start_time": "2021-07-04T14:20:20.722Z"
   },
   {
    "duration": 190,
    "start_time": "2021-07-04T14:20:24.077Z"
   },
   {
    "duration": 15,
    "start_time": "2021-07-04T14:20:24.269Z"
   },
   {
    "duration": 144,
    "start_time": "2021-07-04T14:20:24.291Z"
   },
   {
    "duration": 1153,
    "start_time": "2021-07-04T14:36:05.656Z"
   },
   {
    "duration": 2,
    "start_time": "2021-07-04T14:36:06.811Z"
   },
   {
    "duration": 32,
    "start_time": "2021-07-04T14:36:06.815Z"
   },
   {
    "duration": 7,
    "start_time": "2021-07-04T14:36:06.848Z"
   },
   {
    "duration": 13,
    "start_time": "2021-07-04T14:36:06.857Z"
   },
   {
    "duration": 5,
    "start_time": "2021-07-04T14:36:06.872Z"
   },
   {
    "duration": 15,
    "start_time": "2021-07-04T14:36:06.878Z"
   },
   {
    "duration": 8,
    "start_time": "2021-07-04T14:36:06.896Z"
   },
   {
    "duration": 163,
    "start_time": "2021-07-04T14:36:06.905Z"
   },
   {
    "duration": 22,
    "start_time": "2021-07-04T14:36:07.070Z"
   },
   {
    "duration": 129,
    "start_time": "2021-07-04T14:36:07.094Z"
   },
   {
    "duration": 5,
    "start_time": "2021-07-04T14:36:07.225Z"
   },
   {
    "duration": 7,
    "start_time": "2021-07-04T14:36:07.232Z"
   },
   {
    "duration": 6,
    "start_time": "2021-07-04T14:36:07.241Z"
   },
   {
    "duration": 6,
    "start_time": "2021-07-04T14:36:07.248Z"
   },
   {
    "duration": 6,
    "start_time": "2021-07-04T14:36:07.255Z"
   },
   {
    "duration": 8,
    "start_time": "2021-07-04T14:36:07.263Z"
   },
   {
    "duration": 125,
    "start_time": "2021-07-04T14:36:07.272Z"
   },
   {
    "duration": 12,
    "start_time": "2021-07-04T14:36:07.398Z"
   },
   {
    "duration": 86,
    "start_time": "2021-07-04T14:36:07.411Z"
   },
   {
    "duration": 108,
    "start_time": "2021-07-04T14:36:07.499Z"
   },
   {
    "duration": 304,
    "start_time": "2021-07-04T14:36:07.609Z"
   },
   {
    "duration": 2,
    "start_time": "2021-07-04T14:36:07.916Z"
   },
   {
    "duration": 613,
    "start_time": "2021-07-04T14:36:07.920Z"
   },
   {
    "duration": 10207,
    "start_time": "2021-07-04T14:36:08.535Z"
   },
   {
    "duration": 58,
    "start_time": "2021-07-04T14:36:18.743Z"
   },
   {
    "duration": 388,
    "start_time": "2021-07-04T14:36:18.892Z"
   },
   {
    "duration": 622,
    "start_time": "2021-07-04T14:36:19.281Z"
   },
   {
    "duration": 11004,
    "start_time": "2021-07-04T14:36:19.904Z"
   },
   {
    "duration": 3,
    "start_time": "2021-07-04T14:36:30.910Z"
   },
   {
    "duration": 80,
    "start_time": "2021-07-04T14:36:30.915Z"
   },
   {
    "duration": 676,
    "start_time": "2021-07-04T14:36:30.997Z"
   },
   {
    "duration": 21022,
    "start_time": "2021-07-04T14:36:31.675Z"
   },
   {
    "duration": 6,
    "start_time": "2021-07-04T14:36:52.699Z"
   },
   {
    "duration": 90,
    "start_time": "2021-07-04T14:36:52.706Z"
   },
   {
    "duration": 355,
    "start_time": "2021-07-04T14:36:52.798Z"
   },
   {
    "duration": 3446,
    "start_time": "2021-07-04T14:36:53.154Z"
   },
   {
    "duration": 190,
    "start_time": "2021-07-04T14:36:56.601Z"
   },
   {
    "duration": 14,
    "start_time": "2021-07-04T14:36:56.793Z"
   },
   {
    "duration": 150,
    "start_time": "2021-07-04T14:36:56.808Z"
   },
   {
    "duration": 1103,
    "start_time": "2021-07-04T14:44:09.871Z"
   },
   {
    "duration": 3,
    "start_time": "2021-07-04T14:44:10.976Z"
   },
   {
    "duration": 38,
    "start_time": "2021-07-04T14:44:10.981Z"
   },
   {
    "duration": 9,
    "start_time": "2021-07-04T14:44:11.021Z"
   },
   {
    "duration": 14,
    "start_time": "2021-07-04T14:44:11.032Z"
   },
   {
    "duration": 7,
    "start_time": "2021-07-04T14:44:11.047Z"
   },
   {
    "duration": 10,
    "start_time": "2021-07-04T14:44:11.055Z"
   },
   {
    "duration": 7,
    "start_time": "2021-07-04T14:44:11.067Z"
   },
   {
    "duration": 173,
    "start_time": "2021-07-04T14:44:11.076Z"
   },
   {
    "duration": 16,
    "start_time": "2021-07-04T14:44:11.250Z"
   },
   {
    "duration": 142,
    "start_time": "2021-07-04T14:44:11.268Z"
   },
   {
    "duration": 7,
    "start_time": "2021-07-04T14:44:11.412Z"
   },
   {
    "duration": 7,
    "start_time": "2021-07-04T14:44:11.421Z"
   },
   {
    "duration": 8,
    "start_time": "2021-07-04T14:44:11.429Z"
   },
   {
    "duration": 6,
    "start_time": "2021-07-04T14:44:11.438Z"
   },
   {
    "duration": 6,
    "start_time": "2021-07-04T14:44:11.446Z"
   },
   {
    "duration": 10,
    "start_time": "2021-07-04T14:44:11.453Z"
   },
   {
    "duration": 134,
    "start_time": "2021-07-04T14:44:11.465Z"
   },
   {
    "duration": 13,
    "start_time": "2021-07-04T14:44:11.601Z"
   },
   {
    "duration": 177,
    "start_time": "2021-07-04T14:44:11.615Z"
   },
   {
    "duration": 22,
    "start_time": "2021-07-04T14:44:11.794Z"
   },
   {
    "duration": 316,
    "start_time": "2021-07-04T14:44:11.817Z"
   },
   {
    "duration": 3,
    "start_time": "2021-07-04T14:44:12.136Z"
   },
   {
    "duration": 623,
    "start_time": "2021-07-04T14:44:12.141Z"
   },
   {
    "duration": 10212,
    "start_time": "2021-07-04T14:44:12.766Z"
   },
   {
    "duration": 115,
    "start_time": "2021-07-04T14:44:22.980Z"
   },
   {
    "duration": 386,
    "start_time": "2021-07-04T14:44:23.097Z"
   },
   {
    "duration": 607,
    "start_time": "2021-07-04T14:44:23.485Z"
   },
   {
    "duration": 11192,
    "start_time": "2021-07-04T14:44:24.093Z"
   },
   {
    "duration": 3,
    "start_time": "2021-07-04T14:44:35.291Z"
   },
   {
    "duration": 108,
    "start_time": "2021-07-04T14:44:35.295Z"
   },
   {
    "duration": 583,
    "start_time": "2021-07-04T14:44:35.493Z"
   },
   {
    "duration": 22208,
    "start_time": "2021-07-04T14:44:36.077Z"
   },
   {
    "duration": 3,
    "start_time": "2021-07-04T14:44:58.291Z"
   },
   {
    "duration": 97,
    "start_time": "2021-07-04T14:44:58.296Z"
   },
   {
    "duration": 319,
    "start_time": "2021-07-04T14:44:58.396Z"
   },
   {
    "duration": 3354,
    "start_time": "2021-07-04T14:44:58.716Z"
   },
   {
    "duration": 197,
    "start_time": "2021-07-04T14:45:02.072Z"
   },
   {
    "duration": 24,
    "start_time": "2021-07-04T14:45:02.271Z"
   },
   {
    "duration": 159,
    "start_time": "2021-07-04T14:45:02.297Z"
   },
   {
    "duration": 1109,
    "start_time": "2021-07-04T14:46:43.881Z"
   },
   {
    "duration": 2,
    "start_time": "2021-07-04T14:46:44.992Z"
   },
   {
    "duration": 33,
    "start_time": "2021-07-04T14:46:44.996Z"
   },
   {
    "duration": 7,
    "start_time": "2021-07-04T14:46:45.031Z"
   },
   {
    "duration": 14,
    "start_time": "2021-07-04T14:46:45.040Z"
   },
   {
    "duration": 6,
    "start_time": "2021-07-04T14:46:45.055Z"
   },
   {
    "duration": 10,
    "start_time": "2021-07-04T14:46:45.062Z"
   },
   {
    "duration": 21,
    "start_time": "2021-07-04T14:46:45.074Z"
   },
   {
    "duration": 167,
    "start_time": "2021-07-04T14:46:45.097Z"
   },
   {
    "duration": 15,
    "start_time": "2021-07-04T14:46:45.266Z"
   },
   {
    "duration": 203,
    "start_time": "2021-07-04T14:46:45.292Z"
   },
   {
    "duration": 8,
    "start_time": "2021-07-04T14:46:45.497Z"
   },
   {
    "duration": 8,
    "start_time": "2021-07-04T14:46:45.506Z"
   },
   {
    "duration": 7,
    "start_time": "2021-07-04T14:46:45.516Z"
   },
   {
    "duration": 7,
    "start_time": "2021-07-04T14:46:45.525Z"
   },
   {
    "duration": 7,
    "start_time": "2021-07-04T14:46:45.534Z"
   },
   {
    "duration": 9,
    "start_time": "2021-07-04T14:46:45.543Z"
   },
   {
    "duration": 198,
    "start_time": "2021-07-04T14:46:45.554Z"
   },
   {
    "duration": 18,
    "start_time": "2021-07-04T14:46:45.754Z"
   },
   {
    "duration": 129,
    "start_time": "2021-07-04T14:46:45.774Z"
   },
   {
    "duration": 105,
    "start_time": "2021-07-04T14:46:45.905Z"
   },
   {
    "duration": 316,
    "start_time": "2021-07-04T14:46:46.012Z"
   },
   {
    "duration": 2,
    "start_time": "2021-07-04T14:46:46.331Z"
   },
   {
    "duration": 714,
    "start_time": "2021-07-04T14:46:46.335Z"
   },
   {
    "duration": 10460,
    "start_time": "2021-07-04T14:46:47.050Z"
   },
   {
    "duration": 82,
    "start_time": "2021-07-04T14:46:57.512Z"
   },
   {
    "duration": 395,
    "start_time": "2021-07-04T14:46:57.596Z"
   },
   {
    "duration": 601,
    "start_time": "2021-07-04T14:46:57.993Z"
   },
   {
    "duration": 11452,
    "start_time": "2021-07-04T14:46:58.595Z"
   },
   {
    "duration": 4,
    "start_time": "2021-07-04T14:47:10.048Z"
   },
   {
    "duration": 140,
    "start_time": "2021-07-04T14:47:10.053Z"
   },
   {
    "duration": 571,
    "start_time": "2021-07-04T14:47:10.196Z"
   },
   {
    "duration": 20868,
    "start_time": "2021-07-04T14:47:10.769Z"
   },
   {
    "duration": 5,
    "start_time": "2021-07-04T14:47:31.639Z"
   },
   {
    "duration": 54,
    "start_time": "2021-07-04T14:47:31.645Z"
   },
   {
    "duration": 416,
    "start_time": "2021-07-04T14:47:31.701Z"
   },
   {
    "duration": 3272,
    "start_time": "2021-07-04T14:47:32.119Z"
   },
   {
    "duration": 190,
    "start_time": "2021-07-04T14:47:35.393Z"
   },
   {
    "duration": 19,
    "start_time": "2021-07-04T14:47:35.584Z"
   },
   {
    "duration": 148,
    "start_time": "2021-07-04T14:47:35.604Z"
   },
   {
    "duration": 1055,
    "start_time": "2021-07-04T14:48:32.951Z"
   },
   {
    "duration": 3,
    "start_time": "2021-07-04T14:48:34.007Z"
   },
   {
    "duration": 34,
    "start_time": "2021-07-04T14:48:34.011Z"
   },
   {
    "duration": 7,
    "start_time": "2021-07-04T14:48:34.046Z"
   },
   {
    "duration": 19,
    "start_time": "2021-07-04T14:48:34.055Z"
   },
   {
    "duration": 12,
    "start_time": "2021-07-04T14:48:34.076Z"
   },
   {
    "duration": 18,
    "start_time": "2021-07-04T14:48:34.089Z"
   },
   {
    "duration": 18,
    "start_time": "2021-07-04T14:48:34.109Z"
   },
   {
    "duration": 172,
    "start_time": "2021-07-04T14:48:34.129Z"
   },
   {
    "duration": 17,
    "start_time": "2021-07-04T14:48:34.302Z"
   },
   {
    "duration": 134,
    "start_time": "2021-07-04T14:48:34.320Z"
   },
   {
    "duration": 6,
    "start_time": "2021-07-04T14:48:34.455Z"
   },
   {
    "duration": 20,
    "start_time": "2021-07-04T14:48:34.462Z"
   },
   {
    "duration": 21,
    "start_time": "2021-07-04T14:48:34.483Z"
   },
   {
    "duration": 17,
    "start_time": "2021-07-04T14:48:34.505Z"
   },
   {
    "duration": 19,
    "start_time": "2021-07-04T14:48:34.524Z"
   },
   {
    "duration": 31,
    "start_time": "2021-07-04T14:48:34.545Z"
   },
   {
    "duration": 140,
    "start_time": "2021-07-04T14:48:34.577Z"
   },
   {
    "duration": 12,
    "start_time": "2021-07-04T14:48:34.718Z"
   },
   {
    "duration": 161,
    "start_time": "2021-07-04T14:48:34.731Z"
   },
   {
    "duration": 112,
    "start_time": "2021-07-04T14:48:34.894Z"
   },
   {
    "duration": 297,
    "start_time": "2021-07-04T14:48:35.008Z"
   },
   {
    "duration": 2,
    "start_time": "2021-07-04T14:48:35.308Z"
   },
   {
    "duration": 608,
    "start_time": "2021-07-04T14:48:35.312Z"
   },
   {
    "duration": 10251,
    "start_time": "2021-07-04T14:48:35.922Z"
   },
   {
    "duration": 119,
    "start_time": "2021-07-04T14:48:46.175Z"
   },
   {
    "duration": 398,
    "start_time": "2021-07-04T14:48:46.297Z"
   },
   {
    "duration": 725,
    "start_time": "2021-07-04T14:48:46.697Z"
   },
   {
    "duration": 12099,
    "start_time": "2021-07-04T14:48:47.423Z"
   },
   {
    "duration": 4,
    "start_time": "2021-07-04T14:48:59.524Z"
   },
   {
    "duration": 78,
    "start_time": "2021-07-04T14:48:59.529Z"
   },
   {
    "duration": 668,
    "start_time": "2021-07-04T14:48:59.609Z"
   },
   {
    "duration": 20978,
    "start_time": "2021-07-04T14:49:00.279Z"
   },
   {
    "duration": 4,
    "start_time": "2021-07-04T14:49:21.259Z"
   },
   {
    "duration": 54,
    "start_time": "2021-07-04T14:49:21.265Z"
   },
   {
    "duration": 393,
    "start_time": "2021-07-04T14:49:21.321Z"
   },
   {
    "duration": 3385,
    "start_time": "2021-07-04T14:49:21.716Z"
   },
   {
    "duration": 191,
    "start_time": "2021-07-04T14:49:25.103Z"
   },
   {
    "duration": 14,
    "start_time": "2021-07-04T14:49:25.295Z"
   },
   {
    "duration": 153,
    "start_time": "2021-07-04T14:49:25.311Z"
   },
   {
    "duration": 1051,
    "start_time": "2021-07-04T14:51:20.308Z"
   },
   {
    "duration": 2,
    "start_time": "2021-07-04T14:51:21.361Z"
   },
   {
    "duration": 32,
    "start_time": "2021-07-04T14:51:21.365Z"
   },
   {
    "duration": 7,
    "start_time": "2021-07-04T14:51:21.399Z"
   },
   {
    "duration": 13,
    "start_time": "2021-07-04T14:51:21.407Z"
   },
   {
    "duration": 6,
    "start_time": "2021-07-04T14:51:21.422Z"
   },
   {
    "duration": 8,
    "start_time": "2021-07-04T14:51:21.429Z"
   },
   {
    "duration": 7,
    "start_time": "2021-07-04T14:51:21.439Z"
   },
   {
    "duration": 169,
    "start_time": "2021-07-04T14:51:21.447Z"
   },
   {
    "duration": 17,
    "start_time": "2021-07-04T14:51:21.618Z"
   },
   {
    "duration": 130,
    "start_time": "2021-07-04T14:51:21.637Z"
   },
   {
    "duration": 6,
    "start_time": "2021-07-04T14:51:21.769Z"
   },
   {
    "duration": 16,
    "start_time": "2021-07-04T14:51:21.776Z"
   },
   {
    "duration": 2,
    "start_time": "2021-07-04T14:51:21.793Z"
   },
   {
    "duration": 7,
    "start_time": "2021-07-04T14:51:21.797Z"
   },
   {
    "duration": 7,
    "start_time": "2021-07-04T14:51:21.805Z"
   },
   {
    "duration": 11,
    "start_time": "2021-07-04T14:51:21.814Z"
   },
   {
    "duration": 117,
    "start_time": "2021-07-04T14:51:21.826Z"
   },
   {
    "duration": 11,
    "start_time": "2021-07-04T14:51:21.945Z"
   },
   {
    "duration": 56,
    "start_time": "2021-07-04T14:51:21.958Z"
   },
   {
    "duration": 109,
    "start_time": "2021-07-04T14:51:22.093Z"
   },
   {
    "duration": 338,
    "start_time": "2021-07-04T14:51:22.204Z"
   },
   {
    "duration": 3,
    "start_time": "2021-07-04T14:51:22.545Z"
   },
   {
    "duration": 601,
    "start_time": "2021-07-04T14:51:22.550Z"
   },
   {
    "duration": 10206,
    "start_time": "2021-07-04T14:51:23.153Z"
   },
   {
    "duration": 53,
    "start_time": "2021-07-04T14:51:33.361Z"
   },
   {
    "duration": 389,
    "start_time": "2021-07-04T14:51:33.492Z"
   },
   {
    "duration": 608,
    "start_time": "2021-07-04T14:51:33.883Z"
   },
   {
    "duration": 10927,
    "start_time": "2021-07-04T14:51:34.493Z"
   },
   {
    "duration": 3,
    "start_time": "2021-07-04T14:51:45.422Z"
   },
   {
    "duration": 75,
    "start_time": "2021-07-04T14:51:45.426Z"
   },
   {
    "duration": 602,
    "start_time": "2021-07-04T14:51:45.592Z"
   },
   {
    "duration": 21468,
    "start_time": "2021-07-04T14:51:46.195Z"
   },
   {
    "duration": 5,
    "start_time": "2021-07-04T14:52:07.665Z"
   },
   {
    "duration": 129,
    "start_time": "2021-07-04T14:52:07.672Z"
   },
   {
    "duration": 337,
    "start_time": "2021-07-04T14:52:07.803Z"
   },
   {
    "duration": 3713,
    "start_time": "2021-07-04T14:52:08.142Z"
   },
   {
    "duration": 199,
    "start_time": "2021-07-04T14:52:11.856Z"
   },
   {
    "duration": 13,
    "start_time": "2021-07-04T14:52:12.057Z"
   },
   {
    "duration": 165,
    "start_time": "2021-07-04T14:52:12.072Z"
   },
   {
    "duration": 13033,
    "start_time": "2021-07-04T15:01:13.987Z"
   },
   {
    "duration": 10060,
    "start_time": "2021-07-04T15:03:16.178Z"
   },
   {
    "duration": 20117,
    "start_time": "2021-07-04T15:04:43.432Z"
   },
   {
    "duration": 5620,
    "start_time": "2021-07-04T15:05:04.258Z"
   },
   {
    "duration": 700,
    "start_time": "2021-07-04T15:05:23.508Z"
   },
   {
    "duration": 843,
    "start_time": "2021-07-04T15:08:27.793Z"
   },
   {
    "duration": 764,
    "start_time": "2021-07-04T15:08:57.654Z"
   },
   {
    "duration": 1128,
    "start_time": "2021-07-04T15:09:23.977Z"
   },
   {
    "duration": 2,
    "start_time": "2021-07-04T15:09:25.107Z"
   },
   {
    "duration": 32,
    "start_time": "2021-07-04T15:09:25.111Z"
   },
   {
    "duration": 8,
    "start_time": "2021-07-04T15:09:25.144Z"
   },
   {
    "duration": 12,
    "start_time": "2021-07-04T15:09:25.153Z"
   },
   {
    "duration": 9,
    "start_time": "2021-07-04T15:09:25.167Z"
   },
   {
    "duration": 10,
    "start_time": "2021-07-04T15:09:25.177Z"
   },
   {
    "duration": 8,
    "start_time": "2021-07-04T15:09:25.191Z"
   },
   {
    "duration": 156,
    "start_time": "2021-07-04T15:09:25.201Z"
   },
   {
    "duration": 18,
    "start_time": "2021-07-04T15:09:25.359Z"
   },
   {
    "duration": 131,
    "start_time": "2021-07-04T15:09:25.378Z"
   },
   {
    "duration": 7,
    "start_time": "2021-07-04T15:09:25.511Z"
   },
   {
    "duration": 8,
    "start_time": "2021-07-04T15:09:25.519Z"
   },
   {
    "duration": 8,
    "start_time": "2021-07-04T15:09:25.528Z"
   },
   {
    "duration": 6,
    "start_time": "2021-07-04T15:09:25.538Z"
   },
   {
    "duration": 10,
    "start_time": "2021-07-04T15:09:25.546Z"
   },
   {
    "duration": 7,
    "start_time": "2021-07-04T15:09:25.557Z"
   },
   {
    "duration": 126,
    "start_time": "2021-07-04T15:09:25.565Z"
   },
   {
    "duration": 12,
    "start_time": "2021-07-04T15:09:25.692Z"
   },
   {
    "duration": 91,
    "start_time": "2021-07-04T15:09:25.705Z"
   },
   {
    "duration": 111,
    "start_time": "2021-07-04T15:09:25.798Z"
   },
   {
    "duration": 299,
    "start_time": "2021-07-04T15:09:25.911Z"
   },
   {
    "duration": 3,
    "start_time": "2021-07-04T15:09:26.213Z"
   },
   {
    "duration": 632,
    "start_time": "2021-07-04T15:09:26.218Z"
   },
   {
    "duration": 11980,
    "start_time": "2021-07-04T15:09:26.851Z"
   },
   {
    "duration": 69,
    "start_time": "2021-07-04T15:09:38.833Z"
   },
   {
    "duration": 460,
    "start_time": "2021-07-04T15:09:38.905Z"
   },
   {
    "duration": 606,
    "start_time": "2021-07-04T15:09:39.367Z"
   },
   {
    "duration": 10065,
    "start_time": "2021-07-04T15:09:39.975Z"
   },
   {
    "duration": 3,
    "start_time": "2021-07-04T15:09:50.042Z"
   },
   {
    "duration": 147,
    "start_time": "2021-07-04T15:09:50.047Z"
   },
   {
    "duration": 614,
    "start_time": "2021-07-04T15:09:50.196Z"
   },
   {
    "duration": 19787,
    "start_time": "2021-07-04T15:09:50.812Z"
   },
   {
    "duration": 3,
    "start_time": "2021-07-04T15:10:10.601Z"
   },
   {
    "duration": 85,
    "start_time": "2021-07-04T15:10:10.606Z"
   },
   {
    "duration": 330,
    "start_time": "2021-07-04T15:10:10.694Z"
   },
   {
    "duration": 5449,
    "start_time": "2021-07-04T15:10:11.026Z"
   },
   {
    "duration": 609,
    "start_time": "2021-07-04T15:10:16.477Z"
   },
   {
    "duration": 749,
    "start_time": "2021-07-04T15:10:17.088Z"
   },
   {
    "duration": 37,
    "start_time": "2021-07-04T15:10:17.839Z"
   },
   {
    "duration": 152,
    "start_time": "2021-07-04T15:10:17.877Z"
   },
   {
    "duration": 2,
    "start_time": "2021-07-04T15:11:07.169Z"
   },
   {
    "duration": 844,
    "start_time": "2021-07-04T15:11:19.082Z"
   },
   {
    "duration": 1127,
    "start_time": "2021-07-04T15:11:40.681Z"
   },
   {
    "duration": 2,
    "start_time": "2021-07-04T15:11:41.810Z"
   },
   {
    "duration": 35,
    "start_time": "2021-07-04T15:11:41.814Z"
   },
   {
    "duration": 7,
    "start_time": "2021-07-04T15:11:41.851Z"
   },
   {
    "duration": 13,
    "start_time": "2021-07-04T15:11:41.859Z"
   },
   {
    "duration": 8,
    "start_time": "2021-07-04T15:11:41.873Z"
   },
   {
    "duration": 9,
    "start_time": "2021-07-04T15:11:41.883Z"
   },
   {
    "duration": 7,
    "start_time": "2021-07-04T15:11:41.894Z"
   },
   {
    "duration": 163,
    "start_time": "2021-07-04T15:11:41.903Z"
   },
   {
    "duration": 25,
    "start_time": "2021-07-04T15:11:42.068Z"
   },
   {
    "duration": 132,
    "start_time": "2021-07-04T15:11:42.094Z"
   },
   {
    "duration": 6,
    "start_time": "2021-07-04T15:11:42.228Z"
   },
   {
    "duration": 7,
    "start_time": "2021-07-04T15:11:42.235Z"
   },
   {
    "duration": 9,
    "start_time": "2021-07-04T15:11:42.243Z"
   },
   {
    "duration": 9,
    "start_time": "2021-07-04T15:11:42.253Z"
   },
   {
    "duration": 6,
    "start_time": "2021-07-04T15:11:42.263Z"
   },
   {
    "duration": 6,
    "start_time": "2021-07-04T15:11:42.271Z"
   },
   {
    "duration": 125,
    "start_time": "2021-07-04T15:11:42.278Z"
   },
   {
    "duration": 12,
    "start_time": "2021-07-04T15:11:42.405Z"
   },
   {
    "duration": 82,
    "start_time": "2021-07-04T15:11:42.419Z"
   },
   {
    "duration": 26,
    "start_time": "2021-07-04T15:11:42.591Z"
   },
   {
    "duration": 312,
    "start_time": "2021-07-04T15:11:42.619Z"
   },
   {
    "duration": 2,
    "start_time": "2021-07-04T15:11:42.934Z"
   },
   {
    "duration": 620,
    "start_time": "2021-07-04T15:11:42.938Z"
   },
   {
    "duration": 12185,
    "start_time": "2021-07-04T15:11:43.559Z"
   },
   {
    "duration": 55,
    "start_time": "2021-07-04T15:11:55.746Z"
   },
   {
    "duration": 399,
    "start_time": "2021-07-04T15:11:55.892Z"
   },
   {
    "duration": 601,
    "start_time": "2021-07-04T15:11:56.293Z"
   },
   {
    "duration": 10081,
    "start_time": "2021-07-04T15:11:56.896Z"
   },
   {
    "duration": 4,
    "start_time": "2021-07-04T15:12:06.979Z"
   },
   {
    "duration": 200,
    "start_time": "2021-07-04T15:12:06.991Z"
   },
   {
    "duration": 500,
    "start_time": "2021-07-04T15:12:07.193Z"
   },
   {
    "duration": 19329,
    "start_time": "2021-07-04T15:12:07.694Z"
   },
   {
    "duration": 4,
    "start_time": "2021-07-04T15:12:27.025Z"
   },
   {
    "duration": 67,
    "start_time": "2021-07-04T15:12:27.030Z"
   },
   {
    "duration": 408,
    "start_time": "2021-07-04T15:12:27.099Z"
   },
   {
    "duration": 5777,
    "start_time": "2021-07-04T15:12:27.508Z"
   },
   {
    "duration": 601,
    "start_time": "2021-07-04T15:12:33.290Z"
   },
   {
    "duration": 748,
    "start_time": "2021-07-04T15:12:33.893Z"
   },
   {
    "duration": 36,
    "start_time": "2021-07-04T15:12:34.642Z"
   },
   {
    "duration": 159,
    "start_time": "2021-07-04T15:12:34.679Z"
   },
   {
    "duration": 88,
    "start_time": "2021-07-04T15:16:01.962Z"
   },
   {
    "duration": 573,
    "start_time": "2021-07-04T15:17:48.055Z"
   },
   {
    "duration": 826,
    "start_time": "2021-07-04T15:18:00.807Z"
   },
   {
    "duration": 1092,
    "start_time": "2021-07-05T04:17:25.653Z"
   },
   {
    "duration": 2,
    "start_time": "2021-07-05T04:17:26.747Z"
   },
   {
    "duration": 37,
    "start_time": "2021-07-05T04:17:26.751Z"
   },
   {
    "duration": 7,
    "start_time": "2021-07-05T04:17:26.789Z"
   },
   {
    "duration": 14,
    "start_time": "2021-07-05T04:17:26.798Z"
   },
   {
    "duration": 12,
    "start_time": "2021-07-05T04:17:26.813Z"
   },
   {
    "duration": 10,
    "start_time": "2021-07-05T04:17:26.827Z"
   },
   {
    "duration": 7,
    "start_time": "2021-07-05T04:17:26.839Z"
   },
   {
    "duration": 155,
    "start_time": "2021-07-05T04:17:26.847Z"
   },
   {
    "duration": 17,
    "start_time": "2021-07-05T04:17:27.004Z"
   },
   {
    "duration": 129,
    "start_time": "2021-07-05T04:17:27.022Z"
   },
   {
    "duration": 6,
    "start_time": "2021-07-05T04:17:27.152Z"
   },
   {
    "duration": 8,
    "start_time": "2021-07-05T04:17:27.159Z"
   },
   {
    "duration": 7,
    "start_time": "2021-07-05T04:17:27.168Z"
   },
   {
    "duration": 7,
    "start_time": "2021-07-05T04:17:27.177Z"
   },
   {
    "duration": 7,
    "start_time": "2021-07-05T04:17:27.185Z"
   },
   {
    "duration": 11,
    "start_time": "2021-07-05T04:17:27.193Z"
   },
   {
    "duration": 122,
    "start_time": "2021-07-05T04:17:27.205Z"
   },
   {
    "duration": 16,
    "start_time": "2021-07-05T04:17:27.329Z"
   },
   {
    "duration": 99,
    "start_time": "2021-07-05T04:17:27.347Z"
   },
   {
    "duration": 111,
    "start_time": "2021-07-05T04:17:27.448Z"
   },
   {
    "duration": 297,
    "start_time": "2021-07-05T04:17:27.560Z"
   },
   {
    "duration": 2,
    "start_time": "2021-07-05T04:17:27.860Z"
   },
   {
    "duration": 609,
    "start_time": "2021-07-05T04:17:27.864Z"
   },
   {
    "duration": 12234,
    "start_time": "2021-07-05T04:17:28.475Z"
   },
   {
    "duration": 56,
    "start_time": "2021-07-05T04:17:40.711Z"
   },
   {
    "duration": 402,
    "start_time": "2021-07-05T04:17:40.842Z"
   },
   {
    "duration": 601,
    "start_time": "2021-07-05T04:17:41.246Z"
   },
   {
    "duration": 10225,
    "start_time": "2021-07-05T04:17:41.848Z"
   },
   {
    "duration": 4,
    "start_time": "2021-07-05T04:17:52.075Z"
   },
   {
    "duration": 80,
    "start_time": "2021-07-05T04:17:52.081Z"
   },
   {
    "duration": 678,
    "start_time": "2021-07-05T04:17:52.163Z"
   },
   {
    "duration": 20049,
    "start_time": "2021-07-05T04:17:52.842Z"
   },
   {
    "duration": 4,
    "start_time": "2021-07-05T04:18:12.892Z"
   },
   {
    "duration": 52,
    "start_time": "2021-07-05T04:18:12.898Z"
   },
   {
    "duration": 324,
    "start_time": "2021-07-05T04:18:13.042Z"
   },
   {
    "duration": 5510,
    "start_time": "2021-07-05T04:18:13.367Z"
   },
   {
    "duration": 585,
    "start_time": "2021-07-05T04:18:18.879Z"
   },
   {
    "duration": 720,
    "start_time": "2021-07-05T04:18:19.466Z"
   },
   {
    "duration": 35,
    "start_time": "2021-07-05T04:18:20.188Z"
   },
   {
    "duration": 150,
    "start_time": "2021-07-05T04:18:20.225Z"
   },
   {
    "duration": 31,
    "start_time": "2021-07-05T04:26:19.104Z"
   },
   {
    "duration": 4,
    "start_time": "2021-07-05T04:28:13.500Z"
   },
   {
    "duration": 4,
    "start_time": "2021-07-05T04:28:30.119Z"
   },
   {
    "duration": 4,
    "start_time": "2021-07-05T04:29:40.156Z"
   },
   {
    "duration": 40911,
    "start_time": "2021-07-05T04:30:35.493Z"
   },
   {
    "duration": 99872,
    "start_time": "2021-07-05T04:31:23.709Z"
   },
   {
    "duration": 4,
    "start_time": "2021-07-05T04:35:01.830Z"
   },
   {
    "duration": 4,
    "start_time": "2021-07-05T04:35:13.449Z"
   }
  ],
  "kernelspec": {
   "display_name": "Python 3",
   "language": "python",
   "name": "python3"
  },
  "language_info": {
   "codemirror_mode": {
    "name": "ipython",
    "version": 3
   },
   "file_extension": ".py",
   "mimetype": "text/x-python",
   "name": "python",
   "nbconvert_exporter": "python",
   "pygments_lexer": "ipython3",
   "version": "3.8.5"
  },
  "toc": {
   "base_numbering": 1,
   "nav_menu": {},
   "number_sections": true,
   "sideBar": true,
   "skip_h1_title": true,
   "title_cell": "Содержание",
   "title_sidebar": "Contents",
   "toc_cell": true,
   "toc_position": {},
   "toc_section_display": true,
   "toc_window_display": false
  }
 },
 "nbformat": 4,
 "nbformat_minor": 2
}
